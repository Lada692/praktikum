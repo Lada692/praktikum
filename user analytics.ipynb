{
 "cells": [
  {
   "cell_type": "markdown",
   "metadata": {},
   "source": [
    "### Описание проекта"
   ]
  },
  {
   "cell_type": "markdown",
   "metadata": {},
   "source": [
    "#### Описание задачи"
   ]
  },
  {
   "cell_type": "markdown",
   "metadata": {},
   "source": [
    "Нужно разобраться, как ведут себя пользователи мобильного приложения, которое продаёт продукты питания"
   ]
  },
  {
   "cell_type": "markdown",
   "metadata": {},
   "source": [
    "#### Описание данных"
   ]
  },
  {
   "cell_type": "markdown",
   "metadata": {},
   "source": [
    "`EventName` — название события\n",
    "\n",
    "`DeviceIDHash` — уникальный идентификатор пользователя\n",
    "\n",
    "`EventTimestamp` — время события\n",
    "\n",
    "`ExpId` — номер эксперимента: 246 и 247 — контрольные группы, а 248 — экспериментальная."
   ]
  },
  {
   "cell_type": "markdown",
   "metadata": {},
   "source": [
    "#### План работы"
   ]
  },
  {
   "cell_type": "markdown",
   "metadata": {},
   "source": [
    "- Загрузка данных\n",
    "- Подготовка данных\n",
    "- Изучение и проверка данных\n",
    "- Изучение воронки событий\n",
    "- Изучение результатов эксперимента"
   ]
  },
  {
   "cell_type": "markdown",
   "metadata": {},
   "source": [
    "### Загрузка данных"
   ]
  },
  {
   "cell_type": "code",
   "execution_count": 1,
   "metadata": {},
   "outputs": [],
   "source": [
    "import pandas as pd\n",
    "import matplotlib.pyplot as plt\n",
    "from scipy import stats as st\n",
    "import numpy as np\n",
    "import math as mth"
   ]
  },
  {
   "cell_type": "markdown",
   "metadata": {},
   "source": [
    "#### Открытие файла с данными и изучение общей информации"
   ]
  },
  {
   "cell_type": "code",
   "execution_count": 2,
   "metadata": {},
   "outputs": [
    {
     "name": "stdout",
     "output_type": "stream",
     "text": [
      "<class 'pandas.core.frame.DataFrame'>\n",
      "RangeIndex: 244126 entries, 0 to 244125\n",
      "Data columns (total 4 columns):\n",
      " #   Column          Non-Null Count   Dtype \n",
      "---  ------          --------------   ----- \n",
      " 0   EventName       244126 non-null  object\n",
      " 1   DeviceIDHash    244126 non-null  int64 \n",
      " 2   EventTimestamp  244126 non-null  int64 \n",
      " 3   ExpId           244126 non-null  int64 \n",
      "dtypes: int64(3), object(1)\n",
      "memory usage: 7.5+ MB\n"
     ]
    },
    {
     "data": {
      "text/html": [
       "<div>\n",
       "<style scoped>\n",
       "    .dataframe tbody tr th:only-of-type {\n",
       "        vertical-align: middle;\n",
       "    }\n",
       "\n",
       "    .dataframe tbody tr th {\n",
       "        vertical-align: top;\n",
       "    }\n",
       "\n",
       "    .dataframe thead th {\n",
       "        text-align: right;\n",
       "    }\n",
       "</style>\n",
       "<table border=\"1\" class=\"dataframe\">\n",
       "  <thead>\n",
       "    <tr style=\"text-align: right;\">\n",
       "      <th></th>\n",
       "      <th>EventName</th>\n",
       "      <th>DeviceIDHash</th>\n",
       "      <th>EventTimestamp</th>\n",
       "      <th>ExpId</th>\n",
       "    </tr>\n",
       "  </thead>\n",
       "  <tbody>\n",
       "    <tr>\n",
       "      <th>0</th>\n",
       "      <td>MainScreenAppear</td>\n",
       "      <td>4575588528974610257</td>\n",
       "      <td>1564029816</td>\n",
       "      <td>246</td>\n",
       "    </tr>\n",
       "    <tr>\n",
       "      <th>1</th>\n",
       "      <td>MainScreenAppear</td>\n",
       "      <td>7416695313311560658</td>\n",
       "      <td>1564053102</td>\n",
       "      <td>246</td>\n",
       "    </tr>\n",
       "    <tr>\n",
       "      <th>2</th>\n",
       "      <td>PaymentScreenSuccessful</td>\n",
       "      <td>3518123091307005509</td>\n",
       "      <td>1564054127</td>\n",
       "      <td>248</td>\n",
       "    </tr>\n",
       "    <tr>\n",
       "      <th>3</th>\n",
       "      <td>CartScreenAppear</td>\n",
       "      <td>3518123091307005509</td>\n",
       "      <td>1564054127</td>\n",
       "      <td>248</td>\n",
       "    </tr>\n",
       "    <tr>\n",
       "      <th>4</th>\n",
       "      <td>PaymentScreenSuccessful</td>\n",
       "      <td>6217807653094995999</td>\n",
       "      <td>1564055322</td>\n",
       "      <td>248</td>\n",
       "    </tr>\n",
       "  </tbody>\n",
       "</table>\n",
       "</div>"
      ],
      "text/plain": [
       "                 EventName         DeviceIDHash  EventTimestamp  ExpId\n",
       "0         MainScreenAppear  4575588528974610257      1564029816    246\n",
       "1         MainScreenAppear  7416695313311560658      1564053102    246\n",
       "2  PaymentScreenSuccessful  3518123091307005509      1564054127    248\n",
       "3         CartScreenAppear  3518123091307005509      1564054127    248\n",
       "4  PaymentScreenSuccessful  6217807653094995999      1564055322    248"
      ]
     },
     "execution_count": 2,
     "metadata": {},
     "output_type": "execute_result"
    }
   ],
   "source": [
    "data = pd.read_csv('/datasets/logs_exp.csv', sep='\\t')\n",
    "data.info()\n",
    "data.head()"
   ]
  },
  {
   "cell_type": "markdown",
   "metadata": {},
   "source": [
    "*Промежуточные результаты*\n",
    "\n",
    "Названия столбцов необходимо привести к соответствующему формату. Столбец `EventTimestamp` необходимо привести к соответствующему формату и типу данных"
   ]
  },
  {
   "cell_type": "markdown",
   "metadata": {},
   "source": [
    "### Подготовка данных"
   ]
  },
  {
   "cell_type": "markdown",
   "metadata": {},
   "source": [
    "#### Обработка дубликатов"
   ]
  },
  {
   "cell_type": "code",
   "execution_count": 3,
   "metadata": {},
   "outputs": [],
   "source": [
    "def missed(data):\n",
    "    print(f'В таблице {round((data.duplicated().sum() / len(data)) * 100, 2)}% дубликатов')\n",
    "    print()\n",
    "    for column in data:\n",
    "        print(f'В столбце {column} {round((data[column].isna().sum())*100, 2)}% пропущенных значений')"
   ]
  },
  {
   "cell_type": "code",
   "execution_count": 4,
   "metadata": {},
   "outputs": [
    {
     "name": "stdout",
     "output_type": "stream",
     "text": [
      "В таблице 0.17% дубликатов\n",
      "\n",
      "В столбце EventName 0% пропущенных значений\n",
      "В столбце DeviceIDHash 0% пропущенных значений\n",
      "В столбце EventTimestamp 0% пропущенных значений\n",
      "В столбце ExpId 0% пропущенных значений\n"
     ]
    }
   ],
   "source": [
    "missed(data)"
   ]
  },
  {
   "cell_type": "markdown",
   "metadata": {},
   "source": [
    "Процент дубликатов значений незначителен. Дубликаты можно удалить, пропусков не обнаружено"
   ]
  },
  {
   "cell_type": "code",
   "execution_count": 5,
   "metadata": {},
   "outputs": [
    {
     "name": "stdout",
     "output_type": "stream",
     "text": [
      "В таблице 0.0% дубликатов\n",
      "\n",
      "В столбце EventName 0% пропущенных значений\n",
      "В столбце DeviceIDHash 0% пропущенных значений\n",
      "В столбце EventTimestamp 0% пропущенных значений\n",
      "В столбце ExpId 0% пропущенных значений\n"
     ]
    }
   ],
   "source": [
    "data = data.drop_duplicates()\n",
    "missed(data)"
   ]
  },
  {
   "cell_type": "markdown",
   "metadata": {},
   "source": [
    "*Промежуточный вывод*\n",
    "\n",
    "Дубликаты удалены"
   ]
  },
  {
   "cell_type": "markdown",
   "metadata": {},
   "source": [
    "#### Приведение названий столбцов к необходимому формату"
   ]
  },
  {
   "cell_type": "code",
   "execution_count": 6,
   "metadata": {},
   "outputs": [
    {
     "data": {
      "text/plain": [
       "Index(['EventName', 'DeviceIDHash', 'EventTimestamp', 'ExpId'], dtype='object')"
      ]
     },
     "execution_count": 6,
     "metadata": {},
     "output_type": "execute_result"
    }
   ],
   "source": [
    "data.columns"
   ]
  },
  {
   "cell_type": "code",
   "execution_count": 7,
   "metadata": {},
   "outputs": [
    {
     "data": {
      "text/plain": [
       "Index(['event_name', 'device_id_hash', 'event_timestamp', 'exp_id'], dtype='object')"
      ]
     },
     "execution_count": 7,
     "metadata": {},
     "output_type": "execute_result"
    }
   ],
   "source": [
    "data.columns = ['event_name', 'device_id_hash', 'event_timestamp', 'exp_id']\n",
    "data.columns"
   ]
  },
  {
   "cell_type": "markdown",
   "metadata": {},
   "source": [
    "*Промежуточный вывод*\n",
    "\n",
    "Названия столбцов приведены к соответствующему формату"
   ]
  },
  {
   "cell_type": "markdown",
   "metadata": {},
   "source": [
    "#### Работа со столбцом даты"
   ]
  },
  {
   "cell_type": "code",
   "execution_count": 8,
   "metadata": {
    "scrolled": true
   },
   "outputs": [
    {
     "data": {
      "text/html": [
       "<div>\n",
       "<style scoped>\n",
       "    .dataframe tbody tr th:only-of-type {\n",
       "        vertical-align: middle;\n",
       "    }\n",
       "\n",
       "    .dataframe tbody tr th {\n",
       "        vertical-align: top;\n",
       "    }\n",
       "\n",
       "    .dataframe thead th {\n",
       "        text-align: right;\n",
       "    }\n",
       "</style>\n",
       "<table border=\"1\" class=\"dataframe\">\n",
       "  <thead>\n",
       "    <tr style=\"text-align: right;\">\n",
       "      <th></th>\n",
       "      <th>event_name</th>\n",
       "      <th>device_id_hash</th>\n",
       "      <th>event_timestamp</th>\n",
       "      <th>exp_id</th>\n",
       "      <th>event_datetime</th>\n",
       "      <th>event_date</th>\n",
       "    </tr>\n",
       "  </thead>\n",
       "  <tbody>\n",
       "    <tr>\n",
       "      <th>0</th>\n",
       "      <td>MainScreenAppear</td>\n",
       "      <td>4575588528974610257</td>\n",
       "      <td>1564029816</td>\n",
       "      <td>246</td>\n",
       "      <td>2019-07-25 04:43:36</td>\n",
       "      <td>2019-07-25</td>\n",
       "    </tr>\n",
       "    <tr>\n",
       "      <th>1</th>\n",
       "      <td>MainScreenAppear</td>\n",
       "      <td>7416695313311560658</td>\n",
       "      <td>1564053102</td>\n",
       "      <td>246</td>\n",
       "      <td>2019-07-25 11:11:42</td>\n",
       "      <td>2019-07-25</td>\n",
       "    </tr>\n",
       "    <tr>\n",
       "      <th>2</th>\n",
       "      <td>PaymentScreenSuccessful</td>\n",
       "      <td>3518123091307005509</td>\n",
       "      <td>1564054127</td>\n",
       "      <td>248</td>\n",
       "      <td>2019-07-25 11:28:47</td>\n",
       "      <td>2019-07-25</td>\n",
       "    </tr>\n",
       "    <tr>\n",
       "      <th>3</th>\n",
       "      <td>CartScreenAppear</td>\n",
       "      <td>3518123091307005509</td>\n",
       "      <td>1564054127</td>\n",
       "      <td>248</td>\n",
       "      <td>2019-07-25 11:28:47</td>\n",
       "      <td>2019-07-25</td>\n",
       "    </tr>\n",
       "    <tr>\n",
       "      <th>4</th>\n",
       "      <td>PaymentScreenSuccessful</td>\n",
       "      <td>6217807653094995999</td>\n",
       "      <td>1564055322</td>\n",
       "      <td>248</td>\n",
       "      <td>2019-07-25 11:48:42</td>\n",
       "      <td>2019-07-25</td>\n",
       "    </tr>\n",
       "  </tbody>\n",
       "</table>\n",
       "</div>"
      ],
      "text/plain": [
       "                event_name       device_id_hash  event_timestamp  exp_id  \\\n",
       "0         MainScreenAppear  4575588528974610257       1564029816     246   \n",
       "1         MainScreenAppear  7416695313311560658       1564053102     246   \n",
       "2  PaymentScreenSuccessful  3518123091307005509       1564054127     248   \n",
       "3         CartScreenAppear  3518123091307005509       1564054127     248   \n",
       "4  PaymentScreenSuccessful  6217807653094995999       1564055322     248   \n",
       "\n",
       "       event_datetime  event_date  \n",
       "0 2019-07-25 04:43:36  2019-07-25  \n",
       "1 2019-07-25 11:11:42  2019-07-25  \n",
       "2 2019-07-25 11:28:47  2019-07-25  \n",
       "3 2019-07-25 11:28:47  2019-07-25  \n",
       "4 2019-07-25 11:48:42  2019-07-25  "
      ]
     },
     "execution_count": 8,
     "metadata": {},
     "output_type": "execute_result"
    }
   ],
   "source": [
    "data['event_datetime'] = pd.to_datetime(data['event_timestamp'], unit='s')\n",
    "data['event_date'] = data['event_datetime'].dt.date\n",
    "data.head()"
   ]
  },
  {
   "cell_type": "markdown",
   "metadata": {},
   "source": [
    "*Промежуточный вывод*\n",
    "\n",
    "Необходимые столбцы с датой добавлены"
   ]
  },
  {
   "cell_type": "markdown",
   "metadata": {},
   "source": [
    "*Вывод*\n",
    "\n",
    "Произведена предобработка данных: удалены дубликаты, изменены названия столбцов, добавлены необходимые столбцы добавлены"
   ]
  },
  {
   "cell_type": "markdown",
   "metadata": {},
   "source": [
    "### Изучение и подготовка данных"
   ]
  },
  {
   "cell_type": "markdown",
   "metadata": {},
   "source": [
    "#### Количество событий в логе"
   ]
  },
  {
   "cell_type": "code",
   "execution_count": 9,
   "metadata": {},
   "outputs": [
    {
     "data": {
      "text/plain": [
       "243713"
      ]
     },
     "execution_count": 9,
     "metadata": {},
     "output_type": "execute_result"
    }
   ],
   "source": [
    "events = len(data)\n",
    "events"
   ]
  },
  {
   "cell_type": "markdown",
   "metadata": {},
   "source": [
    "*Вывод*\n",
    "\n",
    "Всего в логе 243713 событий"
   ]
  },
  {
   "cell_type": "markdown",
   "metadata": {},
   "source": [
    "#### Количество пользователей в логе"
   ]
  },
  {
   "cell_type": "code",
   "execution_count": 10,
   "metadata": {
    "scrolled": true
   },
   "outputs": [
    {
     "data": {
      "text/plain": [
       "7551"
      ]
     },
     "execution_count": 10,
     "metadata": {},
     "output_type": "execute_result"
    }
   ],
   "source": [
    "users = len(data['device_id_hash'].unique())\n",
    "users"
   ]
  },
  {
   "cell_type": "markdown",
   "metadata": {},
   "source": [
    "*Вывод*\n",
    "\n",
    "Всего в логе 7551 уникальных пользователей"
   ]
  },
  {
   "cell_type": "markdown",
   "metadata": {},
   "source": [
    "#### Количество событий на пользователя"
   ]
  },
  {
   "cell_type": "code",
   "execution_count": 11,
   "metadata": {},
   "outputs": [
    {
     "data": {
      "text/plain": [
       "32.3"
      ]
     },
     "execution_count": 11,
     "metadata": {},
     "output_type": "execute_result"
    }
   ],
   "source": [
    "events_per_user = round(events / users, 1)\n",
    "events_per_user"
   ]
  },
  {
   "cell_type": "markdown",
   "metadata": {},
   "source": [
    "*Вывод*\n",
    "\n",
    "На одного пользователя приходится примерно 32 события"
   ]
  },
  {
   "cell_type": "markdown",
   "metadata": {},
   "source": [
    "#### Оценка распределения пользователей по группам"
   ]
  },
  {
   "cell_type": "code",
   "execution_count": 12,
   "metadata": {},
   "outputs": [
    {
     "name": "stdout",
     "output_type": "stream",
     "text": [
      "В первой группе 2489 уникальных пользователей\n",
      "Во второй группе 2520 уникальных пользователей\n",
      "В третьей группе 2542 уникальных пользователей\n",
      "\n",
      "В первой группе 0 пользователей, которые есть и в других группах\n",
      "Во второй группе 0 пользователей, которые есть и в других группах\n",
      "В третьей группе 0 пользователей, которые есть и в других группах\n"
     ]
    }
   ],
   "source": [
    "a_users = data.query('exp_id == 246')['device_id_hash']\n",
    "b_users = data.query('exp_id == 247')['device_id_hash']\n",
    "c_users = data.query('exp_id == 248')['device_id_hash']\n",
    "\n",
    "print(f'В первой группе {len(a_users.unique())} уникальных пользователей')\n",
    "print(f'Во второй группе {len(b_users.unique())} уникальных пользователей')\n",
    "print(f'В третьей группе {len(c_users.unique())} уникальных пользователей')\n",
    "\n",
    "print()\n",
    "\n",
    "print(f'В первой группе {a_users[(a_users.isin(c_users) == True) | (a_users.isin(b_users) == True)].count()} пользователей, которые есть и в других группах')\n",
    "print(f'Во второй группе {b_users[(b_users.isin(c_users) == True) | (b_users.isin(a_users) == True)].count()} пользователей, которые есть и в других группах')\n",
    "print(f'В третьей группе {c_users[(c_users.isin(a_users) == True) | (c_users.isin(b_users) == True)].count()} пользователей, которые есть и в других группах')"
   ]
  },
  {
   "cell_type": "markdown",
   "metadata": {},
   "source": [
    "*Вывод*\n",
    "\n",
    "Нет пользователей, участвующих в нескольких группах одновременно"
   ]
  },
  {
   "cell_type": "markdown",
   "metadata": {},
   "source": [
    "#### Актуализация данных"
   ]
  },
  {
   "cell_type": "markdown",
   "metadata": {},
   "source": [
    "##### Определения периода наблюдений"
   ]
  },
  {
   "cell_type": "code",
   "execution_count": 13,
   "metadata": {},
   "outputs": [
    {
     "name": "stdout",
     "output_type": "stream",
     "text": [
      "Минимальная дата события: 2019-07-25, максимальная дата события 2019-08-07\n"
     ]
    }
   ],
   "source": [
    "print(f'Минимальная дата события: {data[\"event_date\"].min()}, максимальная дата события {data[\"event_date\"].max()}')"
   ]
  },
  {
   "cell_type": "markdown",
   "metadata": {},
   "source": [
    "*Промежуточный вывод*\n",
    "\n",
    "Мы распологаем данными за 14 дней"
   ]
  },
  {
   "cell_type": "markdown",
   "metadata": {},
   "source": [
    "##### Оценка распределения общего количества событий в группах"
   ]
  },
  {
   "cell_type": "code",
   "execution_count": 14,
   "metadata": {},
   "outputs": [
    {
     "data": {
      "image/png": "[encoded data removed]",
      "text/plain": [
       "<Figure size 1800x360 with 3 Axes>"
      ]
     },
     "metadata": {
      "needs_background": "light"
     },
     "output_type": "display_data"
    }
   ],
   "source": [
    "a_users = data.query('exp_id == 246').groupby('event_date')['device_id_hash'].count()\n",
    "b_users = data.query('exp_id == 247').groupby('event_date')['device_id_hash'].count()\n",
    "c_users = data.query('exp_id == 248').groupby('event_date')['device_id_hash'].count()\n",
    "\n",
    "plt.figure(figsize=(25, 5))\n",
    "\n",
    "\n",
    "a_users.plot.bar(grid=True, ax=plt.subplot(1, 3, 1))\n",
    "plt.title('Диаграмма распределения числа событий по дате первой группы')\n",
    "plt.xlabel('Дата')\n",
    "plt.ylabel('Количество событий')\n",
    "\n",
    "\n",
    "b_users.plot.bar(grid=True, ax=plt.subplot(1, 3, 2))\n",
    "plt.title('Диаграмма распределения числа событий по дате второй группы')\n",
    "plt.xlabel('Дата')\n",
    "plt.ylabel('Количество событий')\n",
    "\n",
    "\n",
    "c_users.plot.bar(grid=True, ax=plt.subplot(1, 3, 3))\n",
    "plt.title('Диаграмма распределения числа событий по дате третьей группы')\n",
    "plt.xlabel('Дата')\n",
    "plt.ylabel('Количество событий')\n",
    "\n",
    "None"
   ]
  },
  {
   "cell_type": "markdown",
   "metadata": {},
   "source": [
    "*Промежуточный вывод*\n",
    "\n",
    "По всем трём группам данных с 2019-07-25 по 2019-08-01 недостаточно для анализа. Мы располагаем полными данными только за 7 дней"
   ]
  },
  {
   "cell_type": "markdown",
   "metadata": {},
   "source": [
    "##### Очистка данных"
   ]
  },
  {
   "cell_type": "code",
   "execution_count": 15,
   "metadata": {},
   "outputs": [
    {
     "name": "stdout",
     "output_type": "stream",
     "text": [
      "После очистки данных мы потеряли 2826 строк данных, что составляет 1% от общего количества пользователей\n",
      "\n",
      "После очистки данных осталось 2484 пользователей первой группы\n",
      "После очистки данных осталось 2513 пользователей второй группы\n",
      "После очистки данных осталось 2537 пользователей третьей группы\n"
     ]
    }
   ],
   "source": [
    "initial_data = len(data)\n",
    "data = data.query('event_date > @pd.to_datetime(\"2019-07-31\")')\n",
    "\n",
    "print(f'После очистки данных мы потеряли {initial_data - len(data)} строк данных, что составляет {round((initial_data - len(data))*100 / initial_data)}% от общего количества пользователей')\n",
    "\n",
    "n_a_users = len(data.query('exp_id == 246')['device_id_hash'].unique())\n",
    "n_b_users = len(data.query('exp_id == 247')['device_id_hash'].unique())\n",
    "n_c_users = len(data.query('exp_id == 248')['device_id_hash'].unique())\n",
    "\n",
    "print()\n",
    "\n",
    "print(f'После очистки данных осталось {n_a_users} пользователей первой группы')\n",
    "print(f'После очистки данных осталось {n_b_users} пользователей второй группы')\n",
    "print(f'После очистки данных осталось {n_c_users} пользователей третьей группы')"
   ]
  },
  {
   "cell_type": "markdown",
   "metadata": {},
   "source": [
    "*Промежуточный вывод*\n",
    "\n",
    "Данные за неактульный период составляют 1% от общего количества данных, поэтому их можно удалить. После очистки данных в относительно равном соотношении остались пользователи всех групп"
   ]
  },
  {
   "cell_type": "markdown",
   "metadata": {},
   "source": [
    "*Вывод*\n",
    "\n",
    "Данные актуализированны"
   ]
  },
  {
   "cell_type": "markdown",
   "metadata": {},
   "source": [
    "### Изучение воронки событий"
   ]
  },
  {
   "cell_type": "markdown",
   "metadata": {},
   "source": [
    "#### Количество уникальных событий"
   ]
  },
  {
   "cell_type": "code",
   "execution_count": 16,
   "metadata": {},
   "outputs": [
    {
     "data": {
      "text/plain": [
       "array(['Tutorial', 'MainScreenAppear', 'OffersScreenAppear',\n",
       "       'CartScreenAppear', 'PaymentScreenSuccessful'], dtype=object)"
      ]
     },
     "execution_count": 16,
     "metadata": {},
     "output_type": "execute_result"
    }
   ],
   "source": [
    "data['event_name'].unique()"
   ]
  },
  {
   "cell_type": "markdown",
   "metadata": {},
   "source": [
    "*Промежуточный вывод*\n",
    "\n",
    "Всего в данных 5 видов событий"
   ]
  },
  {
   "cell_type": "markdown",
   "metadata": {},
   "source": [
    "#### Оценка частоты встречаемости событий"
   ]
  },
  {
   "cell_type": "code",
   "execution_count": 17,
   "metadata": {},
   "outputs": [
    {
     "data": {
      "text/plain": [
       "MainScreenAppear           117328\n",
       "OffersScreenAppear          46333\n",
       "CartScreenAppear            42303\n",
       "PaymentScreenSuccessful     33918\n",
       "Tutorial                     1005\n",
       "Name: event_name, dtype: int64"
      ]
     },
     "execution_count": 17,
     "metadata": {},
     "output_type": "execute_result"
    }
   ],
   "source": [
    "data['event_name'].value_counts()"
   ]
  },
  {
   "cell_type": "markdown",
   "metadata": {},
   "source": [
    "*Промежуточный вывод*\n",
    "\n",
    "Наиболее часто встречающимся является событие MainScreenAppear"
   ]
  },
  {
   "cell_type": "markdown",
   "metadata": {},
   "source": [
    "#### Оценка частоты встречаемости событий по пользователям"
   ]
  },
  {
   "cell_type": "code",
   "execution_count": 18,
   "metadata": {},
   "outputs": [
    {
     "data": {
      "text/plain": [
       "event_name\n",
       "MainScreenAppear           7419\n",
       "OffersScreenAppear         4593\n",
       "CartScreenAppear           3734\n",
       "PaymentScreenSuccessful    3539\n",
       "Tutorial                    840\n",
       "Name: device_id_hash, dtype: int64"
      ]
     },
     "execution_count": 18,
     "metadata": {},
     "output_type": "execute_result"
    }
   ],
   "source": [
    "grouped_data = data.groupby('event_name')['device_id_hash'].nunique().sort_values(ascending=False)\n",
    "grouped_data"
   ]
  },
  {
   "cell_type": "markdown",
   "metadata": {},
   "source": [
    "*Промежуточный вывод*\n",
    "\n",
    "Картина оценки частоты встречаемости событий по пользователям совпадает с оценкой частоты встречаемости событий"
   ]
  },
  {
   "cell_type": "markdown",
   "metadata": {},
   "source": [
    "#### Доля пользователей, которые хоть раз совершали каждое из событий"
   ]
  },
  {
   "cell_type": "code",
   "execution_count": 19,
   "metadata": {},
   "outputs": [
    {
     "data": {
      "text/plain": [
       "event_name\n",
       "MainScreenAppear           0.984736\n",
       "OffersScreenAppear         0.609636\n",
       "CartScreenAppear           0.495620\n",
       "PaymentScreenSuccessful    0.469737\n",
       "Tutorial                   0.111495\n",
       "Name: device_id_hash, dtype: float64"
      ]
     },
     "execution_count": 19,
     "metadata": {},
     "output_type": "execute_result"
    }
   ],
   "source": [
    "n_users = data['device_id_hash'].nunique()\n",
    "grouped_data / n_users"
   ]
  },
  {
   "cell_type": "markdown",
   "metadata": {},
   "source": [
    "*Промежуточный вывод*\n",
    "\n",
    "98% пользователей переходят на главный экран приложения, 61% пользователей открывают окно с предложениями товаров, 50% пользователей переходит на страницу оплаты товара, 47% пользователей оплачивает товар и 11% пользователей смотрит обучающее видео\n",
    "\n",
    "События располагаются так: переход на главный экран - открытие окна с предложениями - переход на страницу оплаты товара - оплата товара. Обучающее видео пользователь может посмотреть на любом этапе взаимодействия с приложением, поэтому данное событие не следует учитывать при анализе воронки"
   ]
  },
  {
   "cell_type": "markdown",
   "metadata": {},
   "source": [
    "#### Составление воронки событий"
   ]
  },
  {
   "cell_type": "code",
   "execution_count": 20,
   "metadata": {
    "scrolled": true
   },
   "outputs": [
    {
     "name": "stdout",
     "output_type": "stream",
     "text": [
      "0.62\n",
      "0.81\n",
      "0.95\n",
      "\n",
      "47.7% пользователей доходят от посещения главной страницы приложения до успешной оплаты\n"
     ]
    }
   ],
   "source": [
    "for i in range(1, len(grouped_data) - 1):\n",
    "    print(round(grouped_data[i]/grouped_data[i-1], 2))\n",
    "\n",
    "print()\n",
    "\n",
    "print(f'{round((grouped_data[\"PaymentScreenSuccessful\"] / grouped_data[\"MainScreenAppear\"])*100, 2)}% пользователей доходят от посещения главной страницы приложения до успешной оплаты')"
   ]
  },
  {
   "cell_type": "markdown",
   "metadata": {},
   "source": [
    "*Вывод*\n",
    "\n",
    "62% пользователей, поситивших главный экран приложения, открывают окно с предложениями товаров. 81% пользователей, открывших окно с предложениями товаров, переходят на страницу оплаты. 94% пользователей, перешедших на страницу оплаты, оплачивают товар\n",
    "\n",
    "Больше всего пользователей теряется после посещения главного экрана приложения\n",
    "\n",
    "47.7% пользователей доходят от посещения главной страницы приложения до успешной оплаты"
   ]
  },
  {
   "cell_type": "markdown",
   "metadata": {},
   "source": [
    "<div class=\"alert alert-success\">\n",
    "<b>Комментарий с комплиментом ревьюера:</b>\n",
    "    \n",
    "Доля пользователей от первого события до оплаты посчитана верно.\n",
    "\n",
    "Как ты думаешь, что нужно сделать, чтобы не было провала на шаге от MainScreenAppear к OffersScreenAppear ?\n",
    "</div>\n"
   ]
  },
  {
   "cell_type": "markdown",
   "metadata": {},
   "source": [
    "### Изучение результатов эксперимента"
   ]
  },
  {
   "cell_type": "markdown",
   "metadata": {},
   "source": [
    "#### Количество пользователей в каждой группе"
   ]
  },
  {
   "cell_type": "code",
   "execution_count": 21,
   "metadata": {},
   "outputs": [
    {
     "name": "stdout",
     "output_type": "stream",
     "text": [
      "В первой группе 2484 уникальных пользователей\n",
      "Во второй группе 2513 уникальных пользователей\n",
      "В третьей группе 2537 уникальных пользователей\n"
     ]
    }
   ],
   "source": [
    "a_users = len(data.query('exp_id == 246')[\"device_id_hash\"].unique())\n",
    "b_users = len(data.query('exp_id == 247')[\"device_id_hash\"].unique())\n",
    "c_users = len(data.query('exp_id == 248')[\"device_id_hash\"].unique())\n",
    "\n",
    "print(f'В первой группе {a_users} уникальных пользователей')\n",
    "print(f'Во второй группе {b_users} уникальных пользователей')\n",
    "print(f'В третьей группе {c_users} уникальных пользователей')"
   ]
  },
  {
   "cell_type": "markdown",
   "metadata": {},
   "source": [
    "*Промежуточный вывод*\n",
    "\n",
    "Пользователи распределены по группам относительно равномерно"
   ]
  },
  {
   "cell_type": "markdown",
   "metadata": {},
   "source": [
    "#### Определение разницы между количеством пользователей в группах 246 и 247"
   ]
  },
  {
   "cell_type": "code",
   "execution_count": 22,
   "metadata": {},
   "outputs": [
    {
     "name": "stdout",
     "output_type": "stream",
     "text": [
      "Разница между количеством пользователей в группах равна 1.15%\n",
      "Разница между количеством пользователей в группах статистически незначима\n"
     ]
    }
   ],
   "source": [
    "alpha = 0.05\n",
    "diff = (b_users - a_users) / b_users\n",
    "print(f'Разница между количеством пользователей в группах равна {round(diff * 100, 2)}%')\n",
    "\n",
    "if diff < alpha:\n",
    "    print(f'Разница между количеством пользователей в группах статистически незначима')\n",
    "else:\n",
    "    print(f'Разница между количеством пользователей в группах статистически значима')"
   ]
  },
  {
   "cell_type": "markdown",
   "metadata": {},
   "source": [
    "*Промежуточный вывод*\n",
    "\n",
    "Разница в 1.15% между количеством пользователей в группах статистически незначима"
   ]
  },
  {
   "cell_type": "markdown",
   "metadata": {},
   "source": [
    "#### Определение самого популярного события"
   ]
  },
  {
   "cell_type": "code",
   "execution_count": 23,
   "metadata": {
    "scrolled": true
   },
   "outputs": [
    {
     "name": "stdout",
     "output_type": "stream",
     "text": [
      "Событие MainScreenAppear в первой группе совершили 2450 пользователей\n",
      "Событие MainScreenAppear в первой группе совершили 2476 пользователей\n",
      "Событие MainScreenAppear в первой группе совершили 2493 пользователей\n"
     ]
    }
   ],
   "source": [
    "top_a = data.query('exp_id == 246').groupby('event_name')['device_id_hash'].nunique().sort_values(ascending=False)\n",
    "top_b = data.query('exp_id == 247').groupby('event_name')['device_id_hash'].nunique().sort_values(ascending=False)\n",
    "top_c = data.query('exp_id == 248').groupby('event_name')['device_id_hash'].nunique().sort_values(ascending=False)\n",
    "\n",
    "print(f'Событие {top_a.index[0]} в первой группе совершили {top_a[0]} пользователей')\n",
    "print(f'Событие {top_b.index[0]} в первой группе совершили {top_b[0]} пользователей')\n",
    "print(f'Событие {top_c.index[0]} в первой группе совершили {top_c[0]} пользователей')"
   ]
  },
  {
   "cell_type": "markdown",
   "metadata": {},
   "source": [
    "*Промежуточный вывод*\n",
    "\n",
    "Самым популярным событием во всех трёх группах является MainScreenAppear"
   ]
  },
  {
   "cell_type": "markdown",
   "metadata": {},
   "source": [
    "#### Определение доли пользователей, совершивших самое популярное событие"
   ]
  },
  {
   "cell_type": "code",
   "execution_count": 24,
   "metadata": {
    "scrolled": false
   },
   "outputs": [
    {
     "name": "stdout",
     "output_type": "stream",
     "text": [
      "Событие MainScreenAppear в первой группе совершили 98.6% пользователей\n",
      "Событие MainScreenAppear во второй группе совершили 98.5% пользователей\n",
      "Событие MainScreenAppear в третьей группе совершили 98.3% пользователей\n"
     ]
    }
   ],
   "source": [
    "print(f'Событие {top_a.index[0]} в первой группе совершили {round(top_a[0] / n_a_users, 3)*100}% пользователей')\n",
    "print(f'Событие {top_b.index[0]} во второй группе совершили {round(top_b[0] / n_b_users, 3)*100}% пользователей')\n",
    "print(f'Событие {top_c.index[0]} в третьей группе совершили {round(top_c[0] / n_c_users, 3)*100}% пользователей')"
   ]
  },
  {
   "cell_type": "markdown",
   "metadata": {},
   "source": [
    "*Промежуточный вывод*\n",
    "\n",
    "Во всех трёх группах самое популярное событие совершили около 98% пользователей"
   ]
  },
  {
   "cell_type": "markdown",
   "metadata": {},
   "source": [
    "#### Функция по проверки значимости различия между группами"
   ]
  },
  {
   "cell_type": "markdown",
   "metadata": {},
   "source": [
    "*Сформулирую гипотезы*\n",
    "\n",
    "Нулевая гипотеза: между долями нет значимой разницы\n",
    "\n",
    "Альтернативная гипотеза: между долями есть значимая разница"
   ]
  },
  {
   "cell_type": "code",
   "execution_count": 25,
   "metadata": {},
   "outputs": [],
   "source": [
    "def events(alpha, groups):\n",
    "    successes = []\n",
    "    trials = []\n",
    "    events = []\n",
    "    for event in grouped_data.index:\n",
    "        events.append(event)\n",
    "        for group in groups:\n",
    "            trials.append(len(data.query('exp_id == @group')[\"device_id_hash\"].unique()))\n",
    "            successes.append(len(data.query('event_name == @event and exp_id == @group')['device_id_hash'].unique()))\n",
    "        print()\n",
    "    return successes, trials, events, alpha"
   ]
  },
  {
   "cell_type": "code",
   "execution_count": 26,
   "metadata": {},
   "outputs": [],
   "source": [
    "def p_v(values):\n",
    "    \n",
    "    successes = values[0]\n",
    "    trials = values[1]\n",
    "    events = values[2]\n",
    "    alpha = values[3]\n",
    "    \n",
    "    for i in range(0, len(successes) - 1, 2):\n",
    "\n",
    "        # пропорция успехов в первой группе:\n",
    "        p1 = successes[i]/trials[i]\n",
    "        \n",
    "        # пропорция успехов во второй группе:\n",
    "        p2 = successes[i+1]/trials[i+1]\n",
    "        \n",
    "        # пропорция успехов в комбинированном датасете:\n",
    "        p_combined = (successes[i] + successes[i+1]) / (trials[i] + trials[i+1])\n",
    "\n",
    "        # разница пропорций в датасетах\n",
    "        difference = p1 - p2\n",
    "\n",
    "        # считаем статистику в ст.отклонениях стандартного нормального распределения\n",
    "        z_value = difference / mth.sqrt(p_combined * (1 - p_combined) * (1/trials[i] + 1/trials[i+1]))\n",
    "\n",
    "        # задаем стандартное нормальное распределение (среднее 0, ст.отклонение 1)\n",
    "        distr = st.norm(0, 1) \n",
    "\n",
    "        p_value = (1 - distr.cdf(abs(z_value))) * 2\n",
    "        \n",
    "        print(f'Рассмотрение события {events[i//2]}')\n",
    "        \n",
    "        print('p-значение: ', p_value)\n",
    "\n",
    "        if p_value < alpha:\n",
    "            print('Отвергаем нулевую гипотезу: между долями есть значимая разница')\n",
    "        else:\n",
    "            print('Не получилось отвергнуть нулевую гипотезу, нет оснований считать доли разными')\n",
    "        print()"
   ]
  },
  {
   "cell_type": "markdown",
   "metadata": {},
   "source": [
    "#### Проверка различия групп 246 и 247"
   ]
  },
  {
   "cell_type": "code",
   "execution_count": 27,
   "metadata": {
    "scrolled": true
   },
   "outputs": [
    {
     "name": "stdout",
     "output_type": "stream",
     "text": [
      "\n",
      "\n",
      "\n",
      "\n",
      "\n",
      "Рассмотрение события MainScreenAppear\n",
      "p-значение:  0.7570597232046099\n",
      "Не получилось отвергнуть нулевую гипотезу, нет оснований считать доли разными\n",
      "\n",
      "Рассмотрение события OffersScreenAppear\n",
      "p-значение:  0.2480954578522181\n",
      "Не получилось отвергнуть нулевую гипотезу, нет оснований считать доли разными\n",
      "\n",
      "Рассмотрение события CartScreenAppear\n",
      "p-значение:  0.22883372237997213\n",
      "Не получилось отвергнуть нулевую гипотезу, нет оснований считать доли разными\n",
      "\n",
      "Рассмотрение события PaymentScreenSuccessful\n",
      "p-значение:  0.11456679313141849\n",
      "Не получилось отвергнуть нулевую гипотезу, нет оснований считать доли разными\n",
      "\n",
      "Рассмотрение события Tutorial\n",
      "p-значение:  0.9376996189257114\n",
      "Не получилось отвергнуть нулевую гипотезу, нет оснований считать доли разными\n",
      "\n"
     ]
    }
   ],
   "source": [
    "p_v(events(0.002561, [246, 247]))"
   ]
  },
  {
   "cell_type": "markdown",
   "metadata": {},
   "source": [
    "*Промежуточный вывод*\n",
    "\n",
    "Статистически значимых различий между группами 246 и 247 не обнаружено, следовательно механизмы распределения пользователей работают корректно"
   ]
  },
  {
   "cell_type": "markdown",
   "metadata": {},
   "source": [
    "#### Проверка различия групп 246 и 248"
   ]
  },
  {
   "cell_type": "code",
   "execution_count": 28,
   "metadata": {
    "scrolled": true
   },
   "outputs": [
    {
     "name": "stdout",
     "output_type": "stream",
     "text": [
      "\n",
      "\n",
      "\n",
      "\n",
      "\n",
      "Рассмотрение события MainScreenAppear\n",
      "p-значение:  0.2949721933554552\n",
      "Не получилось отвергнуть нулевую гипотезу, нет оснований считать доли разными\n",
      "\n",
      "Рассмотрение события OffersScreenAppear\n",
      "p-значение:  0.20836205402738917\n",
      "Не получилось отвергнуть нулевую гипотезу, нет оснований считать доли разными\n",
      "\n",
      "Рассмотрение события CartScreenAppear\n",
      "p-значение:  0.07842923237520116\n",
      "Не получилось отвергнуть нулевую гипотезу, нет оснований считать доли разными\n",
      "\n",
      "Рассмотрение события PaymentScreenSuccessful\n",
      "p-значение:  0.2122553275697796\n",
      "Не получилось отвергнуть нулевую гипотезу, нет оснований считать доли разными\n",
      "\n",
      "Рассмотрение события Tutorial\n",
      "p-значение:  0.8264294010087645\n",
      "Не получилось отвергнуть нулевую гипотезу, нет оснований считать доли разными\n",
      "\n"
     ]
    }
   ],
   "source": [
    "p_v(events(0.002561, [246, 248]))"
   ]
  },
  {
   "cell_type": "markdown",
   "metadata": {},
   "source": [
    "*Промежуточный вывод*\n",
    "\n",
    "Статистически значимых различий между группами 246 и 247 не обнаружено"
   ]
  },
  {
   "cell_type": "markdown",
   "metadata": {},
   "source": [
    "#### Проверка различия групп 247 и 248"
   ]
  },
  {
   "cell_type": "code",
   "execution_count": 29,
   "metadata": {
    "scrolled": true
   },
   "outputs": [
    {
     "name": "stdout",
     "output_type": "stream",
     "text": [
      "\n",
      "\n",
      "\n",
      "\n",
      "\n",
      "Рассмотрение события MainScreenAppear\n",
      "p-значение:  0.4587053616621515\n",
      "Не получилось отвергнуть нулевую гипотезу, нет оснований считать доли разными\n",
      "\n",
      "Рассмотрение события OffersScreenAppear\n",
      "p-значение:  0.9197817830592261\n",
      "Не получилось отвергнуть нулевую гипотезу, нет оснований считать доли разными\n",
      "\n",
      "Рассмотрение события CartScreenAppear\n",
      "p-значение:  0.5786197879539783\n",
      "Не получилось отвергнуть нулевую гипотезу, нет оснований считать доли разными\n",
      "\n",
      "Рассмотрение события PaymentScreenSuccessful\n",
      "p-значение:  0.7373415053803964\n",
      "Не получилось отвергнуть нулевую гипотезу, нет оснований считать доли разными\n",
      "\n",
      "Рассмотрение события Tutorial\n",
      "p-значение:  0.765323922474501\n",
      "Не получилось отвергнуть нулевую гипотезу, нет оснований считать доли разными\n",
      "\n"
     ]
    }
   ],
   "source": [
    "p_v(events(0.002561, [247, 248]))"
   ]
  },
  {
   "cell_type": "markdown",
   "metadata": {},
   "source": [
    "*Промежуточный вывод*\n",
    "\n",
    "Статистически значимых различий между группами 247 и 248 не обнаружено"
   ]
  },
  {
   "cell_type": "markdown",
   "metadata": {},
   "source": [
    "#### Проверка различия объединённых групп 246 и 247 и группы 248"
   ]
  },
  {
   "cell_type": "code",
   "execution_count": 30,
   "metadata": {
    "scrolled": true
   },
   "outputs": [
    {
     "name": "stdout",
     "output_type": "stream",
     "text": [
      "\n",
      "\n",
      "\n",
      "\n",
      "\n",
      "Рассмотрение события MainScreenAppear\n",
      "p-значение:  0.29424526837179577\n",
      "Не получилось отвергнуть нулевую гипотезу, нет оснований считать доли разными\n",
      "\n",
      "Рассмотрение события OffersScreenAppear\n",
      "p-значение:  0.43425549655188256\n",
      "Не получилось отвергнуть нулевую гипотезу, нет оснований считать доли разными\n",
      "\n",
      "Рассмотрение события CartScreenAppear\n",
      "p-значение:  0.18175875284404386\n",
      "Не получилось отвергнуть нулевую гипотезу, нет оснований считать доли разными\n",
      "\n",
      "Рассмотрение события PaymentScreenSuccessful\n",
      "p-значение:  0.6004294282308704\n",
      "Не получилось отвергнуть нулевую гипотезу, нет оснований считать доли разными\n",
      "\n",
      "Рассмотрение события Tutorial\n",
      "p-значение:  0.764862472531507\n",
      "Не получилось отвергнуть нулевую гипотезу, нет оснований считать доли разными\n",
      "\n"
     ]
    }
   ],
   "source": [
    "data['exp_id'] = data['exp_id'].replace(246, 249)\n",
    "data['exp_id'] = data['exp_id'].replace(247, 249)\n",
    "\n",
    "p_v(events(0.002561, [249, 248]))"
   ]
  },
  {
   "cell_type": "markdown",
   "metadata": {},
   "source": [
    "*Промежуточный вывод*\n",
    "\n",
    "Статистически значимых различий между объединёнными группами 246 и 247 и группой 248"
   ]
  },
  {
   "cell_type": "markdown",
   "metadata": {},
   "source": [
    "#### Оценка уровня статистической значимости"
   ]
  },
  {
   "cell_type": "markdown",
   "metadata": {},
   "source": [
    "Я выбрала уровень статистической значимости 5% и провела 20 проверок гипотез\n",
    "\n",
    "Уровень значимости с учетом поправки методом Шидака 1 - (1 - 0.05)^(1/20) = 0.002561"
   ]
  },
  {
   "cell_type": "markdown",
   "metadata": {},
   "source": [
    "*Вывод*\n",
    "\n",
    "Изменение шрифта не повлияло на поведение пользователей"
   ]
  },
  {
   "cell_type": "markdown",
   "metadata": {},
   "source": [
    "### Вывод"
   ]
  },
  {
   "cell_type": "markdown",
   "metadata": {},
   "source": [
    "В ходе подготовки и предобработки данных были добавлены и приведены к соответствующему формату необходимые столбцы, удалены дубликаты и актуализированны данные\n",
    "\n",
    "В ходе изучения воронку событий было выяснено, что 62% пользователей, поситивших главный экран приложения, открывают окно с предложениями товаров. 81% пользователей, открывших окно с предложениями товаров, переходят на страницу оплаты. 94% пользователей, перешедших на страницу оплаты, оплачивают товар. Больше всего пользователей теряется после посещения главного экрана приложения. 47.7% пользователей доходят от посещения главной страницы приложения до успешной оплаты\n",
    "\n",
    "Изменение шрифта не повлияло на поведение пользователей"
   ]
  }
 ],
 "metadata": {
  "ExecuteTimeLog": [
   {
    "duration": 459,
    "start_time": "2023-10-02T08:49:34.010Z"
   },
   {
    "duration": 717,
    "start_time": "2023-10-02T08:49:34.471Z"
   },
   {
    "duration": 353,
    "start_time": "2023-10-02T08:49:45.696Z"
   },
   {
    "duration": 220,
    "start_time": "2023-10-02T08:49:57.885Z"
   },
   {
    "duration": 238,
    "start_time": "2023-10-02T08:50:37.658Z"
   },
   {
    "duration": 4,
    "start_time": "2023-10-02T08:54:37.041Z"
   },
   {
    "duration": 5,
    "start_time": "2023-10-02T08:54:54.004Z"
   },
   {
    "duration": 3,
    "start_time": "2023-10-02T08:58:48.802Z"
   },
   {
    "duration": 258,
    "start_time": "2023-10-02T08:58:48.807Z"
   },
   {
    "duration": 2,
    "start_time": "2023-10-02T08:58:49.067Z"
   },
   {
    "duration": 120,
    "start_time": "2023-10-02T08:58:49.071Z"
   },
   {
    "duration": 4,
    "start_time": "2023-10-02T09:00:05.803Z"
   },
   {
    "duration": 62,
    "start_time": "2023-10-02T09:00:09.835Z"
   },
   {
    "duration": 3,
    "start_time": "2023-10-02T09:00:28.515Z"
   },
   {
    "duration": 60,
    "start_time": "2023-10-02T09:00:33.428Z"
   },
   {
    "duration": 3,
    "start_time": "2023-10-02T09:00:38.202Z"
   },
   {
    "duration": 64,
    "start_time": "2023-10-02T09:00:40.485Z"
   },
   {
    "duration": 4,
    "start_time": "2023-10-02T09:05:50.767Z"
   },
   {
    "duration": 257,
    "start_time": "2023-10-02T09:05:50.776Z"
   },
   {
    "duration": 3,
    "start_time": "2023-10-02T09:05:51.035Z"
   },
   {
    "duration": 225,
    "start_time": "2023-10-02T09:05:51.040Z"
   },
   {
    "duration": 76,
    "start_time": "2023-10-02T09:05:51.266Z"
   },
   {
    "duration": 135,
    "start_time": "2023-10-02T09:07:55.932Z"
   },
   {
    "duration": 4,
    "start_time": "2023-10-02T09:09:57.713Z"
   },
   {
    "duration": 4,
    "start_time": "2023-10-02T09:11:08.076Z"
   },
   {
    "duration": 6,
    "start_time": "2023-10-02T09:11:16.414Z"
   },
   {
    "duration": 86,
    "start_time": "2023-10-02T09:16:24.104Z"
   },
   {
    "duration": 93,
    "start_time": "2023-10-02T09:16:33.133Z"
   },
   {
    "duration": 11,
    "start_time": "2023-10-02T09:16:56.197Z"
   },
   {
    "duration": 16,
    "start_time": "2023-10-02T09:17:02.693Z"
   },
   {
    "duration": 85,
    "start_time": "2023-10-02T09:17:46.945Z"
   },
   {
    "duration": 80,
    "start_time": "2023-10-02T09:17:54.114Z"
   },
   {
    "duration": 98,
    "start_time": "2023-10-02T09:18:01.024Z"
   },
   {
    "duration": 3,
    "start_time": "2023-10-02T09:24:34.484Z"
   },
   {
    "duration": 181,
    "start_time": "2023-10-02T09:24:36.432Z"
   },
   {
    "duration": 4,
    "start_time": "2023-10-02T09:24:49.002Z"
   },
   {
    "duration": 145,
    "start_time": "2023-10-02T09:24:55.894Z"
   },
   {
    "duration": 252,
    "start_time": "2023-10-02T09:25:20.974Z"
   },
   {
    "duration": 5,
    "start_time": "2023-10-02T09:30:02.361Z"
   },
   {
    "duration": 7,
    "start_time": "2023-10-02T09:32:28.905Z"
   },
   {
    "duration": 4,
    "start_time": "2023-10-02T09:34:52.797Z"
   },
   {
    "duration": 4,
    "start_time": "2023-10-02T09:34:59.246Z"
   },
   {
    "duration": 9,
    "start_time": "2023-10-02T09:35:11.177Z"
   },
   {
    "duration": 3,
    "start_time": "2023-10-02T09:35:33.496Z"
   },
   {
    "duration": 5,
    "start_time": "2023-10-02T09:35:42.005Z"
   },
   {
    "duration": 4,
    "start_time": "2023-10-02T09:35:57.863Z"
   },
   {
    "duration": 6,
    "start_time": "2023-10-02T09:36:04.695Z"
   },
   {
    "duration": 5,
    "start_time": "2023-10-02T09:36:09.309Z"
   },
   {
    "duration": 36,
    "start_time": "2023-10-02T09:39:39.831Z"
   },
   {
    "duration": 413,
    "start_time": "2023-10-02T09:41:13.990Z"
   },
   {
    "duration": 35,
    "start_time": "2023-10-02T09:41:49.440Z"
   },
   {
    "duration": 8,
    "start_time": "2023-10-02T09:48:28.935Z"
   },
   {
    "duration": 24,
    "start_time": "2023-10-02T09:48:38.866Z"
   },
   {
    "duration": 657,
    "start_time": "2023-10-02T09:48:45.266Z"
   },
   {
    "duration": 286,
    "start_time": "2023-10-02T09:49:07.634Z"
   },
   {
    "duration": 189,
    "start_time": "2023-10-02T09:49:36.388Z"
   },
   {
    "duration": 317,
    "start_time": "2023-10-02T09:50:04.432Z"
   },
   {
    "duration": 211,
    "start_time": "2023-10-02T09:51:41.667Z"
   },
   {
    "duration": 3,
    "start_time": "2023-10-02T09:52:39.115Z"
   },
   {
    "duration": 242,
    "start_time": "2023-10-02T09:52:43.808Z"
   },
   {
    "duration": 215,
    "start_time": "2023-10-02T09:52:51.956Z"
   },
   {
    "duration": 222,
    "start_time": "2023-10-02T09:52:58.999Z"
   },
   {
    "duration": 65,
    "start_time": "2023-10-03T06:31:15.518Z"
   },
   {
    "duration": 834,
    "start_time": "2023-10-03T06:31:19.643Z"
   },
   {
    "duration": 564,
    "start_time": "2023-10-03T06:31:20.479Z"
   },
   {
    "duration": 3,
    "start_time": "2023-10-03T06:31:21.045Z"
   },
   {
    "duration": 102,
    "start_time": "2023-10-03T06:31:21.050Z"
   },
   {
    "duration": 154,
    "start_time": "2023-10-03T06:31:21.154Z"
   },
   {
    "duration": 4,
    "start_time": "2023-10-03T06:31:21.310Z"
   },
   {
    "duration": 26,
    "start_time": "2023-10-03T06:31:21.315Z"
   },
   {
    "duration": 117,
    "start_time": "2023-10-03T06:31:21.343Z"
   },
   {
    "duration": 4,
    "start_time": "2023-10-03T06:31:21.462Z"
   },
   {
    "duration": 9,
    "start_time": "2023-10-03T06:31:21.469Z"
   },
   {
    "duration": 19,
    "start_time": "2023-10-03T06:31:21.479Z"
   },
   {
    "duration": 55,
    "start_time": "2023-10-03T06:31:21.500Z"
   },
   {
    "duration": 66,
    "start_time": "2023-10-03T06:31:21.557Z"
   },
   {
    "duration": 221,
    "start_time": "2023-10-03T06:31:54.876Z"
   },
   {
    "duration": 199,
    "start_time": "2023-10-03T06:32:11.787Z"
   },
   {
    "duration": 192,
    "start_time": "2023-10-03T06:32:18.798Z"
   },
   {
    "duration": 208,
    "start_time": "2023-10-03T06:34:01.041Z"
   },
   {
    "duration": 309,
    "start_time": "2023-10-03T06:39:28.018Z"
   },
   {
    "duration": 339,
    "start_time": "2023-10-03T06:40:22.494Z"
   },
   {
    "duration": 378,
    "start_time": "2023-10-03T06:40:40.075Z"
   },
   {
    "duration": 368,
    "start_time": "2023-10-03T06:41:28.574Z"
   },
   {
    "duration": 447,
    "start_time": "2023-10-03T06:43:29.324Z"
   },
   {
    "duration": 464,
    "start_time": "2023-10-03T06:43:47.369Z"
   },
   {
    "duration": 507,
    "start_time": "2023-10-03T06:43:54.627Z"
   },
   {
    "duration": 542,
    "start_time": "2023-10-03T06:44:03.391Z"
   },
   {
    "duration": 790,
    "start_time": "2023-10-03T06:47:32.688Z"
   },
   {
    "duration": 207,
    "start_time": "2023-10-03T06:47:33.480Z"
   },
   {
    "duration": 3,
    "start_time": "2023-10-03T06:47:33.689Z"
   },
   {
    "duration": 93,
    "start_time": "2023-10-03T06:47:33.702Z"
   },
   {
    "duration": 162,
    "start_time": "2023-10-03T06:47:33.797Z"
   },
   {
    "duration": 4,
    "start_time": "2023-10-03T06:47:33.960Z"
   },
   {
    "duration": 65,
    "start_time": "2023-10-03T06:47:33.966Z"
   },
   {
    "duration": 101,
    "start_time": "2023-10-03T06:47:34.032Z"
   },
   {
    "duration": 4,
    "start_time": "2023-10-03T06:47:34.135Z"
   },
   {
    "duration": 26,
    "start_time": "2023-10-03T06:47:34.140Z"
   },
   {
    "duration": 20,
    "start_time": "2023-10-03T06:47:34.168Z"
   },
   {
    "duration": 53,
    "start_time": "2023-10-03T06:47:34.190Z"
   },
   {
    "duration": 244,
    "start_time": "2023-10-03T06:47:34.245Z"
   },
   {
    "duration": 714,
    "start_time": "2023-10-03T06:48:11.082Z"
   },
   {
    "duration": 205,
    "start_time": "2023-10-03T06:48:11.798Z"
   },
   {
    "duration": 2,
    "start_time": "2023-10-03T06:48:12.005Z"
   },
   {
    "duration": 98,
    "start_time": "2023-10-03T06:48:12.010Z"
   },
   {
    "duration": 158,
    "start_time": "2023-10-03T06:48:12.110Z"
   },
   {
    "duration": 4,
    "start_time": "2023-10-03T06:48:12.270Z"
   },
   {
    "duration": 16,
    "start_time": "2023-10-03T06:48:12.276Z"
   },
   {
    "duration": 114,
    "start_time": "2023-10-03T06:48:12.293Z"
   },
   {
    "duration": 4,
    "start_time": "2023-10-03T06:48:12.409Z"
   },
   {
    "duration": 23,
    "start_time": "2023-10-03T06:48:12.417Z"
   },
   {
    "duration": 27,
    "start_time": "2023-10-03T06:48:12.442Z"
   },
   {
    "duration": 44,
    "start_time": "2023-10-03T06:48:12.471Z"
   },
   {
    "duration": 232,
    "start_time": "2023-10-03T06:48:12.517Z"
   },
   {
    "duration": 663,
    "start_time": "2023-10-03T06:51:55.834Z"
   },
   {
    "duration": 554,
    "start_time": "2023-10-03T06:51:56.501Z"
   },
   {
    "duration": 3,
    "start_time": "2023-10-03T06:51:57.057Z"
   },
   {
    "duration": 112,
    "start_time": "2023-10-03T06:51:57.063Z"
   },
   {
    "duration": 169,
    "start_time": "2023-10-03T06:51:57.177Z"
   },
   {
    "duration": 4,
    "start_time": "2023-10-03T06:51:57.348Z"
   },
   {
    "duration": 14,
    "start_time": "2023-10-03T06:51:57.354Z"
   },
   {
    "duration": 105,
    "start_time": "2023-10-03T06:51:57.369Z"
   },
   {
    "duration": 3,
    "start_time": "2023-10-03T06:51:57.476Z"
   },
   {
    "duration": 21,
    "start_time": "2023-10-03T06:51:57.481Z"
   },
   {
    "duration": 34,
    "start_time": "2023-10-03T06:51:57.504Z"
   },
   {
    "duration": 60,
    "start_time": "2023-10-03T06:51:57.540Z"
   },
   {
    "duration": 256,
    "start_time": "2023-10-03T06:51:57.603Z"
   },
   {
    "duration": 48,
    "start_time": "2023-10-03T06:52:25.341Z"
   },
   {
    "duration": 709,
    "start_time": "2023-10-03T06:52:30.503Z"
   },
   {
    "duration": 226,
    "start_time": "2023-10-03T06:52:31.215Z"
   },
   {
    "duration": 4,
    "start_time": "2023-10-03T06:52:31.442Z"
   },
   {
    "duration": 173,
    "start_time": "2023-10-03T06:52:31.447Z"
   },
   {
    "duration": 580,
    "start_time": "2023-10-03T06:52:31.623Z"
   },
   {
    "duration": 88,
    "start_time": "2023-10-03T06:52:32.205Z"
   },
   {
    "duration": 48,
    "start_time": "2023-10-03T06:52:32.295Z"
   },
   {
    "duration": 119,
    "start_time": "2023-10-03T06:52:32.346Z"
   },
   {
    "duration": 68,
    "start_time": "2023-10-03T06:52:32.467Z"
   },
   {
    "duration": 48,
    "start_time": "2023-10-03T06:52:32.537Z"
   },
   {
    "duration": 45,
    "start_time": "2023-10-03T06:52:32.587Z"
   },
   {
    "duration": 71,
    "start_time": "2023-10-03T06:52:32.634Z"
   },
   {
    "duration": 370,
    "start_time": "2023-10-03T06:52:32.706Z"
   },
   {
    "duration": 43,
    "start_time": "2023-10-03T06:52:33.078Z"
   },
   {
    "duration": 52,
    "start_time": "2023-10-03T06:53:25.763Z"
   },
   {
    "duration": 20,
    "start_time": "2023-10-03T06:53:57.565Z"
   },
   {
    "duration": 19,
    "start_time": "2023-10-03T06:54:06.745Z"
   },
   {
    "duration": 264,
    "start_time": "2023-10-03T06:54:23.201Z"
   },
   {
    "duration": 207,
    "start_time": "2023-10-03T06:54:56.989Z"
   },
   {
    "duration": 673,
    "start_time": "2023-10-03T06:57:49.275Z"
   },
   {
    "duration": 559,
    "start_time": "2023-10-03T06:58:07.428Z"
   },
   {
    "duration": 602,
    "start_time": "2023-10-03T06:59:09.453Z"
   },
   {
    "duration": 519,
    "start_time": "2023-10-03T07:06:07.638Z"
   },
   {
    "duration": 32,
    "start_time": "2023-10-03T07:07:11.737Z"
   },
   {
    "duration": 3,
    "start_time": "2023-10-03T07:07:20.143Z"
   },
   {
    "duration": 257,
    "start_time": "2023-10-03T07:07:20.147Z"
   },
   {
    "duration": 3,
    "start_time": "2023-10-03T07:07:20.406Z"
   },
   {
    "duration": 96,
    "start_time": "2023-10-03T07:07:20.411Z"
   },
   {
    "duration": 145,
    "start_time": "2023-10-03T07:07:20.510Z"
   },
   {
    "duration": 3,
    "start_time": "2023-10-03T07:07:20.657Z"
   },
   {
    "duration": 32,
    "start_time": "2023-10-03T07:07:20.662Z"
   },
   {
    "duration": 135,
    "start_time": "2023-10-03T07:07:20.695Z"
   },
   {
    "duration": 3,
    "start_time": "2023-10-03T07:07:20.832Z"
   },
   {
    "duration": 179,
    "start_time": "2023-10-03T07:07:20.837Z"
   },
   {
    "duration": 40,
    "start_time": "2023-10-03T07:07:21.019Z"
   },
   {
    "duration": 117,
    "start_time": "2023-10-03T07:07:21.061Z"
   },
   {
    "duration": 615,
    "start_time": "2023-10-03T07:07:21.180Z"
   },
   {
    "duration": 30,
    "start_time": "2023-10-03T07:07:21.801Z"
   },
   {
    "duration": 36,
    "start_time": "2023-10-03T07:07:32.889Z"
   },
   {
    "duration": 51,
    "start_time": "2023-10-03T07:07:56.549Z"
   },
   {
    "duration": 34,
    "start_time": "2023-10-03T07:09:17.862Z"
   },
   {
    "duration": 3,
    "start_time": "2023-10-03T07:09:26.259Z"
   },
   {
    "duration": 230,
    "start_time": "2023-10-03T07:09:26.264Z"
   },
   {
    "duration": 5,
    "start_time": "2023-10-03T07:09:26.496Z"
   },
   {
    "duration": 109,
    "start_time": "2023-10-03T07:09:26.503Z"
   },
   {
    "duration": 135,
    "start_time": "2023-10-03T07:09:26.614Z"
   },
   {
    "duration": 4,
    "start_time": "2023-10-03T07:09:26.751Z"
   },
   {
    "duration": 50,
    "start_time": "2023-10-03T07:09:26.757Z"
   },
   {
    "duration": 115,
    "start_time": "2023-10-03T07:09:26.809Z"
   },
   {
    "duration": 4,
    "start_time": "2023-10-03T07:09:26.928Z"
   },
   {
    "duration": 32,
    "start_time": "2023-10-03T07:09:26.934Z"
   },
   {
    "duration": 32,
    "start_time": "2023-10-03T07:09:26.969Z"
   },
   {
    "duration": 64,
    "start_time": "2023-10-03T07:09:27.003Z"
   },
   {
    "duration": 635,
    "start_time": "2023-10-03T07:09:27.069Z"
   },
   {
    "duration": 33,
    "start_time": "2023-10-03T07:09:27.706Z"
   },
   {
    "duration": 37,
    "start_time": "2023-10-03T07:13:47.454Z"
   },
   {
    "duration": 2,
    "start_time": "2023-10-03T07:13:58.843Z"
   },
   {
    "duration": 224,
    "start_time": "2023-10-03T07:13:58.847Z"
   },
   {
    "duration": 4,
    "start_time": "2023-10-03T07:13:59.073Z"
   },
   {
    "duration": 89,
    "start_time": "2023-10-03T07:13:59.079Z"
   },
   {
    "duration": 122,
    "start_time": "2023-10-03T07:13:59.170Z"
   },
   {
    "duration": 8,
    "start_time": "2023-10-03T07:13:59.294Z"
   },
   {
    "duration": 20,
    "start_time": "2023-10-03T07:13:59.304Z"
   },
   {
    "duration": 99,
    "start_time": "2023-10-03T07:13:59.327Z"
   },
   {
    "duration": 4,
    "start_time": "2023-10-03T07:13:59.428Z"
   },
   {
    "duration": 14,
    "start_time": "2023-10-03T07:13:59.434Z"
   },
   {
    "duration": 22,
    "start_time": "2023-10-03T07:13:59.450Z"
   },
   {
    "duration": 48,
    "start_time": "2023-10-03T07:13:59.474Z"
   },
   {
    "duration": 591,
    "start_time": "2023-10-03T07:13:59.524Z"
   },
   {
    "duration": 37,
    "start_time": "2023-10-03T07:14:00.118Z"
   },
   {
    "duration": 37,
    "start_time": "2023-10-03T07:15:35.579Z"
   },
   {
    "duration": 3,
    "start_time": "2023-10-03T07:16:06.469Z"
   },
   {
    "duration": 258,
    "start_time": "2023-10-03T07:16:06.474Z"
   },
   {
    "duration": 4,
    "start_time": "2023-10-03T07:16:06.734Z"
   },
   {
    "duration": 128,
    "start_time": "2023-10-03T07:16:06.739Z"
   },
   {
    "duration": 120,
    "start_time": "2023-10-03T07:16:06.870Z"
   },
   {
    "duration": 47,
    "start_time": "2023-10-03T07:16:06.992Z"
   },
   {
    "duration": 42,
    "start_time": "2023-10-03T07:16:07.042Z"
   },
   {
    "duration": 117,
    "start_time": "2023-10-03T07:16:07.086Z"
   },
   {
    "duration": 5,
    "start_time": "2023-10-03T07:16:07.205Z"
   },
   {
    "duration": 40,
    "start_time": "2023-10-03T07:16:07.212Z"
   },
   {
    "duration": 32,
    "start_time": "2023-10-03T07:16:07.256Z"
   },
   {
    "duration": 63,
    "start_time": "2023-10-03T07:16:07.290Z"
   },
   {
    "duration": 574,
    "start_time": "2023-10-03T07:16:07.355Z"
   },
   {
    "duration": 33,
    "start_time": "2023-10-03T07:16:07.932Z"
   },
   {
    "duration": 3,
    "start_time": "2023-10-03T07:16:58.553Z"
   },
   {
    "duration": 265,
    "start_time": "2023-10-03T07:16:58.558Z"
   },
   {
    "duration": 4,
    "start_time": "2023-10-03T07:16:58.824Z"
   },
   {
    "duration": 82,
    "start_time": "2023-10-03T07:16:58.830Z"
   },
   {
    "duration": 120,
    "start_time": "2023-10-03T07:16:58.914Z"
   },
   {
    "duration": 3,
    "start_time": "2023-10-03T07:16:59.036Z"
   },
   {
    "duration": 15,
    "start_time": "2023-10-03T07:16:59.041Z"
   },
   {
    "duration": 99,
    "start_time": "2023-10-03T07:16:59.058Z"
   },
   {
    "duration": 3,
    "start_time": "2023-10-03T07:16:59.159Z"
   },
   {
    "duration": 217,
    "start_time": "2023-10-03T07:16:59.164Z"
   },
   {
    "duration": 146,
    "start_time": "2023-10-03T07:16:59.383Z"
   },
   {
    "duration": 77,
    "start_time": "2023-10-03T07:16:59.532Z"
   },
   {
    "duration": 596,
    "start_time": "2023-10-03T07:16:59.611Z"
   },
   {
    "duration": 33,
    "start_time": "2023-10-03T07:17:00.209Z"
   },
   {
    "duration": 38,
    "start_time": "2023-10-03T07:17:26.466Z"
   },
   {
    "duration": 3,
    "start_time": "2023-10-03T07:17:30.076Z"
   },
   {
    "duration": 482,
    "start_time": "2023-10-03T07:17:30.081Z"
   },
   {
    "duration": 84,
    "start_time": "2023-10-03T07:17:30.565Z"
   },
   {
    "duration": 546,
    "start_time": "2023-10-03T07:17:30.650Z"
   },
   {
    "duration": 252,
    "start_time": "2023-10-03T07:17:31.199Z"
   },
   {
    "duration": 13,
    "start_time": "2023-10-03T07:17:31.453Z"
   },
   {
    "duration": 195,
    "start_time": "2023-10-03T07:17:31.468Z"
   },
   {
    "duration": 508,
    "start_time": "2023-10-03T07:17:31.665Z"
   },
   {
    "duration": 9,
    "start_time": "2023-10-03T07:17:32.175Z"
   },
   {
    "duration": 300,
    "start_time": "2023-10-03T07:17:32.186Z"
   },
   {
    "duration": 781,
    "start_time": "2023-10-03T07:17:32.488Z"
   },
   {
    "duration": 96,
    "start_time": "2023-10-03T07:17:33.270Z"
   },
   {
    "duration": 633,
    "start_time": "2023-10-03T07:17:33.368Z"
   },
   {
    "duration": 33,
    "start_time": "2023-10-03T07:17:34.004Z"
   },
   {
    "duration": 13,
    "start_time": "2023-10-03T07:30:42.798Z"
   },
   {
    "duration": 28,
    "start_time": "2023-10-03T07:30:46.188Z"
   },
   {
    "duration": 3,
    "start_time": "2023-10-03T07:30:54.824Z"
   },
   {
    "duration": 223,
    "start_time": "2023-10-03T07:30:54.829Z"
   },
   {
    "duration": 136,
    "start_time": "2023-10-03T07:30:55.054Z"
   },
   {
    "duration": 116,
    "start_time": "2023-10-03T07:30:55.192Z"
   },
   {
    "duration": 132,
    "start_time": "2023-10-03T07:30:55.310Z"
   },
   {
    "duration": 4,
    "start_time": "2023-10-03T07:30:55.444Z"
   },
   {
    "duration": 107,
    "start_time": "2023-10-03T07:30:55.450Z"
   },
   {
    "duration": 186,
    "start_time": "2023-10-03T07:30:55.559Z"
   },
   {
    "duration": 15,
    "start_time": "2023-10-03T07:30:55.746Z"
   },
   {
    "duration": 152,
    "start_time": "2023-10-03T07:30:55.763Z"
   },
   {
    "duration": 46,
    "start_time": "2023-10-03T07:30:55.918Z"
   },
   {
    "duration": 36,
    "start_time": "2023-10-03T07:30:58.977Z"
   },
   {
    "duration": 38,
    "start_time": "2023-10-03T07:33:18.782Z"
   },
   {
    "duration": 32,
    "start_time": "2023-10-03T07:33:41.934Z"
   },
   {
    "duration": 141,
    "start_time": "2023-10-03T07:36:24.779Z"
   },
   {
    "duration": 43,
    "start_time": "2023-10-03T07:36:58.557Z"
   },
   {
    "duration": 43,
    "start_time": "2023-10-03T07:38:32.530Z"
   },
   {
    "duration": 4,
    "start_time": "2023-10-03T07:39:23.965Z"
   },
   {
    "duration": 148,
    "start_time": "2023-10-03T07:39:28.358Z"
   },
   {
    "duration": 50,
    "start_time": "2023-10-03T07:40:00.118Z"
   },
   {
    "duration": 49,
    "start_time": "2023-10-03T07:40:11.111Z"
   },
   {
    "duration": 52,
    "start_time": "2023-10-03T07:40:27.233Z"
   },
   {
    "duration": 51,
    "start_time": "2023-10-03T07:41:15.538Z"
   },
   {
    "duration": 138,
    "start_time": "2023-10-03T07:42:12.131Z"
   },
   {
    "duration": 59,
    "start_time": "2023-10-03T07:42:18.227Z"
   },
   {
    "duration": 40,
    "start_time": "2023-10-03T07:44:02.104Z"
   },
   {
    "duration": 40,
    "start_time": "2023-10-03T07:45:01.237Z"
   },
   {
    "duration": 37,
    "start_time": "2023-10-03T07:45:11.141Z"
   },
   {
    "duration": 38,
    "start_time": "2023-10-03T07:45:31.346Z"
   },
   {
    "duration": 39,
    "start_time": "2023-10-03T07:46:07.852Z"
   },
   {
    "duration": 39,
    "start_time": "2023-10-03T07:46:47.786Z"
   },
   {
    "duration": 42,
    "start_time": "2023-10-03T07:48:02.392Z"
   },
   {
    "duration": 42,
    "start_time": "2023-10-03T07:48:14.378Z"
   },
   {
    "duration": 3,
    "start_time": "2023-10-03T07:51:38.693Z"
   },
   {
    "duration": 232,
    "start_time": "2023-10-03T07:51:38.698Z"
   },
   {
    "duration": 4,
    "start_time": "2023-10-03T07:51:38.932Z"
   },
   {
    "duration": 92,
    "start_time": "2023-10-03T07:51:38.939Z"
   },
   {
    "duration": 139,
    "start_time": "2023-10-03T07:51:39.033Z"
   },
   {
    "duration": 5,
    "start_time": "2023-10-03T07:51:39.174Z"
   },
   {
    "duration": 46,
    "start_time": "2023-10-03T07:51:39.181Z"
   },
   {
    "duration": 108,
    "start_time": "2023-10-03T07:51:39.229Z"
   },
   {
    "duration": 4,
    "start_time": "2023-10-03T07:51:39.339Z"
   },
   {
    "duration": 48,
    "start_time": "2023-10-03T07:51:39.345Z"
   },
   {
    "duration": 25,
    "start_time": "2023-10-03T07:51:39.395Z"
   },
   {
    "duration": 122,
    "start_time": "2023-10-03T07:51:39.422Z"
   },
   {
    "duration": 369,
    "start_time": "2023-10-03T07:51:39.545Z"
   },
   {
    "duration": 24,
    "start_time": "2023-10-03T07:51:39.916Z"
   },
   {
    "duration": 0,
    "start_time": "2023-10-03T07:51:39.943Z"
   },
   {
    "duration": 588,
    "start_time": "2023-10-03T07:53:25.702Z"
   },
   {
    "duration": 33,
    "start_time": "2023-10-03T07:53:34.062Z"
   },
   {
    "duration": 5,
    "start_time": "2023-10-03T08:01:27.228Z"
   },
   {
    "duration": 64,
    "start_time": "2023-10-03T08:02:06.240Z"
   },
   {
    "duration": 74,
    "start_time": "2023-10-03T08:02:20.134Z"
   },
   {
    "duration": 66,
    "start_time": "2023-10-03T08:02:26.653Z"
   },
   {
    "duration": 5,
    "start_time": "2023-10-03T08:02:32.137Z"
   },
   {
    "duration": 61,
    "start_time": "2023-10-03T08:02:40.939Z"
   },
   {
    "duration": 71,
    "start_time": "2023-10-03T08:03:09.438Z"
   },
   {
    "duration": 62,
    "start_time": "2023-10-03T08:05:46.750Z"
   },
   {
    "duration": 507,
    "start_time": "2023-10-03T08:06:13.307Z"
   },
   {
    "duration": 44,
    "start_time": "2023-10-03T08:06:57.538Z"
   },
   {
    "duration": 20,
    "start_time": "2023-10-03T08:53:18.698Z"
   },
   {
    "duration": 83,
    "start_time": "2023-10-03T08:57:08.202Z"
   },
   {
    "duration": 80,
    "start_time": "2023-10-03T08:57:23.347Z"
   },
   {
    "duration": 83,
    "start_time": "2023-10-03T08:57:38.049Z"
   },
   {
    "duration": 84,
    "start_time": "2023-10-03T08:57:43.431Z"
   },
   {
    "duration": 83,
    "start_time": "2023-10-03T08:57:47.941Z"
   },
   {
    "duration": 34,
    "start_time": "2023-10-03T08:58:13.721Z"
   },
   {
    "duration": 31,
    "start_time": "2023-10-03T08:58:23.202Z"
   },
   {
    "duration": 11,
    "start_time": "2023-10-03T08:58:34.807Z"
   },
   {
    "duration": 9,
    "start_time": "2023-10-03T08:59:13.445Z"
   },
   {
    "duration": 27,
    "start_time": "2023-10-03T08:59:35.601Z"
   },
   {
    "duration": 55,
    "start_time": "2023-10-03T09:03:05.051Z"
   },
   {
    "duration": 53,
    "start_time": "2023-10-03T09:03:29.080Z"
   },
   {
    "duration": 58,
    "start_time": "2023-10-03T09:03:41.811Z"
   },
   {
    "duration": 54,
    "start_time": "2023-10-03T09:08:04.169Z"
   },
   {
    "duration": 6,
    "start_time": "2023-10-03T09:10:48.826Z"
   },
   {
    "duration": 58,
    "start_time": "2023-10-03T09:11:28.828Z"
   },
   {
    "duration": 9,
    "start_time": "2023-10-03T09:11:46.791Z"
   },
   {
    "duration": 4,
    "start_time": "2023-10-03T09:54:26.608Z"
   },
   {
    "duration": 5,
    "start_time": "2023-10-03T09:54:45.041Z"
   },
   {
    "duration": 126,
    "start_time": "2023-10-03T10:03:32.362Z"
   },
   {
    "duration": 5,
    "start_time": "2023-10-03T10:03:41.051Z"
   },
   {
    "duration": 1423,
    "start_time": "2023-10-03T10:05:19.008Z"
   },
   {
    "duration": 5,
    "start_time": "2023-10-03T10:05:40.847Z"
   },
   {
    "duration": 6,
    "start_time": "2023-10-03T10:06:04.984Z"
   },
   {
    "duration": 5,
    "start_time": "2023-10-03T10:06:31.615Z"
   },
   {
    "duration": 49,
    "start_time": "2023-10-04T13:16:33.690Z"
   },
   {
    "duration": 7,
    "start_time": "2023-10-04T13:16:33.820Z"
   },
   {
    "duration": 883,
    "start_time": "2023-10-04T13:16:39.010Z"
   },
   {
    "duration": 602,
    "start_time": "2023-10-04T13:16:39.897Z"
   },
   {
    "duration": 4,
    "start_time": "2023-10-04T13:16:40.500Z"
   },
   {
    "duration": 108,
    "start_time": "2023-10-04T13:16:40.506Z"
   },
   {
    "duration": 163,
    "start_time": "2023-10-04T13:16:40.616Z"
   },
   {
    "duration": 5,
    "start_time": "2023-10-04T13:16:40.780Z"
   },
   {
    "duration": 10,
    "start_time": "2023-10-04T13:16:40.787Z"
   },
   {
    "duration": 109,
    "start_time": "2023-10-04T13:16:40.799Z"
   },
   {
    "duration": 5,
    "start_time": "2023-10-04T13:16:40.910Z"
   },
   {
    "duration": 7,
    "start_time": "2023-10-04T13:16:40.925Z"
   },
   {
    "duration": 4,
    "start_time": "2023-10-04T13:16:40.934Z"
   },
   {
    "duration": 95,
    "start_time": "2023-10-04T13:16:40.940Z"
   },
   {
    "duration": 34,
    "start_time": "2023-10-04T13:16:41.037Z"
   },
   {
    "duration": 653,
    "start_time": "2023-10-04T13:16:41.073Z"
   },
   {
    "duration": 72,
    "start_time": "2023-10-04T13:16:41.735Z"
   },
   {
    "duration": 26,
    "start_time": "2023-10-04T13:16:41.809Z"
   },
   {
    "duration": 49,
    "start_time": "2023-10-04T13:16:41.837Z"
   },
   {
    "duration": 73,
    "start_time": "2023-10-04T13:16:41.887Z"
   },
   {
    "duration": 11,
    "start_time": "2023-10-04T13:16:41.962Z"
   },
   {
    "duration": 20,
    "start_time": "2023-10-04T13:16:41.975Z"
   },
   {
    "duration": 54,
    "start_time": "2023-10-04T13:16:41.997Z"
   },
   {
    "duration": 33,
    "start_time": "2023-10-04T13:17:09.638Z"
   },
   {
    "duration": 118,
    "start_time": "2023-10-04T13:52:02.629Z"
   },
   {
    "duration": 34,
    "start_time": "2023-10-04T13:52:35.503Z"
   },
   {
    "duration": 961,
    "start_time": "2023-10-06T06:45:52.531Z"
   },
   {
    "duration": 584,
    "start_time": "2023-10-06T06:45:53.494Z"
   },
   {
    "duration": 4,
    "start_time": "2023-10-06T06:45:54.079Z"
   },
   {
    "duration": 141,
    "start_time": "2023-10-06T06:45:54.085Z"
   },
   {
    "duration": 229,
    "start_time": "2023-10-06T06:45:54.227Z"
   },
   {
    "duration": 6,
    "start_time": "2023-10-06T06:45:54.457Z"
   },
   {
    "duration": 55,
    "start_time": "2023-10-06T06:45:54.464Z"
   },
   {
    "duration": 132,
    "start_time": "2023-10-06T06:45:54.520Z"
   },
   {
    "duration": 6,
    "start_time": "2023-10-06T06:45:54.654Z"
   },
   {
    "duration": 50,
    "start_time": "2023-10-06T06:45:54.664Z"
   },
   {
    "duration": 23,
    "start_time": "2023-10-06T06:45:54.716Z"
   },
   {
    "duration": 181,
    "start_time": "2023-10-06T06:45:54.741Z"
   },
   {
    "duration": 75,
    "start_time": "2023-10-06T06:45:54.924Z"
   },
   {
    "duration": 665,
    "start_time": "2023-10-06T06:45:55.000Z"
   },
   {
    "duration": 80,
    "start_time": "2023-10-06T06:45:55.667Z"
   },
   {
    "duration": 27,
    "start_time": "2023-10-06T06:45:55.749Z"
   },
   {
    "duration": 37,
    "start_time": "2023-10-06T06:45:55.778Z"
   },
   {
    "duration": 71,
    "start_time": "2023-10-06T06:45:55.817Z"
   },
   {
    "duration": 9,
    "start_time": "2023-10-06T06:45:55.890Z"
   },
   {
    "duration": 25,
    "start_time": "2023-10-06T06:45:55.901Z"
   },
   {
    "duration": 41,
    "start_time": "2023-10-06T06:45:55.929Z"
   },
   {
    "duration": 481,
    "start_time": "2023-10-06T06:51:40.078Z"
   },
   {
    "duration": 137,
    "start_time": "2023-10-06T06:52:39.031Z"
   },
   {
    "duration": 166,
    "start_time": "2023-10-06T06:54:06.575Z"
   },
   {
    "duration": 7518,
    "start_time": "2023-10-06T06:55:15.766Z"
   },
   {
    "duration": 100,
    "start_time": "2023-10-06T06:56:11.023Z"
   },
   {
    "duration": 9,
    "start_time": "2023-10-06T06:56:27.497Z"
   },
   {
    "duration": 151,
    "start_time": "2023-10-06T06:56:49.092Z"
   },
   {
    "duration": 115,
    "start_time": "2023-10-06T07:05:41.393Z"
   },
   {
    "duration": 277,
    "start_time": "2023-10-06T07:14:53.567Z"
   },
   {
    "duration": 290,
    "start_time": "2023-10-06T07:15:05.839Z"
   },
   {
    "duration": 41,
    "start_time": "2023-10-06T07:33:03.089Z"
   },
   {
    "duration": 6,
    "start_time": "2023-10-06T07:34:44.945Z"
   },
   {
    "duration": 4,
    "start_time": "2023-10-06T07:34:51.027Z"
   },
   {
    "duration": 4,
    "start_time": "2023-10-06T07:41:06.129Z"
   },
   {
    "duration": 5,
    "start_time": "2023-10-06T07:41:22.550Z"
   },
   {
    "duration": 4,
    "start_time": "2023-10-06T07:41:29.708Z"
   },
   {
    "duration": 6,
    "start_time": "2023-10-06T07:43:02.502Z"
   },
   {
    "duration": 5,
    "start_time": "2023-10-06T07:43:14.178Z"
   },
   {
    "duration": 7,
    "start_time": "2023-10-06T07:47:15.790Z"
   },
   {
    "duration": 10,
    "start_time": "2023-10-06T07:48:54.256Z"
   },
   {
    "duration": 13,
    "start_time": "2023-10-06T07:49:02.464Z"
   },
   {
    "duration": 3,
    "start_time": "2023-10-06T07:49:05.693Z"
   },
   {
    "duration": 3,
    "start_time": "2023-10-06T07:49:09.775Z"
   },
   {
    "duration": 6,
    "start_time": "2023-10-06T07:49:13.619Z"
   },
   {
    "duration": 27,
    "start_time": "2023-10-06T07:50:52.880Z"
   },
   {
    "duration": 42,
    "start_time": "2023-10-06T07:50:58.233Z"
   },
   {
    "duration": 22,
    "start_time": "2023-10-06T07:51:14.602Z"
   },
   {
    "duration": 21,
    "start_time": "2023-10-06T07:51:28.743Z"
   },
   {
    "duration": 65,
    "start_time": "2023-10-06T08:04:06.880Z"
   },
   {
    "duration": 58,
    "start_time": "2023-10-06T08:07:47.426Z"
   },
   {
    "duration": 50,
    "start_time": "2023-10-06T08:08:10.892Z"
   },
   {
    "duration": 51,
    "start_time": "2023-10-06T08:08:22.340Z"
   },
   {
    "duration": 52,
    "start_time": "2023-10-06T08:08:30.557Z"
   },
   {
    "duration": 57,
    "start_time": "2023-10-06T08:08:50.780Z"
   },
   {
    "duration": 51,
    "start_time": "2023-10-06T08:09:05.378Z"
   },
   {
    "duration": 36,
    "start_time": "2023-10-06T09:42:30.279Z"
   },
   {
    "duration": 32,
    "start_time": "2023-10-06T09:42:54.022Z"
   },
   {
    "duration": 113,
    "start_time": "2023-10-06T09:43:09.754Z"
   },
   {
    "duration": 78,
    "start_time": "2023-10-06T09:43:17.365Z"
   },
   {
    "duration": 90,
    "start_time": "2023-10-06T09:43:32.485Z"
   },
   {
    "duration": 78,
    "start_time": "2023-10-06T09:43:44.985Z"
   },
   {
    "duration": 83,
    "start_time": "2023-10-06T09:44:04.332Z"
   },
   {
    "duration": 1232,
    "start_time": "2023-10-06T09:45:34.493Z"
   },
   {
    "duration": 251,
    "start_time": "2023-10-06T09:45:35.728Z"
   },
   {
    "duration": 4,
    "start_time": "2023-10-06T09:45:35.982Z"
   },
   {
    "duration": 189,
    "start_time": "2023-10-06T09:45:35.989Z"
   },
   {
    "duration": 171,
    "start_time": "2023-10-06T09:45:36.180Z"
   },
   {
    "duration": 5,
    "start_time": "2023-10-06T09:45:36.352Z"
   },
   {
    "duration": 9,
    "start_time": "2023-10-06T09:45:36.358Z"
   },
   {
    "duration": 112,
    "start_time": "2023-10-06T09:45:36.369Z"
   },
   {
    "duration": 5,
    "start_time": "2023-10-06T09:45:36.483Z"
   },
   {
    "duration": 20,
    "start_time": "2023-10-06T09:45:36.490Z"
   },
   {
    "duration": 32,
    "start_time": "2023-10-06T09:45:36.511Z"
   },
   {
    "duration": 78,
    "start_time": "2023-10-06T09:45:36.545Z"
   },
   {
    "duration": 37,
    "start_time": "2023-10-06T09:45:36.624Z"
   },
   {
    "duration": 656,
    "start_time": "2023-10-06T09:45:36.662Z"
   },
   {
    "duration": 80,
    "start_time": "2023-10-06T09:45:37.320Z"
   },
   {
    "duration": 25,
    "start_time": "2023-10-06T09:45:37.402Z"
   },
   {
    "duration": 112,
    "start_time": "2023-10-06T09:45:37.429Z"
   },
   {
    "duration": 69,
    "start_time": "2023-10-06T09:45:37.543Z"
   },
   {
    "duration": 9,
    "start_time": "2023-10-06T09:45:37.614Z"
   },
   {
    "duration": 10,
    "start_time": "2023-10-06T09:45:37.625Z"
   },
   {
    "duration": 50,
    "start_time": "2023-10-06T09:45:37.636Z"
   },
   {
    "duration": 4,
    "start_time": "2023-10-06T09:45:37.688Z"
   },
   {
    "duration": 88,
    "start_time": "2023-10-06T09:45:37.693Z"
   },
   {
    "duration": 65,
    "start_time": "2023-10-06T09:45:37.782Z"
   },
   {
    "duration": 4,
    "start_time": "2023-10-06T09:45:37.849Z"
   },
   {
    "duration": 69,
    "start_time": "2023-10-06T09:45:49.994Z"
   },
   {
    "duration": 86,
    "start_time": "2023-10-06T09:46:20.294Z"
   },
   {
    "duration": 56,
    "start_time": "2023-10-06T09:46:32.765Z"
   },
   {
    "duration": 54,
    "start_time": "2023-10-06T09:47:26.713Z"
   },
   {
    "duration": 88,
    "start_time": "2023-10-06T09:47:55.208Z"
   },
   {
    "duration": 68,
    "start_time": "2023-10-06T09:48:57.054Z"
   },
   {
    "duration": 96,
    "start_time": "2023-10-06T11:07:31.478Z"
   },
   {
    "duration": 7,
    "start_time": "2023-10-06T11:08:02.691Z"
   },
   {
    "duration": 83,
    "start_time": "2023-10-06T11:09:09.209Z"
   },
   {
    "duration": 7,
    "start_time": "2023-10-06T11:09:16.973Z"
   },
   {
    "duration": 5,
    "start_time": "2023-10-06T11:09:39.733Z"
   },
   {
    "duration": 5,
    "start_time": "2023-10-06T11:10:36.996Z"
   },
   {
    "duration": 5,
    "start_time": "2023-10-06T11:12:03.279Z"
   },
   {
    "duration": 5,
    "start_time": "2023-10-06T11:12:29.032Z"
   },
   {
    "duration": 5,
    "start_time": "2023-10-06T11:16:39.382Z"
   },
   {
    "duration": 10,
    "start_time": "2023-10-06T11:21:45.622Z"
   },
   {
    "duration": 155,
    "start_time": "2023-10-06T11:26:51.555Z"
   },
   {
    "duration": 858,
    "start_time": "2023-10-06T11:27:01.326Z"
   },
   {
    "duration": 73,
    "start_time": "2023-10-06T11:28:08.993Z"
   },
   {
    "duration": 66,
    "start_time": "2023-10-06T11:28:36.343Z"
   },
   {
    "duration": 60,
    "start_time": "2023-10-06T11:29:07.302Z"
   },
   {
    "duration": 169,
    "start_time": "2023-10-06T11:29:19.605Z"
   },
   {
    "duration": 10,
    "start_time": "2023-10-06T11:29:35.166Z"
   },
   {
    "duration": 8,
    "start_time": "2023-10-06T11:30:06.710Z"
   },
   {
    "duration": 18,
    "start_time": "2023-10-06T11:30:22.032Z"
   },
   {
    "duration": 6,
    "start_time": "2023-10-06T11:30:24.793Z"
   },
   {
    "duration": 46,
    "start_time": "2023-10-06T11:30:33.874Z"
   },
   {
    "duration": 139,
    "start_time": "2023-10-06T11:30:54.274Z"
   },
   {
    "duration": 64,
    "start_time": "2023-10-06T11:31:16.326Z"
   },
   {
    "duration": 72,
    "start_time": "2023-10-06T11:31:23.646Z"
   },
   {
    "duration": 10,
    "start_time": "2023-10-06T11:32:18.899Z"
   },
   {
    "duration": 184,
    "start_time": "2023-10-06T11:40:03.375Z"
   },
   {
    "duration": 607,
    "start_time": "2023-10-06T11:40:09.397Z"
   },
   {
    "duration": 225,
    "start_time": "2023-10-06T11:42:30.641Z"
   },
   {
    "duration": 208,
    "start_time": "2023-10-06T11:43:53.010Z"
   },
   {
    "duration": 202,
    "start_time": "2023-10-06T11:44:24.238Z"
   },
   {
    "duration": 220,
    "start_time": "2023-10-06T11:46:26.381Z"
   },
   {
    "duration": 15,
    "start_time": "2023-10-06T11:47:32.905Z"
   },
   {
    "duration": 219,
    "start_time": "2023-10-06T11:47:46.237Z"
   },
   {
    "duration": 209,
    "start_time": "2023-10-06T11:50:56.221Z"
   },
   {
    "duration": 24,
    "start_time": "2023-10-06T11:53:47.042Z"
   },
   {
    "duration": 436,
    "start_time": "2023-10-06T11:54:01.482Z"
   },
   {
    "duration": 270,
    "start_time": "2023-10-06T11:55:28.714Z"
   },
   {
    "duration": 341,
    "start_time": "2023-10-06T11:58:27.482Z"
   },
   {
    "duration": 354,
    "start_time": "2023-10-06T11:58:52.682Z"
   },
   {
    "duration": 346,
    "start_time": "2023-10-06T12:02:16.442Z"
   },
   {
    "duration": 115,
    "start_time": "2023-10-06T12:02:29.820Z"
   },
   {
    "duration": 360,
    "start_time": "2023-10-06T12:02:37.178Z"
   },
   {
    "duration": 106,
    "start_time": "2023-10-06T12:10:44.968Z"
   },
   {
    "duration": 149,
    "start_time": "2023-10-06T12:11:25.050Z"
   },
   {
    "duration": 108,
    "start_time": "2023-10-06T12:11:50.894Z"
   },
   {
    "duration": 361,
    "start_time": "2023-10-06T12:12:00.781Z"
   },
   {
    "duration": 362,
    "start_time": "2023-10-06T12:13:12.077Z"
   },
   {
    "duration": 379,
    "start_time": "2023-10-06T12:16:34.818Z"
   },
   {
    "duration": 362,
    "start_time": "2023-10-06T12:18:59.500Z"
   },
   {
    "duration": 3,
    "start_time": "2023-10-06T12:22:17.490Z"
   },
   {
    "duration": 46,
    "start_time": "2023-10-07T07:58:13.327Z"
   },
   {
    "duration": 621,
    "start_time": "2023-10-07T07:58:47.879Z"
   },
   {
    "duration": 608,
    "start_time": "2023-10-07T07:59:07.530Z"
   },
   {
    "duration": 598,
    "start_time": "2023-10-07T07:59:08.140Z"
   },
   {
    "duration": 3,
    "start_time": "2023-10-07T07:59:08.740Z"
   },
   {
    "duration": 86,
    "start_time": "2023-10-07T07:59:08.745Z"
   },
   {
    "duration": 171,
    "start_time": "2023-10-07T07:59:08.833Z"
   },
   {
    "duration": 4,
    "start_time": "2023-10-07T07:59:09.005Z"
   },
   {
    "duration": 20,
    "start_time": "2023-10-07T07:59:09.010Z"
   },
   {
    "duration": 112,
    "start_time": "2023-10-07T07:59:09.031Z"
   },
   {
    "duration": 4,
    "start_time": "2023-10-07T07:59:09.144Z"
   },
   {
    "duration": 7,
    "start_time": "2023-10-07T07:59:09.151Z"
   },
   {
    "duration": 4,
    "start_time": "2023-10-07T07:59:09.160Z"
   },
   {
    "duration": 49,
    "start_time": "2023-10-07T07:59:09.166Z"
   },
   {
    "duration": 54,
    "start_time": "2023-10-07T07:59:09.217Z"
   },
   {
    "duration": 579,
    "start_time": "2023-10-07T07:59:09.273Z"
   },
   {
    "duration": 58,
    "start_time": "2023-10-07T07:59:09.854Z"
   },
   {
    "duration": 32,
    "start_time": "2023-10-07T07:59:09.914Z"
   },
   {
    "duration": 25,
    "start_time": "2023-10-07T07:59:09.948Z"
   },
   {
    "duration": 70,
    "start_time": "2023-10-07T07:59:09.974Z"
   },
   {
    "duration": 9,
    "start_time": "2023-10-07T07:59:10.045Z"
   },
   {
    "duration": 41,
    "start_time": "2023-10-07T07:59:10.055Z"
   },
   {
    "duration": 59,
    "start_time": "2023-10-07T07:59:10.098Z"
   },
   {
    "duration": 64,
    "start_time": "2023-10-07T07:59:10.158Z"
   },
   {
    "duration": 96,
    "start_time": "2023-10-07T07:59:10.223Z"
   },
   {
    "duration": 11,
    "start_time": "2023-10-07T07:59:10.321Z"
   },
   {
    "duration": 76,
    "start_time": "2023-10-07T07:59:10.333Z"
   },
   {
    "duration": 360,
    "start_time": "2023-10-07T07:59:10.411Z"
   },
   {
    "duration": 7,
    "start_time": "2023-10-07T07:59:10.772Z"
   },
   {
    "duration": 5,
    "start_time": "2023-10-07T08:03:46.318Z"
   },
   {
    "duration": 5,
    "start_time": "2023-10-07T08:08:39.201Z"
   },
   {
    "duration": 347,
    "start_time": "2023-10-07T08:08:56.006Z"
   },
   {
    "duration": 279,
    "start_time": "2023-10-07T08:09:09.310Z"
   },
   {
    "duration": 4,
    "start_time": "2023-10-07T08:09:45.344Z"
   },
   {
    "duration": 274,
    "start_time": "2023-10-07T08:09:50.999Z"
   },
   {
    "duration": 107,
    "start_time": "2023-10-07T08:10:14.361Z"
   },
   {
    "duration": 126,
    "start_time": "2023-10-07T08:10:24.039Z"
   },
   {
    "duration": 4,
    "start_time": "2023-10-07T08:10:37.916Z"
   },
   {
    "duration": 107,
    "start_time": "2023-10-07T08:10:39.812Z"
   },
   {
    "duration": 263,
    "start_time": "2023-10-07T08:11:01.692Z"
   },
   {
    "duration": 268,
    "start_time": "2023-10-07T08:11:22.687Z"
   },
   {
    "duration": 243,
    "start_time": "2023-10-07T08:12:11.250Z"
   },
   {
    "duration": 329,
    "start_time": "2023-10-07T08:12:14.526Z"
   },
   {
    "duration": 270,
    "start_time": "2023-10-07T08:12:25.259Z"
   },
   {
    "duration": 277,
    "start_time": "2023-10-07T08:13:01.750Z"
   },
   {
    "duration": 4,
    "start_time": "2023-10-07T08:14:46.465Z"
   },
   {
    "duration": 197,
    "start_time": "2023-10-07T08:14:48.024Z"
   },
   {
    "duration": 4,
    "start_time": "2023-10-07T08:15:11.629Z"
   },
   {
    "duration": 218,
    "start_time": "2023-10-07T08:15:14.664Z"
   },
   {
    "duration": 215,
    "start_time": "2023-10-07T08:15:40.551Z"
   },
   {
    "duration": 4,
    "start_time": "2023-10-07T08:16:04.451Z"
   },
   {
    "duration": 173,
    "start_time": "2023-10-07T08:16:05.977Z"
   },
   {
    "duration": 201,
    "start_time": "2023-10-07T08:16:14.898Z"
   },
   {
    "duration": 4,
    "start_time": "2023-10-07T08:17:03.012Z"
   },
   {
    "duration": 206,
    "start_time": "2023-10-07T08:17:04.720Z"
   },
   {
    "duration": 4,
    "start_time": "2023-10-07T08:36:17.774Z"
   },
   {
    "duration": 184,
    "start_time": "2023-10-07T08:36:42.243Z"
   },
   {
    "duration": 183,
    "start_time": "2023-10-07T08:36:57.502Z"
   },
   {
    "duration": 183,
    "start_time": "2023-10-07T08:37:28.108Z"
   },
   {
    "duration": 178,
    "start_time": "2023-10-07T08:38:37.625Z"
   },
   {
    "duration": 187,
    "start_time": "2023-10-07T08:39:08.496Z"
   },
   {
    "duration": 89,
    "start_time": "2023-10-07T08:47:16.070Z"
   },
   {
    "duration": 5,
    "start_time": "2023-10-07T08:47:39.402Z"
   },
   {
    "duration": 326,
    "start_time": "2023-10-07T08:47:42.904Z"
   },
   {
    "duration": 5,
    "start_time": "2023-10-07T08:51:33.193Z"
   },
   {
    "duration": 405,
    "start_time": "2023-10-07T08:51:34.268Z"
   },
   {
    "duration": 4,
    "start_time": "2023-10-07T08:52:27.235Z"
   },
   {
    "duration": 338,
    "start_time": "2023-10-07T08:52:29.675Z"
   },
   {
    "duration": 334,
    "start_time": "2023-10-07T08:53:17.794Z"
   },
   {
    "duration": 330,
    "start_time": "2023-10-07T08:53:25.778Z"
   },
   {
    "duration": 4,
    "start_time": "2023-10-07T08:53:58.647Z"
   },
   {
    "duration": 329,
    "start_time": "2023-10-07T08:54:11.463Z"
   },
   {
    "duration": 358,
    "start_time": "2023-10-07T08:54:49.499Z"
   },
   {
    "duration": 358,
    "start_time": "2023-10-07T08:55:16.399Z"
   },
   {
    "duration": 54,
    "start_time": "2023-10-07T09:00:17.212Z"
   },
   {
    "duration": 179,
    "start_time": "2023-10-07T09:01:00.739Z"
   },
   {
    "duration": 174,
    "start_time": "2023-10-07T09:01:38.546Z"
   },
   {
    "duration": 178,
    "start_time": "2023-10-07T09:01:45.831Z"
   },
   {
    "duration": 54,
    "start_time": "2023-10-07T09:01:51.569Z"
   },
   {
    "duration": 182,
    "start_time": "2023-10-07T09:02:01.148Z"
   },
   {
    "duration": 168,
    "start_time": "2023-10-07T09:02:05.203Z"
   },
   {
    "duration": 189,
    "start_time": "2023-10-07T09:02:13.952Z"
   },
   {
    "duration": 5,
    "start_time": "2023-10-07T09:02:35.704Z"
   },
   {
    "duration": 179,
    "start_time": "2023-10-07T09:02:37.622Z"
   },
   {
    "duration": 168,
    "start_time": "2023-10-07T09:02:58.119Z"
   },
   {
    "duration": 177,
    "start_time": "2023-10-07T09:03:33.369Z"
   },
   {
    "duration": 55,
    "start_time": "2023-10-07T09:05:49.367Z"
   },
   {
    "duration": 179,
    "start_time": "2023-10-07T09:06:18.002Z"
   },
   {
    "duration": 177,
    "start_time": "2023-10-07T09:06:45.948Z"
   },
   {
    "duration": 162,
    "start_time": "2023-10-07T09:06:57.261Z"
   },
   {
    "duration": 162,
    "start_time": "2023-10-07T09:07:03.111Z"
   },
   {
    "duration": 173,
    "start_time": "2023-10-07T09:07:11.287Z"
   },
   {
    "duration": 195,
    "start_time": "2023-10-07T09:08:48.001Z"
   },
   {
    "duration": 168,
    "start_time": "2023-10-07T09:10:58.896Z"
   },
   {
    "duration": 185,
    "start_time": "2023-10-07T09:12:45.578Z"
   },
   {
    "duration": 4,
    "start_time": "2023-10-07T09:13:21.825Z"
   },
   {
    "duration": 205,
    "start_time": "2023-10-07T09:14:30.376Z"
   },
   {
    "duration": 214,
    "start_time": "2023-10-07T09:14:53.953Z"
   },
   {
    "duration": 4,
    "start_time": "2023-10-07T09:15:31.764Z"
   },
   {
    "duration": 5,
    "start_time": "2023-10-07T09:15:36.491Z"
   },
   {
    "duration": 203,
    "start_time": "2023-10-07T09:15:43.715Z"
   },
   {
    "duration": 12,
    "start_time": "2023-10-07T09:17:11.445Z"
   },
   {
    "duration": 4,
    "start_time": "2023-10-07T09:17:23.030Z"
   },
   {
    "duration": 177,
    "start_time": "2023-10-07T09:17:24.722Z"
   },
   {
    "duration": 168,
    "start_time": "2023-10-07T09:19:43.169Z"
   },
   {
    "duration": 4,
    "start_time": "2023-10-07T09:22:44.899Z"
   },
   {
    "duration": 3,
    "start_time": "2023-10-07T09:41:43.940Z"
   },
   {
    "duration": 217,
    "start_time": "2023-10-07T09:41:43.944Z"
   },
   {
    "duration": 3,
    "start_time": "2023-10-07T09:41:44.163Z"
   },
   {
    "duration": 86,
    "start_time": "2023-10-07T09:41:44.168Z"
   },
   {
    "duration": 152,
    "start_time": "2023-10-07T09:41:44.256Z"
   },
   {
    "duration": 4,
    "start_time": "2023-10-07T09:41:44.410Z"
   },
   {
    "duration": 16,
    "start_time": "2023-10-07T09:41:44.416Z"
   },
   {
    "duration": 125,
    "start_time": "2023-10-07T09:41:44.434Z"
   },
   {
    "duration": 6,
    "start_time": "2023-10-07T09:41:44.561Z"
   },
   {
    "duration": 15,
    "start_time": "2023-10-07T09:41:44.568Z"
   },
   {
    "duration": 4,
    "start_time": "2023-10-07T09:41:44.587Z"
   },
   {
    "duration": 130,
    "start_time": "2023-10-07T09:41:44.592Z"
   },
   {
    "duration": 65,
    "start_time": "2023-10-07T09:41:44.724Z"
   },
   {
    "duration": 549,
    "start_time": "2023-10-07T09:41:44.790Z"
   },
   {
    "duration": 68,
    "start_time": "2023-10-07T09:41:45.340Z"
   },
   {
    "duration": 35,
    "start_time": "2023-10-07T09:41:45.409Z"
   },
   {
    "duration": 27,
    "start_time": "2023-10-07T09:41:45.445Z"
   },
   {
    "duration": 90,
    "start_time": "2023-10-07T09:41:45.473Z"
   },
   {
    "duration": 10,
    "start_time": "2023-10-07T09:41:45.565Z"
   },
   {
    "duration": 39,
    "start_time": "2023-10-07T09:41:45.576Z"
   },
   {
    "duration": 68,
    "start_time": "2023-10-07T09:41:45.617Z"
   },
   {
    "duration": 67,
    "start_time": "2023-10-07T09:41:45.687Z"
   },
   {
    "duration": 4,
    "start_time": "2023-10-07T09:41:45.756Z"
   },
   {
    "duration": 103,
    "start_time": "2023-10-07T09:41:45.761Z"
   },
   {
    "duration": 4,
    "start_time": "2023-10-07T09:41:45.866Z"
   },
   {
    "duration": 30,
    "start_time": "2023-10-07T09:41:45.871Z"
   },
   {
    "duration": 42,
    "start_time": "2023-10-07T09:41:45.902Z"
   },
   {
    "duration": 282,
    "start_time": "2023-10-07T09:41:45.946Z"
   },
   {
    "duration": 15,
    "start_time": "2023-10-07T09:41:46.231Z"
   },
   {
    "duration": 243,
    "start_time": "2023-10-07T09:41:46.247Z"
   },
   {
    "duration": 4,
    "start_time": "2023-10-07T09:42:31.412Z"
   },
   {
    "duration": 5,
    "start_time": "2023-10-07T09:44:04.635Z"
   },
   {
    "duration": 4,
    "start_time": "2023-10-07T09:44:23.467Z"
   },
   {
    "duration": 5,
    "start_time": "2023-10-07T09:47:50.948Z"
   },
   {
    "duration": 4,
    "start_time": "2023-10-07T09:47:54.856Z"
   },
   {
    "duration": 1307,
    "start_time": "2023-10-08T08:18:43.852Z"
   },
   {
    "duration": 599,
    "start_time": "2023-10-08T08:18:45.161Z"
   },
   {
    "duration": 5,
    "start_time": "2023-10-08T08:18:45.761Z"
   },
   {
    "duration": 112,
    "start_time": "2023-10-08T08:18:45.769Z"
   },
   {
    "duration": 174,
    "start_time": "2023-10-08T08:18:45.883Z"
   },
   {
    "duration": 4,
    "start_time": "2023-10-08T08:18:46.059Z"
   },
   {
    "duration": 6,
    "start_time": "2023-10-08T08:18:46.065Z"
   },
   {
    "duration": 102,
    "start_time": "2023-10-08T08:18:46.072Z"
   },
   {
    "duration": 3,
    "start_time": "2023-10-08T08:18:46.176Z"
   },
   {
    "duration": 36,
    "start_time": "2023-10-08T08:18:46.182Z"
   },
   {
    "duration": 23,
    "start_time": "2023-10-08T08:18:46.219Z"
   },
   {
    "duration": 109,
    "start_time": "2023-10-08T08:18:46.244Z"
   },
   {
    "duration": 70,
    "start_time": "2023-10-08T08:18:46.355Z"
   },
   {
    "duration": 665,
    "start_time": "2023-10-08T08:18:46.427Z"
   },
   {
    "duration": 73,
    "start_time": "2023-10-08T08:18:47.094Z"
   },
   {
    "duration": 19,
    "start_time": "2023-10-08T08:18:47.169Z"
   },
   {
    "duration": 62,
    "start_time": "2023-10-08T08:18:47.190Z"
   },
   {
    "duration": 96,
    "start_time": "2023-10-08T08:18:47.254Z"
   },
   {
    "duration": 8,
    "start_time": "2023-10-08T08:18:47.351Z"
   },
   {
    "duration": 82,
    "start_time": "2023-10-08T08:18:47.360Z"
   },
   {
    "duration": 59,
    "start_time": "2023-10-08T08:18:47.444Z"
   },
   {
    "duration": 44,
    "start_time": "2023-10-08T08:18:47.505Z"
   },
   {
    "duration": 99,
    "start_time": "2023-10-08T08:18:47.550Z"
   },
   {
    "duration": 3,
    "start_time": "2023-10-08T08:18:47.651Z"
   },
   {
    "duration": 77,
    "start_time": "2023-10-08T08:18:47.655Z"
   },
   {
    "duration": 29,
    "start_time": "2023-10-08T08:18:47.734Z"
   },
   {
    "duration": 212,
    "start_time": "2023-10-08T08:18:47.765Z"
   },
   {
    "duration": 8,
    "start_time": "2023-10-08T08:18:47.979Z"
   },
   {
    "duration": 206,
    "start_time": "2023-10-08T08:18:47.989Z"
   },
   {
    "duration": 195,
    "start_time": "2023-10-08T08:18:58.941Z"
   },
   {
    "duration": 218,
    "start_time": "2023-10-08T08:19:11.982Z"
   },
   {
    "duration": 223,
    "start_time": "2023-10-08T08:19:50.201Z"
   },
   {
    "duration": 6,
    "start_time": "2023-10-08T08:20:18.872Z"
   },
   {
    "duration": 4,
    "start_time": "2023-10-08T08:25:14.759Z"
   },
   {
    "duration": 203,
    "start_time": "2023-10-08T08:41:58.560Z"
   },
   {
    "duration": 215,
    "start_time": "2023-10-08T08:42:20.751Z"
   },
   {
    "duration": 6,
    "start_time": "2023-10-08T08:53:55.352Z"
   },
   {
    "duration": 216,
    "start_time": "2023-10-08T08:56:29.122Z"
   },
   {
    "duration": 193,
    "start_time": "2023-10-08T08:57:22.721Z"
   },
   {
    "duration": 189,
    "start_time": "2023-10-08T08:59:20.632Z"
   },
   {
    "duration": 409,
    "start_time": "2023-10-08T09:02:01.356Z"
   },
   {
    "duration": 261,
    "start_time": "2023-10-08T09:06:44.802Z"
   },
   {
    "duration": 6,
    "start_time": "2023-10-08T09:06:48.955Z"
   },
   {
    "duration": 231,
    "start_time": "2023-10-08T09:07:09.259Z"
   },
   {
    "duration": 50,
    "start_time": "2023-10-08T11:08:37.859Z"
   },
   {
    "duration": 1341,
    "start_time": "2023-10-08T11:08:49.749Z"
   },
   {
    "duration": 562,
    "start_time": "2023-10-08T11:08:51.093Z"
   },
   {
    "duration": 4,
    "start_time": "2023-10-08T11:08:51.656Z"
   },
   {
    "duration": 278,
    "start_time": "2023-10-08T11:08:51.662Z"
   },
   {
    "duration": 274,
    "start_time": "2023-10-08T11:08:51.941Z"
   },
   {
    "duration": 9,
    "start_time": "2023-10-08T11:08:52.217Z"
   },
   {
    "duration": 173,
    "start_time": "2023-10-08T11:08:52.228Z"
   },
   {
    "duration": 267,
    "start_time": "2023-10-08T11:08:52.403Z"
   },
   {
    "duration": 4,
    "start_time": "2023-10-08T11:08:52.672Z"
   },
   {
    "duration": 123,
    "start_time": "2023-10-08T11:08:52.680Z"
   },
   {
    "duration": 58,
    "start_time": "2023-10-08T11:08:52.805Z"
   },
   {
    "duration": 237,
    "start_time": "2023-10-08T11:08:52.865Z"
   },
   {
    "duration": 302,
    "start_time": "2023-10-08T11:08:53.104Z"
   },
   {
    "duration": 606,
    "start_time": "2023-10-08T11:08:53.408Z"
   },
   {
    "duration": 62,
    "start_time": "2023-10-08T11:08:54.016Z"
   },
   {
    "duration": 18,
    "start_time": "2023-10-08T11:08:54.080Z"
   },
   {
    "duration": 43,
    "start_time": "2023-10-08T11:08:54.100Z"
   },
   {
    "duration": 60,
    "start_time": "2023-10-08T11:08:54.145Z"
   },
   {
    "duration": 20,
    "start_time": "2023-10-08T11:08:54.206Z"
   },
   {
    "duration": 5,
    "start_time": "2023-10-08T11:08:56.058Z"
   },
   {
    "duration": 5,
    "start_time": "2023-10-08T11:09:17.050Z"
   },
   {
    "duration": 6,
    "start_time": "2023-10-08T11:15:30.831Z"
   },
   {
    "duration": 1127,
    "start_time": "2023-10-08T11:16:53.557Z"
   },
   {
    "duration": 203,
    "start_time": "2023-10-08T11:16:54.686Z"
   },
   {
    "duration": 9,
    "start_time": "2023-10-08T11:16:54.891Z"
   },
   {
    "duration": 88,
    "start_time": "2023-10-08T11:16:54.903Z"
   },
   {
    "duration": 138,
    "start_time": "2023-10-08T11:16:54.992Z"
   },
   {
    "duration": 4,
    "start_time": "2023-10-08T11:16:55.133Z"
   },
   {
    "duration": 15,
    "start_time": "2023-10-08T11:16:55.138Z"
   },
   {
    "duration": 102,
    "start_time": "2023-10-08T11:16:55.154Z"
   },
   {
    "duration": 4,
    "start_time": "2023-10-08T11:16:55.258Z"
   },
   {
    "duration": 35,
    "start_time": "2023-10-08T11:16:55.264Z"
   },
   {
    "duration": 14,
    "start_time": "2023-10-08T11:16:55.300Z"
   },
   {
    "duration": 57,
    "start_time": "2023-10-08T11:16:55.316Z"
   },
   {
    "duration": 31,
    "start_time": "2023-10-08T11:16:55.375Z"
   },
   {
    "duration": 645,
    "start_time": "2023-10-08T11:16:55.408Z"
   },
   {
    "duration": 70,
    "start_time": "2023-10-08T11:16:56.054Z"
   },
   {
    "duration": 18,
    "start_time": "2023-10-08T11:16:56.126Z"
   },
   {
    "duration": 42,
    "start_time": "2023-10-08T11:16:56.146Z"
   },
   {
    "duration": 84,
    "start_time": "2023-10-08T11:16:56.191Z"
   },
   {
    "duration": 8,
    "start_time": "2023-10-08T11:16:56.276Z"
   },
   {
    "duration": 4,
    "start_time": "2023-10-08T11:16:56.286Z"
   },
   {
    "duration": 51,
    "start_time": "2023-10-08T11:16:56.292Z"
   },
   {
    "duration": 4,
    "start_time": "2023-10-08T11:16:56.345Z"
   },
   {
    "duration": 86,
    "start_time": "2023-10-08T11:16:56.351Z"
   },
   {
    "duration": 5,
    "start_time": "2023-10-08T11:16:56.439Z"
   },
   {
    "duration": 62,
    "start_time": "2023-10-08T11:16:56.446Z"
   },
   {
    "duration": 26,
    "start_time": "2023-10-08T11:16:56.510Z"
   },
   {
    "duration": 198,
    "start_time": "2023-10-08T11:16:56.537Z"
   },
   {
    "duration": 208,
    "start_time": "2023-10-08T11:16:56.738Z"
   },
   {
    "duration": 199,
    "start_time": "2023-10-08T11:16:56.948Z"
   },
   {
    "duration": 216,
    "start_time": "2023-10-08T11:16:57.149Z"
   },
   {
    "duration": 1404,
    "start_time": "2023-10-08T11:27:19.127Z"
   },
   {
    "duration": 802,
    "start_time": "2023-10-08T11:27:20.534Z"
   },
   {
    "duration": 4,
    "start_time": "2023-10-08T11:27:21.338Z"
   },
   {
    "duration": 131,
    "start_time": "2023-10-08T11:27:21.344Z"
   },
   {
    "duration": 160,
    "start_time": "2023-10-08T11:27:21.476Z"
   },
   {
    "duration": 4,
    "start_time": "2023-10-08T11:27:21.638Z"
   },
   {
    "duration": 33,
    "start_time": "2023-10-08T11:27:21.649Z"
   },
   {
    "duration": 140,
    "start_time": "2023-10-08T11:27:21.684Z"
   },
   {
    "duration": 51,
    "start_time": "2023-10-08T11:27:21.827Z"
   },
   {
    "duration": 49,
    "start_time": "2023-10-08T11:27:21.881Z"
   },
   {
    "duration": 84,
    "start_time": "2023-10-08T11:27:21.931Z"
   },
   {
    "duration": 87,
    "start_time": "2023-10-08T11:27:22.016Z"
   },
   {
    "duration": 35,
    "start_time": "2023-10-08T11:27:22.105Z"
   },
   {
    "duration": 568,
    "start_time": "2023-10-08T11:27:22.142Z"
   },
   {
    "duration": 77,
    "start_time": "2023-10-08T11:27:22.712Z"
   },
   {
    "duration": 16,
    "start_time": "2023-10-08T11:27:22.791Z"
   },
   {
    "duration": 69,
    "start_time": "2023-10-08T11:27:22.809Z"
   },
   {
    "duration": 55,
    "start_time": "2023-10-08T11:27:22.880Z"
   },
   {
    "duration": 7,
    "start_time": "2023-10-08T11:27:22.937Z"
   },
   {
    "duration": 31,
    "start_time": "2023-10-08T11:27:22.945Z"
   },
   {
    "duration": 50,
    "start_time": "2023-10-08T11:27:22.980Z"
   },
   {
    "duration": 37,
    "start_time": "2023-10-08T11:27:23.031Z"
   },
   {
    "duration": 89,
    "start_time": "2023-10-08T11:27:23.069Z"
   },
   {
    "duration": 5,
    "start_time": "2023-10-08T11:27:23.160Z"
   },
   {
    "duration": 50,
    "start_time": "2023-10-08T11:27:23.167Z"
   },
   {
    "duration": 28,
    "start_time": "2023-10-08T11:27:23.218Z"
   },
   {
    "duration": 254,
    "start_time": "2023-10-08T11:27:23.248Z"
   },
   {
    "duration": 198,
    "start_time": "2023-10-08T11:27:23.505Z"
   },
   {
    "duration": 197,
    "start_time": "2023-10-08T11:27:23.705Z"
   },
   {
    "duration": 225,
    "start_time": "2023-10-08T11:27:23.903Z"
   },
   {
    "duration": 54,
    "start_time": "2023-10-08T13:22:08.646Z"
   },
   {
    "duration": 1509,
    "start_time": "2023-10-08T13:22:13.770Z"
   },
   {
    "duration": 628,
    "start_time": "2023-10-08T13:22:15.283Z"
   },
   {
    "duration": 5,
    "start_time": "2023-10-08T13:22:15.914Z"
   },
   {
    "duration": 122,
    "start_time": "2023-10-08T13:22:15.922Z"
   },
   {
    "duration": 204,
    "start_time": "2023-10-08T13:22:16.046Z"
   },
   {
    "duration": 6,
    "start_time": "2023-10-08T13:22:16.252Z"
   },
   {
    "duration": 34,
    "start_time": "2023-10-08T13:22:16.262Z"
   },
   {
    "duration": 130,
    "start_time": "2023-10-08T13:22:16.298Z"
   },
   {
    "duration": 6,
    "start_time": "2023-10-08T13:22:16.430Z"
   },
   {
    "duration": 50,
    "start_time": "2023-10-08T13:22:16.439Z"
   },
   {
    "duration": 50,
    "start_time": "2023-10-08T13:22:16.490Z"
   },
   {
    "duration": 148,
    "start_time": "2023-10-08T13:22:16.543Z"
   },
   {
    "duration": 90,
    "start_time": "2023-10-08T13:22:16.693Z"
   },
   {
    "duration": 667,
    "start_time": "2023-10-08T13:22:16.786Z"
   },
   {
    "duration": 102,
    "start_time": "2023-10-08T13:22:17.456Z"
   },
   {
    "duration": 33,
    "start_time": "2023-10-08T13:22:17.560Z"
   },
   {
    "duration": 63,
    "start_time": "2023-10-08T13:22:17.595Z"
   },
   {
    "duration": 71,
    "start_time": "2023-10-08T13:22:17.660Z"
   },
   {
    "duration": 16,
    "start_time": "2023-10-08T13:22:17.746Z"
   },
   {
    "duration": 6,
    "start_time": "2023-10-08T13:22:17.764Z"
   },
   {
    "duration": 44,
    "start_time": "2023-10-08T13:22:17.772Z"
   },
   {
    "duration": 31,
    "start_time": "2023-10-08T13:22:17.818Z"
   },
   {
    "duration": 107,
    "start_time": "2023-10-08T13:22:17.852Z"
   },
   {
    "duration": 6,
    "start_time": "2023-10-08T13:22:17.961Z"
   },
   {
    "duration": 13,
    "start_time": "2023-10-08T13:22:17.969Z"
   },
   {
    "duration": 11,
    "start_time": "2023-10-08T13:22:17.984Z"
   },
   {
    "duration": 254,
    "start_time": "2023-10-08T13:22:17.997Z"
   },
   {
    "duration": 240,
    "start_time": "2023-10-08T13:22:18.255Z"
   },
   {
    "duration": 286,
    "start_time": "2023-10-08T13:22:18.497Z"
   },
   {
    "duration": 257,
    "start_time": "2023-10-08T13:22:25.647Z"
   },
   {
    "duration": 279,
    "start_time": "2023-10-08T13:22:51.027Z"
   },
   {
    "duration": 187,
    "start_time": "2023-10-08T13:23:12.716Z"
   },
   {
    "duration": 198,
    "start_time": "2023-10-08T13:23:18.641Z"
   },
   {
    "duration": 4,
    "start_time": "2023-10-08T13:23:22.056Z"
   },
   {
    "duration": 255,
    "start_time": "2023-10-08T13:23:22.064Z"
   },
   {
    "duration": 5,
    "start_time": "2023-10-08T13:23:22.322Z"
   },
   {
    "duration": 90,
    "start_time": "2023-10-08T13:23:22.329Z"
   },
   {
    "duration": 165,
    "start_time": "2023-10-08T13:23:22.422Z"
   },
   {
    "duration": 4,
    "start_time": "2023-10-08T13:23:22.589Z"
   },
   {
    "duration": 13,
    "start_time": "2023-10-08T13:23:22.595Z"
   },
   {
    "duration": 109,
    "start_time": "2023-10-08T13:23:22.609Z"
   },
   {
    "duration": 4,
    "start_time": "2023-10-08T13:23:22.721Z"
   },
   {
    "duration": 24,
    "start_time": "2023-10-08T13:23:22.727Z"
   },
   {
    "duration": 6,
    "start_time": "2023-10-08T13:23:22.755Z"
   },
   {
    "duration": 85,
    "start_time": "2023-10-08T13:23:22.763Z"
   },
   {
    "duration": 58,
    "start_time": "2023-10-08T13:23:22.851Z"
   },
   {
    "duration": 681,
    "start_time": "2023-10-08T13:23:22.912Z"
   },
   {
    "duration": 84,
    "start_time": "2023-10-08T13:23:23.595Z"
   },
   {
    "duration": 23,
    "start_time": "2023-10-08T13:23:23.682Z"
   },
   {
    "duration": 60,
    "start_time": "2023-10-08T13:23:23.707Z"
   },
   {
    "duration": 135,
    "start_time": "2023-10-08T13:23:23.769Z"
   },
   {
    "duration": 13,
    "start_time": "2023-10-08T13:23:23.906Z"
   },
   {
    "duration": 10,
    "start_time": "2023-10-08T13:23:23.921Z"
   },
   {
    "duration": 61,
    "start_time": "2023-10-08T13:23:23.947Z"
   },
   {
    "duration": 17,
    "start_time": "2023-10-08T13:23:24.010Z"
   },
   {
    "duration": 126,
    "start_time": "2023-10-08T13:23:24.028Z"
   },
   {
    "duration": 5,
    "start_time": "2023-10-08T13:23:24.156Z"
   },
   {
    "duration": 43,
    "start_time": "2023-10-08T13:23:24.163Z"
   },
   {
    "duration": 37,
    "start_time": "2023-10-08T13:23:24.208Z"
   },
   {
    "duration": 302,
    "start_time": "2023-10-08T13:23:24.247Z"
   },
   {
    "duration": 237,
    "start_time": "2023-10-08T13:23:24.550Z"
   },
   {
    "duration": 244,
    "start_time": "2023-10-08T13:23:24.791Z"
   },
   {
    "duration": 289,
    "start_time": "2023-10-08T13:23:25.037Z"
   },
   {
    "duration": 132,
    "start_time": "2023-10-08T13:25:26.664Z"
   },
   {
    "duration": 7,
    "start_time": "2023-10-08T13:25:30.959Z"
   },
   {
    "duration": 137,
    "start_time": "2023-10-08T13:25:33.400Z"
   },
   {
    "duration": 7,
    "start_time": "2023-10-08T13:25:44.385Z"
   },
   {
    "duration": 384,
    "start_time": "2023-10-08T13:25:44.396Z"
   },
   {
    "duration": 9,
    "start_time": "2023-10-08T13:25:44.783Z"
   },
   {
    "duration": 153,
    "start_time": "2023-10-08T13:25:44.795Z"
   },
   {
    "duration": 213,
    "start_time": "2023-10-08T13:25:44.952Z"
   },
   {
    "duration": 10,
    "start_time": "2023-10-08T13:25:45.168Z"
   },
   {
    "duration": 39,
    "start_time": "2023-10-08T13:25:45.180Z"
   },
   {
    "duration": 190,
    "start_time": "2023-10-08T13:25:45.221Z"
   },
   {
    "duration": 6,
    "start_time": "2023-10-08T13:25:45.413Z"
   },
   {
    "duration": 12,
    "start_time": "2023-10-08T13:25:45.421Z"
   },
   {
    "duration": 5,
    "start_time": "2023-10-08T13:25:45.450Z"
   },
   {
    "duration": 95,
    "start_time": "2023-10-08T13:25:45.457Z"
   },
   {
    "duration": 70,
    "start_time": "2023-10-08T13:25:45.554Z"
   },
   {
    "duration": 957,
    "start_time": "2023-10-08T13:25:45.627Z"
   },
   {
    "duration": 109,
    "start_time": "2023-10-08T13:25:46.586Z"
   },
   {
    "duration": 32,
    "start_time": "2023-10-08T13:25:46.698Z"
   },
   {
    "duration": 50,
    "start_time": "2023-10-08T13:25:46.747Z"
   },
   {
    "duration": 106,
    "start_time": "2023-10-08T13:25:46.799Z"
   },
   {
    "duration": 16,
    "start_time": "2023-10-08T13:25:46.908Z"
   },
   {
    "duration": 26,
    "start_time": "2023-10-08T13:25:46.926Z"
   },
   {
    "duration": 43,
    "start_time": "2023-10-08T13:25:46.957Z"
   },
   {
    "duration": 7,
    "start_time": "2023-10-08T13:25:47.002Z"
   },
   {
    "duration": 104,
    "start_time": "2023-10-08T13:25:47.012Z"
   },
   {
    "duration": 7,
    "start_time": "2023-10-08T13:25:47.118Z"
   },
   {
    "duration": 22,
    "start_time": "2023-10-08T13:25:47.127Z"
   },
   {
    "duration": 10,
    "start_time": "2023-10-08T13:25:47.150Z"
   },
   {
    "duration": 256,
    "start_time": "2023-10-08T13:25:47.162Z"
   },
   {
    "duration": 349,
    "start_time": "2023-10-08T13:25:47.420Z"
   },
   {
    "duration": 321,
    "start_time": "2023-10-08T13:25:47.774Z"
   },
   {
    "duration": 397,
    "start_time": "2023-10-08T13:25:48.099Z"
   },
   {
    "duration": 1270,
    "start_time": "2023-10-08T19:08:24.135Z"
   },
   {
    "duration": 989,
    "start_time": "2023-10-08T19:08:25.408Z"
   },
   {
    "duration": 3,
    "start_time": "2023-10-08T19:08:26.399Z"
   },
   {
    "duration": 88,
    "start_time": "2023-10-08T19:08:26.405Z"
   },
   {
    "duration": 137,
    "start_time": "2023-10-08T19:08:26.495Z"
   },
   {
    "duration": 10,
    "start_time": "2023-10-08T19:08:26.634Z"
   },
   {
    "duration": 4,
    "start_time": "2023-10-08T19:08:26.646Z"
   },
   {
    "duration": 83,
    "start_time": "2023-10-08T19:08:26.651Z"
   },
   {
    "duration": 3,
    "start_time": "2023-10-08T19:08:26.745Z"
   },
   {
    "duration": 10,
    "start_time": "2023-10-08T19:08:26.751Z"
   },
   {
    "duration": 6,
    "start_time": "2023-10-08T19:08:26.763Z"
   },
   {
    "duration": 63,
    "start_time": "2023-10-08T19:08:26.771Z"
   },
   {
    "duration": 39,
    "start_time": "2023-10-08T19:08:26.835Z"
   },
   {
    "duration": 555,
    "start_time": "2023-10-08T19:08:26.875Z"
   },
   {
    "duration": 64,
    "start_time": "2023-10-08T19:08:27.431Z"
   },
   {
    "duration": 18,
    "start_time": "2023-10-08T19:08:27.496Z"
   },
   {
    "duration": 42,
    "start_time": "2023-10-08T19:08:27.516Z"
   },
   {
    "duration": 54,
    "start_time": "2023-10-08T19:08:27.560Z"
   },
   {
    "duration": 8,
    "start_time": "2023-10-08T19:08:27.616Z"
   },
   {
    "duration": 4,
    "start_time": "2023-10-08T19:08:27.644Z"
   },
   {
    "duration": 29,
    "start_time": "2023-10-08T19:08:27.649Z"
   },
   {
    "duration": 4,
    "start_time": "2023-10-08T19:08:27.679Z"
   },
   {
    "duration": 92,
    "start_time": "2023-10-08T19:08:27.684Z"
   },
   {
    "duration": 4,
    "start_time": "2023-10-08T19:08:27.777Z"
   },
   {
    "duration": 22,
    "start_time": "2023-10-08T19:08:27.783Z"
   },
   {
    "duration": 26,
    "start_time": "2023-10-08T19:08:27.807Z"
   },
   {
    "duration": 178,
    "start_time": "2023-10-08T19:08:27.834Z"
   },
   {
    "duration": 196,
    "start_time": "2023-10-08T19:08:28.015Z"
   },
   {
    "duration": 188,
    "start_time": "2023-10-08T19:08:28.212Z"
   },
   {
    "duration": 203,
    "start_time": "2023-10-08T19:08:28.401Z"
   }
  ],
  "kernelspec": {
   "display_name": "Python 3 (ipykernel)",
   "language": "python",
   "name": "python3"
  },
  "language_info": {
   "codemirror_mode": {
    "name": "ipython",
    "version": 3
   },
   "file_extension": ".py",
   "mimetype": "text/x-python",
   "name": "python",
   "nbconvert_exporter": "python",
   "pygments_lexer": "ipython3",
   "version": "3.9.5"
  },
  "toc": {
   "base_numbering": 1,
   "nav_menu": {},
   "number_sections": true,
   "sideBar": true,
   "skip_h1_title": true,
   "title_cell": "Table of Contents",
   "title_sidebar": "Contents",
   "toc_cell": false,
   "toc_position": {
    "height": "calc(100% - 180px)",
    "left": "10px",
    "top": "150px",
    "width": "166.534px"
   },
   "toc_section_display": true,
   "toc_window_display": false
  }
 },
 "nbformat": 4,
 "nbformat_minor": 2
}
