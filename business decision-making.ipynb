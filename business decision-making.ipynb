{
 "cells": [
  {
   "cell_type": "markdown",
   "metadata": {},
   "source": [
    "#### Описание проекта"
   ]
  },
  {
   "cell_type": "markdown",
   "metadata": {},
   "source": [
    "##### Задачи проекта"
   ]
  },
  {
   "cell_type": "markdown",
   "metadata": {},
   "source": [
    "Приоритизировать гипотезы, запустить A/B-тест и проанализировать результаты. "
   ]
  },
  {
   "cell_type": "markdown",
   "metadata": {},
   "source": [
    "##### Описание данных"
   ]
  },
  {
   "cell_type": "markdown",
   "metadata": {},
   "source": [
    "###### Данные для первой части"
   ]
  },
  {
   "cell_type": "markdown",
   "metadata": {},
   "source": [
    "Файл `/datasets/hypothesis.csv`\n",
    "\n",
    "`Hypothesis` — краткое описание гипотезы\n",
    "\n",
    "`Reach` — охват пользователей по 10-балльной шкале\n",
    "\n",
    "`Impact` — влияние на пользователей по 10-балльной шкале\n",
    "\n",
    "`Confidence` — уверенность в гипотезе по 10-балльной шкале\n",
    "\n",
    "`Efforts` — затраты ресурсов на проверку гипотезы по 10-балльной шкале. Чем больше значение Efforts, тем дороже проверка гипотезы"
   ]
  },
  {
   "cell_type": "markdown",
   "metadata": {},
   "source": [
    "###### Данные для второй части"
   ]
  },
  {
   "cell_type": "markdown",
   "metadata": {},
   "source": [
    "*Файл `/datasets/orders.csv`*\n",
    "\n",
    "\n",
    "`transactionId` — идентификатор заказа\n",
    "\n",
    "`visitorId` — идентификатор пользователя, совершившего заказ\n",
    "\n",
    "`date` — дата, когда был совершён заказ\n",
    "\n",
    "`revenue` — выручка заказа\n",
    "\n",
    "`group` — группа A/B-теста, в которую попал заказ\n",
    "\n",
    "*Файл `/datasets/visitors.csv`*\n",
    "\n",
    "\n",
    "`date` — дата\n",
    "\n",
    "`group` — группа A/B-теста\n",
    "\n",
    "`visitors` — количество пользователей в указанную дату в указанной группе A/B-теста"
   ]
  },
  {
   "cell_type": "markdown",
   "metadata": {},
   "source": [
    "#### План работы"
   ]
  },
  {
   "cell_type": "markdown",
   "metadata": {},
   "source": [
    "- Предобработка данных\n",
    "\n",
    "\n",
    "- **Часть 1. Приоритизация гипотез**\n",
    "\n",
    "    В файле /datasets/hypothesis.csv 9 гипотез по увеличению выручки интернет-магазина с указанными параметрами Reach, Impact, Confidence, Effort\n",
    "    \n",
    "    - Применить фреймворк ICE для приоритизации гипотез. Отсоровать их по убыванию приоритета\n",
    "    \n",
    "    - Применить фреймворк RICE для приоритизации гипотез. Отсортировать их по убыванию приоритета\n",
    "    \n",
    "    - Указать, как изменилась приоритизация гипотез при применении RICE вместо ICE. Объяснить, почему так произошло\n",
    "    \n",
    "    \n",
    "- **Часть 2. Анализ A/B-теста**\n",
    "\n",
    "    Проанализировать A/B-тест:\n",
    "    \n",
    "    - Постройть график кумулятивной выручки по группам. Сделайть выводы и предположения\n",
    "    \n",
    "    - Постройть график кумулятивного среднего чека по группам. Сделайть выводы и предположения\n",
    "    \n",
    "    - Постройть график относительного изменения кумулятивного среднего чека группы B к группе A. Сделайть выводы и предположения\n",
    "    \n",
    "    - Постройть график кумулятивного среднего количества заказов на посетителя по группам. Сделайть выводы и предположения\n",
    "    \n",
    "    - Постройть график относительного изменения кумулятивного среднего количества заказов на посетителя группы B к группе A. Сделайть выводы и предположения\n",
    "    \n",
    "    - Постройть точечный график количества заказов по пользователям. Сделайть выводы и предположения\n",
    "    \n",
    "    - Посчитайть 95-й и 99-й перцентили количества заказов на пользователя. Выберать границу для определения аномальных пользователей\n",
    "    \n",
    "    - Постройть точечный график стоимостей заказов. Сделайть выводы и предположения\n",
    "    \n",
    "    - Посчитайть 95-й и 99-й перцентили стоимости заказов. Выбрать границу для определения аномальных заказов\n",
    "    \n",
    "    - Посчитайть статистическую значимость различий в среднем количестве заказов на посетителя между группами по «сырым» данным. Сделать выводы и предположения\n",
    "    \n",
    "    - Посчитайть статистическую значимость различий в среднем чеке заказа между группами по «сырым» данным. Сделать выводы и предположения\n",
    "    \n",
    "    - Посчитать статистическую значимость различий в среднем количестве заказов на посетителя между группами по «очищенным» данным. Сделать выводы и предположения\n",
    "    \n",
    "    - Посчитайте статистическую значимость различий в среднем чеке заказа между группами по «очищенным» данным. Сделать выводы и предположения.\n",
    "    \n",
    "    - Принять решение по результатам теста и объясните его. Варианты решений:\n",
    "    \n",
    "        1. Остановить тест, зафиксировать победу одной из групп.\n",
    "        \n",
    "        2. Остановить тест, зафиксировать отсутствие различий между группами.\n",
    "        \n",
    "        3. Продолжить тест."
   ]
  },
  {
   "cell_type": "markdown",
   "metadata": {},
   "source": [
    "#### Предобработка данных"
   ]
  },
  {
   "cell_type": "code",
   "execution_count": 1,
   "metadata": {},
   "outputs": [],
   "source": [
    "import pandas as pd\n",
    "import datetime as dt\n",
    "import numpy as np\n",
    "import matplotlib.pyplot as plt\n",
    "from pandas.plotting import register_matplotlib_converters\n",
    "import scipy.stats as stats\n",
    "import warnings"
   ]
  },
  {
   "cell_type": "code",
   "execution_count": 2,
   "metadata": {},
   "outputs": [],
   "source": [
    "def pre(table):\n",
    "    for column in table:\n",
    "        print(f'Процент пропущенных в столбце {column} равно {round(table[column].isna().sum()/len(table[column]), 4)*100}%')\n",
    "    print(f'Количество дубликатов в таблице равно {table.duplicated().sum()}')"
   ]
  },
  {
   "cell_type": "markdown",
   "metadata": {},
   "source": [
    "##### Данные для первой части"
   ]
  },
  {
   "cell_type": "code",
   "execution_count": 3,
   "metadata": {},
   "outputs": [],
   "source": [
    "hypothesis = pd.read_csv('/datasets/hypothesis.csv')"
   ]
  },
  {
   "cell_type": "code",
   "execution_count": 4,
   "metadata": {},
   "outputs": [
    {
     "name": "stdout",
     "output_type": "stream",
     "text": [
      "Процент пропущенных в столбце Hypothesis равно 0.0%\n",
      "Процент пропущенных в столбце Reach равно 0.0%\n",
      "Процент пропущенных в столбце Impact равно 0.0%\n",
      "Процент пропущенных в столбце Confidence равно 0.0%\n",
      "Процент пропущенных в столбце Efforts равно 0.0%\n",
      "Количество дубликатов в таблице равно 0\n"
     ]
    },
    {
     "data": {
      "text/html": [
       "<div>\n",
       "<style scoped>\n",
       "    .dataframe tbody tr th:only-of-type {\n",
       "        vertical-align: middle;\n",
       "    }\n",
       "\n",
       "    .dataframe tbody tr th {\n",
       "        vertical-align: top;\n",
       "    }\n",
       "\n",
       "    .dataframe thead th {\n",
       "        text-align: right;\n",
       "    }\n",
       "</style>\n",
       "<table border=\"1\" class=\"dataframe\">\n",
       "  <thead>\n",
       "    <tr style=\"text-align: right;\">\n",
       "      <th></th>\n",
       "      <th>Hypothesis</th>\n",
       "      <th>Reach</th>\n",
       "      <th>Impact</th>\n",
       "      <th>Confidence</th>\n",
       "      <th>Efforts</th>\n",
       "    </tr>\n",
       "  </thead>\n",
       "  <tbody>\n",
       "    <tr>\n",
       "      <th>0</th>\n",
       "      <td>Добавить два новых канала привлечения трафика, что позволит привлекать на 30% больше пользователей</td>\n",
       "      <td>3</td>\n",
       "      <td>10</td>\n",
       "      <td>8</td>\n",
       "      <td>6</td>\n",
       "    </tr>\n",
       "    <tr>\n",
       "      <th>1</th>\n",
       "      <td>Запустить собственную службу доставки, что сократит срок доставки заказов</td>\n",
       "      <td>2</td>\n",
       "      <td>5</td>\n",
       "      <td>4</td>\n",
       "      <td>10</td>\n",
       "    </tr>\n",
       "    <tr>\n",
       "      <th>2</th>\n",
       "      <td>Добавить блоки рекомендаций товаров на сайт интернет магазина, чтобы повысить конверсию и средний чек заказа</td>\n",
       "      <td>8</td>\n",
       "      <td>3</td>\n",
       "      <td>7</td>\n",
       "      <td>3</td>\n",
       "    </tr>\n",
       "    <tr>\n",
       "      <th>3</th>\n",
       "      <td>Изменить структура категорий, что увеличит конверсию, т.к. пользователи быстрее найдут нужный товар</td>\n",
       "      <td>8</td>\n",
       "      <td>3</td>\n",
       "      <td>3</td>\n",
       "      <td>8</td>\n",
       "    </tr>\n",
       "    <tr>\n",
       "      <th>4</th>\n",
       "      <td>Изменить цвет фона главной страницы, чтобы увеличить вовлеченность пользователей</td>\n",
       "      <td>3</td>\n",
       "      <td>1</td>\n",
       "      <td>1</td>\n",
       "      <td>1</td>\n",
       "    </tr>\n",
       "  </tbody>\n",
       "</table>\n",
       "</div>"
      ],
      "text/plain": [
       "                                                                                                     Hypothesis  \\\n",
       "0            Добавить два новых канала привлечения трафика, что позволит привлекать на 30% больше пользователей   \n",
       "1                                     Запустить собственную службу доставки, что сократит срок доставки заказов   \n",
       "2  Добавить блоки рекомендаций товаров на сайт интернет магазина, чтобы повысить конверсию и средний чек заказа   \n",
       "3           Изменить структура категорий, что увеличит конверсию, т.к. пользователи быстрее найдут нужный товар   \n",
       "4                              Изменить цвет фона главной страницы, чтобы увеличить вовлеченность пользователей   \n",
       "\n",
       "   Reach  Impact  Confidence  Efforts  \n",
       "0      3      10           8        6  \n",
       "1      2       5           4       10  \n",
       "2      8       3           7        3  \n",
       "3      8       3           3        8  \n",
       "4      3       1           1        1  "
      ]
     },
     "execution_count": 4,
     "metadata": {},
     "output_type": "execute_result"
    }
   ],
   "source": [
    "pre(hypothesis)\n",
    "pd.options.display.max_colwidth = 150\n",
    "hypothesis.head()"
   ]
  },
  {
   "cell_type": "markdown",
   "metadata": {},
   "source": [
    "##### Данные для второй части"
   ]
  },
  {
   "cell_type": "code",
   "execution_count": 5,
   "metadata": {},
   "outputs": [
    {
     "name": "stdout",
     "output_type": "stream",
     "text": [
      "Процент пропущенных в столбце transactionId равно 0.0%\n",
      "Процент пропущенных в столбце visitorId равно 0.0%\n",
      "Процент пропущенных в столбце date равно 0.0%\n",
      "Процент пропущенных в столбце revenue равно 0.0%\n",
      "Процент пропущенных в столбце group равно 0.0%\n",
      "Количество дубликатов в таблице равно 0\n",
      "<class 'pandas.core.frame.DataFrame'>\n",
      "RangeIndex: 1197 entries, 0 to 1196\n",
      "Data columns (total 5 columns):\n",
      " #   Column         Non-Null Count  Dtype \n",
      "---  ------         --------------  ----- \n",
      " 0   transactionId  1197 non-null   int64 \n",
      " 1   visitorId      1197 non-null   int64 \n",
      " 2   date           1197 non-null   object\n",
      " 3   revenue        1197 non-null   int64 \n",
      " 4   group          1197 non-null   object\n",
      "dtypes: int64(3), object(2)\n",
      "memory usage: 46.9+ KB\n"
     ]
    },
    {
     "data": {
      "text/html": [
       "<div>\n",
       "<style scoped>\n",
       "    .dataframe tbody tr th:only-of-type {\n",
       "        vertical-align: middle;\n",
       "    }\n",
       "\n",
       "    .dataframe tbody tr th {\n",
       "        vertical-align: top;\n",
       "    }\n",
       "\n",
       "    .dataframe thead th {\n",
       "        text-align: right;\n",
       "    }\n",
       "</style>\n",
       "<table border=\"1\" class=\"dataframe\">\n",
       "  <thead>\n",
       "    <tr style=\"text-align: right;\">\n",
       "      <th></th>\n",
       "      <th>transactionId</th>\n",
       "      <th>visitorId</th>\n",
       "      <th>date</th>\n",
       "      <th>revenue</th>\n",
       "      <th>group</th>\n",
       "    </tr>\n",
       "  </thead>\n",
       "  <tbody>\n",
       "    <tr>\n",
       "      <th>0</th>\n",
       "      <td>3667963787</td>\n",
       "      <td>3312258926</td>\n",
       "      <td>2019-08-15</td>\n",
       "      <td>1650</td>\n",
       "      <td>B</td>\n",
       "    </tr>\n",
       "    <tr>\n",
       "      <th>1</th>\n",
       "      <td>2804400009</td>\n",
       "      <td>3642806036</td>\n",
       "      <td>2019-08-15</td>\n",
       "      <td>730</td>\n",
       "      <td>B</td>\n",
       "    </tr>\n",
       "    <tr>\n",
       "      <th>2</th>\n",
       "      <td>2961555356</td>\n",
       "      <td>4069496402</td>\n",
       "      <td>2019-08-15</td>\n",
       "      <td>400</td>\n",
       "      <td>A</td>\n",
       "    </tr>\n",
       "    <tr>\n",
       "      <th>3</th>\n",
       "      <td>3797467345</td>\n",
       "      <td>1196621759</td>\n",
       "      <td>2019-08-15</td>\n",
       "      <td>9759</td>\n",
       "      <td>B</td>\n",
       "    </tr>\n",
       "    <tr>\n",
       "      <th>4</th>\n",
       "      <td>2282983706</td>\n",
       "      <td>2322279887</td>\n",
       "      <td>2019-08-15</td>\n",
       "      <td>2308</td>\n",
       "      <td>B</td>\n",
       "    </tr>\n",
       "  </tbody>\n",
       "</table>\n",
       "</div>"
      ],
      "text/plain": [
       "   transactionId   visitorId        date  revenue group\n",
       "0     3667963787  3312258926  2019-08-15     1650     B\n",
       "1     2804400009  3642806036  2019-08-15      730     B\n",
       "2     2961555356  4069496402  2019-08-15      400     A\n",
       "3     3797467345  1196621759  2019-08-15     9759     B\n",
       "4     2282983706  2322279887  2019-08-15     2308     B"
      ]
     },
     "execution_count": 5,
     "metadata": {},
     "output_type": "execute_result"
    }
   ],
   "source": [
    "orders = pd.read_csv('/datasets/orders.csv')\n",
    "pre(orders)\n",
    "orders.info()\n",
    "orders.head()"
   ]
  },
  {
   "cell_type": "code",
   "execution_count": 6,
   "metadata": {},
   "outputs": [
    {
     "name": "stdout",
     "output_type": "stream",
     "text": [
      "Процент пропущенных в столбце date равно 0.0%\n",
      "Процент пропущенных в столбце group равно 0.0%\n",
      "Процент пропущенных в столбце visitors равно 0.0%\n",
      "Количество дубликатов в таблице равно 0\n",
      "<class 'pandas.core.frame.DataFrame'>\n",
      "RangeIndex: 62 entries, 0 to 61\n",
      "Data columns (total 3 columns):\n",
      " #   Column    Non-Null Count  Dtype \n",
      "---  ------    --------------  ----- \n",
      " 0   date      62 non-null     object\n",
      " 1   group     62 non-null     object\n",
      " 2   visitors  62 non-null     int64 \n",
      "dtypes: int64(1), object(2)\n",
      "memory usage: 1.6+ KB\n"
     ]
    },
    {
     "data": {
      "text/html": [
       "<div>\n",
       "<style scoped>\n",
       "    .dataframe tbody tr th:only-of-type {\n",
       "        vertical-align: middle;\n",
       "    }\n",
       "\n",
       "    .dataframe tbody tr th {\n",
       "        vertical-align: top;\n",
       "    }\n",
       "\n",
       "    .dataframe thead th {\n",
       "        text-align: right;\n",
       "    }\n",
       "</style>\n",
       "<table border=\"1\" class=\"dataframe\">\n",
       "  <thead>\n",
       "    <tr style=\"text-align: right;\">\n",
       "      <th></th>\n",
       "      <th>date</th>\n",
       "      <th>group</th>\n",
       "      <th>visitors</th>\n",
       "    </tr>\n",
       "  </thead>\n",
       "  <tbody>\n",
       "    <tr>\n",
       "      <th>0</th>\n",
       "      <td>2019-08-01</td>\n",
       "      <td>A</td>\n",
       "      <td>719</td>\n",
       "    </tr>\n",
       "    <tr>\n",
       "      <th>1</th>\n",
       "      <td>2019-08-02</td>\n",
       "      <td>A</td>\n",
       "      <td>619</td>\n",
       "    </tr>\n",
       "    <tr>\n",
       "      <th>2</th>\n",
       "      <td>2019-08-03</td>\n",
       "      <td>A</td>\n",
       "      <td>507</td>\n",
       "    </tr>\n",
       "    <tr>\n",
       "      <th>3</th>\n",
       "      <td>2019-08-04</td>\n",
       "      <td>A</td>\n",
       "      <td>717</td>\n",
       "    </tr>\n",
       "    <tr>\n",
       "      <th>4</th>\n",
       "      <td>2019-08-05</td>\n",
       "      <td>A</td>\n",
       "      <td>756</td>\n",
       "    </tr>\n",
       "  </tbody>\n",
       "</table>\n",
       "</div>"
      ],
      "text/plain": [
       "         date group  visitors\n",
       "0  2019-08-01     A       719\n",
       "1  2019-08-02     A       619\n",
       "2  2019-08-03     A       507\n",
       "3  2019-08-04     A       717\n",
       "4  2019-08-05     A       756"
      ]
     },
     "execution_count": 6,
     "metadata": {},
     "output_type": "execute_result"
    }
   ],
   "source": [
    "visitors = pd.read_csv('/datasets/visitors.csv')\n",
    "pre(visitors)\n",
    "visitors.info()\n",
    "visitors.head()"
   ]
  },
  {
   "cell_type": "markdown",
   "metadata": {},
   "source": [
    "*Промежуточный вывод*\n",
    "\n",
    "Пропусков не обнаружено, названия столбцов заменены\n",
    "\n",
    "Столбцы date таблиц orders и visitors необходимо привести к соответствующим типам данных"
   ]
  },
  {
   "cell_type": "markdown",
   "metadata": {},
   "source": [
    "##### Приведение типов данных"
   ]
  },
  {
   "cell_type": "code",
   "execution_count": 7,
   "metadata": {},
   "outputs": [
    {
     "name": "stdout",
     "output_type": "stream",
     "text": [
      "<class 'pandas.core.frame.DataFrame'>\n",
      "RangeIndex: 1197 entries, 0 to 1196\n",
      "Data columns (total 5 columns):\n",
      " #   Column         Non-Null Count  Dtype         \n",
      "---  ------         --------------  -----         \n",
      " 0   transactionId  1197 non-null   int64         \n",
      " 1   visitorId      1197 non-null   int64         \n",
      " 2   date           1197 non-null   datetime64[ns]\n",
      " 3   revenue        1197 non-null   int64         \n",
      " 4   group          1197 non-null   object        \n",
      "dtypes: datetime64[ns](1), int64(3), object(1)\n",
      "memory usage: 46.9+ KB\n",
      "<class 'pandas.core.frame.DataFrame'>\n",
      "RangeIndex: 62 entries, 0 to 61\n",
      "Data columns (total 3 columns):\n",
      " #   Column    Non-Null Count  Dtype         \n",
      "---  ------    --------------  -----         \n",
      " 0   date      62 non-null     datetime64[ns]\n",
      " 1   group     62 non-null     object        \n",
      " 2   visitors  62 non-null     int64         \n",
      "dtypes: datetime64[ns](1), int64(1), object(1)\n",
      "memory usage: 1.6+ KB\n"
     ]
    }
   ],
   "source": [
    "orders['date'] = pd.to_datetime(orders['date'])\n",
    "visitors['date'] = pd.to_datetime(visitors['date'])\n",
    "orders.info()\n",
    "visitors.info()"
   ]
  },
  {
   "cell_type": "markdown",
   "metadata": {},
   "source": [
    "*Промежуточный вывод*\n",
    "\n",
    "Типы данных приведены к корректным"
   ]
  },
  {
   "cell_type": "markdown",
   "metadata": {},
   "source": [
    "#### Часть 1. Приоритизация гипотез"
   ]
  },
  {
   "cell_type": "markdown",
   "metadata": {},
   "source": [
    "##### Применение фреймворка ICE"
   ]
  },
  {
   "cell_type": "code",
   "execution_count": 8,
   "metadata": {},
   "outputs": [
    {
     "data": {
      "text/html": [
       "<div>\n",
       "<style scoped>\n",
       "    .dataframe tbody tr th:only-of-type {\n",
       "        vertical-align: middle;\n",
       "    }\n",
       "\n",
       "    .dataframe tbody tr th {\n",
       "        vertical-align: top;\n",
       "    }\n",
       "\n",
       "    .dataframe thead th {\n",
       "        text-align: right;\n",
       "    }\n",
       "</style>\n",
       "<table border=\"1\" class=\"dataframe\">\n",
       "  <thead>\n",
       "    <tr style=\"text-align: right;\">\n",
       "      <th></th>\n",
       "      <th>Hypothesis</th>\n",
       "      <th>Reach</th>\n",
       "      <th>Impact</th>\n",
       "      <th>Confidence</th>\n",
       "      <th>Efforts</th>\n",
       "      <th>ice</th>\n",
       "    </tr>\n",
       "  </thead>\n",
       "  <tbody>\n",
       "    <tr>\n",
       "      <th>8</th>\n",
       "      <td>Запустить акцию, дающую скидку на товар в день рождения</td>\n",
       "      <td>1</td>\n",
       "      <td>9</td>\n",
       "      <td>9</td>\n",
       "      <td>5</td>\n",
       "      <td>16.20</td>\n",
       "    </tr>\n",
       "    <tr>\n",
       "      <th>0</th>\n",
       "      <td>Добавить два новых канала привлечения трафика, что позволит привлекать на 30% больше пользователей</td>\n",
       "      <td>3</td>\n",
       "      <td>10</td>\n",
       "      <td>8</td>\n",
       "      <td>6</td>\n",
       "      <td>13.33</td>\n",
       "    </tr>\n",
       "    <tr>\n",
       "      <th>7</th>\n",
       "      <td>Добавить форму подписки на все основные страницы, чтобы собрать базу клиентов для email-рассылок</td>\n",
       "      <td>10</td>\n",
       "      <td>7</td>\n",
       "      <td>8</td>\n",
       "      <td>5</td>\n",
       "      <td>11.20</td>\n",
       "    </tr>\n",
       "    <tr>\n",
       "      <th>6</th>\n",
       "      <td>Показать на главной странице баннеры с актуальными акциями и распродажами, чтобы увеличить конверсию</td>\n",
       "      <td>5</td>\n",
       "      <td>3</td>\n",
       "      <td>8</td>\n",
       "      <td>3</td>\n",
       "      <td>8.00</td>\n",
       "    </tr>\n",
       "    <tr>\n",
       "      <th>2</th>\n",
       "      <td>Добавить блоки рекомендаций товаров на сайт интернет магазина, чтобы повысить конверсию и средний чек заказа</td>\n",
       "      <td>8</td>\n",
       "      <td>3</td>\n",
       "      <td>7</td>\n",
       "      <td>3</td>\n",
       "      <td>7.00</td>\n",
       "    </tr>\n",
       "    <tr>\n",
       "      <th>1</th>\n",
       "      <td>Запустить собственную службу доставки, что сократит срок доставки заказов</td>\n",
       "      <td>2</td>\n",
       "      <td>5</td>\n",
       "      <td>4</td>\n",
       "      <td>10</td>\n",
       "      <td>2.00</td>\n",
       "    </tr>\n",
       "    <tr>\n",
       "      <th>5</th>\n",
       "      <td>Добавить страницу отзывов клиентов о магазине, что позволит увеличить количество заказов</td>\n",
       "      <td>3</td>\n",
       "      <td>2</td>\n",
       "      <td>2</td>\n",
       "      <td>3</td>\n",
       "      <td>1.33</td>\n",
       "    </tr>\n",
       "    <tr>\n",
       "      <th>3</th>\n",
       "      <td>Изменить структура категорий, что увеличит конверсию, т.к. пользователи быстрее найдут нужный товар</td>\n",
       "      <td>8</td>\n",
       "      <td>3</td>\n",
       "      <td>3</td>\n",
       "      <td>8</td>\n",
       "      <td>1.12</td>\n",
       "    </tr>\n",
       "    <tr>\n",
       "      <th>4</th>\n",
       "      <td>Изменить цвет фона главной страницы, чтобы увеличить вовлеченность пользователей</td>\n",
       "      <td>3</td>\n",
       "      <td>1</td>\n",
       "      <td>1</td>\n",
       "      <td>1</td>\n",
       "      <td>1.00</td>\n",
       "    </tr>\n",
       "  </tbody>\n",
       "</table>\n",
       "</div>"
      ],
      "text/plain": [
       "                                                                                                     Hypothesis  \\\n",
       "8                                                       Запустить акцию, дающую скидку на товар в день рождения   \n",
       "0            Добавить два новых канала привлечения трафика, что позволит привлекать на 30% больше пользователей   \n",
       "7              Добавить форму подписки на все основные страницы, чтобы собрать базу клиентов для email-рассылок   \n",
       "6          Показать на главной странице баннеры с актуальными акциями и распродажами, чтобы увеличить конверсию   \n",
       "2  Добавить блоки рекомендаций товаров на сайт интернет магазина, чтобы повысить конверсию и средний чек заказа   \n",
       "1                                     Запустить собственную службу доставки, что сократит срок доставки заказов   \n",
       "5                      Добавить страницу отзывов клиентов о магазине, что позволит увеличить количество заказов   \n",
       "3           Изменить структура категорий, что увеличит конверсию, т.к. пользователи быстрее найдут нужный товар   \n",
       "4                              Изменить цвет фона главной страницы, чтобы увеличить вовлеченность пользователей   \n",
       "\n",
       "   Reach  Impact  Confidence  Efforts    ice  \n",
       "8      1       9           9        5  16.20  \n",
       "0      3      10           8        6  13.33  \n",
       "7     10       7           8        5  11.20  \n",
       "6      5       3           8        3   8.00  \n",
       "2      8       3           7        3   7.00  \n",
       "1      2       5           4       10   2.00  \n",
       "5      3       2           2        3   1.33  \n",
       "3      8       3           3        8   1.12  \n",
       "4      3       1           1        1   1.00  "
      ]
     },
     "execution_count": 8,
     "metadata": {},
     "output_type": "execute_result"
    }
   ],
   "source": [
    "hypothesis['ice'] = round((hypothesis['Impact'] * hypothesis['Confidence']) / hypothesis['Efforts'], 2) \n",
    "hypothesis.sort_values(by='ice', ascending=False)"
   ]
  },
  {
   "cell_type": "markdown",
   "metadata": {},
   "source": [
    "##### Применение фреймворка RICE"
   ]
  },
  {
   "cell_type": "code",
   "execution_count": 9,
   "metadata": {},
   "outputs": [
    {
     "data": {
      "text/html": [
       "<div>\n",
       "<style scoped>\n",
       "    .dataframe tbody tr th:only-of-type {\n",
       "        vertical-align: middle;\n",
       "    }\n",
       "\n",
       "    .dataframe tbody tr th {\n",
       "        vertical-align: top;\n",
       "    }\n",
       "\n",
       "    .dataframe thead th {\n",
       "        text-align: right;\n",
       "    }\n",
       "</style>\n",
       "<table border=\"1\" class=\"dataframe\">\n",
       "  <thead>\n",
       "    <tr style=\"text-align: right;\">\n",
       "      <th></th>\n",
       "      <th>Hypothesis</th>\n",
       "      <th>Reach</th>\n",
       "      <th>Impact</th>\n",
       "      <th>Confidence</th>\n",
       "      <th>Efforts</th>\n",
       "      <th>ice</th>\n",
       "      <th>rice</th>\n",
       "    </tr>\n",
       "  </thead>\n",
       "  <tbody>\n",
       "    <tr>\n",
       "      <th>7</th>\n",
       "      <td>Добавить форму подписки на все основные страницы, чтобы собрать базу клиентов для email-рассылок</td>\n",
       "      <td>10</td>\n",
       "      <td>7</td>\n",
       "      <td>8</td>\n",
       "      <td>5</td>\n",
       "      <td>11.20</td>\n",
       "      <td>112.0</td>\n",
       "    </tr>\n",
       "    <tr>\n",
       "      <th>2</th>\n",
       "      <td>Добавить блоки рекомендаций товаров на сайт интернет магазина, чтобы повысить конверсию и средний чек заказа</td>\n",
       "      <td>8</td>\n",
       "      <td>3</td>\n",
       "      <td>7</td>\n",
       "      <td>3</td>\n",
       "      <td>7.00</td>\n",
       "      <td>56.0</td>\n",
       "    </tr>\n",
       "    <tr>\n",
       "      <th>0</th>\n",
       "      <td>Добавить два новых канала привлечения трафика, что позволит привлекать на 30% больше пользователей</td>\n",
       "      <td>3</td>\n",
       "      <td>10</td>\n",
       "      <td>8</td>\n",
       "      <td>6</td>\n",
       "      <td>13.33</td>\n",
       "      <td>40.0</td>\n",
       "    </tr>\n",
       "    <tr>\n",
       "      <th>6</th>\n",
       "      <td>Показать на главной странице баннеры с актуальными акциями и распродажами, чтобы увеличить конверсию</td>\n",
       "      <td>5</td>\n",
       "      <td>3</td>\n",
       "      <td>8</td>\n",
       "      <td>3</td>\n",
       "      <td>8.00</td>\n",
       "      <td>40.0</td>\n",
       "    </tr>\n",
       "    <tr>\n",
       "      <th>8</th>\n",
       "      <td>Запустить акцию, дающую скидку на товар в день рождения</td>\n",
       "      <td>1</td>\n",
       "      <td>9</td>\n",
       "      <td>9</td>\n",
       "      <td>5</td>\n",
       "      <td>16.20</td>\n",
       "      <td>16.2</td>\n",
       "    </tr>\n",
       "    <tr>\n",
       "      <th>3</th>\n",
       "      <td>Изменить структура категорий, что увеличит конверсию, т.к. пользователи быстрее найдут нужный товар</td>\n",
       "      <td>8</td>\n",
       "      <td>3</td>\n",
       "      <td>3</td>\n",
       "      <td>8</td>\n",
       "      <td>1.12</td>\n",
       "      <td>9.0</td>\n",
       "    </tr>\n",
       "    <tr>\n",
       "      <th>1</th>\n",
       "      <td>Запустить собственную службу доставки, что сократит срок доставки заказов</td>\n",
       "      <td>2</td>\n",
       "      <td>5</td>\n",
       "      <td>4</td>\n",
       "      <td>10</td>\n",
       "      <td>2.00</td>\n",
       "      <td>4.0</td>\n",
       "    </tr>\n",
       "    <tr>\n",
       "      <th>5</th>\n",
       "      <td>Добавить страницу отзывов клиентов о магазине, что позволит увеличить количество заказов</td>\n",
       "      <td>3</td>\n",
       "      <td>2</td>\n",
       "      <td>2</td>\n",
       "      <td>3</td>\n",
       "      <td>1.33</td>\n",
       "      <td>4.0</td>\n",
       "    </tr>\n",
       "    <tr>\n",
       "      <th>4</th>\n",
       "      <td>Изменить цвет фона главной страницы, чтобы увеличить вовлеченность пользователей</td>\n",
       "      <td>3</td>\n",
       "      <td>1</td>\n",
       "      <td>1</td>\n",
       "      <td>1</td>\n",
       "      <td>1.00</td>\n",
       "      <td>3.0</td>\n",
       "    </tr>\n",
       "  </tbody>\n",
       "</table>\n",
       "</div>"
      ],
      "text/plain": [
       "                                                                                                     Hypothesis  \\\n",
       "7              Добавить форму подписки на все основные страницы, чтобы собрать базу клиентов для email-рассылок   \n",
       "2  Добавить блоки рекомендаций товаров на сайт интернет магазина, чтобы повысить конверсию и средний чек заказа   \n",
       "0            Добавить два новых канала привлечения трафика, что позволит привлекать на 30% больше пользователей   \n",
       "6          Показать на главной странице баннеры с актуальными акциями и распродажами, чтобы увеличить конверсию   \n",
       "8                                                       Запустить акцию, дающую скидку на товар в день рождения   \n",
       "3           Изменить структура категорий, что увеличит конверсию, т.к. пользователи быстрее найдут нужный товар   \n",
       "1                                     Запустить собственную службу доставки, что сократит срок доставки заказов   \n",
       "5                      Добавить страницу отзывов клиентов о магазине, что позволит увеличить количество заказов   \n",
       "4                              Изменить цвет фона главной страницы, чтобы увеличить вовлеченность пользователей   \n",
       "\n",
       "   Reach  Impact  Confidence  Efforts    ice   rice  \n",
       "7     10       7           8        5  11.20  112.0  \n",
       "2      8       3           7        3   7.00   56.0  \n",
       "0      3      10           8        6  13.33   40.0  \n",
       "6      5       3           8        3   8.00   40.0  \n",
       "8      1       9           9        5  16.20   16.2  \n",
       "3      8       3           3        8   1.12    9.0  \n",
       "1      2       5           4       10   2.00    4.0  \n",
       "5      3       2           2        3   1.33    4.0  \n",
       "4      3       1           1        1   1.00    3.0  "
      ]
     },
     "execution_count": 9,
     "metadata": {},
     "output_type": "execute_result"
    }
   ],
   "source": [
    "hypothesis['rice'] = (hypothesis['Reach'] * hypothesis['Impact'] * hypothesis['Confidence']) / hypothesis['Efforts']\n",
    "hypothesis.sort_values(by='rice', ascending=False)"
   ]
  },
  {
   "cell_type": "markdown",
   "metadata": {},
   "source": [
    "*Промежуточный вывод*\n",
    "\n",
    "Приоритет гипотез при применении способов приоритезации ICE и RICE различается. Изменения во втором случае вносит параметр, оценивающий количество пользователей, затронутых изменением. Первые три места при применении подхода ICE (гипотезы номер 8, 0 и 7) заменились на 7, 2 и 0 при применении подхода RICE"
   ]
  },
  {
   "cell_type": "markdown",
   "metadata": {},
   "source": [
    "#### Часть 2. Анализ A/B-теста"
   ]
  },
  {
   "cell_type": "code",
   "execution_count": 10,
   "metadata": {},
   "outputs": [
    {
     "name": "stdout",
     "output_type": "stream",
     "text": [
      "В тесте присутствуют группы: ['B' 'A']\n",
      "Дата начала теста: 2019-08-01 00:00:00, дата окончания теста: 2019-08-31 00:00:00\n",
      "В группе A: 503 уникальных пользователей, в группе B 586 уникальных пользователей\n"
     ]
    }
   ],
   "source": [
    "print(f'В тесте присутствуют группы: {orders[\"group\"].unique()}')\n",
    "print(f'Дата начала теста: {orders[\"date\"].min()}, дата окончания теста: {orders[\"date\"].max()}')\n",
    "visitorsA = pd.Series(orders.query('group == \"A\"')['visitorId'].unique())\n",
    "visitorsB = pd.Series(orders.query('group == \"B\"')['visitorId'].unique())\n",
    "print(f'В группе A: {len(visitorsA)} уникальных пользователей, в группе B {len(visitorsB)} уникальных пользователей')"
   ]
  },
  {
   "cell_type": "markdown",
   "metadata": {},
   "source": [
    "*Промежуточный вывод*\n",
    "\n",
    "В тесте участвуют две группы, тест длится 30 дней. В группе B на 83 пользователя больше, чем в группе A. Нужно проверить, нет ли в данных пользователей, участвовавших в нескольких группах теста одновременно"
   ]
  },
  {
   "cell_type": "code",
   "execution_count": 11,
   "metadata": {},
   "outputs": [
    {
     "name": "stdout",
     "output_type": "stream",
     "text": [
      "В двух группах 58 пользователей, участвовавших в нескольких группах теста одновременно\n",
      "В группе A: 503 уникальных пользователей, в группе B 528 уникальных пользователей\n",
      "После удаления дубликатов в двух группах 0 пользователей, участвовавших в нескольких группах теста одновременно\n"
     ]
    }
   ],
   "source": [
    "allVisitors = pd.concat([visitorsA, visitorsB])\n",
    "print(f'В двух группах {allVisitors.duplicated().sum()} пользователей, участвовавших в нескольких группах теста одновременно')\n",
    "visitorsB = visitorsB[visitorsB.isin(visitorsA) == False]\n",
    "visitorsA = visitorsA[visitorsA.isin(visitorsB) == False]\n",
    "print(f'В группе A: {len(visitorsA)} уникальных пользователей, в группе B {len(visitorsB)} уникальных пользователей')\n",
    "allVisitors = pd.concat([visitorsA, visitorsB])\n",
    "print(f'После удаления дубликатов в двух группах {allVisitors.duplicated().sum()} пользователей, участвовавших в нескольких группах теста одновременно')"
   ]
  },
  {
   "cell_type": "markdown",
   "metadata": {},
   "source": [
    "Пользователей, присутствующих в двух выборках одновременно, необходимо убрать их рассмотрения, так как эти данные могут сместить метрики"
   ]
  },
  {
   "cell_type": "markdown",
   "metadata": {},
   "source": [
    "##### Построение графика кумулятивной выручки по группам"
   ]
  },
  {
   "cell_type": "markdown",
   "metadata": {},
   "source": [
    "*Промежуточный вывод*\n",
    "\n",
    "Показатели обеих групп улучшаются, однако показатель группы B почти в два раза лучше показателей группы A"
   ]
  },
  {
   "cell_type": "code",
   "execution_count": 12,
   "metadata": {},
   "outputs": [],
   "source": [
    "datesGroups = orders[['date', 'group']].drop_duplicates()\n",
    "\n",
    "# получаем агрегированные кумулятивные по дням данные о заказах\n",
    "ordersAggregated = (datesGroups.apply(lambda x: orders[np.logical_and(orders['date'] <=\n",
    "x['date'], orders['group'] == x['group'])]\n",
    "                               .agg({'date' : 'max', 'group' : 'max',\n",
    "'transactionId': pd.Series.nunique, 'visitorId' : pd.Series.nunique, 'revenue' : 'sum'}),\n",
    "axis=1).sort_values(by=['date','group']))\n",
    "# получаем агрегированные кумулятивные по дням данные о посетителях интернет-магазина\n",
    "visitorsAggregated = datesGroups.apply(lambda x: visitors[np.logical_and(visitors['date']\n",
    "<= x['date'], visitors['group'] == x['group'])].agg({'date' : 'max', 'group' : 'max',\n",
    "'visitors' : 'sum'}), axis=1).sort_values(by=['date','group'])\n",
    "# объединяем кумулятивные данные в одной таблице и присваиваем ее столбцам понятные\n",
    "# названия\n",
    "cummulativeData = ordersAggregated.merge(visitorsAggregated, left_on=['date', 'group'],\n",
    "right_on=['date', 'group'])\n",
    "cummulativeData.columns = ['date', 'group', 'orders', 'buyers', 'revenue', 'visitors']"
   ]
  },
  {
   "cell_type": "code",
   "execution_count": 13,
   "metadata": {},
   "outputs": [
    {
     "data": {
      "image/png": "[encoded data removed]",
      "text/plain": [
       "<Figure size 1080x576 with 1 Axes>"
      ]
     },
     "metadata": {
      "needs_background": "light"
     },
     "output_type": "display_data"
    }
   ],
   "source": [
    "# датафрейм с кумулятивным количеством заказов и кумулятивной выручкой по дням в группе А\n",
    "cummulativeRevenueA = cummulativeData[cummulativeData['group']=='A'][['date','revenue', 'orders']]\n",
    "# датафрейм с кумулятивным количеством заказов и кумулятивной выручкой по дням в группе B\n",
    "cummulativeRevenueB = cummulativeData[cummulativeData['group']=='B'][['date','revenue', 'orders']]\n",
    "\n",
    "# Строим график выручки группы А\n",
    "plt.plot(cummulativeRevenueA['date'], cummulativeRevenueA['revenue'], label='A')\n",
    "# Строим график выручки группы B\n",
    "plt.plot(cummulativeRevenueB['date'], cummulativeRevenueB['revenue'], label='B')\n",
    "plt.suptitle(\"График кумулятивной выручки по группам\")\n",
    "plt.gcf().set_size_inches(15, 8)\n",
    "plt.legend()\n",
    "plt.xlabel('Дата')\n",
    "plt.ylabel('Кумулятивная выручка')\n",
    "None"
   ]
  },
  {
   "cell_type": "markdown",
   "metadata": {},
   "source": [
    "*Промежуточный вывод*\n",
    "\n",
    "Показатели кумулятивной выручки группы B стабильно показывают лучшие результаты относительно группы A, совершая скачок вверх в два раза 2019-08-12, далее показатели улучшаются"
   ]
  },
  {
   "cell_type": "markdown",
   "metadata": {},
   "source": [
    "##### Построение графика кумулятивного среднего чека по группам"
   ]
  },
  {
   "cell_type": "code",
   "execution_count": 14,
   "metadata": {},
   "outputs": [
    {
     "data": {
      "image/png": "[encoded data removed]",
      "text/plain": [
       "<Figure size 1080x576 with 1 Axes>"
      ]
     },
     "metadata": {
      "needs_background": "light"
     },
     "output_type": "display_data"
    }
   ],
   "source": [
    "plt.plot(cummulativeRevenueA['date'], cummulativeRevenueA['revenue']/cummulativeRevenueA['orders'], label='A')\n",
    "plt.plot(cummulativeRevenueB['date'], cummulativeRevenueB['revenue']/cummulativeRevenueB['orders'], label='B')\n",
    "plt.gcf().set_size_inches(15, 8)\n",
    "plt.suptitle(\"График кумулятивного среднего чека по группам\")\n",
    "plt.legend()\n",
    "plt.xlabel('Дата')\n",
    "plt.ylabel('Кумулятивный средний чек')\n",
    "None"
   ]
  },
  {
   "cell_type": "markdown",
   "metadata": {},
   "source": [
    "*Промежуточный вывод*\n",
    "\n",
    "\n",
    "Показатели среднего чека группы B также показывают хорошие результаты, успупая группе A в период с 2019-08-11 по 20019-08-15, совершая скачок вверх на 45% 2019-08-12, далее показатели ухудшаются. Группа B лучше группы A примерно на 40%\n",
    "\n",
    "Влияние на показатели группы B оказал крупный заказ, оформленный 2019-08-12"
   ]
  },
  {
   "cell_type": "markdown",
   "metadata": {},
   "source": [
    "##### Построение графика относительного изменения кумулятивного среднего чека группы B к группе A"
   ]
  },
  {
   "cell_type": "code",
   "execution_count": 15,
   "metadata": {},
   "outputs": [
    {
     "data": {
      "image/png": "[encoded data removed]",
      "text/plain": [
       "<Figure size 1080x576 with 1 Axes>"
      ]
     },
     "metadata": {
      "needs_background": "light"
     },
     "output_type": "display_data"
    }
   ],
   "source": [
    "# собираем данные в одном датафрейме\n",
    "mergedCummulativeRevenue = cummulativeRevenueA.merge(cummulativeRevenueB, left_on='date',\n",
    "right_on='date', how='left', suffixes=['A', 'B'])\n",
    "# cтроим отношение средних чеков\n",
    "plt.plot(mergedCummulativeRevenue['date'], (mergedCummulativeRevenue['revenueB']/mergedCummulativeRevenue['ordersB'])/(mergedCummulativeRevenue['revenueA']/mergedCummulativeRevenue['ordersA'])-1)\n",
    "# добавляем ось X\n",
    "plt.axhline(y=0, color='black', linestyle='--')\n",
    "plt.suptitle(\"График относительного изменения кумулятивного среднего чека группы B к группе A\")\n",
    "plt.gcf().set_size_inches(15, 8)\n",
    "plt.xlabel('Дата')\n",
    "plt.ylabel('Относительное изменение кумулятивного среднего чека')\n",
    "None"
   ]
  },
  {
   "cell_type": "markdown",
   "metadata": {},
   "source": [
    "*Промежуточный вывод*\n",
    "\n",
    "Относительные показатели группы B показывают низкие значения с 2019-08-10 по 2019-08-2019, улучшаются в пять раз 2019-08-19, далее ухудшаются на 40% к 2019-08-31"
   ]
  },
  {
   "cell_type": "markdown",
   "metadata": {},
   "source": [
    "##### Построение графика кумулятивного среднего количества заказов на посетителя по группам"
   ]
  },
  {
   "cell_type": "code",
   "execution_count": 16,
   "metadata": {},
   "outputs": [
    {
     "data": {
      "image/png": "[encoded data removed]",
      "text/plain": [
       "<Figure size 1080x576 with 1 Axes>"
      ]
     },
     "metadata": {
      "needs_background": "light"
     },
     "output_type": "display_data"
    }
   ],
   "source": [
    "cummulativeOrdersA = cummulativeData[cummulativeData['group']=='A'][['date','orders', 'visitors']]\n",
    "cummulativeOrdersB = cummulativeData[cummulativeData['group']=='B'][['date','orders', 'visitors']]\n",
    "cummulativeOrdersA['ratio'] = cummulativeOrdersA['orders'] / cummulativeOrdersA['visitors']\n",
    "cummulativeOrdersB['ratio'] = cummulativeOrdersB['orders'] / cummulativeOrdersB['visitors']\n",
    "plt.plot(cummulativeOrdersA['date'], cummulativeOrdersA['ratio'], label='A')\n",
    "plt.plot(cummulativeOrdersB['date'], cummulativeOrdersB['ratio'], label='B')\n",
    "plt.gcf().set_size_inches(15, 8)\n",
    "plt.suptitle(\"График кумулятивного среднего количества заказов на посетителя по группам\")\n",
    "plt.legend()\n",
    "plt.xlabel('Дата')\n",
    "plt.ylabel('Кумулятивное среднее количество заказов на посетителя')\n",
    "None"
   ]
  },
  {
   "cell_type": "markdown",
   "metadata": {},
   "source": [
    "*Промежуточный вывод*\n",
    "\n",
    "Показатели кумулятивного среднего количества заказов на посетителя группы B стабильно лучше показателей группы A на 15%"
   ]
  },
  {
   "cell_type": "markdown",
   "metadata": {},
   "source": [
    "##### Построение графика относительного изменения кумулятивного среднего количества заказов на посетителя группы B к группе A"
   ]
  },
  {
   "cell_type": "code",
   "execution_count": 17,
   "metadata": {},
   "outputs": [
    {
     "data": {
      "image/png": "[encoded data removed]",
      "text/plain": [
       "<Figure size 1080x576 with 1 Axes>"
      ]
     },
     "metadata": {
      "needs_background": "light"
     },
     "output_type": "display_data"
    }
   ],
   "source": [
    "# собираем данные в одном датафрейме\n",
    "mergedCummulativeOrders = cummulativeOrdersA.merge(cummulativeOrdersB, left_on='date', \n",
    "                                                   right_on='date', how='left', suffixes=['A', 'B'])\n",
    "plt.plot(mergedCummulativeOrders['date'], (mergedCummulativeOrders['ordersB']/mergedCummulativeOrders['visitorsB'])/(mergedCummulativeOrders['ordersA']/mergedCummulativeOrders['visitorsA'])-1)\n",
    "# добавляем ось X\n",
    "plt.axhline(y=0, color='black', linestyle='--')\n",
    "plt.suptitle(\"График относительного изменения кумулятивного среднего количества заказов на посетителя группы B к группе A\")\n",
    "plt.gcf().set_size_inches(15, 8)\n",
    "plt.xlabel('Дата')\n",
    "plt.ylabel('Относительное изменение среднего количества заказов на посетителя')\n",
    "None"
   ]
  },
  {
   "cell_type": "markdown",
   "metadata": {},
   "source": [
    "*Промежуточный вывод*\n",
    "\n",
    "Показатели относительного изменения кумулятивного среднего количества заказов на посетителя группы B стабильно лучше показателей группы A примерно на 15%"
   ]
  },
  {
   "cell_type": "markdown",
   "metadata": {},
   "source": [
    "##### Построение точечного графика количества заказов по пользователям"
   ]
  },
  {
   "cell_type": "code",
   "execution_count": 18,
   "metadata": {},
   "outputs": [
    {
     "data": {
      "image/png": "[encoded data removed]",
      "text/plain": [
       "<Figure size 432x288 with 1 Axes>"
      ]
     },
     "metadata": {
      "needs_background": "light"
     },
     "output_type": "display_data"
    }
   ],
   "source": [
    "ordersByVisitors = (orders.groupby('visitorId', as_index=False)\n",
    "                         .agg({'transactionId' : 'nunique'}))\n",
    "x_values = pd.Series(range(0, len(ordersByVisitors)))\n",
    "ordersByVisitors.columns = ['visitorId', 'orders']\n",
    "plt.scatter(x=x_values, y=ordersByVisitors['orders'])\n",
    "plt.suptitle(\"Точечный график количества заказов по пользователям\")\n",
    "plt.xlabel('Пользователи')\n",
    "plt.ylabel('Количество заказов на пользователя')\n",
    "None"
   ]
  },
  {
   "cell_type": "markdown",
   "metadata": {},
   "source": [
    "*Промежуточный вывод*\n",
    "\n",
    "Пользователи редко совершают заказы более четырёх раз"
   ]
  },
  {
   "cell_type": "markdown",
   "metadata": {},
   "source": [
    "##### Подсчёт 95-й и 99-й перцентили количества заказов на пользователя. Определение границы для определения аномальных пользователей"
   ]
  },
  {
   "cell_type": "code",
   "execution_count": 19,
   "metadata": {},
   "outputs": [
    {
     "data": {
      "text/plain": [
       "array([2., 4.])"
      ]
     },
     "execution_count": 19,
     "metadata": {},
     "output_type": "execute_result"
    }
   ],
   "source": [
    "percentile1 = 95\n",
    "percentile2 = 99\n",
    "np.percentile(ordersByVisitors['orders'], [percentile1, percentile2])"
   ]
  },
  {
   "cell_type": "markdown",
   "metadata": {},
   "source": [
    "*Промежуточный вывод*\n",
    "\n",
    "Не более 5% покупателей совершает более двух заказов и не более 1% пользователей - более четырёх\n",
    "\n",
    "За аномальных приму покупателей, совершивших более двух заказов"
   ]
  },
  {
   "cell_type": "markdown",
   "metadata": {},
   "source": [
    "##### Построение точечного графика стоимостей заказов"
   ]
  },
  {
   "cell_type": "code",
   "execution_count": 20,
   "metadata": {},
   "outputs": [
    {
     "data": {
      "image/png": "[encoded data removed]",
      "text/plain": [
       "<Figure size 432x288 with 1 Axes>"
      ]
     },
     "metadata": {
      "needs_background": "light"
     },
     "output_type": "display_data"
    }
   ],
   "source": [
    "x_values = pd.Series(range(0, len(orders)))\n",
    "plt.scatter(x=x_values, y=orders['revenue'])\n",
    "plt.suptitle(\"Точечный график стоимостей заказов\")\n",
    "plt.xlabel('Заказы')\n",
    "plt.ylabel('Стоимость заказов')\n",
    "None"
   ]
  },
  {
   "cell_type": "markdown",
   "metadata": {},
   "source": [
    "*Промежуточный вывод*\n",
    "\n",
    "Пользователи обычно не соверщают заказов дороже 28 тыс. д.е."
   ]
  },
  {
   "cell_type": "markdown",
   "metadata": {},
   "source": [
    "##### Подсчёт 95-й и 99-й перцентили стоимости заказов. Определение границы для определения аномальных заказов"
   ]
  },
  {
   "cell_type": "code",
   "execution_count": 21,
   "metadata": {},
   "outputs": [
    {
     "data": {
      "text/plain": [
       "array([28000. , 58233.2])"
      ]
     },
     "execution_count": 21,
     "metadata": {},
     "output_type": "execute_result"
    }
   ],
   "source": [
    "np.percentile(orders['revenue'], [percentile1, percentile2])"
   ]
  },
  {
   "cell_type": "markdown",
   "metadata": {},
   "source": [
    "*Промежуточный вывод*\n",
    "\n",
    "Не более 5% покупателей совершает покупки дороже 28000 д.е. и не более 1% покупателей - дороже 58233 д.е.\n",
    "\n",
    "За аномальные приму покупки дороже 28000"
   ]
  },
  {
   "cell_type": "markdown",
   "metadata": {},
   "source": [
    "##### Подсчёт статистической значимости различий в среднем количестве заказов на посетителя между группами по «сырым» данным"
   ]
  },
  {
   "cell_type": "markdown",
   "metadata": {},
   "source": [
    "*Сформулирую гипотезы*\n",
    "\n",
    "Нулевая: различий в среднем количестве заказов на поситителя между группами нет. Альтернативная: различия в среднем количестве заказов на поситителя между группами есть"
   ]
  },
  {
   "cell_type": "markdown",
   "metadata": {},
   "source": [
    "Я проверяю гипотезы с помощью проведения непараметрического теста Уилкоксона-Манна-Уитни. Этот метод выбран исходя из того, что в ванных могут быть выбросы, которые могут существенно повлиять на результат"
   ]
  },
  {
   "cell_type": "code",
   "execution_count": 22,
   "metadata": {},
   "outputs": [
    {
     "name": "stdout",
     "output_type": "stream",
     "text": [
      "p-value = 0.017\n",
      "Относительная разница между сравниваемыми величинами = 0.138\n"
     ]
    }
   ],
   "source": [
    "ordersByUsersA = (\n",
    "    orders[orders['group'] == 'A']\n",
    "    .groupby('visitorId', as_index=False)\n",
    "    .agg({'transactionId': pd.Series.nunique})\n",
    ")\n",
    "ordersByUsersA.columns = ['visitorId', 'orders']\n",
    "\n",
    "ordersByUsersB = (\n",
    "    orders[orders['group'] == 'B']\n",
    "    .groupby('visitorId', as_index=False)\n",
    "    .agg({'transactionId': pd.Series.nunique})\n",
    ")\n",
    "\n",
    "ordersByUsersB.columns = ['visitorId', 'orders']\n",
    "\n",
    "visitorsPerDateA = visitors.query('group == \"A\"')['visitors']\n",
    "visitorsPerDateB = visitors.query('group == \"B\"')['visitors']\n",
    "\n",
    "sampleA = pd.concat(\n",
    "    [\n",
    "        ordersByUsersA['orders'],\n",
    "        pd.Series(0, index=np.arange(visitorsPerDateA.sum() - len(ordersByUsersA['orders'])),\n",
    "                  name='orders'\n",
    "        ),\n",
    "    ],\n",
    "    axis=0,\n",
    ")\n",
    "\n",
    "sampleB = pd.concat(\n",
    "    [\n",
    "        ordersByUsersB['orders'],\n",
    "        pd.Series(0, index=np.arange(visitorsPerDateB.sum() - len(ordersByUsersB['orders'])),\n",
    "                  name='orders'\n",
    "        ),\n",
    "    ],\n",
    "    axis=0,\n",
    ")\n",
    "\n",
    "\n",
    "print(\"p-value = {0:.3f}\".format(stats.mannwhitneyu(sampleA, sampleB)[1]))\n",
    "\n",
    "print(\"Относительная разница между сравниваемыми величинами = {0:.3f}\".format(sampleB.mean() / sampleA.mean() - 1))"
   ]
  },
  {
   "cell_type": "markdown",
   "metadata": {},
   "source": [
    "*Промежуточный вывод*\n",
    "\n",
    "P-value значительно меньше 0.05, потому нулевую гипотезу отвергаю. Различия в среднем между группами есть\n",
    "\n",
    "Анализ «сырых данных» сообщает, что в среднем количестве заказов между группами есть статистически значимые различия. Относительный прирост среднего количества заказов на поситителя группы B к среднему количества заказов на поситителя группы группы A равен 13.8%"
   ]
  },
  {
   "cell_type": "markdown",
   "metadata": {},
   "source": [
    "##### Посчёт статистической значимости различий в среднем чеке заказа между группами по «сырым» данным"
   ]
  },
  {
   "cell_type": "markdown",
   "metadata": {},
   "source": [
    "*Сформулирую гипотезы*\n",
    "\n",
    "Нулевая: различий в среднем чеке заказа между группами нет. Альтернативная: различия в среднем чеке заказа между группами есть"
   ]
  },
  {
   "cell_type": "code",
   "execution_count": 23,
   "metadata": {},
   "outputs": [
    {
     "name": "stdout",
     "output_type": "stream",
     "text": [
      "p-value = 0.729\n",
      "Относительная разница между сравниваемыми величинами = 0.259\n"
     ]
    }
   ],
   "source": [
    "print(\n",
    "    \"p-value = {0:.3f}\".format(\n",
    "        stats.mannwhitneyu(\n",
    "            orders[orders['group'] == 'A']['revenue'],\n",
    "            orders[orders['group'] == 'B']['revenue'],\n",
    "        )[1]\n",
    "    )\n",
    ")\n",
    "print(\n",
    "    \"Относительная разница между сравниваемыми величинами = {0:.3f}\".format(\n",
    "        orders[orders['group'] == 'B']['revenue'].mean()\n",
    "        / orders[orders['group'] == 'A']['revenue'].mean()\n",
    "        - 1\n",
    "    )\n",
    ")"
   ]
  },
  {
   "cell_type": "markdown",
   "metadata": {},
   "source": [
    "*Промежуточный выводы*\n",
    "\n",
    "P-value больше 0.05 — статистически значимых отличий в среднем чеке между группами нет. Кроме того, относительное различие среднего чека между сегментами 25.9%"
   ]
  },
  {
   "cell_type": "markdown",
   "metadata": {},
   "source": [
    "##### Посчёт статистической значимости различий в среднем количестве заказов на посетителя между группами по «очищенным» данным"
   ]
  },
  {
   "cell_type": "markdown",
   "metadata": {},
   "source": [
    "*Сформулирую гипотезы*\n",
    "\n",
    "Нулевая: различий в среднем количестве заказов на поситителя между группами нет. Альтернативная: различия в среднем количестве заказов на поситителя между группами есть"
   ]
  },
  {
   "cell_type": "code",
   "execution_count": 24,
   "metadata": {},
   "outputs": [],
   "source": [
    "usersWithManyOrders = pd.concat(\n",
    "    [\n",
    "        ordersByUsersA[ordersByUsersA['orders'] > 2]['visitorId'],\n",
    "        ordersByUsersB[ordersByUsersB['orders'] > 2]['visitorId'],\n",
    "    ],\n",
    "    axis=0,\n",
    ")\n",
    "\n",
    "usersWithExpensiveOrders = orders[orders['revenue'] > 28000]['visitorId']\n",
    "abnormalUsers = (\n",
    "    pd.concat([usersWithManyOrders, usersWithExpensiveOrders], axis=0)\n",
    "    .drop_duplicates()\n",
    "    .sort_values()\n",
    ")"
   ]
  },
  {
   "cell_type": "code",
   "execution_count": 25,
   "metadata": {},
   "outputs": [
    {
     "name": "stdout",
     "output_type": "stream",
     "text": [
      "Количество уникальных пользователей в группе A до удаления аномальных значений равно 503\n",
      "Количество уникальных пользователей в группе B до удаления аномальных значений равно 528\n",
      "Количество аномальных пользователей в группе A равно 46\n",
      "Количество аномальных пользователей в группе B равно 28\n",
      "Относительное изменение количества пользователей группы A равно -0.09\n",
      "Относительное изменение количества пользователей группы B равно -0.05\n"
     ]
    }
   ],
   "source": [
    "print(f'Количество уникальных пользователей в группе A до удаления аномальных значений равно {visitorsA.count()}')\n",
    "print(f'Количество уникальных пользователей в группе B до удаления аномальных значений равно {visitorsB.count()}')\n",
    "\n",
    "#в таблицфх visitorsA и visitorsB уже id уникальных пользователей\n",
    "\n",
    "visitorsAFiltered = visitorsA[visitorsA.isin(abnormalUsers) == False].count()\n",
    "visitorsBFiltered = visitorsB[visitorsB.isin(abnormalUsers) == False].count()\n",
    "\n",
    "print(f'Количество аномальных пользователей в группе A равно {visitorsA.count() - visitorsAFiltered}')\n",
    "print(f'Количество аномальных пользователей в группе B равно {visitorsB.count() - visitorsBFiltered}')\n",
    "\n",
    "print(f'Относительное изменение количества пользователей группы A равно {round((visitorsAFiltered - visitorsA.count()) / visitorsA.count(), 2)}')\n",
    "print(f'Относительное изменение количества пользователей группы B равно {round((visitorsBFiltered - visitorsB.count()) / visitorsB.count(), 2)}')"
   ]
  },
  {
   "cell_type": "code",
   "execution_count": 26,
   "metadata": {
    "scrolled": true
   },
   "outputs": [
    {
     "name": "stdout",
     "output_type": "stream",
     "text": [
      "p-value = 0.01304\n",
      "Относительная разница между сравниваемыми величинами = 0.173\n"
     ]
    }
   ],
   "source": [
    "sampleAFiltered = pd.concat([ordersByUsersA.query('visitorId not in @abnormalUsers')['orders'], pd.Series(0, index=np.arange(visitorsPerDateA.sum() - len(ordersByUsersA['orders'])), name='orders')])\n",
    "sampleBFiltered = pd.concat([ordersByUsersB.query('visitorId not in @abnormalUsers')['orders'], pd.Series(0, index=np.arange(visitorsPerDateB.sum() - len(ordersByUsersB['orders'])), name='orders')])\n",
    "\n",
    "print(\"p-value = {0:.5f}\".format(stats.mannwhitneyu(sampleAFiltered,\n",
    "                                          sampleBFiltered,)[1]))\n",
    "print(\"Относительная разница между сравниваемыми величинами = {0:.3f}\".format(sampleBFiltered.mean() / sampleAFiltered.mean() - 1))"
   ]
  },
  {
   "cell_type": "markdown",
   "metadata": {},
   "source": [
    "*Промежуточный вывод*\n",
    "\n",
    "После удаления аномальных значений группа A потеряла 9% значений, группа B - 5%"
   ]
  },
  {
   "cell_type": "markdown",
   "metadata": {},
   "source": [
    "*Промежуточный вывод*\n",
    "\n",
    "P-value значительно меньше 0.05, потому нулевую гипотезу по-прежнему отвергаю. Различия в среднем между группами есть\n",
    "\n",
    "Анализ отфильтрованных сообщает, что в среднем количестве заказов на посетителя между группами есть статистически значимые различия. Относительный прирост среднего количества заказов на поситителя группы B к среднему количеству заказов на поситителя группы A равен 17.3%. Группа B значительно лучше группы A"
   ]
  },
  {
   "cell_type": "markdown",
   "metadata": {},
   "source": [
    "##### Посчёт статистической значимости различий в среднем чеке заказа между группами по «очищенным» данным"
   ]
  },
  {
   "cell_type": "markdown",
   "metadata": {},
   "source": [
    "*Сформулирую гипотезы*\n",
    "\n",
    "Нулевая: различий в среднем чеке между группами нет. Альтернативная: различия в среднем между группами есть"
   ]
  },
  {
   "cell_type": "code",
   "execution_count": 27,
   "metadata": {},
   "outputs": [
    {
     "name": "stdout",
     "output_type": "stream",
     "text": [
      "p-value = 0.738\n",
      "Относительная разница между сравниваемыми величинами = -0.020\n"
     ]
    }
   ],
   "source": [
    "filteredRevenueA = orders.query('group == \"A\" and visitorId not in @abnormalUsers')['revenue']\n",
    "filteredRevenueB = orders.query('group == \"B\" and visitorId not in @abnormalUsers')['revenue']\n",
    "\n",
    "print(\"p-value = {0:.3f}\".format(stats.mannwhitneyu(filteredRevenueA,\n",
    "                                          filteredRevenueB,)[1]))\n",
    "print(\"Относительная разница между сравниваемыми величинами = {0:.3f}\".format(filteredRevenueB.mean() / filteredRevenueA.mean() - 1))"
   ]
  },
  {
   "cell_type": "markdown",
   "metadata": {},
   "source": [
    "*Промежуточный выводы*\n",
    "\n",
    "P-value больше 0.05 — статистически значимых отличий в среднем чеке между группами по-прежнему нет. Кроме того, относительное различие среднего чека между сегментами снизилось с 25.9% до 2%, стало меньше шума"
   ]
  },
  {
   "cell_type": "markdown",
   "metadata": {},
   "source": [
    "##### Принятие решения по результатам теста"
   ]
  },
  {
   "cell_type": "markdown",
   "metadata": {},
   "source": [
    "- Есть статистически значимое различие в среднем количестве заказов на посетителя между группами по «очищенным» данным и по \"сырым данным\".\n",
    "\n",
    "- Нет статистически значимого различия в среднем чеке заказа между группами ни по «сырым», ни по данным после фильтрации аномалий;\n",
    "\n",
    "- График различия среднего количества заказов на посетителя между группами сообщает, что результаты группы B лучше группы A на примерно 15%.\n",
    "\n",
    "- График различия среднего чека говорит о том, что результаты группы B лучше группы А примерно на 40%.\n",
    "\n",
    "*На основании фактов можно сделать вывод: Остановить тест, так как группа B превосходит группу А.*"
   ]
  }
 ],
 "metadata": {
  "ExecuteTimeLog": [
   {
    "duration": 3,
    "start_time": "2023-09-25T09:36:49.789Z"
   },
   {
    "duration": 166,
    "start_time": "2023-09-25T09:36:49.797Z"
   },
   {
    "duration": 26,
    "start_time": "2023-09-25T09:37:20.508Z"
   },
   {
    "duration": 39,
    "start_time": "2023-09-25T09:37:31.159Z"
   },
   {
    "duration": 37,
    "start_time": "2023-09-25T09:38:01.290Z"
   },
   {
    "duration": 39,
    "start_time": "2023-09-25T09:38:30.697Z"
   },
   {
    "duration": 3,
    "start_time": "2023-09-25T09:40:55.610Z"
   },
   {
    "duration": 63,
    "start_time": "2023-09-25T09:41:13.628Z"
   },
   {
    "duration": 31,
    "start_time": "2023-09-25T09:41:22.494Z"
   },
   {
    "duration": 3,
    "start_time": "2023-09-25T09:41:34.162Z"
   },
   {
    "duration": 1590,
    "start_time": "2023-09-25T09:41:36.192Z"
   },
   {
    "duration": 4,
    "start_time": "2023-09-25T09:41:56.851Z"
   },
   {
    "duration": 28,
    "start_time": "2023-09-25T09:41:58.530Z"
   },
   {
    "duration": 4,
    "start_time": "2023-09-25T09:42:19.160Z"
   },
   {
    "duration": 37,
    "start_time": "2023-09-25T09:42:20.972Z"
   },
   {
    "duration": 3,
    "start_time": "2023-09-25T09:43:02.523Z"
   },
   {
    "duration": 35,
    "start_time": "2023-09-25T09:43:06.578Z"
   },
   {
    "duration": 5,
    "start_time": "2023-09-25T09:44:08.128Z"
   },
   {
    "duration": 31,
    "start_time": "2023-09-25T09:44:10.206Z"
   },
   {
    "duration": 4,
    "start_time": "2023-09-25T09:46:52.036Z"
   },
   {
    "duration": 30,
    "start_time": "2023-09-25T09:46:53.580Z"
   },
   {
    "duration": 4,
    "start_time": "2023-09-25T09:48:21.976Z"
   },
   {
    "duration": 31,
    "start_time": "2023-09-25T09:48:23.945Z"
   },
   {
    "duration": 3,
    "start_time": "2023-09-25T09:49:19.776Z"
   },
   {
    "duration": 33,
    "start_time": "2023-09-25T09:49:21.659Z"
   },
   {
    "duration": 3,
    "start_time": "2023-09-25T09:50:06.559Z"
   },
   {
    "duration": 30,
    "start_time": "2023-09-25T09:50:07.515Z"
   },
   {
    "duration": 3,
    "start_time": "2023-09-25T09:51:07.186Z"
   },
   {
    "duration": 4,
    "start_time": "2023-09-25T09:51:08.796Z"
   },
   {
    "duration": 32,
    "start_time": "2023-09-25T09:51:10.511Z"
   },
   {
    "duration": 4,
    "start_time": "2023-09-25T09:51:30.341Z"
   },
   {
    "duration": 33,
    "start_time": "2023-09-25T09:51:32.471Z"
   },
   {
    "duration": 45,
    "start_time": "2023-09-25T09:53:02.262Z"
   },
   {
    "duration": 37,
    "start_time": "2023-09-25T09:53:10.246Z"
   },
   {
    "duration": 31,
    "start_time": "2023-09-25T09:54:42.362Z"
   },
   {
    "duration": 3,
    "start_time": "2023-09-25T09:54:47.985Z"
   },
   {
    "duration": 35,
    "start_time": "2023-09-25T09:54:48.991Z"
   },
   {
    "duration": 51,
    "start_time": "2023-09-25T14:30:34.493Z"
   },
   {
    "duration": 363,
    "start_time": "2023-09-25T14:30:39.981Z"
   },
   {
    "duration": 3,
    "start_time": "2023-09-25T14:30:40.345Z"
   },
   {
    "duration": 85,
    "start_time": "2023-09-25T14:30:42.374Z"
   },
   {
    "duration": 28,
    "start_time": "2023-09-25T14:31:40.684Z"
   },
   {
    "duration": 4,
    "start_time": "2023-09-25T14:33:15.764Z"
   },
   {
    "duration": 38,
    "start_time": "2023-09-25T14:33:19.995Z"
   },
   {
    "duration": 3,
    "start_time": "2023-09-25T14:34:09.196Z"
   },
   {
    "duration": 39,
    "start_time": "2023-09-25T14:34:12.005Z"
   },
   {
    "duration": 3,
    "start_time": "2023-09-25T14:35:23.560Z"
   },
   {
    "duration": 56,
    "start_time": "2023-09-25T14:35:25.428Z"
   },
   {
    "duration": 4,
    "start_time": "2023-09-25T14:35:54.023Z"
   },
   {
    "duration": 34,
    "start_time": "2023-09-25T14:35:57.047Z"
   },
   {
    "duration": 3,
    "start_time": "2023-09-25T14:36:46.588Z"
   },
   {
    "duration": 30,
    "start_time": "2023-09-25T14:36:48.110Z"
   },
   {
    "duration": 3,
    "start_time": "2023-09-25T14:37:39.276Z"
   },
   {
    "duration": 34,
    "start_time": "2023-09-25T14:37:40.553Z"
   },
   {
    "duration": 3,
    "start_time": "2023-09-25T14:39:12.287Z"
   },
   {
    "duration": 28,
    "start_time": "2023-09-25T14:39:13.456Z"
   },
   {
    "duration": 114,
    "start_time": "2023-09-25T14:40:00.231Z"
   },
   {
    "duration": 4,
    "start_time": "2023-09-25T14:40:11.040Z"
   },
   {
    "duration": 36,
    "start_time": "2023-09-25T14:40:13.429Z"
   },
   {
    "duration": 3,
    "start_time": "2023-09-25T14:40:31.025Z"
   },
   {
    "duration": 30,
    "start_time": "2023-09-25T14:40:33.192Z"
   },
   {
    "duration": 31,
    "start_time": "2023-09-25T14:40:52.731Z"
   },
   {
    "duration": 6,
    "start_time": "2023-09-25T14:40:54.120Z"
   },
   {
    "duration": 29,
    "start_time": "2023-09-25T14:40:55.544Z"
   },
   {
    "duration": 33,
    "start_time": "2023-09-25T14:41:14.876Z"
   },
   {
    "duration": 95,
    "start_time": "2023-09-25T14:47:22.830Z"
   },
   {
    "duration": 74,
    "start_time": "2023-09-25T14:48:24.154Z"
   },
   {
    "duration": 8,
    "start_time": "2023-09-25T14:52:23.693Z"
   },
   {
    "duration": 7,
    "start_time": "2023-09-25T14:52:39.273Z"
   },
   {
    "duration": 1353,
    "start_time": "2023-09-25T14:52:49.777Z"
   },
   {
    "duration": 1446,
    "start_time": "2023-09-25T14:52:59.527Z"
   },
   {
    "duration": 3,
    "start_time": "2023-09-25T14:54:39.439Z"
   },
   {
    "duration": 36,
    "start_time": "2023-09-25T14:54:41.624Z"
   },
   {
    "duration": 4,
    "start_time": "2023-09-25T14:56:41.086Z"
   },
   {
    "duration": 39,
    "start_time": "2023-09-25T14:56:43.377Z"
   },
   {
    "duration": 4,
    "start_time": "2023-09-25T14:57:40.994Z"
   },
   {
    "duration": 37,
    "start_time": "2023-09-25T14:57:44.870Z"
   },
   {
    "duration": 3,
    "start_time": "2023-09-25T14:57:55.950Z"
   },
   {
    "duration": 43,
    "start_time": "2023-09-25T14:57:58.604Z"
   },
   {
    "duration": 4,
    "start_time": "2023-09-25T14:59:01.854Z"
   },
   {
    "duration": 36,
    "start_time": "2023-09-25T14:59:03.536Z"
   },
   {
    "duration": 4,
    "start_time": "2023-09-25T14:59:20.942Z"
   },
   {
    "duration": 2515,
    "start_time": "2023-09-25T14:59:23.350Z"
   },
   {
    "duration": 3,
    "start_time": "2023-09-25T15:00:19.928Z"
   },
   {
    "duration": 36,
    "start_time": "2023-09-25T15:00:21.536Z"
   },
   {
    "duration": 4,
    "start_time": "2023-09-25T15:00:56.153Z"
   },
   {
    "duration": 36,
    "start_time": "2023-09-25T15:00:59.182Z"
   },
   {
    "duration": 3,
    "start_time": "2023-09-25T15:01:08.130Z"
   },
   {
    "duration": 36,
    "start_time": "2023-09-25T15:01:09.858Z"
   },
   {
    "duration": 3,
    "start_time": "2023-09-25T15:04:41.141Z"
   },
   {
    "duration": 36,
    "start_time": "2023-09-25T15:04:43.469Z"
   },
   {
    "duration": 3,
    "start_time": "2023-09-25T15:04:58.044Z"
   },
   {
    "duration": 34,
    "start_time": "2023-09-25T15:04:59.905Z"
   },
   {
    "duration": 2,
    "start_time": "2023-09-25T15:05:35.666Z"
   },
   {
    "duration": 4,
    "start_time": "2023-09-25T15:05:35.688Z"
   },
   {
    "duration": 65,
    "start_time": "2023-09-25T15:05:35.694Z"
   },
   {
    "duration": 43,
    "start_time": "2023-09-25T15:05:35.761Z"
   },
   {
    "duration": 19,
    "start_time": "2023-09-25T15:05:35.805Z"
   },
   {
    "duration": 1294,
    "start_time": "2023-09-25T15:05:35.826Z"
   },
   {
    "duration": 5,
    "start_time": "2023-09-25T15:06:00.146Z"
   },
   {
    "duration": 31,
    "start_time": "2023-09-25T15:06:02.928Z"
   },
   {
    "duration": 3,
    "start_time": "2023-09-25T15:06:23.290Z"
   },
   {
    "duration": 20,
    "start_time": "2023-09-25T15:06:23.307Z"
   },
   {
    "duration": 59,
    "start_time": "2023-09-25T15:06:23.329Z"
   },
   {
    "duration": 0,
    "start_time": "2023-09-25T15:06:23.390Z"
   },
   {
    "duration": 0,
    "start_time": "2023-09-25T15:06:23.391Z"
   },
   {
    "duration": 0,
    "start_time": "2023-09-25T15:06:23.392Z"
   },
   {
    "duration": 4,
    "start_time": "2023-09-25T15:06:50.888Z"
   },
   {
    "duration": 35,
    "start_time": "2023-09-25T15:06:53.112Z"
   },
   {
    "duration": 61,
    "start_time": "2023-09-25T15:07:00.994Z"
   },
   {
    "duration": 31,
    "start_time": "2023-09-25T15:07:04.887Z"
   },
   {
    "duration": 1338,
    "start_time": "2023-09-25T15:07:32.799Z"
   },
   {
    "duration": 4,
    "start_time": "2023-09-25T15:07:54.256Z"
   },
   {
    "duration": 11,
    "start_time": "2023-09-25T15:08:55.446Z"
   },
   {
    "duration": 10,
    "start_time": "2023-09-25T15:09:19.108Z"
   },
   {
    "duration": 9,
    "start_time": "2023-09-25T15:12:43.643Z"
   },
   {
    "duration": 8,
    "start_time": "2023-09-25T15:12:52.319Z"
   },
   {
    "duration": 5,
    "start_time": "2023-09-25T15:12:59.408Z"
   },
   {
    "duration": 17,
    "start_time": "2023-09-25T15:13:09.590Z"
   },
   {
    "duration": 13,
    "start_time": "2023-09-25T15:13:20.896Z"
   },
   {
    "duration": 57,
    "start_time": "2023-09-26T08:06:41.126Z"
   },
   {
    "duration": 11,
    "start_time": "2023-09-26T08:10:46.818Z"
   },
   {
    "duration": 433,
    "start_time": "2023-09-26T08:11:03.870Z"
   },
   {
    "duration": 4,
    "start_time": "2023-09-26T08:11:04.305Z"
   },
   {
    "duration": 112,
    "start_time": "2023-09-26T08:11:04.311Z"
   },
   {
    "duration": 117,
    "start_time": "2023-09-26T08:11:04.425Z"
   },
   {
    "duration": 0,
    "start_time": "2023-09-26T08:11:04.545Z"
   },
   {
    "duration": 0,
    "start_time": "2023-09-26T08:11:04.546Z"
   },
   {
    "duration": 0,
    "start_time": "2023-09-26T08:11:04.548Z"
   },
   {
    "duration": 0,
    "start_time": "2023-09-26T08:11:04.550Z"
   },
   {
    "duration": 61,
    "start_time": "2023-09-26T08:11:35.898Z"
   },
   {
    "duration": 3,
    "start_time": "2023-09-26T08:11:39.370Z"
   },
   {
    "duration": 7,
    "start_time": "2023-09-26T08:11:39.376Z"
   },
   {
    "duration": 40,
    "start_time": "2023-09-26T08:11:39.385Z"
   },
   {
    "duration": 49,
    "start_time": "2023-09-26T08:11:39.427Z"
   },
   {
    "duration": 64,
    "start_time": "2023-09-26T08:11:39.479Z"
   },
   {
    "duration": 39,
    "start_time": "2023-09-26T08:11:39.545Z"
   },
   {
    "duration": 13,
    "start_time": "2023-09-26T08:11:39.585Z"
   },
   {
    "duration": 36,
    "start_time": "2023-09-26T08:11:39.600Z"
   },
   {
    "duration": 470,
    "start_time": "2023-09-26T08:12:05.892Z"
   },
   {
    "duration": 40,
    "start_time": "2023-09-26T08:12:10.549Z"
   },
   {
    "duration": 25,
    "start_time": "2023-09-26T08:12:48.181Z"
   },
   {
    "duration": 309,
    "start_time": "2023-09-26T08:13:36.460Z"
   },
   {
    "duration": 303,
    "start_time": "2023-09-26T08:13:56.476Z"
   },
   {
    "duration": 602,
    "start_time": "2023-09-26T08:14:09.865Z"
   },
   {
    "duration": 588,
    "start_time": "2023-09-26T08:14:26.532Z"
   },
   {
    "duration": 477,
    "start_time": "2023-09-26T08:16:42.028Z"
   },
   {
    "duration": 589,
    "start_time": "2023-09-26T08:17:10.813Z"
   },
   {
    "duration": 584,
    "start_time": "2023-09-26T08:17:26.001Z"
   },
   {
    "duration": 78,
    "start_time": "2023-09-26T08:17:37.675Z"
   },
   {
    "duration": 433,
    "start_time": "2023-09-26T08:17:48.190Z"
   },
   {
    "duration": 561,
    "start_time": "2023-09-26T08:20:45.674Z"
   },
   {
    "duration": 573,
    "start_time": "2023-09-26T08:21:03.248Z"
   },
   {
    "duration": 549,
    "start_time": "2023-09-26T08:21:16.293Z"
   },
   {
    "duration": 573,
    "start_time": "2023-09-26T08:21:27.702Z"
   },
   {
    "duration": 575,
    "start_time": "2023-09-26T08:23:18.426Z"
   },
   {
    "duration": 683,
    "start_time": "2023-09-26T08:25:01.616Z"
   },
   {
    "duration": 784,
    "start_time": "2023-09-26T08:25:20.794Z"
   },
   {
    "duration": 749,
    "start_time": "2023-09-26T08:25:46.267Z"
   },
   {
    "duration": 762,
    "start_time": "2023-09-26T08:25:50.099Z"
   },
   {
    "duration": 570,
    "start_time": "2023-09-26T08:26:01.111Z"
   },
   {
    "duration": 48,
    "start_time": "2023-09-27T07:21:54.912Z"
   },
   {
    "duration": 816,
    "start_time": "2023-09-27T07:21:59.261Z"
   },
   {
    "duration": 5,
    "start_time": "2023-09-27T07:22:00.079Z"
   },
   {
    "duration": 171,
    "start_time": "2023-09-27T07:22:00.085Z"
   },
   {
    "duration": 99,
    "start_time": "2023-09-27T07:22:00.258Z"
   },
   {
    "duration": 57,
    "start_time": "2023-09-27T07:22:00.358Z"
   },
   {
    "duration": 69,
    "start_time": "2023-09-27T07:22:00.416Z"
   },
   {
    "duration": 77,
    "start_time": "2023-09-27T07:22:00.487Z"
   },
   {
    "duration": 687,
    "start_time": "2023-09-27T07:22:00.566Z"
   },
   {
    "duration": 268,
    "start_time": "2023-09-27T07:22:01.255Z"
   },
   {
    "duration": 292,
    "start_time": "2023-09-27T07:23:10.175Z"
   },
   {
    "duration": 329,
    "start_time": "2023-09-27T07:23:37.987Z"
   },
   {
    "duration": 269,
    "start_time": "2023-09-27T07:23:48.958Z"
   },
   {
    "duration": 286,
    "start_time": "2023-09-27T07:24:13.660Z"
   },
   {
    "duration": 293,
    "start_time": "2023-09-27T07:24:22.349Z"
   },
   {
    "duration": 336,
    "start_time": "2023-09-27T07:24:37.810Z"
   },
   {
    "duration": 285,
    "start_time": "2023-09-27T07:24:54.750Z"
   },
   {
    "duration": 329,
    "start_time": "2023-09-27T07:25:07.112Z"
   },
   {
    "duration": 561,
    "start_time": "2023-09-27T07:25:28.960Z"
   },
   {
    "duration": 343,
    "start_time": "2023-09-27T07:32:02.612Z"
   },
   {
    "duration": 603,
    "start_time": "2023-09-27T07:32:30.623Z"
   },
   {
    "duration": 108,
    "start_time": "2023-09-27T07:41:02.819Z"
   },
   {
    "duration": 81,
    "start_time": "2023-09-27T07:41:19.168Z"
   },
   {
    "duration": 479,
    "start_time": "2023-09-27T07:41:38.221Z"
   },
   {
    "duration": 448,
    "start_time": "2023-09-27T07:41:55.307Z"
   },
   {
    "duration": 10,
    "start_time": "2023-09-27T07:52:48.821Z"
   },
   {
    "duration": 11,
    "start_time": "2023-09-27T07:53:03.969Z"
   },
   {
    "duration": 1289,
    "start_time": "2023-09-27T07:56:02.745Z"
   },
   {
    "duration": 9,
    "start_time": "2023-09-27T07:57:07.733Z"
   },
   {
    "duration": 1486,
    "start_time": "2023-09-27T07:57:35.021Z"
   },
   {
    "duration": 1408,
    "start_time": "2023-09-27T07:58:22.745Z"
   },
   {
    "duration": 391,
    "start_time": "2023-09-27T07:58:39.403Z"
   },
   {
    "duration": 344,
    "start_time": "2023-09-27T08:00:48.665Z"
   },
   {
    "duration": 338,
    "start_time": "2023-09-27T08:01:42.427Z"
   },
   {
    "duration": 347,
    "start_time": "2023-09-27T08:02:24.930Z"
   },
   {
    "duration": 369,
    "start_time": "2023-09-27T08:02:54.676Z"
   },
   {
    "duration": 452,
    "start_time": "2023-09-27T08:03:25.232Z"
   },
   {
    "duration": 412,
    "start_time": "2023-09-27T08:04:05.752Z"
   },
   {
    "duration": 622,
    "start_time": "2023-09-27T08:04:42.538Z"
   },
   {
    "duration": 689,
    "start_time": "2023-09-27T08:04:50.693Z"
   },
   {
    "duration": 562,
    "start_time": "2023-09-27T08:04:56.324Z"
   },
   {
    "duration": 625,
    "start_time": "2023-09-27T08:05:08.795Z"
   },
   {
    "duration": 3647,
    "start_time": "2023-09-27T08:48:42.381Z"
   },
   {
    "duration": 223,
    "start_time": "2023-09-27T08:49:27.693Z"
   },
   {
    "duration": 14,
    "start_time": "2023-09-27T08:49:43.786Z"
   },
   {
    "duration": 529,
    "start_time": "2023-09-27T08:50:38.107Z"
   },
   {
    "duration": 460,
    "start_time": "2023-09-27T08:51:07.317Z"
   },
   {
    "duration": 434,
    "start_time": "2023-09-27T08:53:05.712Z"
   },
   {
    "duration": 387,
    "start_time": "2023-09-27T08:53:46.372Z"
   },
   {
    "duration": 432,
    "start_time": "2023-09-27T08:54:18.670Z"
   },
   {
    "duration": 3,
    "start_time": "2023-09-27T09:01:58.443Z"
   },
   {
    "duration": 3,
    "start_time": "2023-09-27T09:02:03.768Z"
   },
   {
    "duration": 84,
    "start_time": "2023-09-27T09:02:03.773Z"
   },
   {
    "duration": 134,
    "start_time": "2023-09-27T09:02:03.858Z"
   },
   {
    "duration": 53,
    "start_time": "2023-09-27T09:02:03.993Z"
   },
   {
    "duration": 36,
    "start_time": "2023-09-27T09:02:04.048Z"
   },
   {
    "duration": 2679,
    "start_time": "2023-09-27T09:02:04.086Z"
   },
   {
    "duration": 0,
    "start_time": "2023-09-27T09:02:06.767Z"
   },
   {
    "duration": 0,
    "start_time": "2023-09-27T09:02:06.768Z"
   },
   {
    "duration": 0,
    "start_time": "2023-09-27T09:02:06.769Z"
   },
   {
    "duration": 0,
    "start_time": "2023-09-27T09:02:06.770Z"
   },
   {
    "duration": 0,
    "start_time": "2023-09-27T09:02:06.771Z"
   },
   {
    "duration": 0,
    "start_time": "2023-09-27T09:02:06.772Z"
   },
   {
    "duration": 0,
    "start_time": "2023-09-27T09:02:06.773Z"
   },
   {
    "duration": 12,
    "start_time": "2023-09-27T09:02:28.660Z"
   },
   {
    "duration": 14,
    "start_time": "2023-09-27T09:02:45.112Z"
   },
   {
    "duration": 3,
    "start_time": "2023-09-27T09:02:49.911Z"
   },
   {
    "duration": 5,
    "start_time": "2023-09-27T09:02:49.916Z"
   },
   {
    "duration": 47,
    "start_time": "2023-09-27T09:02:49.923Z"
   },
   {
    "duration": 46,
    "start_time": "2023-09-27T09:02:49.972Z"
   },
   {
    "duration": 20,
    "start_time": "2023-09-27T09:02:50.020Z"
   },
   {
    "duration": 16,
    "start_time": "2023-09-27T09:02:50.042Z"
   },
   {
    "duration": 31,
    "start_time": "2023-09-27T09:02:50.060Z"
   },
   {
    "duration": 31,
    "start_time": "2023-09-27T09:02:50.093Z"
   },
   {
    "duration": 0,
    "start_time": "2023-09-27T09:02:50.126Z"
   },
   {
    "duration": 0,
    "start_time": "2023-09-27T09:02:50.127Z"
   },
   {
    "duration": 0,
    "start_time": "2023-09-27T09:02:50.128Z"
   },
   {
    "duration": 0,
    "start_time": "2023-09-27T09:02:50.129Z"
   },
   {
    "duration": 0,
    "start_time": "2023-09-27T09:02:50.130Z"
   },
   {
    "duration": 711,
    "start_time": "2023-09-27T09:03:20.694Z"
   },
   {
    "duration": 425,
    "start_time": "2023-09-27T09:03:25.546Z"
   },
   {
    "duration": 478,
    "start_time": "2023-09-27T09:03:28.604Z"
   },
   {
    "duration": 375,
    "start_time": "2023-09-27T09:03:31.549Z"
   },
   {
    "duration": 475,
    "start_time": "2023-09-27T09:03:34.341Z"
   },
   {
    "duration": 7,
    "start_time": "2023-09-27T09:04:33.780Z"
   },
   {
    "duration": 159,
    "start_time": "2023-09-27T09:04:55.142Z"
   },
   {
    "duration": 11,
    "start_time": "2023-09-27T09:05:03.936Z"
   },
   {
    "duration": 3193,
    "start_time": "2023-09-27T09:05:20.664Z"
   },
   {
    "duration": 1603,
    "start_time": "2023-09-27T09:05:34.294Z"
   },
   {
    "duration": 12,
    "start_time": "2023-09-27T09:05:44.441Z"
   },
   {
    "duration": 11,
    "start_time": "2023-09-27T09:06:07.439Z"
   },
   {
    "duration": 6,
    "start_time": "2023-09-27T09:08:00.443Z"
   },
   {
    "duration": 11,
    "start_time": "2023-09-27T09:08:14.734Z"
   },
   {
    "duration": 1584,
    "start_time": "2023-09-27T09:09:19.806Z"
   },
   {
    "duration": 12,
    "start_time": "2023-09-27T09:09:38.274Z"
   },
   {
    "duration": 1672,
    "start_time": "2023-09-27T09:09:48.482Z"
   },
   {
    "duration": 123,
    "start_time": "2023-09-27T09:10:02.865Z"
   },
   {
    "duration": 110,
    "start_time": "2023-09-27T09:12:49.680Z"
   },
   {
    "duration": 104,
    "start_time": "2023-09-27T09:13:05.493Z"
   },
   {
    "duration": 722,
    "start_time": "2023-09-27T09:13:35.629Z"
   },
   {
    "duration": 3,
    "start_time": "2023-09-27T09:13:36.353Z"
   },
   {
    "duration": 54,
    "start_time": "2023-09-27T09:13:36.358Z"
   },
   {
    "duration": 48,
    "start_time": "2023-09-27T09:13:36.415Z"
   },
   {
    "duration": 21,
    "start_time": "2023-09-27T09:13:36.464Z"
   },
   {
    "duration": 12,
    "start_time": "2023-09-27T09:13:36.487Z"
   },
   {
    "duration": 51,
    "start_time": "2023-09-27T09:13:36.500Z"
   },
   {
    "duration": 658,
    "start_time": "2023-09-27T09:13:36.553Z"
   },
   {
    "duration": 378,
    "start_time": "2023-09-27T09:13:37.213Z"
   },
   {
    "duration": 514,
    "start_time": "2023-09-27T09:13:37.593Z"
   },
   {
    "duration": 425,
    "start_time": "2023-09-27T09:13:38.109Z"
   },
   {
    "duration": 544,
    "start_time": "2023-09-27T09:13:38.536Z"
   },
   {
    "duration": 79,
    "start_time": "2023-09-27T09:13:39.081Z"
   },
   {
    "duration": 118,
    "start_time": "2023-09-27T09:13:53.194Z"
   },
   {
    "duration": 670,
    "start_time": "2023-09-27T09:14:02.667Z"
   },
   {
    "duration": 4,
    "start_time": "2023-09-27T09:14:03.339Z"
   },
   {
    "duration": 125,
    "start_time": "2023-09-27T09:14:03.344Z"
   },
   {
    "duration": 46,
    "start_time": "2023-09-27T09:14:03.471Z"
   },
   {
    "duration": 42,
    "start_time": "2023-09-27T09:14:03.520Z"
   },
   {
    "duration": 32,
    "start_time": "2023-09-27T09:14:03.564Z"
   },
   {
    "duration": 37,
    "start_time": "2023-09-27T09:14:03.598Z"
   },
   {
    "duration": 642,
    "start_time": "2023-09-27T09:14:03.637Z"
   },
   {
    "duration": 376,
    "start_time": "2023-09-27T09:14:04.281Z"
   },
   {
    "duration": 432,
    "start_time": "2023-09-27T09:14:04.659Z"
   },
   {
    "duration": 409,
    "start_time": "2023-09-27T09:14:05.093Z"
   },
   {
    "duration": 536,
    "start_time": "2023-09-27T09:14:05.504Z"
   },
   {
    "duration": 118,
    "start_time": "2023-09-27T09:14:06.042Z"
   },
   {
    "duration": 47,
    "start_time": "2023-09-27T12:03:15.103Z"
   },
   {
    "duration": 819,
    "start_time": "2023-09-27T12:03:19.967Z"
   },
   {
    "duration": 4,
    "start_time": "2023-09-27T12:03:20.788Z"
   },
   {
    "duration": 97,
    "start_time": "2023-09-27T12:03:20.793Z"
   },
   {
    "duration": 92,
    "start_time": "2023-09-27T12:03:20.892Z"
   },
   {
    "duration": 59,
    "start_time": "2023-09-27T12:03:20.986Z"
   },
   {
    "duration": 16,
    "start_time": "2023-09-27T12:03:21.047Z"
   },
   {
    "duration": 51,
    "start_time": "2023-09-27T12:03:21.065Z"
   },
   {
    "duration": 680,
    "start_time": "2023-09-27T12:03:21.117Z"
   },
   {
    "duration": 366,
    "start_time": "2023-09-27T12:03:21.799Z"
   },
   {
    "duration": 481,
    "start_time": "2023-09-27T12:03:22.167Z"
   },
   {
    "duration": 410,
    "start_time": "2023-09-27T12:03:22.649Z"
   },
   {
    "duration": 509,
    "start_time": "2023-09-27T12:03:23.061Z"
   },
   {
    "duration": 123,
    "start_time": "2023-09-27T12:03:23.572Z"
   },
   {
    "duration": 115,
    "start_time": "2023-09-27T12:03:38.173Z"
   },
   {
    "duration": 118,
    "start_time": "2023-09-27T12:03:52.862Z"
   },
   {
    "duration": 656,
    "start_time": "2023-09-27T12:04:05.326Z"
   },
   {
    "duration": 3,
    "start_time": "2023-09-27T12:04:05.984Z"
   },
   {
    "duration": 48,
    "start_time": "2023-09-27T12:04:05.989Z"
   },
   {
    "duration": 54,
    "start_time": "2023-09-27T12:04:06.039Z"
   },
   {
    "duration": 21,
    "start_time": "2023-09-27T12:04:06.096Z"
   },
   {
    "duration": 12,
    "start_time": "2023-09-27T12:04:06.118Z"
   },
   {
    "duration": 24,
    "start_time": "2023-09-27T12:04:06.132Z"
   },
   {
    "duration": 698,
    "start_time": "2023-09-27T12:04:06.158Z"
   },
   {
    "duration": 396,
    "start_time": "2023-09-27T12:04:06.857Z"
   },
   {
    "duration": 486,
    "start_time": "2023-09-27T12:04:07.255Z"
   },
   {
    "duration": 415,
    "start_time": "2023-09-27T12:04:07.744Z"
   },
   {
    "duration": 553,
    "start_time": "2023-09-27T12:04:08.161Z"
   },
   {
    "duration": 133,
    "start_time": "2023-09-27T12:04:08.716Z"
   },
   {
    "duration": 112,
    "start_time": "2023-09-27T12:04:20.204Z"
   },
   {
    "duration": 1459,
    "start_time": "2023-09-27T12:25:02.705Z"
   },
   {
    "duration": 1760,
    "start_time": "2023-09-27T12:25:27.102Z"
   },
   {
    "duration": 143,
    "start_time": "2023-09-27T12:25:37.143Z"
   },
   {
    "duration": 111,
    "start_time": "2023-09-27T12:26:10.824Z"
   },
   {
    "duration": 112,
    "start_time": "2023-09-27T12:26:25.389Z"
   },
   {
    "duration": 123,
    "start_time": "2023-09-27T12:29:16.998Z"
   },
   {
    "duration": 113,
    "start_time": "2023-09-27T12:29:44.748Z"
   },
   {
    "duration": 108,
    "start_time": "2023-09-27T12:30:08.259Z"
   },
   {
    "duration": 112,
    "start_time": "2023-09-27T12:32:00.031Z"
   },
   {
    "duration": 136,
    "start_time": "2023-09-27T12:33:01.161Z"
   },
   {
    "duration": 168,
    "start_time": "2023-09-27T12:34:22.063Z"
   },
   {
    "duration": 8,
    "start_time": "2023-09-27T12:36:25.338Z"
   },
   {
    "duration": 124,
    "start_time": "2023-09-27T12:36:48.950Z"
   },
   {
    "duration": 4,
    "start_time": "2023-09-27T12:36:52.412Z"
   },
   {
    "duration": 6,
    "start_time": "2023-09-27T12:38:43.063Z"
   },
   {
    "duration": 7,
    "start_time": "2023-09-27T12:43:14.176Z"
   },
   {
    "duration": 8,
    "start_time": "2023-09-27T12:43:20.992Z"
   },
   {
    "duration": 145,
    "start_time": "2023-09-27T12:44:01.066Z"
   },
   {
    "duration": 124,
    "start_time": "2023-09-27T12:44:28.562Z"
   },
   {
    "duration": 138,
    "start_time": "2023-09-27T12:44:42.127Z"
   },
   {
    "duration": 6,
    "start_time": "2023-09-27T12:48:13.665Z"
   },
   {
    "duration": 11,
    "start_time": "2023-09-27T12:54:00.760Z"
   },
   {
    "duration": 13,
    "start_time": "2023-09-27T12:54:55.425Z"
   },
   {
    "duration": 168,
    "start_time": "2023-09-27T12:56:09.367Z"
   },
   {
    "duration": 139,
    "start_time": "2023-09-27T12:59:02.149Z"
   },
   {
    "duration": 1824,
    "start_time": "2023-09-27T12:59:47.697Z"
   },
   {
    "duration": 134,
    "start_time": "2023-09-27T13:00:27.145Z"
   },
   {
    "duration": 142,
    "start_time": "2023-09-27T13:00:43.578Z"
   },
   {
    "duration": 426,
    "start_time": "2023-09-27T13:01:15.093Z"
   },
   {
    "duration": 224,
    "start_time": "2023-09-27T13:01:20.111Z"
   },
   {
    "duration": 6,
    "start_time": "2023-09-27T13:48:32.094Z"
   },
   {
    "duration": 1731,
    "start_time": "2023-09-27T13:48:50.748Z"
   },
   {
    "duration": 3,
    "start_time": "2023-09-27T13:48:58.588Z"
   },
   {
    "duration": 67,
    "start_time": "2023-09-27T13:48:58.593Z"
   },
   {
    "duration": 70,
    "start_time": "2023-09-27T13:48:58.662Z"
   },
   {
    "duration": 46,
    "start_time": "2023-09-27T13:48:58.733Z"
   },
   {
    "duration": 20,
    "start_time": "2023-09-27T13:48:58.781Z"
   },
   {
    "duration": 16,
    "start_time": "2023-09-27T13:48:58.803Z"
   },
   {
    "duration": 38,
    "start_time": "2023-09-27T13:48:58.820Z"
   },
   {
    "duration": 669,
    "start_time": "2023-09-27T13:48:58.860Z"
   },
   {
    "duration": 369,
    "start_time": "2023-09-27T13:48:59.531Z"
   },
   {
    "duration": 499,
    "start_time": "2023-09-27T13:48:59.902Z"
   },
   {
    "duration": 389,
    "start_time": "2023-09-27T13:49:00.404Z"
   },
   {
    "duration": 453,
    "start_time": "2023-09-27T13:49:00.795Z"
   },
   {
    "duration": 131,
    "start_time": "2023-09-27T13:49:01.250Z"
   },
   {
    "duration": 6,
    "start_time": "2023-09-27T13:49:01.383Z"
   },
   {
    "duration": 264,
    "start_time": "2023-09-27T13:49:01.390Z"
   },
   {
    "duration": 5,
    "start_time": "2023-09-27T13:49:01.656Z"
   },
   {
    "duration": 209,
    "start_time": "2023-09-27T13:49:01.663Z"
   },
   {
    "duration": 1752,
    "start_time": "2023-09-27T13:49:01.874Z"
   },
   {
    "duration": 5,
    "start_time": "2023-09-27T13:49:25.474Z"
   },
   {
    "duration": 1452,
    "start_time": "2023-09-27T13:49:49.020Z"
   },
   {
    "duration": 8,
    "start_time": "2023-09-27T13:50:02.790Z"
   },
   {
    "duration": 18,
    "start_time": "2023-09-27T13:50:53.103Z"
   },
   {
    "duration": 35,
    "start_time": "2023-09-27T13:51:40.701Z"
   },
   {
    "duration": 50,
    "start_time": "2023-09-28T06:06:39.486Z"
   },
   {
    "duration": 1310,
    "start_time": "2023-09-28T06:06:44.586Z"
   },
   {
    "duration": 4,
    "start_time": "2023-09-28T06:06:45.899Z"
   },
   {
    "duration": 104,
    "start_time": "2023-09-28T06:06:45.904Z"
   },
   {
    "duration": 88,
    "start_time": "2023-09-28T06:06:46.010Z"
   },
   {
    "duration": 56,
    "start_time": "2023-09-28T06:06:46.101Z"
   },
   {
    "duration": 167,
    "start_time": "2023-09-28T06:06:46.158Z"
   },
   {
    "duration": 79,
    "start_time": "2023-09-28T06:06:46.326Z"
   },
   {
    "duration": 825,
    "start_time": "2023-09-28T06:06:46.407Z"
   },
   {
    "duration": 362,
    "start_time": "2023-09-28T06:06:47.234Z"
   },
   {
    "duration": 514,
    "start_time": "2023-09-28T06:06:47.598Z"
   },
   {
    "duration": 392,
    "start_time": "2023-09-28T06:06:48.114Z"
   },
   {
    "duration": 455,
    "start_time": "2023-09-28T06:06:48.507Z"
   },
   {
    "duration": 116,
    "start_time": "2023-09-28T06:06:48.964Z"
   },
   {
    "duration": 9,
    "start_time": "2023-09-28T06:06:49.083Z"
   },
   {
    "duration": 185,
    "start_time": "2023-09-28T06:06:49.094Z"
   },
   {
    "duration": 5,
    "start_time": "2023-09-28T06:06:49.280Z"
   },
   {
    "duration": 423,
    "start_time": "2023-09-28T06:06:49.287Z"
   },
   {
    "duration": 92,
    "start_time": "2023-09-28T06:06:49.712Z"
   },
   {
    "duration": 1593,
    "start_time": "2023-09-28T06:06:49.805Z"
   },
   {
    "duration": 34,
    "start_time": "2023-09-28T06:07:41.882Z"
   },
   {
    "duration": 12,
    "start_time": "2023-09-28T06:07:56.562Z"
   },
   {
    "duration": 171,
    "start_time": "2023-09-28T06:20:09.512Z"
   },
   {
    "duration": 10,
    "start_time": "2023-09-28T06:24:16.092Z"
   },
   {
    "duration": 329,
    "start_time": "2023-09-28T06:44:06.646Z"
   },
   {
    "duration": 454,
    "start_time": "2023-09-28T06:47:16.740Z"
   },
   {
    "duration": 1162,
    "start_time": "2023-09-28T06:48:30.605Z"
   },
   {
    "duration": 4,
    "start_time": "2023-09-28T06:48:31.768Z"
   },
   {
    "duration": 57,
    "start_time": "2023-09-28T06:48:31.773Z"
   },
   {
    "duration": 49,
    "start_time": "2023-09-28T06:48:31.831Z"
   },
   {
    "duration": 20,
    "start_time": "2023-09-28T06:48:31.882Z"
   },
   {
    "duration": 12,
    "start_time": "2023-09-28T06:48:31.904Z"
   },
   {
    "duration": 29,
    "start_time": "2023-09-28T06:48:31.917Z"
   },
   {
    "duration": 690,
    "start_time": "2023-09-28T06:48:31.948Z"
   },
   {
    "duration": 384,
    "start_time": "2023-09-28T06:48:32.640Z"
   },
   {
    "duration": 511,
    "start_time": "2023-09-28T06:48:33.029Z"
   },
   {
    "duration": 448,
    "start_time": "2023-09-28T06:48:33.542Z"
   },
   {
    "duration": 503,
    "start_time": "2023-09-28T06:48:33.992Z"
   },
   {
    "duration": 142,
    "start_time": "2023-09-28T06:48:34.497Z"
   },
   {
    "duration": 6,
    "start_time": "2023-09-28T06:48:34.642Z"
   },
   {
    "duration": 132,
    "start_time": "2023-09-28T06:48:34.649Z"
   },
   {
    "duration": 6,
    "start_time": "2023-09-28T06:48:34.784Z"
   },
   {
    "duration": 222,
    "start_time": "2023-09-28T06:48:34.792Z"
   },
   {
    "duration": 123,
    "start_time": "2023-09-28T06:48:35.015Z"
   },
   {
    "duration": 59,
    "start_time": "2023-09-28T06:48:35.140Z"
   },
   {
    "duration": 28,
    "start_time": "2023-09-28T06:48:35.201Z"
   },
   {
    "duration": 1335,
    "start_time": "2023-09-28T12:40:07.793Z"
   },
   {
    "duration": 5,
    "start_time": "2023-09-28T12:40:09.132Z"
   },
   {
    "duration": 91,
    "start_time": "2023-09-28T12:40:09.145Z"
   },
   {
    "duration": 24,
    "start_time": "2023-09-28T12:40:09.239Z"
   },
   {
    "duration": 334,
    "start_time": "2023-09-28T12:40:09.264Z"
   },
   {
    "duration": 80,
    "start_time": "2023-09-28T12:40:09.600Z"
   },
   {
    "duration": 17,
    "start_time": "2023-09-28T12:40:09.682Z"
   },
   {
    "duration": 102,
    "start_time": "2023-09-28T12:40:09.701Z"
   },
   {
    "duration": 740,
    "start_time": "2023-09-28T12:40:09.805Z"
   },
   {
    "duration": 440,
    "start_time": "2023-09-28T12:40:10.553Z"
   },
   {
    "duration": 499,
    "start_time": "2023-09-28T12:40:10.995Z"
   },
   {
    "duration": 433,
    "start_time": "2023-09-28T12:40:11.496Z"
   },
   {
    "duration": 564,
    "start_time": "2023-09-28T12:40:11.931Z"
   },
   {
    "duration": 135,
    "start_time": "2023-09-28T12:40:12.498Z"
   },
   {
    "duration": 38,
    "start_time": "2023-09-28T12:40:12.634Z"
   },
   {
    "duration": 188,
    "start_time": "2023-09-28T12:40:12.675Z"
   },
   {
    "duration": 5,
    "start_time": "2023-09-28T12:40:12.869Z"
   },
   {
    "duration": 223,
    "start_time": "2023-09-28T12:40:12.876Z"
   },
   {
    "duration": 13,
    "start_time": "2023-09-28T12:40:13.101Z"
   },
   {
    "duration": 70,
    "start_time": "2023-09-28T12:40:13.116Z"
   },
   {
    "duration": 16,
    "start_time": "2023-09-28T12:40:13.188Z"
   },
   {
    "duration": 50,
    "start_time": "2023-09-28T17:51:03.283Z"
   },
   {
    "duration": 1431,
    "start_time": "2023-09-28T17:51:10.750Z"
   },
   {
    "duration": 5,
    "start_time": "2023-09-28T17:51:12.184Z"
   },
   {
    "duration": 74,
    "start_time": "2023-09-28T17:51:12.191Z"
   },
   {
    "duration": 8,
    "start_time": "2023-09-28T17:51:12.267Z"
   },
   {
    "duration": 111,
    "start_time": "2023-09-28T17:51:12.277Z"
   },
   {
    "duration": 61,
    "start_time": "2023-09-28T17:51:12.390Z"
   },
   {
    "duration": 13,
    "start_time": "2023-09-28T17:51:12.452Z"
   },
   {
    "duration": 13,
    "start_time": "2023-09-28T17:51:12.467Z"
   },
   {
    "duration": 301,
    "start_time": "2023-09-28T17:51:12.482Z"
   },
   {
    "duration": 394,
    "start_time": "2023-09-28T17:51:12.787Z"
   },
   {
    "duration": 412,
    "start_time": "2023-09-28T17:51:13.183Z"
   },
   {
    "duration": 574,
    "start_time": "2023-09-28T17:51:13.597Z"
   },
   {
    "duration": 448,
    "start_time": "2023-09-28T17:51:14.173Z"
   },
   {
    "duration": 468,
    "start_time": "2023-09-28T17:51:14.623Z"
   },
   {
    "duration": 137,
    "start_time": "2023-09-28T17:51:15.093Z"
   },
   {
    "duration": 6,
    "start_time": "2023-09-28T17:51:15.232Z"
   },
   {
    "duration": 148,
    "start_time": "2023-09-28T17:51:15.240Z"
   },
   {
    "duration": 5,
    "start_time": "2023-09-28T17:51:15.390Z"
   },
   {
    "duration": 195,
    "start_time": "2023-09-28T17:51:15.397Z"
   },
   {
    "duration": 11,
    "start_time": "2023-09-28T17:51:15.594Z"
   },
   {
    "duration": 9,
    "start_time": "2023-09-28T17:51:15.607Z"
   },
   {
    "duration": 111,
    "start_time": "2023-09-28T17:51:15.618Z"
   },
   {
    "duration": 13,
    "start_time": "2023-09-28T17:51:15.731Z"
   },
   {
    "duration": 18,
    "start_time": "2023-09-28T17:52:09.098Z"
   },
   {
    "duration": 22,
    "start_time": "2023-09-28T17:56:41.077Z"
   },
   {
    "duration": 24,
    "start_time": "2023-09-28T17:56:48.577Z"
   },
   {
    "duration": 16,
    "start_time": "2023-09-28T17:57:55.868Z"
   },
   {
    "duration": 1339,
    "start_time": "2023-09-29T06:37:50.758Z"
   },
   {
    "duration": 4,
    "start_time": "2023-09-29T06:37:52.099Z"
   },
   {
    "duration": 78,
    "start_time": "2023-09-29T06:37:52.105Z"
   },
   {
    "duration": 19,
    "start_time": "2023-09-29T06:37:52.186Z"
   },
   {
    "duration": 99,
    "start_time": "2023-09-29T06:37:52.207Z"
   },
   {
    "duration": 61,
    "start_time": "2023-09-29T06:37:52.307Z"
   },
   {
    "duration": 15,
    "start_time": "2023-09-29T06:37:52.370Z"
   },
   {
    "duration": 19,
    "start_time": "2023-09-29T06:37:52.387Z"
   },
   {
    "duration": 314,
    "start_time": "2023-09-29T06:37:52.409Z"
   },
   {
    "duration": 414,
    "start_time": "2023-09-29T06:37:52.726Z"
   },
   {
    "duration": 389,
    "start_time": "2023-09-29T06:37:53.141Z"
   },
   {
    "duration": 488,
    "start_time": "2023-09-29T06:37:53.532Z"
   },
   {
    "duration": 423,
    "start_time": "2023-09-29T06:37:54.023Z"
   },
   {
    "duration": 435,
    "start_time": "2023-09-29T06:37:54.448Z"
   },
   {
    "duration": 152,
    "start_time": "2023-09-29T06:37:54.885Z"
   },
   {
    "duration": 5,
    "start_time": "2023-09-29T06:37:55.039Z"
   },
   {
    "duration": 136,
    "start_time": "2023-09-29T06:37:55.046Z"
   },
   {
    "duration": 5,
    "start_time": "2023-09-29T06:37:55.184Z"
   },
   {
    "duration": 164,
    "start_time": "2023-09-29T06:37:55.191Z"
   },
   {
    "duration": 10,
    "start_time": "2023-09-29T06:37:55.356Z"
   },
   {
    "duration": 7,
    "start_time": "2023-09-29T06:37:55.368Z"
   },
   {
    "duration": 54,
    "start_time": "2023-09-29T06:37:55.377Z"
   },
   {
    "duration": 12,
    "start_time": "2023-09-29T06:37:55.432Z"
   },
   {
    "duration": 4,
    "start_time": "2023-09-29T06:39:18.215Z"
   },
   {
    "duration": 5,
    "start_time": "2023-09-29T06:39:24.909Z"
   },
   {
    "duration": 13,
    "start_time": "2023-09-29T06:39:35.809Z"
   },
   {
    "duration": 83,
    "start_time": "2023-09-29T06:42:09.233Z"
   },
   {
    "duration": 13,
    "start_time": "2023-09-29T06:42:44.555Z"
   },
   {
    "duration": 67,
    "start_time": "2023-09-29T06:43:49.365Z"
   },
   {
    "duration": 40,
    "start_time": "2023-09-29T06:44:00.939Z"
   },
   {
    "duration": 6,
    "start_time": "2023-09-29T06:47:27.293Z"
   },
   {
    "duration": 6,
    "start_time": "2023-09-29T06:47:44.769Z"
   },
   {
    "duration": 15,
    "start_time": "2023-09-29T06:47:58.550Z"
   },
   {
    "duration": 6,
    "start_time": "2023-09-29T06:48:29.359Z"
   },
   {
    "duration": 27,
    "start_time": "2023-09-29T06:48:42.881Z"
   },
   {
    "duration": 87,
    "start_time": "2023-09-29T06:51:57.889Z"
   },
   {
    "duration": 124,
    "start_time": "2023-09-29T06:52:39.142Z"
   },
   {
    "duration": 99,
    "start_time": "2023-09-29T06:52:49.071Z"
   },
   {
    "duration": 221,
    "start_time": "2023-09-29T06:52:53.175Z"
   },
   {
    "duration": 92,
    "start_time": "2023-09-29T06:53:11.922Z"
   },
   {
    "duration": 100,
    "start_time": "2023-09-29T06:53:28.575Z"
   },
   {
    "duration": 11,
    "start_time": "2023-09-29T06:53:59.603Z"
   },
   {
    "duration": 16,
    "start_time": "2023-09-29T06:54:24.477Z"
   },
   {
    "duration": 90,
    "start_time": "2023-09-29T06:55:08.107Z"
   },
   {
    "duration": 81,
    "start_time": "2023-09-29T06:55:27.395Z"
   },
   {
    "duration": 14,
    "start_time": "2023-09-29T06:55:42.098Z"
   },
   {
    "duration": 108,
    "start_time": "2023-09-29T06:56:20.592Z"
   },
   {
    "duration": 15,
    "start_time": "2023-09-29T06:56:41.142Z"
   },
   {
    "duration": 16,
    "start_time": "2023-09-29T06:57:33.444Z"
   },
   {
    "duration": 14,
    "start_time": "2023-09-29T06:58:20.546Z"
   },
   {
    "duration": 16,
    "start_time": "2023-09-29T06:58:45.605Z"
   },
   {
    "duration": 10,
    "start_time": "2023-09-29T06:58:57.070Z"
   },
   {
    "duration": 10,
    "start_time": "2023-09-29T06:59:19.778Z"
   },
   {
    "duration": 9,
    "start_time": "2023-09-29T07:00:24.357Z"
   },
   {
    "duration": 21,
    "start_time": "2023-09-29T07:00:36.445Z"
   },
   {
    "duration": 12,
    "start_time": "2023-09-29T07:06:38.916Z"
   },
   {
    "duration": 13,
    "start_time": "2023-09-29T07:08:21.430Z"
   },
   {
    "duration": 14,
    "start_time": "2023-09-29T07:08:53.101Z"
   },
   {
    "duration": 11,
    "start_time": "2023-09-29T07:08:59.053Z"
   },
   {
    "duration": 14,
    "start_time": "2023-09-29T07:09:10.601Z"
   },
   {
    "duration": 5,
    "start_time": "2023-09-29T07:09:12.500Z"
   },
   {
    "duration": 6,
    "start_time": "2023-09-29T07:10:25.905Z"
   },
   {
    "duration": 19,
    "start_time": "2023-09-29T07:12:26.994Z"
   },
   {
    "duration": 11,
    "start_time": "2023-09-29T07:13:04.649Z"
   },
   {
    "duration": 12,
    "start_time": "2023-09-29T07:13:06.180Z"
   },
   {
    "duration": 11,
    "start_time": "2023-09-29T07:13:47.701Z"
   },
   {
    "duration": 12,
    "start_time": "2023-09-29T07:13:59.874Z"
   },
   {
    "duration": 10,
    "start_time": "2023-09-29T07:14:40.738Z"
   },
   {
    "duration": 11,
    "start_time": "2023-09-29T07:14:43.095Z"
   },
   {
    "duration": 6,
    "start_time": "2023-09-29T07:17:15.311Z"
   },
   {
    "duration": 18,
    "start_time": "2023-09-29T07:19:22.838Z"
   },
   {
    "duration": 17,
    "start_time": "2023-09-29T07:19:39.961Z"
   },
   {
    "duration": 12,
    "start_time": "2023-09-29T07:19:47.407Z"
   },
   {
    "duration": 6,
    "start_time": "2023-09-29T07:19:49.218Z"
   },
   {
    "duration": 7,
    "start_time": "2023-09-29T07:19:52.272Z"
   },
   {
    "duration": 11,
    "start_time": "2023-09-29T07:20:51.821Z"
   },
   {
    "duration": 15,
    "start_time": "2023-09-29T07:21:17.948Z"
   },
   {
    "duration": 16,
    "start_time": "2023-09-29T07:21:22.194Z"
   },
   {
    "duration": 3,
    "start_time": "2023-09-29T07:21:31.046Z"
   },
   {
    "duration": 324,
    "start_time": "2023-09-29T07:21:31.052Z"
   },
   {
    "duration": 139,
    "start_time": "2023-09-29T07:21:31.378Z"
   },
   {
    "duration": 106,
    "start_time": "2023-09-29T07:21:31.519Z"
   },
   {
    "duration": 101,
    "start_time": "2023-09-29T07:21:31.627Z"
   },
   {
    "duration": 40,
    "start_time": "2023-09-29T07:21:31.731Z"
   },
   {
    "duration": 34,
    "start_time": "2023-09-29T07:21:31.773Z"
   },
   {
    "duration": 47,
    "start_time": "2023-09-29T07:21:31.809Z"
   },
   {
    "duration": 51,
    "start_time": "2023-09-29T07:21:31.858Z"
   },
   {
    "duration": 22,
    "start_time": "2023-09-29T07:21:31.912Z"
   },
   {
    "duration": 6,
    "start_time": "2023-09-29T07:21:34.275Z"
   },
   {
    "duration": 15,
    "start_time": "2023-09-29T07:21:36.573Z"
   },
   {
    "duration": 11,
    "start_time": "2023-09-29T07:23:41.115Z"
   },
   {
    "duration": 16,
    "start_time": "2023-09-29T07:23:45.894Z"
   },
   {
    "duration": 11,
    "start_time": "2023-09-29T07:23:48.706Z"
   },
   {
    "duration": 11,
    "start_time": "2023-09-29T07:23:50.465Z"
   },
   {
    "duration": 14,
    "start_time": "2023-09-29T07:23:53.354Z"
   },
   {
    "duration": 12,
    "start_time": "2023-09-29T07:24:26.314Z"
   },
   {
    "duration": 6,
    "start_time": "2023-09-29T07:24:36.554Z"
   },
   {
    "duration": 10,
    "start_time": "2023-09-29T07:25:18.918Z"
   },
   {
    "duration": 8,
    "start_time": "2023-09-29T07:25:39.957Z"
   },
   {
    "duration": 3,
    "start_time": "2023-09-29T07:26:04.869Z"
   },
   {
    "duration": 9,
    "start_time": "2023-09-29T07:26:04.875Z"
   },
   {
    "duration": 44,
    "start_time": "2023-09-29T07:26:04.886Z"
   },
   {
    "duration": 15,
    "start_time": "2023-09-29T07:26:04.932Z"
   },
   {
    "duration": 58,
    "start_time": "2023-09-29T07:26:04.949Z"
   },
   {
    "duration": 30,
    "start_time": "2023-09-29T07:26:05.009Z"
   },
   {
    "duration": 26,
    "start_time": "2023-09-29T07:26:05.041Z"
   },
   {
    "duration": 35,
    "start_time": "2023-09-29T07:26:05.069Z"
   },
   {
    "duration": 22,
    "start_time": "2023-09-29T07:26:05.106Z"
   },
   {
    "duration": 29,
    "start_time": "2023-09-29T07:26:05.131Z"
   },
   {
    "duration": 7,
    "start_time": "2023-09-29T07:26:07.214Z"
   },
   {
    "duration": 9,
    "start_time": "2023-09-29T07:26:38.688Z"
   },
   {
    "duration": 12,
    "start_time": "2023-09-29T07:26:43.074Z"
   },
   {
    "duration": 8,
    "start_time": "2023-09-29T07:26:45.550Z"
   },
   {
    "duration": 10,
    "start_time": "2023-09-29T07:27:37.220Z"
   },
   {
    "duration": 10,
    "start_time": "2023-09-29T07:27:57.463Z"
   },
   {
    "duration": 10,
    "start_time": "2023-09-29T07:27:59.305Z"
   },
   {
    "duration": 12,
    "start_time": "2023-09-29T07:28:17.618Z"
   },
   {
    "duration": 1307,
    "start_time": "2023-09-29T07:28:36.763Z"
   },
   {
    "duration": 5,
    "start_time": "2023-09-29T07:28:38.072Z"
   },
   {
    "duration": 68,
    "start_time": "2023-09-29T07:28:38.079Z"
   },
   {
    "duration": 62,
    "start_time": "2023-09-29T07:28:38.151Z"
   },
   {
    "duration": 87,
    "start_time": "2023-09-29T07:28:38.215Z"
   },
   {
    "duration": 149,
    "start_time": "2023-09-29T07:28:38.304Z"
   },
   {
    "duration": 280,
    "start_time": "2023-09-29T07:28:38.455Z"
   },
   {
    "duration": 91,
    "start_time": "2023-09-29T07:28:38.737Z"
   },
   {
    "duration": 32,
    "start_time": "2023-09-29T07:28:38.830Z"
   },
   {
    "duration": 23,
    "start_time": "2023-09-29T07:28:38.866Z"
   },
   {
    "duration": 35,
    "start_time": "2023-09-29T07:28:38.891Z"
   },
   {
    "duration": 389,
    "start_time": "2023-09-29T07:28:38.928Z"
   },
   {
    "duration": 442,
    "start_time": "2023-09-29T07:28:39.319Z"
   },
   {
    "duration": 368,
    "start_time": "2023-09-29T07:28:39.763Z"
   },
   {
    "duration": 455,
    "start_time": "2023-09-29T07:28:40.133Z"
   },
   {
    "duration": 376,
    "start_time": "2023-09-29T07:28:40.590Z"
   },
   {
    "duration": 476,
    "start_time": "2023-09-29T07:28:40.968Z"
   },
   {
    "duration": 153,
    "start_time": "2023-09-29T07:28:41.446Z"
   },
   {
    "duration": 5,
    "start_time": "2023-09-29T07:28:41.601Z"
   },
   {
    "duration": 158,
    "start_time": "2023-09-29T07:28:41.607Z"
   },
   {
    "duration": 8,
    "start_time": "2023-09-29T07:28:41.767Z"
   },
   {
    "duration": 187,
    "start_time": "2023-09-29T07:28:41.777Z"
   },
   {
    "duration": 13,
    "start_time": "2023-09-29T07:28:41.966Z"
   },
   {
    "duration": 22,
    "start_time": "2023-09-29T07:28:41.980Z"
   },
   {
    "duration": 46,
    "start_time": "2023-09-29T07:28:42.004Z"
   },
   {
    "duration": 22,
    "start_time": "2023-09-29T07:28:42.052Z"
   },
   {
    "duration": 238,
    "start_time": "2023-09-29T07:30:17.080Z"
   },
   {
    "duration": 493,
    "start_time": "2023-09-29T07:32:52.144Z"
   },
   {
    "duration": 248,
    "start_time": "2023-09-29T07:33:06.257Z"
   },
   {
    "duration": 276,
    "start_time": "2023-09-29T07:33:11.473Z"
   },
   {
    "duration": 276,
    "start_time": "2023-09-29T07:33:36.112Z"
   },
   {
    "duration": 258,
    "start_time": "2023-09-29T07:33:51.266Z"
   },
   {
    "duration": 271,
    "start_time": "2023-09-29T07:34:12.678Z"
   },
   {
    "duration": 234,
    "start_time": "2023-09-29T07:35:27.514Z"
   },
   {
    "duration": 369,
    "start_time": "2023-09-29T07:36:16.735Z"
   },
   {
    "duration": 304,
    "start_time": "2023-09-29T07:36:26.366Z"
   },
   {
    "duration": 336,
    "start_time": "2023-09-29T07:37:36.457Z"
   },
   {
    "duration": 286,
    "start_time": "2023-09-29T07:37:42.864Z"
   },
   {
    "duration": 425,
    "start_time": "2023-09-29T07:38:43.087Z"
   },
   {
    "duration": 385,
    "start_time": "2023-09-29T07:38:50.418Z"
   },
   {
    "duration": 189,
    "start_time": "2023-09-29T07:39:47.671Z"
   },
   {
    "duration": 165,
    "start_time": "2023-09-29T07:40:26.542Z"
   },
   {
    "duration": 212,
    "start_time": "2023-09-29T07:41:06.766Z"
   },
   {
    "duration": 34,
    "start_time": "2023-09-29T08:48:28.837Z"
   },
   {
    "duration": 33,
    "start_time": "2023-09-29T08:48:41.552Z"
   },
   {
    "duration": 4,
    "start_time": "2023-09-29T08:50:28.213Z"
   },
   {
    "duration": 4,
    "start_time": "2023-09-29T08:50:28.242Z"
   },
   {
    "duration": 45,
    "start_time": "2023-09-29T08:50:28.248Z"
   },
   {
    "duration": 16,
    "start_time": "2023-09-29T08:50:28.295Z"
   },
   {
    "duration": 109,
    "start_time": "2023-09-29T08:50:28.313Z"
   },
   {
    "duration": 43,
    "start_time": "2023-09-29T08:50:28.425Z"
   },
   {
    "duration": 21,
    "start_time": "2023-09-29T08:50:28.470Z"
   },
   {
    "duration": 52,
    "start_time": "2023-09-29T08:50:28.493Z"
   },
   {
    "duration": 24,
    "start_time": "2023-09-29T08:50:28.547Z"
   },
   {
    "duration": 63,
    "start_time": "2023-09-29T08:50:28.573Z"
   },
   {
    "duration": 50,
    "start_time": "2023-09-29T08:50:28.639Z"
   },
   {
    "duration": 342,
    "start_time": "2023-09-29T08:50:28.692Z"
   },
   {
    "duration": 289,
    "start_time": "2023-09-29T08:50:29.035Z"
   },
   {
    "duration": 292,
    "start_time": "2023-09-29T08:50:29.326Z"
   },
   {
    "duration": 384,
    "start_time": "2023-09-29T08:50:29.620Z"
   },
   {
    "duration": 294,
    "start_time": "2023-09-29T08:50:30.005Z"
   },
   {
    "duration": 459,
    "start_time": "2023-09-29T08:50:30.301Z"
   },
   {
    "duration": 161,
    "start_time": "2023-09-29T08:50:30.762Z"
   },
   {
    "duration": 689,
    "start_time": "2023-09-29T08:50:30.929Z"
   },
   {
    "duration": 554,
    "start_time": "2023-09-29T08:50:31.620Z"
   },
   {
    "duration": 6,
    "start_time": "2023-09-29T08:50:32.177Z"
   },
   {
    "duration": 369,
    "start_time": "2023-09-29T08:50:32.185Z"
   },
   {
    "duration": 175,
    "start_time": "2023-09-29T08:50:32.558Z"
   },
   {
    "duration": 334,
    "start_time": "2023-09-29T08:50:32.735Z"
   },
   {
    "duration": 139,
    "start_time": "2023-09-29T08:50:33.072Z"
   },
   {
    "duration": 16,
    "start_time": "2023-09-29T08:50:33.214Z"
   },
   {
    "duration": 44,
    "start_time": "2023-09-29T08:55:12.630Z"
   },
   {
    "duration": 43,
    "start_time": "2023-09-29T08:59:44.711Z"
   },
   {
    "duration": 59,
    "start_time": "2023-09-29T09:00:17.360Z"
   },
   {
    "duration": 62,
    "start_time": "2023-09-29T09:00:44.213Z"
   },
   {
    "duration": 59,
    "start_time": "2023-09-29T09:03:17.834Z"
   },
   {
    "duration": 17,
    "start_time": "2023-09-29T09:04:25.758Z"
   },
   {
    "duration": 11,
    "start_time": "2023-09-29T09:04:26.759Z"
   },
   {
    "duration": 59,
    "start_time": "2023-09-29T09:05:25.778Z"
   },
   {
    "duration": 43,
    "start_time": "2023-09-29T09:05:57.729Z"
   },
   {
    "duration": 59,
    "start_time": "2023-09-29T12:14:21.852Z"
   },
   {
    "duration": 1243,
    "start_time": "2023-09-29T12:14:36.991Z"
   },
   {
    "duration": 4,
    "start_time": "2023-09-29T12:14:38.235Z"
   },
   {
    "duration": 125,
    "start_time": "2023-09-29T12:14:38.250Z"
   },
   {
    "duration": 20,
    "start_time": "2023-09-29T12:14:38.378Z"
   },
   {
    "duration": 171,
    "start_time": "2023-09-29T12:14:38.399Z"
   },
   {
    "duration": 78,
    "start_time": "2023-09-29T12:14:38.572Z"
   },
   {
    "duration": 28,
    "start_time": "2023-09-29T12:14:38.652Z"
   },
   {
    "duration": 52,
    "start_time": "2023-09-29T12:14:38.682Z"
   },
   {
    "duration": 47,
    "start_time": "2023-09-29T12:14:38.736Z"
   },
   {
    "duration": 25,
    "start_time": "2023-09-29T12:14:38.786Z"
   },
   {
    "duration": 38,
    "start_time": "2023-09-29T12:14:38.813Z"
   },
   {
    "duration": 318,
    "start_time": "2023-09-29T12:14:38.853Z"
   },
   {
    "duration": 341,
    "start_time": "2023-09-29T12:14:39.172Z"
   },
   {
    "duration": 264,
    "start_time": "2023-09-29T12:14:39.516Z"
   },
   {
    "duration": 453,
    "start_time": "2023-09-29T12:14:39.782Z"
   },
   {
    "duration": 331,
    "start_time": "2023-09-29T12:14:40.237Z"
   },
   {
    "duration": 354,
    "start_time": "2023-09-29T12:14:40.570Z"
   },
   {
    "duration": 190,
    "start_time": "2023-09-29T12:14:40.926Z"
   },
   {
    "duration": 6,
    "start_time": "2023-09-29T12:14:41.117Z"
   },
   {
    "duration": 153,
    "start_time": "2023-09-29T12:14:41.125Z"
   },
   {
    "duration": 5,
    "start_time": "2023-09-29T12:14:41.280Z"
   },
   {
    "duration": 238,
    "start_time": "2023-09-29T12:14:41.287Z"
   },
   {
    "duration": 23,
    "start_time": "2023-09-29T12:14:41.527Z"
   },
   {
    "duration": 29,
    "start_time": "2023-09-29T12:14:41.552Z"
   },
   {
    "duration": 59,
    "start_time": "2023-09-29T12:14:41.583Z"
   },
   {
    "duration": 22,
    "start_time": "2023-09-29T12:14:41.644Z"
   },
   {
    "duration": 13,
    "start_time": "2023-09-29T12:15:16.361Z"
   },
   {
    "duration": 179,
    "start_time": "2023-09-29T12:15:32.690Z"
   },
   {
    "duration": 32,
    "start_time": "2023-09-29T13:11:28.397Z"
   },
   {
    "duration": 1067,
    "start_time": "2023-09-29T13:28:32.772Z"
   },
   {
    "duration": 3,
    "start_time": "2023-09-29T13:28:33.841Z"
   },
   {
    "duration": 30,
    "start_time": "2023-09-29T13:28:33.849Z"
   },
   {
    "duration": 15,
    "start_time": "2023-09-29T13:28:33.881Z"
   },
   {
    "duration": 67,
    "start_time": "2023-09-29T13:28:33.897Z"
   },
   {
    "duration": 28,
    "start_time": "2023-09-29T13:28:33.965Z"
   },
   {
    "duration": 19,
    "start_time": "2023-09-29T13:28:33.994Z"
   },
   {
    "duration": 12,
    "start_time": "2023-09-29T13:28:34.014Z"
   },
   {
    "duration": 30,
    "start_time": "2023-09-29T13:28:34.028Z"
   },
   {
    "duration": 31,
    "start_time": "2023-09-29T13:28:34.060Z"
   },
   {
    "duration": 12,
    "start_time": "2023-09-29T13:28:34.092Z"
   },
   {
    "duration": 299,
    "start_time": "2023-09-29T13:28:34.105Z"
   },
   {
    "duration": 316,
    "start_time": "2023-09-29T13:28:34.406Z"
   },
   {
    "duration": 222,
    "start_time": "2023-09-29T13:28:34.724Z"
   },
   {
    "duration": 332,
    "start_time": "2023-09-29T13:28:34.947Z"
   },
   {
    "duration": 275,
    "start_time": "2023-09-29T13:28:35.281Z"
   },
   {
    "duration": 332,
    "start_time": "2023-09-29T13:28:35.558Z"
   },
   {
    "duration": 134,
    "start_time": "2023-09-29T13:28:35.891Z"
   },
   {
    "duration": 5,
    "start_time": "2023-09-29T13:28:36.026Z"
   },
   {
    "duration": 229,
    "start_time": "2023-09-29T13:28:36.033Z"
   },
   {
    "duration": 7,
    "start_time": "2023-09-29T13:28:36.264Z"
   },
   {
    "duration": 204,
    "start_time": "2023-09-29T13:28:36.273Z"
   },
   {
    "duration": 13,
    "start_time": "2023-09-29T13:28:36.479Z"
   },
   {
    "duration": 9,
    "start_time": "2023-09-29T13:28:36.494Z"
   },
   {
    "duration": 75,
    "start_time": "2023-09-29T13:28:36.505Z"
   },
   {
    "duration": 13,
    "start_time": "2023-09-29T13:28:36.582Z"
   },
   {
    "duration": 54,
    "start_time": "2023-09-30T17:47:52.326Z"
   },
   {
    "duration": 1223,
    "start_time": "2023-09-30T17:47:58.477Z"
   },
   {
    "duration": 3,
    "start_time": "2023-09-30T17:47:59.702Z"
   },
   {
    "duration": 73,
    "start_time": "2023-09-30T17:47:59.706Z"
   },
   {
    "duration": 14,
    "start_time": "2023-09-30T17:47:59.780Z"
   },
   {
    "duration": 98,
    "start_time": "2023-09-30T17:47:59.796Z"
   },
   {
    "duration": 79,
    "start_time": "2023-09-30T17:47:59.895Z"
   },
   {
    "duration": 17,
    "start_time": "2023-09-30T17:47:59.975Z"
   },
   {
    "duration": 12,
    "start_time": "2023-09-30T17:47:59.993Z"
   },
   {
    "duration": 57,
    "start_time": "2023-09-30T17:48:00.006Z"
   },
   {
    "duration": 83,
    "start_time": "2023-09-30T17:48:00.066Z"
   },
   {
    "duration": 64,
    "start_time": "2023-09-30T17:48:00.150Z"
   },
   {
    "duration": 292,
    "start_time": "2023-09-30T17:48:00.216Z"
   },
   {
    "duration": 303,
    "start_time": "2023-09-30T17:48:00.509Z"
   },
   {
    "duration": 228,
    "start_time": "2023-09-30T17:48:00.814Z"
   },
   {
    "duration": 370,
    "start_time": "2023-09-30T17:48:01.044Z"
   },
   {
    "duration": 250,
    "start_time": "2023-09-30T17:48:01.416Z"
   },
   {
    "duration": 306,
    "start_time": "2023-09-30T17:48:01.668Z"
   },
   {
    "duration": 122,
    "start_time": "2023-09-30T17:48:01.975Z"
   },
   {
    "duration": 4,
    "start_time": "2023-09-30T17:48:02.098Z"
   },
   {
    "duration": 161,
    "start_time": "2023-09-30T17:48:02.104Z"
   },
   {
    "duration": 4,
    "start_time": "2023-09-30T17:48:02.267Z"
   },
   {
    "duration": 170,
    "start_time": "2023-09-30T17:48:02.272Z"
   },
   {
    "duration": 9,
    "start_time": "2023-09-30T17:48:02.444Z"
   },
   {
    "duration": 29,
    "start_time": "2023-09-30T17:48:02.455Z"
   },
   {
    "duration": 33,
    "start_time": "2023-09-30T17:48:05.893Z"
   },
   {
    "duration": 35,
    "start_time": "2023-09-30T17:48:49.156Z"
   },
   {
    "duration": 329,
    "start_time": "2023-09-30T17:52:03.444Z"
   },
   {
    "duration": 1189,
    "start_time": "2023-10-01T15:57:23.512Z"
   },
   {
    "duration": 3,
    "start_time": "2023-10-01T15:57:24.703Z"
   },
   {
    "duration": 128,
    "start_time": "2023-10-01T15:57:24.708Z"
   },
   {
    "duration": 19,
    "start_time": "2023-10-01T15:57:24.839Z"
   },
   {
    "duration": 211,
    "start_time": "2023-10-01T15:57:24.860Z"
   },
   {
    "duration": 68,
    "start_time": "2023-10-01T15:57:25.073Z"
   },
   {
    "duration": 135,
    "start_time": "2023-10-01T15:57:25.143Z"
   },
   {
    "duration": 28,
    "start_time": "2023-10-01T15:57:25.280Z"
   },
   {
    "duration": 71,
    "start_time": "2023-10-01T15:57:25.311Z"
   },
   {
    "duration": 50,
    "start_time": "2023-10-01T15:57:25.386Z"
   },
   {
    "duration": 67,
    "start_time": "2023-10-01T15:57:25.439Z"
   },
   {
    "duration": 335,
    "start_time": "2023-10-01T15:57:25.508Z"
   },
   {
    "duration": 327,
    "start_time": "2023-10-01T15:57:25.844Z"
   },
   {
    "duration": 245,
    "start_time": "2023-10-01T15:57:26.173Z"
   },
   {
    "duration": 343,
    "start_time": "2023-10-01T15:57:26.419Z"
   },
   {
    "duration": 272,
    "start_time": "2023-10-01T15:57:26.764Z"
   },
   {
    "duration": 333,
    "start_time": "2023-10-01T15:57:27.038Z"
   },
   {
    "duration": 143,
    "start_time": "2023-10-01T15:57:27.373Z"
   },
   {
    "duration": 6,
    "start_time": "2023-10-01T15:57:27.518Z"
   },
   {
    "duration": 159,
    "start_time": "2023-10-01T15:57:27.525Z"
   },
   {
    "duration": 5,
    "start_time": "2023-10-01T15:57:27.685Z"
   },
   {
    "duration": 167,
    "start_time": "2023-10-01T15:57:27.691Z"
   },
   {
    "duration": 12,
    "start_time": "2023-10-01T15:57:27.859Z"
   },
   {
    "duration": 36,
    "start_time": "2023-10-01T15:57:27.872Z"
   },
   {
    "duration": 98,
    "start_time": "2023-10-01T15:57:27.910Z"
   },
   {
    "duration": 32,
    "start_time": "2023-10-01T15:57:28.010Z"
   },
   {
    "duration": 1214,
    "start_time": "2023-10-01T15:58:08.278Z"
   },
   {
    "duration": 7,
    "start_time": "2023-10-01T15:58:09.495Z"
   },
   {
    "duration": 53,
    "start_time": "2023-10-01T15:58:09.503Z"
   },
   {
    "duration": 17,
    "start_time": "2023-10-01T15:58:09.557Z"
   },
   {
    "duration": 65,
    "start_time": "2023-10-01T15:58:09.576Z"
   },
   {
    "duration": 88,
    "start_time": "2023-10-01T15:58:09.642Z"
   },
   {
    "duration": 108,
    "start_time": "2023-10-01T15:58:09.731Z"
   },
   {
    "duration": 127,
    "start_time": "2023-10-01T15:58:09.841Z"
   },
   {
    "duration": 13,
    "start_time": "2023-10-01T15:58:09.969Z"
   },
   {
    "duration": 26,
    "start_time": "2023-10-01T15:58:09.984Z"
   },
   {
    "duration": 47,
    "start_time": "2023-10-01T15:58:10.012Z"
   },
   {
    "duration": 350,
    "start_time": "2023-10-01T15:58:10.061Z"
   },
   {
    "duration": 366,
    "start_time": "2023-10-01T15:58:10.413Z"
   },
   {
    "duration": 248,
    "start_time": "2023-10-01T15:58:10.782Z"
   },
   {
    "duration": 332,
    "start_time": "2023-10-01T15:58:11.032Z"
   },
   {
    "duration": 289,
    "start_time": "2023-10-01T15:58:11.366Z"
   },
   {
    "duration": 339,
    "start_time": "2023-10-01T15:58:11.657Z"
   },
   {
    "duration": 141,
    "start_time": "2023-10-01T15:58:11.997Z"
   },
   {
    "duration": 5,
    "start_time": "2023-10-01T15:58:12.140Z"
   },
   {
    "duration": 167,
    "start_time": "2023-10-01T15:58:12.146Z"
   },
   {
    "duration": 5,
    "start_time": "2023-10-01T15:58:12.315Z"
   },
   {
    "duration": 173,
    "start_time": "2023-10-01T15:58:12.322Z"
   },
   {
    "duration": 12,
    "start_time": "2023-10-01T15:58:12.500Z"
   },
   {
    "duration": 12,
    "start_time": "2023-10-01T15:58:12.513Z"
   },
   {
    "duration": 13,
    "start_time": "2023-10-01T15:58:12.527Z"
   },
   {
    "duration": 61,
    "start_time": "2023-10-01T15:58:12.541Z"
   },
   {
    "duration": 14,
    "start_time": "2023-10-01T15:58:12.604Z"
   }
  ],
  "kernelspec": {
   "display_name": "Python 3 (ipykernel)",
   "language": "python",
   "name": "python3"
  },
  "language_info": {
   "codemirror_mode": {
    "name": "ipython",
    "version": 3
   },
   "file_extension": ".py",
   "mimetype": "text/x-python",
   "name": "python",
   "nbconvert_exporter": "python",
   "pygments_lexer": "ipython3",
   "version": "3.9.5"
  },
  "toc": {
   "base_numbering": 1,
   "nav_menu": {},
   "number_sections": true,
   "sideBar": true,
   "skip_h1_title": true,
   "title_cell": "Table of Contents",
   "title_sidebar": "Contents",
   "toc_cell": false,
   "toc_position": {
    "height": "calc(100% - 180px)",
    "left": "10px",
    "top": "150px",
    "width": "485.6px"
   },
   "toc_section_display": true,
   "toc_window_display": false
  }
 },
 "nbformat": 4,
 "nbformat_minor": 2
}
