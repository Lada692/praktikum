{
 "cells": [
  {
   "cell_type": "markdown",
   "metadata": {},
   "source": [
    "### Описание проекта"
   ]
  },
  {
   "cell_type": "markdown",
   "metadata": {},
   "source": [
    "#### Описание проекта"
   ]
  },
  {
   "cell_type": "markdown",
   "metadata": {},
   "source": [
    "Интернет-магазин «Стримчик» продаёт по всему миру компьютерные игры. Из открытых источников доступны исторические данные о продажах игр, оценки пользователей и экспертов, жанры и платформы (например, Xbox или PlayStation). "
   ]
  },
  {
   "cell_type": "markdown",
   "metadata": {},
   "source": [
    "#### Задачи проекта"
   ]
  },
  {
   "cell_type": "markdown",
   "metadata": {},
   "source": [
    "Выявить определяющие успешность игры закономерности. Это позволит сделать ставку на потенциально популярный продукт и спланировать рекламные кампании"
   ]
  },
  {
   "cell_type": "markdown",
   "metadata": {},
   "source": [
    "#### Описание данных"
   ]
  },
  {
   "cell_type": "markdown",
   "metadata": {},
   "source": [
    "`Name` — название игры\n",
    "\n",
    "`Platform` — платформа\n",
    "\n",
    "`Year_of_Release` — год выпуска\n",
    "\n",
    "`Genre` — жанр игры\n",
    "\n",
    "`NA_sales`— продажи в Северной Америке (миллионы проданных копий)\n",
    "\n",
    "`EU_sales` — продажи в Европе (миллионы проданных копий)\n",
    "\n",
    "`JP_sales` — продажи в Японии (миллионы проданных копий)\n",
    "\n",
    "`Other_sales` — продажи в других странах (миллионы проданных копий)\n",
    "\n",
    "`Critic_Score` — оценка критиков (максимум 100)\n",
    "\n",
    "`User_Score` — оценка пользователей (максимум 10)\n",
    "\n",
    "`Rating` — рейтинг от организации ESRB (англ. Entertainment Software Rating Board). Эта ассоциация определяет рейтинг компьютерных игр и присваивает им подходящую возрастную категорию."
   ]
  },
  {
   "cell_type": "markdown",
   "metadata": {},
   "source": [
    "### Открытие файлов и изучение общей информации"
   ]
  },
  {
   "cell_type": "code",
   "execution_count": 1,
   "metadata": {},
   "outputs": [],
   "source": [
    "import pandas as pd\n",
    "import matplotlib.pyplot as plt\n",
    "import numpy as np\n",
    "import statistics as st\n",
    "from scipy import stats as stt"
   ]
  },
  {
   "cell_type": "code",
   "execution_count": 2,
   "metadata": {},
   "outputs": [
    {
     "name": "stdout",
     "output_type": "stream",
     "text": [
      "<class 'pandas.core.frame.DataFrame'>\n",
      "RangeIndex: 16715 entries, 0 to 16714\n",
      "Data columns (total 11 columns):\n",
      " #   Column           Non-Null Count  Dtype  \n",
      "---  ------           --------------  -----  \n",
      " 0   Name             16713 non-null  object \n",
      " 1   Platform         16715 non-null  object \n",
      " 2   Year_of_Release  16446 non-null  float64\n",
      " 3   Genre            16713 non-null  object \n",
      " 4   NA_sales         16715 non-null  float64\n",
      " 5   EU_sales         16715 non-null  float64\n",
      " 6   JP_sales         16715 non-null  float64\n",
      " 7   Other_sales      16715 non-null  float64\n",
      " 8   Critic_Score     8137 non-null   float64\n",
      " 9   User_Score       10014 non-null  object \n",
      " 10  Rating           9949 non-null   object \n",
      "dtypes: float64(6), object(5)\n",
      "memory usage: 1.4+ MB\n",
      "None\n"
     ]
    }
   ],
   "source": [
    "data = pd.read_csv('/datasets/games.csv')\n",
    "data.head()\n",
    "print(data.info())"
   ]
  },
  {
   "cell_type": "code",
   "execution_count": 3,
   "metadata": {},
   "outputs": [
    {
     "data": {
      "image/png": "[encoded data removed]",
      "text/plain": [
       "<Figure size 432x288 with 6 Axes>"
      ]
     },
     "metadata": {
      "needs_background": "light"
     },
     "output_type": "display_data"
    }
   ],
   "source": [
    "data.hist();"
   ]
  },
  {
   "cell_type": "markdown",
   "metadata": {},
   "source": [
    "\n",
    "✔️ Промежуточный вывод\n",
    "    \n",
    "Файл с данными открыт и отображается корректно. Названия столбцов необходимо привести к единому стилю, наблюдаются пропуски и несоответствие типов данных, в значениях продаж присутствуют аномальные"
   ]
  },
  {
   "cell_type": "markdown",
   "metadata": {},
   "source": [
    "### Подготовка данных"
   ]
  },
  {
   "cell_type": "markdown",
   "metadata": {},
   "source": [
    "#### Замена названий столбцов"
   ]
  },
  {
   "cell_type": "code",
   "execution_count": 4,
   "metadata": {},
   "outputs": [
    {
     "data": {
      "text/html": [
       "<div>\n",
       "<style scoped>\n",
       "    .dataframe tbody tr th:only-of-type {\n",
       "        vertical-align: middle;\n",
       "    }\n",
       "\n",
       "    .dataframe tbody tr th {\n",
       "        vertical-align: top;\n",
       "    }\n",
       "\n",
       "    .dataframe thead th {\n",
       "        text-align: right;\n",
       "    }\n",
       "</style>\n",
       "<table border=\"1\" class=\"dataframe\">\n",
       "  <thead>\n",
       "    <tr style=\"text-align: right;\">\n",
       "      <th></th>\n",
       "      <th>name</th>\n",
       "      <th>platform</th>\n",
       "      <th>year_of_release</th>\n",
       "      <th>genre</th>\n",
       "      <th>na_sales</th>\n",
       "      <th>eu_sales</th>\n",
       "      <th>jp_sales</th>\n",
       "      <th>other_sales</th>\n",
       "      <th>critic_score</th>\n",
       "      <th>user_score</th>\n",
       "      <th>rating</th>\n",
       "    </tr>\n",
       "  </thead>\n",
       "  <tbody>\n",
       "    <tr>\n",
       "      <th>0</th>\n",
       "      <td>Wii Sports</td>\n",
       "      <td>Wii</td>\n",
       "      <td>2006.0</td>\n",
       "      <td>Sports</td>\n",
       "      <td>41.36</td>\n",
       "      <td>28.96</td>\n",
       "      <td>3.77</td>\n",
       "      <td>8.45</td>\n",
       "      <td>76.0</td>\n",
       "      <td>8</td>\n",
       "      <td>E</td>\n",
       "    </tr>\n",
       "    <tr>\n",
       "      <th>1</th>\n",
       "      <td>Super Mario Bros.</td>\n",
       "      <td>NES</td>\n",
       "      <td>1985.0</td>\n",
       "      <td>Platform</td>\n",
       "      <td>29.08</td>\n",
       "      <td>3.58</td>\n",
       "      <td>6.81</td>\n",
       "      <td>0.77</td>\n",
       "      <td>NaN</td>\n",
       "      <td>NaN</td>\n",
       "      <td>NaN</td>\n",
       "    </tr>\n",
       "    <tr>\n",
       "      <th>2</th>\n",
       "      <td>Mario Kart Wii</td>\n",
       "      <td>Wii</td>\n",
       "      <td>2008.0</td>\n",
       "      <td>Racing</td>\n",
       "      <td>15.68</td>\n",
       "      <td>12.76</td>\n",
       "      <td>3.79</td>\n",
       "      <td>3.29</td>\n",
       "      <td>82.0</td>\n",
       "      <td>8.3</td>\n",
       "      <td>E</td>\n",
       "    </tr>\n",
       "    <tr>\n",
       "      <th>3</th>\n",
       "      <td>Wii Sports Resort</td>\n",
       "      <td>Wii</td>\n",
       "      <td>2009.0</td>\n",
       "      <td>Sports</td>\n",
       "      <td>15.61</td>\n",
       "      <td>10.93</td>\n",
       "      <td>3.28</td>\n",
       "      <td>2.95</td>\n",
       "      <td>80.0</td>\n",
       "      <td>8</td>\n",
       "      <td>E</td>\n",
       "    </tr>\n",
       "    <tr>\n",
       "      <th>4</th>\n",
       "      <td>Pokemon Red/Pokemon Blue</td>\n",
       "      <td>GB</td>\n",
       "      <td>1996.0</td>\n",
       "      <td>Role-Playing</td>\n",
       "      <td>11.27</td>\n",
       "      <td>8.89</td>\n",
       "      <td>10.22</td>\n",
       "      <td>1.00</td>\n",
       "      <td>NaN</td>\n",
       "      <td>NaN</td>\n",
       "      <td>NaN</td>\n",
       "    </tr>\n",
       "  </tbody>\n",
       "</table>\n",
       "</div>"
      ],
      "text/plain": [
       "                       name platform  year_of_release         genre  na_sales  \\\n",
       "0                Wii Sports      Wii           2006.0        Sports     41.36   \n",
       "1         Super Mario Bros.      NES           1985.0      Platform     29.08   \n",
       "2            Mario Kart Wii      Wii           2008.0        Racing     15.68   \n",
       "3         Wii Sports Resort      Wii           2009.0        Sports     15.61   \n",
       "4  Pokemon Red/Pokemon Blue       GB           1996.0  Role-Playing     11.27   \n",
       "\n",
       "   eu_sales  jp_sales  other_sales  critic_score user_score rating  \n",
       "0     28.96      3.77         8.45          76.0          8      E  \n",
       "1      3.58      6.81         0.77           NaN        NaN    NaN  \n",
       "2     12.76      3.79         3.29          82.0        8.3      E  \n",
       "3     10.93      3.28         2.95          80.0          8      E  \n",
       "4      8.89     10.22         1.00           NaN        NaN    NaN  "
      ]
     },
     "execution_count": 4,
     "metadata": {},
     "output_type": "execute_result"
    }
   ],
   "source": [
    "columns = []\n",
    "for column in data:\n",
    "    columns.append(column.lower())\n",
    "data.columns = columns\n",
    "data.head()"
   ]
  },
  {
   "cell_type": "markdown",
   "metadata": {},
   "source": [
    "**Лада:** ✔️ Названия столбцов приведены к единому стилю"
   ]
  },
  {
   "cell_type": "markdown",
   "metadata": {},
   "source": [
    "#### Преобразование данных"
   ]
  },
  {
   "cell_type": "markdown",
   "metadata": {},
   "source": [
    "##### Преобразование типов данных"
   ]
  },
  {
   "cell_type": "code",
   "execution_count": 5,
   "metadata": {
    "scrolled": false
   },
   "outputs": [
    {
     "name": "stdout",
     "output_type": "stream",
     "text": [
      "<class 'pandas.core.frame.DataFrame'>\n",
      "RangeIndex: 16715 entries, 0 to 16714\n",
      "Data columns (total 11 columns):\n",
      " #   Column           Non-Null Count  Dtype  \n",
      "---  ------           --------------  -----  \n",
      " 0   name             16713 non-null  object \n",
      " 1   platform         16715 non-null  object \n",
      " 2   year_of_release  16446 non-null  float64\n",
      " 3   genre            16713 non-null  object \n",
      " 4   na_sales         16715 non-null  float64\n",
      " 5   eu_sales         16715 non-null  float64\n",
      " 6   jp_sales         16715 non-null  float64\n",
      " 7   other_sales      16715 non-null  float64\n",
      " 8   critic_score     8137 non-null   float64\n",
      " 9   user_score       10014 non-null  object \n",
      " 10  rating           9949 non-null   object \n",
      "dtypes: float64(6), object(5)\n",
      "memory usage: 1.4+ MB\n"
     ]
    }
   ],
   "source": [
    "data.info()"
   ]
  },
  {
   "cell_type": "markdown",
   "metadata": {},
   "source": [
    "   \n",
    "**Лада:** ✔️ столбцы `year_of_release` и `user_score` необходимо привести к числовому типу данных"
   ]
  },
  {
   "cell_type": "code",
   "execution_count": 6,
   "metadata": {},
   "outputs": [],
   "source": [
    "def check_type(column, table):\n",
    "    types = {}\n",
    "    for value in table[column].unique():\n",
    "        if type(value) not in types:\n",
    "            types[type(value)] = []\n",
    "        types[type(value)].append(value)\n",
    "    print(types)"
   ]
  },
  {
   "cell_type": "markdown",
   "metadata": {},
   "source": [
    "##### Столбец `year_of_release`"
   ]
  },
  {
   "cell_type": "code",
   "execution_count": 7,
   "metadata": {
    "scrolled": true
   },
   "outputs": [
    {
     "name": "stdout",
     "output_type": "stream",
     "text": [
      "{<class 'numpy.float64'>: [2006.0, 1985.0, 2008.0, 2009.0, 1996.0, 1989.0, 1984.0, 2005.0, 1999.0, 2007.0, 2010.0, 2013.0, 2004.0, 1990.0, 1988.0, 2002.0, 2001.0, 2011.0, 1998.0, 2015.0, 2012.0, 2014.0, 1992.0, 1997.0, 1993.0, 1994.0, 1982.0, 2016.0, 2003.0, 1986.0, 2000.0, nan, 1995.0, 1991.0, 1981.0, 1987.0, 1980.0, 1983.0]}\n"
     ]
    }
   ],
   "source": [
    "check_type('year_of_release', data)"
   ]
  },
  {
   "cell_type": "markdown",
   "metadata": {},
   "source": [
    "    \n",
    "**Лада:** ✔️ Столбец состоит из значений типа float и nan. Приведу его к типу int"
   ]
  },
  {
   "cell_type": "code",
   "execution_count": 8,
   "metadata": {
    "scrolled": true
   },
   "outputs": [
    {
     "name": "stdout",
     "output_type": "stream",
     "text": [
      "{<class 'numpy.int32'>: [2006, 1985, 2008, 2009, 1996, 1989, 1984, 2005, 1999, 2007, 2010, 2013, 2004, 1990, 1988, 2002, 2001, 2011, 1998, 2015, 2012, 2014, 1992, 1997, 1993, 1994, 1982, 2016, 2003, 1986, 2000, 1995, 1991, 1981, 1987, 1980, 1983], <class 'pandas._libs.missing.NAType'>: [<NA>]}\n"
     ]
    }
   ],
   "source": [
    "data['year_of_release'] = data['year_of_release'].fillna(np.nan).astype('Int32')\n",
    "check_type('year_of_release', data)"
   ]
  },
  {
   "cell_type": "markdown",
   "metadata": {},
   "source": [
    "  \n",
    "**Лада:** ✔️ столбец `year_of_release` приведён к числовому типу данных"
   ]
  },
  {
   "cell_type": "markdown",
   "metadata": {},
   "source": [
    "###### Столбец `user_score`"
   ]
  },
  {
   "cell_type": "code",
   "execution_count": 9,
   "metadata": {},
   "outputs": [
    {
     "name": "stdout",
     "output_type": "stream",
     "text": [
      "{<class 'str'>: ['8', '8.3', '8.5', '6.6', '8.4', '8.6', '7.7', '6.3', '7.4', '8.2', '9', '7.9', '8.1', '8.7', '7.1', '3.4', '5.3', '4.8', '3.2', '8.9', '6.4', '7.8', '7.5', '2.6', '7.2', '9.2', '7', '7.3', '4.3', '7.6', '5.7', '5', '9.1', '6.5', 'tbd', '8.8', '6.9', '9.4', '6.8', '6.1', '6.7', '5.4', '4', '4.9', '4.5', '9.3', '6.2', '4.2', '6', '3.7', '4.1', '5.8', '5.6', '5.5', '4.4', '4.6', '5.9', '3.9', '3.1', '2.9', '5.2', '3.3', '4.7', '5.1', '3.5', '2.5', '1.9', '3', '2.7', '2.2', '2', '9.5', '2.1', '3.6', '2.8', '1.8', '3.8', '0', '1.6', '9.6', '2.4', '1.7', '1.1', '0.3', '1.5', '0.7', '1.2', '2.3', '0.5', '1.3', '0.2', '0.6', '1.4', '0.9', '1', '9.7'], <class 'float'>: [nan]}\n"
     ]
    }
   ],
   "source": [
    "check_type('user_score', data)"
   ]
  },
  {
   "cell_type": "markdown",
   "metadata": {},
   "source": [
    "  \n",
    "**Лада:** ✔️ Столбец состоит из строк, представляющих собой числа с плавающей точкой, и значений 'tbd'\n",
    "    \n",
    "TBD — это аббревиатура, которая обозначает «To Be Determined» (англ. «будет определено»). Это выражение используется в различных областях и означает, что некоторые детали еще не известны или не определены, следовательно, строки с этим значением корректны, однако их не представляется возможным учитывать при оценке влияния рейтингов, поэтому их необходимо заменить медианным по платформе, а числа с плавающей точкой необходимо привести к соответствующему формату данных"
   ]
  },
  {
   "cell_type": "code",
   "execution_count": 10,
   "metadata": {
    "scrolled": true
   },
   "outputs": [
    {
     "name": "stdout",
     "output_type": "stream",
     "text": [
      "{<class 'float'>: [8.0, nan, 8.3, 8.5, 6.6, 8.4, 8.6, 7.7, 6.3, 7.4, 8.2, 9.0, 7.9, 8.1, 8.7, 7.1, 3.4, 5.3, 4.8, 3.2, 8.9, 6.4, 7.8, 7.5, 2.6, 7.2, 9.2, 7.0, 7.3, 4.3, 7.6, 5.7, 5.0, 9.1, 6.5, 8.8, 6.9, 9.4, 6.8, 6.1, 6.7, 5.4, 4.0, 4.9, 4.5, 9.3, 6.2, 4.2, 6.0, 3.7, 4.1, 5.8, 5.6, 5.5, 4.4, 4.6, 5.9, 3.9, 3.1, 2.9, 5.2, 3.3, 4.7, 5.1, 3.5, 2.5, 1.9, 3.0, 2.7, 2.2, 2.0, 9.5, 2.1, 3.6, 2.8, 1.8, 3.8, 0.0, 1.6, 9.6, 2.4, 1.7, 1.1, 0.3, 1.5, 0.7, 1.2, 2.3, 0.5, 1.3, 0.2, 0.6, 1.4, 0.9, 1.0, 9.7], <class 'str'>: ['tbd']}\n"
     ]
    }
   ],
   "source": [
    "data.loc[data['user_score'] != 'tbd', 'user_score'] = data.loc[data['user_score'] != 'tbd', 'user_score'].astype('string').astype('float').fillna(np.nan)\n",
    "check_type('user_score', data)"
   ]
  },
  {
   "cell_type": "markdown",
   "metadata": {},
   "source": [
    "  \n",
    "**Лада:** ✔️ Числа с плавающей точкой приведены к соответствующему формату данных"
   ]
  },
  {
   "cell_type": "markdown",
   "metadata": {},
   "source": [
    "#### Столбец `rating`"
   ]
  },
  {
   "cell_type": "code",
   "execution_count": 11,
   "metadata": {},
   "outputs": [
    {
     "data": {
      "text/plain": [
       "0"
      ]
     },
     "execution_count": 11,
     "metadata": {},
     "output_type": "execute_result"
    }
   ],
   "source": [
    "data.loc[data['rating'].isna(), 'rating'] = 'unknown'\n",
    "data['rating'].isna().sum()"
   ]
  },
  {
   "cell_type": "markdown",
   "metadata": {},
   "source": [
    "   \n",
    "**Лада (2):** ✔️ Пропущенные значения столбца `rating` заменены значением unknown"
   ]
  },
  {
   "cell_type": "markdown",
   "metadata": {},
   "source": [
    "#### Обработка пропусков"
   ]
  },
  {
   "cell_type": "code",
   "execution_count": 12,
   "metadata": {},
   "outputs": [],
   "source": [
    "def missed(column):\n",
    "    print(f'Процент попущенных значений в столбце {column} равен {round(data[column].isna().sum()/len(data.index), 4)}')"
   ]
  },
  {
   "cell_type": "code",
   "execution_count": 13,
   "metadata": {},
   "outputs": [
    {
     "name": "stdout",
     "output_type": "stream",
     "text": [
      "Процент попущенных значений в столбце name равен 0.0001\n",
      "Процент попущенных значений в столбце platform равен 0.0\n",
      "Процент попущенных значений в столбце year_of_release равен 0.0161\n",
      "Процент попущенных значений в столбце genre равен 0.0001\n",
      "Процент попущенных значений в столбце na_sales равен 0.0\n",
      "Процент попущенных значений в столбце eu_sales равен 0.0\n",
      "Процент попущенных значений в столбце jp_sales равен 0.0\n",
      "Процент попущенных значений в столбце other_sales равен 0.0\n",
      "Процент попущенных значений в столбце critic_score равен 0.5132\n",
      "Процент попущенных значений в столбце user_score равен 0.4009\n",
      "Процент попущенных значений в столбце rating равен 0.0\n"
     ]
    }
   ],
   "source": [
    "for column in data:\n",
    "    missed(column)"
   ]
  },
  {
   "cell_type": "markdown",
   "metadata": {},
   "source": [
    "    \n",
    "**Лада:** ✔️ Пропусков в столбцах `platform`, `na_sales`, `eu_sales`, `jp_sales`, `other_sales` нет. Количество пропусков в столбцах `name`, `year_of_release`, `genre` незначительно. На пропуски в столбцах `raiting`, `critic_score` и `user_score` следует обратить особое внимание"
   ]
  },
  {
   "cell_type": "markdown",
   "metadata": {},
   "source": [
    "\n",
    "**Лада:** ✔️ Проверю, как пропуски распределены по платформам"
   ]
  },
  {
   "cell_type": "code",
   "execution_count": 14,
   "metadata": {},
   "outputs": [],
   "source": [
    "def missed_array(column1, column2):\n",
    "    total_missed1 = []\n",
    "    total_missed2 = []\n",
    "    for curr_platform in data['platform'].unique():\n",
    "        table1 = data.query('platform == @curr_platform')\n",
    "        missed1 = table1[column1].isna().sum()/len(table1.index)\n",
    "        table2 = data.query('platform == @curr_platform')\n",
    "        missed2 = table2[column2].isna().sum()/len(table2.index)\n",
    "        if missed1 == 1.0:\n",
    "            total_missed1.append(curr_platform)\n",
    "        elif missed1 != 1.0 or missed2 != 1.0:\n",
    "            print(f'Данные по платформе {curr_platform}:')\n",
    "            print(f'пропущено {round(missed1*100, 2)}% столбца {column1} и {round(missed2*100, 2)}% столбца {column2}')\n",
    "            print()\n",
    "        if missed2 == 1.0:\n",
    "            total_missed2.append(curr_platform)\n",
    "    print(f'Столбец {column1} полностью пропущен в платформах {total_missed1}')\n",
    "    print(f'Столбец {column2} полностью пропущен в платформах {total_missed2}')   "
   ]
  },
  {
   "cell_type": "code",
   "execution_count": 15,
   "metadata": {
    "scrolled": false
   },
   "outputs": [
    {
     "name": "stdout",
     "output_type": "stream",
     "text": [
      "Данные по платформе Wii:\n",
      "пропущено 24.24% столбца user_score и 55.68% столбца critic_score\n",
      "\n",
      "Данные по платформе DS:\n",
      "пропущено 40.86% столбца user_score и 66.67% столбца critic_score\n",
      "\n",
      "Данные по платформе X360:\n",
      "пропущено 16.8% столбца user_score и 27.42% столбца critic_score\n",
      "\n",
      "Данные по платформе PS3:\n",
      "пропущено 27.57% столбца user_score и 38.39% столбца critic_score\n",
      "\n",
      "Данные по платформе PS2:\n",
      "пропущено 31.47% столбца user_score и 39.94% столбца critic_score\n",
      "\n",
      "Данные по платформе GBA:\n",
      "пропущено 37.1% столбца user_score и 46.72% столбца critic_score\n",
      "\n",
      "Данные по платформе PS4:\n",
      "пропущено 32.91% столбца user_score и 35.71% столбца critic_score\n",
      "\n",
      "Данные по платформе 3DS:\n",
      "пропущено 55.77% столбца user_score и 67.69% столбца critic_score\n",
      "\n",
      "Данные по платформе PS:\n",
      "пропущено 82.71% столбца user_score и 83.29% столбца critic_score\n",
      "\n",
      "Данные по платформе XB:\n",
      "пропущено 10.68% столбца user_score и 12.01% столбца critic_score\n",
      "\n",
      "Данные по платформе PC:\n",
      "пропущено 15.91% столбца user_score и 26.59% столбца critic_score\n",
      "\n",
      "Данные по платформе PSP:\n",
      "пропущено 55.0% столбца user_score и 61.79% столбца critic_score\n",
      "\n",
      "Данные по платформе XOne:\n",
      "пропущено 21.86% столбца user_score и 31.58% столбца critic_score\n",
      "\n",
      "Данные по платформе WiiU:\n",
      "пропущено 28.57% столбца user_score и 38.78% столбца critic_score\n",
      "\n",
      "Данные по платформе GC:\n",
      "пропущено 15.65% столбца user_score и 19.42% столбца critic_score\n",
      "\n",
      "Данные по платформе DC:\n",
      "пропущено 73.08% столбца user_score и 73.08% столбца critic_score\n",
      "\n",
      "Данные по платформе PSV:\n",
      "пропущено 65.12% столбца user_score и 72.09% столбца critic_score\n",
      "\n",
      "Столбец user_score полностью пропущен в платформах ['NES', 'GB', 'SNES', 'N64', '2600', 'GEN', 'SAT', 'SCD', 'WS', 'NG', 'TG16', '3DO', 'GG', 'PCFX']\n",
      "Столбец critic_score полностью пропущен в платформах ['NES', 'GB', 'SNES', 'N64', '2600', 'GEN', 'SAT', 'SCD', 'WS', 'NG', 'TG16', '3DO', 'GG', 'PCFX']\n"
     ]
    }
   ],
   "source": [
    "missed_array('user_score', 'critic_score')"
   ]
  },
  {
   "cell_type": "markdown",
   "metadata": {},
   "source": [
    " \n",
    "**Лада:** ✔️ Пропуски в столбцах `user_score` и `critic_score` распрделены неравномерно, значений столбца `user_score` обычно больше, чем столбца `critic_score`."
   ]
  },
  {
   "cell_type": "markdown",
   "metadata": {},
   "source": [
    "\n",
    "**Лада (2):** ✔️ Значения tbd и пропущенные значения столбцов user_score и critic_score заменю на nan"
   ]
  },
  {
   "cell_type": "code",
   "execution_count": 16,
   "metadata": {
    "scrolled": true
   },
   "outputs": [],
   "source": [
    "data.loc[data['user_score'] == \"tbd\", 'user_score'] = np.nan\n",
    "data.loc[data['user_score'] == \"tbd\", 'user_score'].count()\n",
    "data['user_score'] = data['user_score'].astype('float')"
   ]
  },
  {
   "cell_type": "markdown",
   "metadata": {},
   "source": [
    "\n",
    "**Лада (2):** ✔️ Данные заменены"
   ]
  },
  {
   "cell_type": "markdown",
   "metadata": {},
   "source": [
    "#### Обработка дубликатов"
   ]
  },
  {
   "cell_type": "code",
   "execution_count": 17,
   "metadata": {},
   "outputs": [
    {
     "data": {
      "text/plain": [
       "0"
      ]
     },
     "execution_count": 17,
     "metadata": {},
     "output_type": "execute_result"
    }
   ],
   "source": [
    "data.duplicated().sum()"
   ]
  },
  {
   "cell_type": "markdown",
   "metadata": {},
   "source": [
    "   \n",
    "**Лада (2):** ✔️ Явных дубликатов в таблице нет"
   ]
  },
  {
   "cell_type": "code",
   "execution_count": 18,
   "metadata": {},
   "outputs": [
    {
     "data": {
      "text/html": [
       "<div>\n",
       "<style scoped>\n",
       "    .dataframe tbody tr th:only-of-type {\n",
       "        vertical-align: middle;\n",
       "    }\n",
       "\n",
       "    .dataframe tbody tr th {\n",
       "        vertical-align: top;\n",
       "    }\n",
       "\n",
       "    .dataframe thead th {\n",
       "        text-align: right;\n",
       "    }\n",
       "</style>\n",
       "<table border=\"1\" class=\"dataframe\">\n",
       "  <thead>\n",
       "    <tr style=\"text-align: right;\">\n",
       "      <th></th>\n",
       "      <th>name</th>\n",
       "      <th>platform</th>\n",
       "      <th>year_of_release</th>\n",
       "      <th>genre</th>\n",
       "      <th>na_sales</th>\n",
       "      <th>eu_sales</th>\n",
       "      <th>jp_sales</th>\n",
       "      <th>other_sales</th>\n",
       "      <th>critic_score</th>\n",
       "      <th>user_score</th>\n",
       "      <th>rating</th>\n",
       "    </tr>\n",
       "  </thead>\n",
       "  <tbody>\n",
       "    <tr>\n",
       "      <th>604</th>\n",
       "      <td>Madden NFL 13</td>\n",
       "      <td>PS3</td>\n",
       "      <td>2012</td>\n",
       "      <td>Sports</td>\n",
       "      <td>2.11</td>\n",
       "      <td>0.22</td>\n",
       "      <td>0.00</td>\n",
       "      <td>0.23</td>\n",
       "      <td>83.0</td>\n",
       "      <td>5.5</td>\n",
       "      <td>E</td>\n",
       "    </tr>\n",
       "    <tr>\n",
       "      <th>659</th>\n",
       "      <td>NaN</td>\n",
       "      <td>GEN</td>\n",
       "      <td>1993</td>\n",
       "      <td>NaN</td>\n",
       "      <td>1.78</td>\n",
       "      <td>0.53</td>\n",
       "      <td>0.00</td>\n",
       "      <td>0.08</td>\n",
       "      <td>NaN</td>\n",
       "      <td>NaN</td>\n",
       "      <td>unknown</td>\n",
       "    </tr>\n",
       "    <tr>\n",
       "      <th>14244</th>\n",
       "      <td>NaN</td>\n",
       "      <td>GEN</td>\n",
       "      <td>1993</td>\n",
       "      <td>NaN</td>\n",
       "      <td>0.00</td>\n",
       "      <td>0.00</td>\n",
       "      <td>0.03</td>\n",
       "      <td>0.00</td>\n",
       "      <td>NaN</td>\n",
       "      <td>NaN</td>\n",
       "      <td>unknown</td>\n",
       "    </tr>\n",
       "    <tr>\n",
       "      <th>16230</th>\n",
       "      <td>Madden NFL 13</td>\n",
       "      <td>PS3</td>\n",
       "      <td>2012</td>\n",
       "      <td>Sports</td>\n",
       "      <td>0.00</td>\n",
       "      <td>0.01</td>\n",
       "      <td>0.00</td>\n",
       "      <td>0.00</td>\n",
       "      <td>83.0</td>\n",
       "      <td>5.5</td>\n",
       "      <td>E</td>\n",
       "    </tr>\n",
       "  </tbody>\n",
       "</table>\n",
       "</div>"
      ],
      "text/plain": [
       "                name platform  year_of_release   genre  na_sales  eu_sales  \\\n",
       "604    Madden NFL 13      PS3             2012  Sports      2.11      0.22   \n",
       "659              NaN      GEN             1993     NaN      1.78      0.53   \n",
       "14244            NaN      GEN             1993     NaN      0.00      0.00   \n",
       "16230  Madden NFL 13      PS3             2012  Sports      0.00      0.01   \n",
       "\n",
       "       jp_sales  other_sales  critic_score  user_score   rating  \n",
       "604        0.00         0.23          83.0         5.5        E  \n",
       "659        0.00         0.08           NaN         NaN  unknown  \n",
       "14244      0.03         0.00           NaN         NaN  unknown  \n",
       "16230      0.00         0.00          83.0         5.5        E  "
      ]
     },
     "execution_count": 18,
     "metadata": {},
     "output_type": "execute_result"
    }
   ],
   "source": [
    "data[data[['name', 'platform','year_of_release']].duplicated(keep=False)]"
   ]
  },
  {
   "cell_type": "markdown",
   "metadata": {},
   "source": [
    "\n",
    "**Лада:** ✔️ В данных есть дубликаты: значения с id 659\tи 14244\tможно удалить, так в них много пропусков, а продажи игры с id 604 и 16230 сложить"
   ]
  },
  {
   "cell_type": "markdown",
   "metadata": {},
   "source": [
    " \n",
    "**Лада:** ✔️ *Промежуточный вывод*\n",
    "\n",
    "Названия столбцов приведены к единому стилю, типы данных приведены к необходимым, выбивающиеся значения обработаны"
   ]
  },
  {
   "cell_type": "markdown",
   "metadata": {},
   "source": [
    "### Исследовательский анализ данных"
   ]
  },
  {
   "cell_type": "markdown",
   "metadata": {},
   "source": [
    "#### Статистика количества выпускаемых игр в разные годы"
   ]
  },
  {
   "cell_type": "code",
   "execution_count": 19,
   "metadata": {},
   "outputs": [
    {
     "data": {
      "image/png": "[encoded data removed]",
      "text/plain": [
       "<Figure size 432x288 with 1 Axes>"
      ]
     },
     "metadata": {
      "needs_background": "light"
     },
     "output_type": "display_data"
    }
   ],
   "source": [
    "years_stat = data.groupby('year_of_release')['name'].count()\n",
    "years_stat.plot(kind='bar', title='Количество выпущенных игр по годам', ylabel='Количество игр', xlabel='Год выпуска');"
   ]
  },
  {
   "cell_type": "markdown",
   "metadata": {},
   "source": [
    "  \n",
    "**Лада:** ✔️ По графику видно, что до 1995 года производилось незначительное количество игр, поэтому данные за период, предшествующий этому можно считать неважными. \n",
    "    \n",
    "До 2008 года наблюдается постоянный уверенный рост игровой индустрии с пиком продаж в 2008-2009 годах, после наблюдается значительный спад с сохранением относительной стабильности с 2011 по 2016 год"
   ]
  },
  {
   "cell_type": "markdown",
   "metadata": {},
   "source": [
    "#### Изменение продаж по платформам"
   ]
  },
  {
   "cell_type": "code",
   "execution_count": 20,
   "metadata": {},
   "outputs": [
    {
     "data": {
      "image/png": "[encoded data removed]",
      "text/plain": [
       "<Figure size 432x288 with 1 Axes>"
      ]
     },
     "metadata": {
      "needs_background": "light"
     },
     "output_type": "display_data"
    }
   ],
   "source": [
    "data['total_sales'] = data['na_sales'] + data['jp_sales'] + data['eu_sales'] + data['other_sales']\n",
    "top_10 = data.groupby('platform')['total_sales'].sum().sort_values(ascending=False).head(10)\n",
    "top_10.plot(kind='bar', x='name', y='total_sales', xlabel='Название платформы',\n",
    "            ylabel='Количество продаж (млн)', title='Лидеры по прожадам', grid=True);"
   ]
  },
  {
   "cell_type": "code",
   "execution_count": 21,
   "metadata": {
    "scrolled": false
   },
   "outputs": [
    {
     "data": {
      "image/png": "[encoded data removed]",
      "text/plain": [
       "<Figure size 432x288 with 1 Axes>"
      ]
     },
     "metadata": {
      "needs_background": "light"
     },
     "output_type": "display_data"
    },
    {
     "data": {
      "image/png": "[encoded data removed]",
      "text/plain": [
       "<Figure size 432x288 with 1 Axes>"
      ]
     },
     "metadata": {
      "needs_background": "light"
     },
     "output_type": "display_data"
    },
    {
     "data": {
      "image/png": "[encoded data removed]",
      "text/plain": [
       "<Figure size 432x288 with 1 Axes>"
      ]
     },
     "metadata": {
      "needs_background": "light"
     },
     "output_type": "display_data"
    },
    {
     "data": {
      "image/png": "[encoded data removed]",
      "text/plain": [
       "<Figure size 432x288 with 1 Axes>"
      ]
     },
     "metadata": {
      "needs_background": "light"
     },
     "output_type": "display_data"
    },
    {
     "data": {
      "image/png": "[encoded data removed]",
      "text/plain": [
       "<Figure size 432x288 with 1 Axes>"
      ]
     },
     "metadata": {
      "needs_background": "light"
     },
     "output_type": "display_data"
    },
    {
     "data": {
      "image/png": "[encoded data removed]",
      "text/plain": [
       "<Figure size 432x288 with 1 Axes>"
      ]
     },
     "metadata": {
      "needs_background": "light"
     },
     "output_type": "display_data"
    },
    {
     "data": {
      "image/png": "[encoded data removed]",
      "text/plain": [
       "<Figure size 432x288 with 1 Axes>"
      ]
     },
     "metadata": {
      "needs_background": "light"
     },
     "output_type": "display_data"
    },
    {
     "data": {
      "image/png": "[encoded data removed]",
      "text/plain": [
       "<Figure size 432x288 with 1 Axes>"
      ]
     },
     "metadata": {
      "needs_background": "light"
     },
     "output_type": "display_data"
    },
    {
     "data": {
      "image/png": "[encoded data removed]",
      "text/plain": [
       "<Figure size 432x288 with 1 Axes>"
      ]
     },
     "metadata": {
      "needs_background": "light"
     },
     "output_type": "display_data"
    },
    {
     "data": {
      "image/png": "[encoded data removed]",
      "text/plain": [
       "<Figure size 432x288 with 1 Axes>"
      ]
     },
     "metadata": {
      "needs_background": "light"
     },
     "output_type": "display_data"
    }
   ],
   "source": [
    "top_10_platforms = top_10.index\n",
    "total_years = []\n",
    "for cur_platform in top_10_platforms:\n",
    "    table = data.query('platform == @cur_platform').groupby('year_of_release')['total_sales'].sum()\n",
    "    years = table.index\n",
    "    table.plot(kind='bar', x='year_of_release', y='total_sales', xlabel='Годы',\n",
    "            ylabel='Количество продаж (млн)', title=f'Распределение продаж по годам платформы {cur_platform}', grid=True);\n",
    "    plt.show()\n",
    "    total_years.append(years[len(years)-1] - years[0])"
   ]
  },
  {
   "cell_type": "code",
   "execution_count": 22,
   "metadata": {},
   "outputs": [
    {
     "name": "stdout",
     "output_type": "stream",
     "text": [
      "Медианное время существования большой платформы 10.5 лет\n"
     ]
    }
   ],
   "source": [
    "print(f'Медианное время существования большой платформы {st.median(total_years)} лет')"
   ]
  },
  {
   "cell_type": "markdown",
   "metadata": {},
   "source": [
    " \n",
    "**Лада:** ✔️ К 2016 году из 10 платформ, лидирующих по общему объёму продаж, (`PS2`, `X360`, `PS3`, `Wii`, `DS`, `PS`, `GBA`, `PS4`, `PSP`, `PC`) продолжили продажи только 5 (`X360`, `PS3`, `Wii`, `PS4`, `PC`). При этом в основном платформы находились на рынке около одиннадцати лет. Динамика продаж платформ-гигантов соосветствует общей динамике продаж в отрасли"
   ]
  },
  {
   "cell_type": "markdown",
   "metadata": {},
   "source": [
    "#### Определение актуального периода наблюдений"
   ]
  },
  {
   "cell_type": "markdown",
   "metadata": {},
   "source": [
    "\n",
    "**Лада (2):** ✔️ За актуальные приму данные с 2013 года"
   ]
  },
  {
   "cell_type": "code",
   "execution_count": 23,
   "metadata": {},
   "outputs": [
    {
     "data": {
      "text/html": [
       "<div>\n",
       "<style scoped>\n",
       "    .dataframe tbody tr th:only-of-type {\n",
       "        vertical-align: middle;\n",
       "    }\n",
       "\n",
       "    .dataframe tbody tr th {\n",
       "        vertical-align: top;\n",
       "    }\n",
       "\n",
       "    .dataframe thead th {\n",
       "        text-align: right;\n",
       "    }\n",
       "</style>\n",
       "<table border=\"1\" class=\"dataframe\">\n",
       "  <thead>\n",
       "    <tr style=\"text-align: right;\">\n",
       "      <th></th>\n",
       "      <th>name</th>\n",
       "      <th>platform</th>\n",
       "      <th>year_of_release</th>\n",
       "      <th>genre</th>\n",
       "      <th>na_sales</th>\n",
       "      <th>eu_sales</th>\n",
       "      <th>jp_sales</th>\n",
       "      <th>other_sales</th>\n",
       "      <th>critic_score</th>\n",
       "      <th>user_score</th>\n",
       "      <th>rating</th>\n",
       "      <th>total_sales</th>\n",
       "    </tr>\n",
       "  </thead>\n",
       "  <tbody>\n",
       "    <tr>\n",
       "      <th>16</th>\n",
       "      <td>Grand Theft Auto V</td>\n",
       "      <td>PS3</td>\n",
       "      <td>2013</td>\n",
       "      <td>Action</td>\n",
       "      <td>7.02</td>\n",
       "      <td>9.09</td>\n",
       "      <td>0.98</td>\n",
       "      <td>3.96</td>\n",
       "      <td>97.0</td>\n",
       "      <td>8.2</td>\n",
       "      <td>M</td>\n",
       "      <td>21.05</td>\n",
       "    </tr>\n",
       "    <tr>\n",
       "      <th>23</th>\n",
       "      <td>Grand Theft Auto V</td>\n",
       "      <td>X360</td>\n",
       "      <td>2013</td>\n",
       "      <td>Action</td>\n",
       "      <td>9.66</td>\n",
       "      <td>5.14</td>\n",
       "      <td>0.06</td>\n",
       "      <td>1.41</td>\n",
       "      <td>97.0</td>\n",
       "      <td>8.1</td>\n",
       "      <td>M</td>\n",
       "      <td>16.27</td>\n",
       "    </tr>\n",
       "    <tr>\n",
       "      <th>31</th>\n",
       "      <td>Call of Duty: Black Ops 3</td>\n",
       "      <td>PS4</td>\n",
       "      <td>2015</td>\n",
       "      <td>Shooter</td>\n",
       "      <td>6.03</td>\n",
       "      <td>5.86</td>\n",
       "      <td>0.36</td>\n",
       "      <td>2.38</td>\n",
       "      <td>NaN</td>\n",
       "      <td>NaN</td>\n",
       "      <td>unknown</td>\n",
       "      <td>14.63</td>\n",
       "    </tr>\n",
       "    <tr>\n",
       "      <th>33</th>\n",
       "      <td>Pokemon X/Pokemon Y</td>\n",
       "      <td>3DS</td>\n",
       "      <td>2013</td>\n",
       "      <td>Role-Playing</td>\n",
       "      <td>5.28</td>\n",
       "      <td>4.19</td>\n",
       "      <td>4.35</td>\n",
       "      <td>0.78</td>\n",
       "      <td>NaN</td>\n",
       "      <td>NaN</td>\n",
       "      <td>unknown</td>\n",
       "      <td>14.60</td>\n",
       "    </tr>\n",
       "    <tr>\n",
       "      <th>42</th>\n",
       "      <td>Grand Theft Auto V</td>\n",
       "      <td>PS4</td>\n",
       "      <td>2014</td>\n",
       "      <td>Action</td>\n",
       "      <td>3.96</td>\n",
       "      <td>6.31</td>\n",
       "      <td>0.38</td>\n",
       "      <td>1.97</td>\n",
       "      <td>97.0</td>\n",
       "      <td>8.3</td>\n",
       "      <td>M</td>\n",
       "      <td>12.62</td>\n",
       "    </tr>\n",
       "  </tbody>\n",
       "</table>\n",
       "</div>"
      ],
      "text/plain": [
       "                         name platform  year_of_release         genre  \\\n",
       "16         Grand Theft Auto V      PS3             2013        Action   \n",
       "23         Grand Theft Auto V     X360             2013        Action   \n",
       "31  Call of Duty: Black Ops 3      PS4             2015       Shooter   \n",
       "33        Pokemon X/Pokemon Y      3DS             2013  Role-Playing   \n",
       "42         Grand Theft Auto V      PS4             2014        Action   \n",
       "\n",
       "    na_sales  eu_sales  jp_sales  other_sales  critic_score  user_score  \\\n",
       "16      7.02      9.09      0.98         3.96          97.0         8.2   \n",
       "23      9.66      5.14      0.06         1.41          97.0         8.1   \n",
       "31      6.03      5.86      0.36         2.38           NaN         NaN   \n",
       "33      5.28      4.19      4.35         0.78           NaN         NaN   \n",
       "42      3.96      6.31      0.38         1.97          97.0         8.3   \n",
       "\n",
       "     rating  total_sales  \n",
       "16        M        21.05  \n",
       "23        M        16.27  \n",
       "31  unknown        14.63  \n",
       "33  unknown        14.60  \n",
       "42        M        12.62  "
      ]
     },
     "execution_count": 23,
     "metadata": {},
     "output_type": "execute_result"
    }
   ],
   "source": [
    "good_data = data.query('2012 < year_of_release')\n",
    "good_data.head()"
   ]
  },
  {
   "cell_type": "markdown",
   "metadata": {},
   "source": [
    " \n",
    "**Лада:** ✔️ Таблица с актуальными данными построена"
   ]
  },
  {
   "cell_type": "markdown",
   "metadata": {},
   "source": [
    "#### Определение динамики развития"
   ]
  },
  {
   "cell_type": "code",
   "execution_count": 24,
   "metadata": {},
   "outputs": [
    {
     "data": {
      "image/png": "[encoded data removed]",
      "text/plain": [
       "<Figure size 432x288 with 1 Axes>"
      ]
     },
     "metadata": {
      "needs_background": "light"
     },
     "output_type": "display_data"
    },
    {
     "data": {
      "image/png": "[encoded data removed]",
      "text/plain": [
       "<Figure size 432x288 with 1 Axes>"
      ]
     },
     "metadata": {
      "needs_background": "light"
     },
     "output_type": "display_data"
    },
    {
     "name": "stdout",
     "output_type": "stream",
     "text": [
      "Медианная разница продаж в год платформы PS4 равна 18.9\n"
     ]
    },
    {
     "data": {
      "image/png": "[encoded data removed]",
      "text/plain": [
       "<Figure size 432x288 with 1 Axes>"
      ]
     },
     "metadata": {
      "needs_background": "light"
     },
     "output_type": "display_data"
    },
    {
     "name": "stdout",
     "output_type": "stream",
     "text": [
      "Медианная разница продаж в год платформы PS3 равна -30.94\n"
     ]
    },
    {
     "data": {
      "image/png": "[encoded data removed]",
      "text/plain": [
       "<Figure size 432x288 with 1 Axes>"
      ]
     },
     "metadata": {
      "needs_background": "light"
     },
     "output_type": "display_data"
    },
    {
     "name": "stdout",
     "output_type": "stream",
     "text": [
      "Медианная разница продаж в год платформы XOne равна 6.07\n"
     ]
    },
    {
     "data": {
      "image/png": "[encoded data removed]",
      "text/plain": [
       "<Figure size 432x288 with 1 Axes>"
      ]
     },
     "metadata": {
      "needs_background": "light"
     },
     "output_type": "display_data"
    },
    {
     "name": "stdout",
     "output_type": "stream",
     "text": [
      "Медианная разница продаж в год платформы 3DS равна -12.81\n"
     ]
    },
    {
     "data": {
      "image/png": "[encoded data removed]",
      "text/plain": [
       "<Figure size 432x288 with 1 Axes>"
      ]
     },
     "metadata": {
      "needs_background": "light"
     },
     "output_type": "display_data"
    },
    {
     "name": "stdout",
     "output_type": "stream",
     "text": [
      "Медианная разница продаж в год платформы X360 равна -22.78\n"
     ]
    },
    {
     "data": {
      "image/png": "[encoded data removed]",
      "text/plain": [
       "<Figure size 432x288 with 1 Axes>"
      ]
     },
     "metadata": {
      "needs_background": "light"
     },
     "output_type": "display_data"
    },
    {
     "name": "stdout",
     "output_type": "stream",
     "text": [
      "Медианная разница продаж в год платформы WiiU равна -5.68\n"
     ]
    },
    {
     "data": {
      "image/png": "[encoded data removed]",
      "text/plain": [
       "<Figure size 432x288 with 1 Axes>"
      ]
     },
     "metadata": {
      "needs_background": "light"
     },
     "output_type": "display_data"
    },
    {
     "name": "stdout",
     "output_type": "stream",
     "text": [
      "Медианная разница продаж в год платформы PC равна -3.27\n"
     ]
    },
    {
     "data": {
      "image/png": "[encoded data removed]",
      "text/plain": [
       "<Figure size 432x288 with 1 Axes>"
      ]
     },
     "metadata": {
      "needs_background": "light"
     },
     "output_type": "display_data"
    },
    {
     "name": "stdout",
     "output_type": "stream",
     "text": [
      "Медианная разница продаж в год платформы PSV равна -2.0\n"
     ]
    },
    {
     "data": {
      "image/png": "[encoded data removed]",
      "text/plain": [
       "<Figure size 432x288 with 1 Axes>"
      ]
     },
     "metadata": {
      "needs_background": "light"
     },
     "output_type": "display_data"
    },
    {
     "name": "stdout",
     "output_type": "stream",
     "text": [
      "Медианная разница продаж в год платформы Wii равна -2.61\n"
     ]
    },
    {
     "data": {
      "image/png": "[encoded data removed]",
      "text/plain": [
       "<Figure size 432x288 with 1 Axes>"
      ]
     },
     "metadata": {
      "needs_background": "light"
     },
     "output_type": "display_data"
    },
    {
     "name": "stdout",
     "output_type": "stream",
     "text": [
      "Медианная разница продаж в год платформы PSP равна -1.51\n"
     ]
    }
   ],
   "source": [
    "top_10 = good_data.groupby('platform')['total_sales'].sum().sort_values(ascending=False).head(10)\n",
    "top_10.plot(kind='bar', x='name', y='total_sales', xlabel='Название платформы',\n",
    "            ylabel='Количество продаж (млн)', title='Лидеры по прожадам', grid=True);\n",
    "plt.show()\n",
    "total_years = []\n",
    "top_10_platforms = top_10.index\n",
    "profit = []\n",
    "for cur_platform in top_10_platforms:\n",
    "    table = good_data.query('platform == @cur_platform').groupby('year_of_release')['total_sales'].sum()\n",
    "    table.plot(kind='bar', x='year_of_release', y='total_sales', xlabel='Годы',\n",
    "            ylabel='Количество продаж (млн)', title=cur_platform, grid=True);\n",
    "    plt.show()\n",
    "    years = table.index\n",
    "    diff = []\n",
    "    for i in range(len(years)-1):\n",
    "        diff.append(table[years[i+1]] - table[years[i]])\n",
    "    print(f'Медианная разница продаж в год платформы {cur_platform} равна {round(st.median(diff), 2)}')"
   ]
  },
  {
   "cell_type": "markdown",
   "metadata": {},
   "source": [
    "\n",
    "**Лада (2):** ✔️ \n",
    "Положительную динамику развития показали платформы:\n",
    "    \n",
    "- *PS4* (18.9 млн в год)\n",
    "\n",
    "- *XOne* (6.07 млн в год)\n",
    "    \n",
    "Отрицательную динамику развития показали платформы:\n",
    "    \n",
    "- *PS3* (-30.94 млн в год)\n",
    "\n",
    "- *3DS* (-12.81 млн в год)\n",
    "\n",
    "- *X360* (-22.78 млн в год)\n",
    "\n",
    "- *WiiU* (-5.68 млн в год)\n",
    "\n",
    "- *PC* (-3.27 млн в год)\n",
    "\n",
    "- *PSV* (-2 млн в год)\n",
    "\n",
    "- *Wii* (-2.61 млн в год)\n",
    "\n",
    "- *PSP* (-1.51 млн в год)\n",
    "    \n",
    "*Наиболее отстающими являются платформы PS3, X360 и 3DS*\n",
    "    \n",
    "**Потенциально прибыльными являются платформы PS4 и XOne**"
   ]
  },
  {
   "cell_type": "markdown",
   "metadata": {},
   "source": [
    "#### Диаграмма разброса продаж"
   ]
  },
  {
   "cell_type": "code",
   "execution_count": 25,
   "metadata": {},
   "outputs": [
    {
     "data": {
      "image/png": "[encoded data removed]",
      "text/plain": [
       "<Figure size 432x288 with 1 Axes>"
      ]
     },
     "metadata": {
      "needs_background": "light"
     },
     "output_type": "display_data"
    },
    {
     "data": {
      "image/png": "[encoded data removed]",
      "text/plain": [
       "<Figure size 432x288 with 1 Axes>"
      ]
     },
     "metadata": {
      "needs_background": "light"
     },
     "output_type": "display_data"
    }
   ],
   "source": [
    "platforms = ['DC', 'DS', 'GBA', 'GC', 'PS2', 'XB']\n",
    "PS4 = data.query('platform == \"PS4\"')['total_sales']\n",
    "XOne = data.query('platform == \"XOne\"')['total_sales']\n",
    "PS3 = data.query('platform == \"PS3\"')['total_sales']\n",
    "X360 = data.query('platform == \"X360\"')['total_sales']\n",
    "WiiU = data.query('platform == \"WiiU\"')['total_sales']\n",
    "PC = data.query('platform == \"PSP\"')['total_sales']\n",
    "df = pd.DataFrame({'PS4':PS4, 'XOne':XOne, 'PS3':PS3, 'X360':X360, 'WiiU':WiiU, 'PC':PC})\n",
    "df.plot(kind='box', title='Диаграмма разброса продаж потенциальных партнёров').set_ylabel('Количество продаж (млн)');\n",
    "df.plot(kind='box', title='Диаграмма разброса продаж потенциальных партнёров', ylim=(0, 2)).set_ylabel('Количество продаж (млн)');"
   ]
  },
  {
   "cell_type": "markdown",
   "metadata": {},
   "source": [
    "\n",
    "**Лада (3):** ✔️ Распределение продаж потенциально платформ идентично: нормальные значения находятся в диапазоне 1.75 млн продаж, чаще всего - в районе 0.25 млн, присутствуют выбросы на графиках обеих платформ. Присутствуют выбросы, показывающие наиболее прибыльные игры платформ"
   ]
  },
  {
   "cell_type": "code",
   "execution_count": 26,
   "metadata": {},
   "outputs": [],
   "source": [
    "new_data = good_data.copy() # Копия датафрейма с актуальным переодом\n",
    "\n",
    "new_data = new_data.query('platform not in [\"PS3\", \"X360\", \"Wii\", \"PSP\"]') # Убираем наименее перспективные платформы"
   ]
  },
  {
   "cell_type": "code",
   "execution_count": 27,
   "metadata": {},
   "outputs": [
    {
     "data": {
      "image/png": "[encoded data removed]",
      "text/plain": [
       "<Figure size 936x576 with 1 Axes>"
      ]
     },
     "metadata": {
      "needs_background": "light"
     },
     "output_type": "display_data"
    }
   ],
   "source": [
    "#Код ревьюера\n",
    "\n",
    "import seaborn as sns\n",
    "\n",
    "plt.figure(figsize=(13, 8))\n",
    "(sns.boxplot(data = new_data, y = 'total_sales', x='platform')\n",
    "    .set(title = 'Продажи по перспективным платформам', xlabel = 'Платформы', ylabel = 'Общие продажи', ylim=(0, 3)))\n",
    "\n",
    "plt.show()"
   ]
  },
  {
   "cell_type": "markdown",
   "metadata": {},
   "source": [
    "#### Влияние оценок критиков и пользователей на количество продаж платформы PS4"
   ]
  },
  {
   "cell_type": "code",
   "execution_count": 28,
   "metadata": {},
   "outputs": [
    {
     "name": "stdout",
     "output_type": "stream",
     "text": [
      "Корреляция между столбцами user_corr и total_sales равна -0.03195711020455639\n"
     ]
    },
    {
     "data": {
      "image/png": "[encoded data removed]",
      "text/plain": [
       "<Figure size 432x288 with 1 Axes>"
      ]
     },
     "metadata": {
      "needs_background": "light"
     },
     "output_type": "display_data"
    }
   ],
   "source": [
    "data_ps4 = good_data.query('platform == \"PS4\"').fillna(np.nan)\n",
    "data_ps4.head()\n",
    "user_corr = data_ps4['user_score'].corr(data_ps4['total_sales'])\n",
    "print(f'Корреляция между столбцами user_corr и total_sales равна {user_corr}')\n",
    "user_plot = data_ps4.plot(x='user_score', y='total_sales', kind='scatter',\n",
    "                          alpha=0.4, title='Диаграмма рассеяния по рейтингу пользователей', \n",
    "                          xlabel='Рейтинг пользователей', ylabel='Продажи')"
   ]
  },
  {
   "cell_type": "code",
   "execution_count": 29,
   "metadata": {},
   "outputs": [
    {
     "name": "stdout",
     "output_type": "stream",
     "text": [
      "Корреляция между столбцами critic_corr и total_sales равна 0.40656790206178095\n"
     ]
    },
    {
     "data": {
      "image/png": "[encoded data removed]",
      "text/plain": [
       "<Figure size 432x288 with 1 Axes>"
      ]
     },
     "metadata": {
      "needs_background": "light"
     },
     "output_type": "display_data"
    }
   ],
   "source": [
    "critic_corr = data_ps4['critic_score'].corr(data_ps4['total_sales']);\n",
    "print(f'Корреляция между столбцами critic_corr и total_sales равна {critic_corr}')\n",
    "critic_plot = data_ps4.plot(x='critic_score', y='total_sales', kind='scatter',\n",
    "                          alpha=0.4, title='Диаграмма рассеяния по рейтингу критиков', \n",
    "                          xlabel='Рейтинг критиков', ylabel='Продажи')"
   ]
  },
  {
   "cell_type": "markdown",
   "metadata": {},
   "source": [
    " \n",
    "**Лада:** ✔️ Связь между оценками пользователей и количеством продаж слабая: игры имеют разный рейтинг пользователей, однако количество продаж большинства из них невелико. Наблюдаются отдельные значения наиболее успешных игр (высокий рейтинг и много продаж)\n",
    "    \n",
    "Связь между оценка критиков и количеством продаж умеренная: при разнящихся рейтингах количество продаж так же невелико, наблюдаются отдельные значения наиболее успешных игр. Более сильную корреляцию рейтинга критиков можно объяснить меньшей предвзятостью оценок критиков\n",
    "    \n",
    "*Общий вывод:*\n",
    "    \n",
    "Рейтинг критиков оказывает большее влияние на количество продаж, чем рейтинг пользователей, однако влияние обоих составляющих неделико. Большое количество продаж наблюдается только у игр с высоким рейтингом по обоим показателям"
   ]
  },
  {
   "cell_type": "markdown",
   "metadata": {},
   "source": [
    "#### Общее влияние оценок пользователей и критиков на общее количество продаж"
   ]
  },
  {
   "cell_type": "code",
   "execution_count": 30,
   "metadata": {},
   "outputs": [
    {
     "name": "stdout",
     "output_type": "stream",
     "text": [
      "Корреляция между столбцами critic_corr и total_sales равна 0.3136995151027371\n"
     ]
    },
    {
     "data": {
      "image/png": "[encoded data removed]",
      "text/plain": [
       "<Figure size 432x288 with 1 Axes>"
      ]
     },
     "metadata": {
      "needs_background": "light"
     },
     "output_type": "display_data"
    }
   ],
   "source": [
    "total_critic = good_data.plot(x='critic_score', y='total_sales', kind='scatter',\n",
    "                        alpha=0.2, title='Общая диаграмма рассеяния по рейтингу пользователей', \n",
    "                          xlabel='Рейтинг пользователей', ylabel='Продажи');\n",
    "critic_corr = good_data['critic_score'].corr(data['total_sales']);\n",
    "print(f'Корреляция между столбцами critic_corr и total_sales равна {critic_corr}')"
   ]
  },
  {
   "cell_type": "code",
   "execution_count": 31,
   "metadata": {},
   "outputs": [
    {
     "name": "stdout",
     "output_type": "stream",
     "text": [
      "Корреляция между столбцами user_corr и total_sales равна -0.002607813354598273\n"
     ]
    },
    {
     "data": {
      "image/png": "[encoded data removed]",
      "text/plain": [
       "<Figure size 432x288 with 1 Axes>"
      ]
     },
     "metadata": {
      "needs_background": "light"
     },
     "output_type": "display_data"
    }
   ],
   "source": [
    "total_users = good_data.plot(x='user_score', y='total_sales', kind='scatter',\n",
    "                             alpha=0.2, title='Общая диаграмма рассеяния по рейтингу критиков', \n",
    "                          xlabel='Рейтинг критиков', ylabel='Продажи')\n",
    "user_corr = good_data['user_score'].astype('float').corr(good_data['total_sales'])\n",
    "print(f'Корреляция между столбцами user_corr и total_sales равна {user_corr}')"
   ]
  },
  {
   "cell_type": "markdown",
   "metadata": {},
   "source": [
    "\n",
    "**Лада:** ✔️ Картина распределения оценок пользователей и критиков и количества продаж по отрасли схожа с картиной распределения крупной платформы: в целом оценки не оказывают значимого влияния на продажи игр, много продаж у игр сс высоким рейтингом (существуют и исключения)"
   ]
  },
  {
   "cell_type": "markdown",
   "metadata": {},
   "source": [
    "#### Распределение игр по жанрам"
   ]
  },
  {
   "cell_type": "code",
   "execution_count": 32,
   "metadata": {},
   "outputs": [
    {
     "data": {
      "image/png": "[encoded data removed]",
      "text/plain": [
       "<Figure size 432x288 with 1 Axes>"
      ]
     },
     "metadata": {},
     "output_type": "display_data"
    }
   ],
   "source": [
    "good_data.groupby('genre')['total_sales'].median().sort_values(ascending=False).plot(kind='pie',\n",
    "                    title='Распределение жанров по продажам', ylabel='жанры', autopct='%1.0f%%');"
   ]
  },
  {
   "cell_type": "markdown",
   "metadata": {},
   "source": [
    "\n",
    "**Лада (2):** ✔️ Наиболее популярным является жанр Shooter, наименее популярным - Adventure"
   ]
  },
  {
   "cell_type": "markdown",
   "metadata": {},
   "source": [
    " \n",
    "**Лада:** ✔️ *Промежуточный вывод*\n",
    "\n",
    "- До 1995 года производилось незначительное количество игр, до 2008 года наблюдается постоянный уверенный рост игровой индустрии с пиком продаж в 2008-2009 годах, после наблюдается значительный спад с сохранением относительной стабильности с 2011 по 2016 год\n",
    "\n",
    "- Потенциально прибыльными являются платформы PS4 и XOne\n",
    "\n",
    "- Распределение продаж потенциально платформ идентично: нормальные значения находятся в диапазоне 1.75 млн продаж, чаще всего - в районе 0.25 млн, присутствуют выбросы на графиках обеих платформ. Присутствуют выбросы, показывающие наиболее прибыльные игры платформ\n",
    "\n",
    "- Рейтинг критиков оказывает большее влияние на количество продаж, чем рейтинг пользователей, однако влияние обоих составляющих неделико. Большое количество продаж наблюдается только у игр с высоким рейтингом по обоим показателям\n",
    "\n",
    "- Наиболее популярным является жанр Shooter, наименее популярным - Adventure"
   ]
  },
  {
   "cell_type": "markdown",
   "metadata": {},
   "source": [
    "### Составление портрета пользователя"
   ]
  },
  {
   "cell_type": "markdown",
   "metadata": {},
   "source": [
    "#### NA — продажи в Северной Америке"
   ]
  },
  {
   "cell_type": "code",
   "execution_count": 33,
   "metadata": {},
   "outputs": [
    {
     "data": {
      "image/png": "[encoded data removed]",
      "text/plain": [
       "<Figure size 432x288 with 1 Axes>"
      ]
     },
     "metadata": {},
     "output_type": "display_data"
    },
    {
     "data": {
      "image/png": "[encoded data removed]",
      "text/plain": [
       "<Figure size 432x288 with 1 Axes>"
      ]
     },
     "metadata": {},
     "output_type": "display_data"
    },
    {
     "data": {
      "image/png": "[encoded data removed]",
      "text/plain": [
       "<Figure size 432x288 with 1 Axes>"
      ]
     },
     "metadata": {},
     "output_type": "display_data"
    }
   ],
   "source": [
    "top_genre_na = good_data.groupby('genre')['na_sales'].sum().sort_values(ascending=False).head(5)\n",
    "top_platforms_na = good_data.groupby('platform')['na_sales'].sum().sort_values(ascending=False).head(5)\n",
    "rating_na = good_data.groupby('rating')['na_sales'].sum().sort_values(ascending=False).head(5)\n",
    "top_genre_na.plot(kind='pie', title='Самые популярные жанры в Северной Америке', ylabel='Жанры', autopct='%1.0f%%');\n",
    "plt.show()\n",
    "top_platforms_na.plot(kind='pie', title='Самые популярные платформы в Северной Америке', ylabel='Платформы', autopct='%1.0f%%');\n",
    "plt.show()\n",
    "rating_na.plot(kind='pie', title='Распределение продаж по рейтингу в Северной Америке', ylabel='Рейтинг', autopct='%1.0f%%');"
   ]
  },
  {
   "cell_type": "markdown",
   "metadata": {},
   "source": [
    "#### EU — продажи в Европе"
   ]
  },
  {
   "cell_type": "code",
   "execution_count": 34,
   "metadata": {},
   "outputs": [
    {
     "data": {
      "image/png": "[encoded data removed]",
      "text/plain": [
       "<Figure size 432x288 with 1 Axes>"
      ]
     },
     "metadata": {},
     "output_type": "display_data"
    },
    {
     "data": {
      "image/png": "[encoded data removed]",
      "text/plain": [
       "<Figure size 432x288 with 1 Axes>"
      ]
     },
     "metadata": {},
     "output_type": "display_data"
    },
    {
     "data": {
      "image/png": "[encoded data removed]",
      "text/plain": [
       "<Figure size 432x288 with 1 Axes>"
      ]
     },
     "metadata": {},
     "output_type": "display_data"
    }
   ],
   "source": [
    "top_genre_eu = good_data.groupby('genre')['eu_sales'].sum().sort_values(ascending=False).head(5)\n",
    "top_platforms_eu = good_data.groupby('platform')['eu_sales'].sum().sort_values(ascending=False).head(5)\n",
    "rating_eu = good_data.groupby('rating')['eu_sales'].sum().sort_values(ascending=False).head(5)\n",
    "top_genre_eu.plot(kind='pie', title='Самые популярные жанры в Европе', ylabel='Жанры', autopct='%1.0f%%');\n",
    "plt.show()\n",
    "top_platforms_eu.plot(kind='pie', title='Самые популярные платформы в Европе', ylabel='Платформы', autopct='%1.0f%%');\n",
    "plt.show()\n",
    "rating_eu.plot(kind='pie', title='Распределение продаж по рейтингу в Европе', ylabel='Рейтинг', autopct='%1.0f%%');"
   ]
  },
  {
   "cell_type": "markdown",
   "metadata": {},
   "source": [
    "#### JP  — продажи в Японии"
   ]
  },
  {
   "cell_type": "code",
   "execution_count": 35,
   "metadata": {},
   "outputs": [
    {
     "data": {
      "image/png": "[encoded data removed]",
      "text/plain": [
       "<Figure size 432x288 with 1 Axes>"
      ]
     },
     "metadata": {},
     "output_type": "display_data"
    },
    {
     "data": {
      "image/png": "[encoded data removed]",
      "text/plain": [
       "<Figure size 432x288 with 1 Axes>"
      ]
     },
     "metadata": {},
     "output_type": "display_data"
    },
    {
     "data": {
      "image/png": "[encoded data removed]",
      "text/plain": [
       "<Figure size 432x288 with 1 Axes>"
      ]
     },
     "metadata": {},
     "output_type": "display_data"
    }
   ],
   "source": [
    "top_genre_jp = good_data.groupby('genre')['jp_sales'].sum().sort_values(ascending=False).head(5)\n",
    "top_platforms_jp = good_data.groupby('platform')['jp_sales'].sum().sort_values(ascending=False).head(5)\n",
    "rating_jp = good_data.groupby('rating')['jp_sales'].sum().sort_values(ascending=False).head(5)\n",
    "top_genre_jp.plot(kind='pie', title='Самые популярные жанры в Японии', ylabel='Жанры', autopct='%1.0f%%');\n",
    "plt.show()\n",
    "top_platforms_jp.plot(kind='pie', title='Самые популярные платформы в Японии', ylabel='Платформы', autopct='%1.0f%%');\n",
    "plt.show()\n",
    "rating_jp.plot(kind='pie', title='Распределение продаж по рейтингу в Японии', ylabel='Рейтинг', autopct='%1.0f%%');"
   ]
  },
  {
   "cell_type": "markdown",
   "metadata": {},
   "source": [
    "\n",
    "**Лада (2):** ✔️ *Промежуточный вывод*\n",
    "\n",
    "Картина распределения жанров в Северной Америке и Европе схожа: первые четыре места занимают жанры Action, Shooter, Sports и Role-Playing. Пятое место занимает жанр Music в Северной Америке и Racing в Европе. В Японии распределение иное: Role-Playing, Action, Music, Fighting и Shooter. Различие в распределении предпочтений между Северной Америкой и Европой и Японией можно объяснить социальной изолированностью Японии.\n",
    "\n",
    "Распределение платформ неоднородно во всех трёх рассматриваемых зонах: PS4, XOne, X360, PS3, 3DS для Северной Америки, PS4, PS3, XOne, X360, 3DS для Европы и 3DS, PS3, PSV, PS4, WiiU для Японии. Различия можно объяснить неоднородной рекламной и ценовой политикой компаний для разных стран\n",
    "\n",
    "В Европе и Северной Америке наибольшей популярностью пользуется жанр игр M, следуюшими по популярности являются жанры unknown, E, E10+ для Северной Америки и M, E, unknown, E10+, T для Европы. В Японии не действует стандартная шкала рейтинга, поэтому большинство игр им не обозначены. Для особзаченный игр (менее 40%) наиболее популярными являютя игры с рейтингом T, следующими по популярности являются игры с рейтингом E, M и E10+"
   ]
  },
  {
   "cell_type": "markdown",
   "metadata": {},
   "source": [
    "### Проверка гипотез"
   ]
  },
  {
   "cell_type": "markdown",
   "metadata": {},
   "source": [
    "#### Гипотеза 1"
   ]
  },
  {
   "cell_type": "markdown",
   "metadata": {},
   "source": [
    "Нулевая гипотеза: средние пользовательские рейтинги платформ Xbox One и PC одинаковые\n",
    "\n",
    "Альтернативная гипотеза: средние пользовательские рейтинги платформ Xbox One и PC разные"
   ]
  },
  {
   "cell_type": "code",
   "execution_count": 36,
   "metadata": {
    "scrolled": true
   },
   "outputs": [
    {
     "name": "stdout",
     "output_type": "stream",
     "text": [
      "p-value: 0.17306926618147322\n",
      "Нет оснований отвергнуть нулевую гипотезу\n"
     ]
    }
   ],
   "source": [
    "alpha = 0.05\n",
    "xbox = good_data.query('platform == \"XOne\"').dropna()\n",
    "pc = good_data.query('platform == \"PC\"').dropna()\n",
    "results = stt.ttest_ind(xbox['user_score'], pc['user_score'], alternative='two-sided')\n",
    "print(f'p-value: {results.pvalue}')\n",
    "\n",
    "if results.pvalue < alpha:\n",
    "    print('Отвергаем нулевую гипотезу')\n",
    "else:\n",
    "    print('Нет оснований отвергнуть нулевую гипотезу')"
   ]
  },
  {
   "cell_type": "markdown",
   "metadata": {},
   "source": [
    "\n",
    "**Лада (2):** ✔️ Вывод из гипотезы верен"
   ]
  },
  {
   "cell_type": "markdown",
   "metadata": {},
   "source": [
    "\n",
    "**Лада (2):** ✔️ Проверю выводы из гипотез"
   ]
  },
  {
   "cell_type": "code",
   "execution_count": 37,
   "metadata": {},
   "outputs": [
    {
     "name": "stdout",
     "output_type": "stream",
     "text": [
      "Средний пользовательский рейтинг платформы Xbox 6.538181818181818\n",
      "Средний пользовательский рейтинг платформы PC 6.3020270270270276\n"
     ]
    }
   ],
   "source": [
    "xbox_mean = xbox['user_score'].mean()\n",
    "pc_mean = pc['user_score'].mean()\n",
    "print(f'Средний пользовательский рейтинг платформы Xbox {xbox_mean}')\n",
    "print(f'Средний пользовательский рейтинг платформы PC {pc_mean}')"
   ]
  },
  {
   "cell_type": "markdown",
   "metadata": {},
   "source": [
    "\n",
    "**Лада (2):** ✔️ Есть основания полагать, что средние пользовательские рейтинги платформ Xbox One и PC одинаковые"
   ]
  },
  {
   "cell_type": "markdown",
   "metadata": {},
   "source": [
    "#### Гипотеза 2"
   ]
  },
  {
   "cell_type": "markdown",
   "metadata": {},
   "source": [
    "Нулевая гипотеза: средние пользовательские рейтинги жанров Action и Sports одинаковые\n",
    "\n",
    "Альтернативная гипотеза: средние пользовательские рейтинги жанров Action и Sports разные"
   ]
  },
  {
   "cell_type": "code",
   "execution_count": 38,
   "metadata": {
    "scrolled": false
   },
   "outputs": [
    {
     "name": "stdout",
     "output_type": "stream",
     "text": [
      "p-value: 1.684099430689953e-16\n",
      "Отвергаем нулевую гипотезу\n"
     ]
    }
   ],
   "source": [
    "alpha = 0.05\n",
    "xbox = good_data.query('genre == \"Action\"').dropna()\n",
    "pc = good_data.query('genre == \"Sports\"').dropna()\n",
    "results = stt.ttest_ind(xbox['user_score'], pc['user_score'], alternative='two-sided')\n",
    "print(f'p-value: {results.pvalue}')\n",
    "\n",
    "if results.pvalue < alpha:\n",
    "    print('Отвергаем нулевую гипотезу')\n",
    "else:\n",
    "    print('Нет оснований отвергнуть нулевую гипотезу')"
   ]
  },
  {
   "cell_type": "markdown",
   "metadata": {},
   "source": [
    "\n",
    "**Лада:** ✔️ Есть основания полагать, что средние пользовательские рейтинги жанров Action и Sports разные"
   ]
  },
  {
   "cell_type": "code",
   "execution_count": 39,
   "metadata": {},
   "outputs": [
    {
     "name": "stdout",
     "output_type": "stream",
     "text": [
      "Средний пользовательский рейтинг платформы Xbox 6.9362459546925574\n",
      "Средний пользовательский рейтинг платформы PC 5.665454545454545\n"
     ]
    }
   ],
   "source": [
    "xbox_mean = xbox['user_score'].mean()\n",
    "pc_mean = pc['user_score'].mean()\n",
    "print(f'Средний пользовательский рейтинг платформы Xbox {xbox_mean}')\n",
    "print(f'Средний пользовательский рейтинг платформы PC {pc_mean}')"
   ]
  },
  {
   "cell_type": "markdown",
   "metadata": {},
   "source": [
    "\n",
    "**Лада:** ✔️ *Промежуточный вывод*\n",
    "\n",
    "Есть основания полагать, что средние пользовательские рейтинги платформ Xbox One и PC одинаковые, а средние пользовательские рейтинги жанров Action и Sports разные"
   ]
  },
  {
   "cell_type": "markdown",
   "metadata": {},
   "source": [
    "### Вывод"
   ]
  },
  {
   "cell_type": "markdown",
   "metadata": {},
   "source": [
    "**Лада:** ✔️ \n",
    "\n",
    "**Предобработка данных**\n",
    "\n",
    "Названия столбцов приведены к единому стилю, типы данных приведены к необходимым, пропуски заполнены медианными значениями\n",
    "\n",
    "**Исследовательский анализ данных**\n",
    "\n",
    "- До 1995 года производилось незначительное количество игр, до 2008 года наблюдается постоянный уверенный рост игровой индустрии с пиком продаж в 2008-2009 годах, после наблюдается значительный спад с сохранением относительной стабильности с 2011 по 2016 год\n",
    "\n",
    "- Потенциально прибыльными являются платформы PS4 и XOne\n",
    "\n",
    "- Распределение продаж потенциально платформ идентично: нормальные значения находятся в диапазоне 1.75 млн продаж, чаще всего - в районе 0.25 млн, присутствуют выбросы на графиках обеих платформ. Присутствуют выбросы, показывающие наиболее прибыльные игры платформ\n",
    "\n",
    "- Рейтинг критиков оказывает большее влияние на количество продаж, чем рейтинг пользователей, однако влияние обоих составляющих неделико. Большое количество продаж наблюдается только у игр с высоким рейтингом по обоим показателям\n",
    "\n",
    "- Наиболее популярным является жанр Shooter, наименее популярным - Adventure\n",
    "\n",
    "**Составление портрета пользователя**\n",
    "\n",
    "Картина распределения жанров в Северной Америке и Европе схожа: первые четыре места занимают жанры Action, Shooter, Sports и Role-Playing. Пятое место занимает жанр Music в Северной Америке и Racing в Европе. В Японии распределение иное: Role-Playing, Action, Music, Fighting и Shooter. Различие в распределении предпочтений между Северной Америкой и Европой и Японией можно объяснить социальной изолированностью Японии.\n",
    "\n",
    "Распределение платформ неоднородно во всех трёх рассматриваемых зонах: PS4, XOne, X360, PS3, 3DS для Северной Америки, PS4, PS3, XOne, X360, 3DS для Европы и 3DS, PS3, PSV, PS4, WiiU для Японии. Различия можно объяснить неоднородной рекламной и ценовой политикой компаний для разных стран\n",
    "\n",
    "В Европе и Северной Америке наибольшей популярностью пользуется жанр игр M, следуюшими по популярности являются жанры unknown, E, E10+ для Северной Америки и M, E, unknown, E10+, T для Европы. В Японии не действует стандартная шкала рейтинга, поэтому большинство игр им не обозначены. Для особзаченный игр (менее 40%) наиболее популярными являютя игры с рейтингом T, следующими по популярности являются игры с рейтингом E, M и E10+\n",
    "\n",
    "**Проверка гипотез**\n",
    "\n",
    "Есть основания полагать, что средние пользовательские рейтинги платформ Xbox One и PC одинаковые, а средние пользовательские рейтинги жанров Action и Sports разные"
   ]
  }
 ],
 "metadata": {
  "ExecuteTimeLog": [
   {
    "duration": 388,
    "start_time": "2023-07-27T07:36:23.188Z"
   },
   {
    "duration": 469,
    "start_time": "2023-07-27T07:36:46.660Z"
   },
   {
    "duration": 79,
    "start_time": "2023-07-27T07:52:40.284Z"
   },
   {
    "duration": 3,
    "start_time": "2023-07-27T07:52:52.415Z"
   },
   {
    "duration": 13,
    "start_time": "2023-07-27T07:53:00.063Z"
   },
   {
    "duration": 14,
    "start_time": "2023-07-27T07:54:41.210Z"
   },
   {
    "duration": 62,
    "start_time": "2023-07-27T07:55:12.175Z"
   },
   {
    "duration": 61,
    "start_time": "2023-07-27T07:55:17.064Z"
   },
   {
    "duration": 61,
    "start_time": "2023-07-27T07:55:37.147Z"
   },
   {
    "duration": 59,
    "start_time": "2023-07-27T07:55:50.350Z"
   },
   {
    "duration": 61,
    "start_time": "2023-07-27T07:56:00.618Z"
   },
   {
    "duration": 2386,
    "start_time": "2023-07-27T08:02:29.913Z"
   },
   {
    "duration": 1839,
    "start_time": "2023-07-27T08:02:57.668Z"
   },
   {
    "duration": 1783,
    "start_time": "2023-07-27T08:03:21.135Z"
   },
   {
    "duration": 3,
    "start_time": "2023-07-27T08:03:36.018Z"
   },
   {
    "duration": 120,
    "start_time": "2023-07-27T08:03:36.023Z"
   },
   {
    "duration": 20,
    "start_time": "2023-07-27T08:03:36.145Z"
   },
   {
    "duration": 28,
    "start_time": "2023-07-27T08:03:36.167Z"
   },
   {
    "duration": 30,
    "start_time": "2023-07-27T08:03:36.198Z"
   },
   {
    "duration": 15,
    "start_time": "2023-07-27T08:05:05.605Z"
   },
   {
    "duration": 30,
    "start_time": "2023-07-27T08:05:52.952Z"
   },
   {
    "duration": 18,
    "start_time": "2023-07-27T08:06:04.517Z"
   },
   {
    "duration": 19,
    "start_time": "2023-07-27T08:06:36.242Z"
   },
   {
    "duration": 4,
    "start_time": "2023-07-27T08:07:40.136Z"
   },
   {
    "duration": 20,
    "start_time": "2023-07-27T08:07:48.129Z"
   },
   {
    "duration": 9,
    "start_time": "2023-07-27T08:08:02.511Z"
   },
   {
    "duration": 21,
    "start_time": "2023-07-27T08:08:26.057Z"
   },
   {
    "duration": 107,
    "start_time": "2023-07-27T08:09:33.765Z"
   },
   {
    "duration": 28,
    "start_time": "2023-07-27T08:09:40.184Z"
   },
   {
    "duration": 116,
    "start_time": "2023-07-27T08:10:26.298Z"
   },
   {
    "duration": 14,
    "start_time": "2023-07-27T08:12:11.841Z"
   },
   {
    "duration": 3,
    "start_time": "2023-07-27T08:12:28.940Z"
   },
   {
    "duration": 10,
    "start_time": "2023-07-27T08:12:42.843Z"
   },
   {
    "duration": 4,
    "start_time": "2023-07-27T08:13:41.515Z"
   },
   {
    "duration": 14,
    "start_time": "2023-07-27T08:14:01.516Z"
   },
   {
    "duration": 13,
    "start_time": "2023-07-27T08:14:50.912Z"
   },
   {
    "duration": 10,
    "start_time": "2023-07-27T08:15:27.080Z"
   },
   {
    "duration": 15,
    "start_time": "2023-07-27T08:15:45.795Z"
   },
   {
    "duration": 6,
    "start_time": "2023-07-27T08:17:16.536Z"
   },
   {
    "duration": 4,
    "start_time": "2023-07-27T08:17:27.441Z"
   },
   {
    "duration": 3,
    "start_time": "2023-07-27T08:17:36.222Z"
   },
   {
    "duration": 6,
    "start_time": "2023-07-27T08:17:45.125Z"
   },
   {
    "duration": 7,
    "start_time": "2023-07-27T08:17:53.278Z"
   },
   {
    "duration": 8,
    "start_time": "2023-07-27T08:17:57.174Z"
   },
   {
    "duration": 6,
    "start_time": "2023-07-27T08:18:12.363Z"
   },
   {
    "duration": 6,
    "start_time": "2023-07-27T08:18:42.530Z"
   },
   {
    "duration": 9,
    "start_time": "2023-07-27T08:18:55.019Z"
   },
   {
    "duration": 6,
    "start_time": "2023-07-27T08:19:03.729Z"
   },
   {
    "duration": 3,
    "start_time": "2023-07-27T08:19:15.374Z"
   },
   {
    "duration": 100,
    "start_time": "2023-07-27T08:19:15.380Z"
   },
   {
    "duration": 13,
    "start_time": "2023-07-27T08:19:15.481Z"
   },
   {
    "duration": 35,
    "start_time": "2023-07-27T08:19:15.497Z"
   },
   {
    "duration": 8,
    "start_time": "2023-07-27T08:19:15.534Z"
   },
   {
    "duration": 8,
    "start_time": "2023-07-27T08:19:31.366Z"
   },
   {
    "duration": 6,
    "start_time": "2023-07-27T08:20:53.531Z"
   },
   {
    "duration": 7,
    "start_time": "2023-07-27T08:20:58.350Z"
   },
   {
    "duration": 8,
    "start_time": "2023-07-27T08:21:07.334Z"
   },
   {
    "duration": 7,
    "start_time": "2023-07-27T08:21:58.436Z"
   },
   {
    "duration": 13,
    "start_time": "2023-07-27T08:23:22.331Z"
   },
   {
    "duration": 20,
    "start_time": "2023-07-27T08:23:32.378Z"
   },
   {
    "duration": 8,
    "start_time": "2023-07-27T08:23:52.038Z"
   },
   {
    "duration": 10,
    "start_time": "2023-07-27T08:25:23.507Z"
   },
   {
    "duration": 15,
    "start_time": "2023-07-27T08:25:34.622Z"
   },
   {
    "duration": 5,
    "start_time": "2023-07-27T08:30:27.187Z"
   },
   {
    "duration": 14,
    "start_time": "2023-07-27T08:30:39.683Z"
   },
   {
    "duration": 14,
    "start_time": "2023-07-27T08:33:05.342Z"
   },
   {
    "duration": 5,
    "start_time": "2023-07-27T08:33:08.219Z"
   },
   {
    "duration": 1563,
    "start_time": "2023-07-27T08:33:57.502Z"
   },
   {
    "duration": 91,
    "start_time": "2023-07-27T08:34:12.863Z"
   },
   {
    "duration": 5,
    "start_time": "2023-07-27T08:34:17.040Z"
   },
   {
    "duration": 9,
    "start_time": "2023-07-27T08:34:45.270Z"
   },
   {
    "duration": 6,
    "start_time": "2023-07-27T08:34:48.749Z"
   },
   {
    "duration": 7,
    "start_time": "2023-07-27T08:34:56.482Z"
   },
   {
    "duration": 9,
    "start_time": "2023-07-27T08:35:13.479Z"
   },
   {
    "duration": 10,
    "start_time": "2023-07-27T08:35:34.364Z"
   },
   {
    "duration": 1430,
    "start_time": "2023-07-27T08:36:21.248Z"
   },
   {
    "duration": 9,
    "start_time": "2023-07-27T08:36:48.719Z"
   },
   {
    "duration": 14,
    "start_time": "2023-07-27T09:01:09.391Z"
   },
   {
    "duration": 3,
    "start_time": "2023-07-27T09:03:37.330Z"
   },
   {
    "duration": 18,
    "start_time": "2023-07-27T09:04:01.432Z"
   },
   {
    "duration": 10,
    "start_time": "2023-07-27T09:04:08.887Z"
   },
   {
    "duration": 3,
    "start_time": "2023-07-27T09:06:15.984Z"
   },
   {
    "duration": 79,
    "start_time": "2023-07-27T09:06:48.138Z"
   },
   {
    "duration": 9,
    "start_time": "2023-07-27T09:06:53.630Z"
   },
   {
    "duration": 10,
    "start_time": "2023-07-27T09:07:10.819Z"
   },
   {
    "duration": 14,
    "start_time": "2023-07-27T09:07:50.946Z"
   },
   {
    "duration": 3,
    "start_time": "2023-07-27T09:08:02.442Z"
   },
   {
    "duration": 80,
    "start_time": "2023-07-27T09:08:02.446Z"
   },
   {
    "duration": 14,
    "start_time": "2023-07-27T09:08:02.527Z"
   },
   {
    "duration": 16,
    "start_time": "2023-07-27T09:08:02.543Z"
   },
   {
    "duration": 5,
    "start_time": "2023-07-27T09:08:02.560Z"
   },
   {
    "duration": 46,
    "start_time": "2023-07-27T09:08:02.566Z"
   },
   {
    "duration": 13,
    "start_time": "2023-07-27T09:09:02.428Z"
   },
   {
    "duration": 10,
    "start_time": "2023-07-27T09:09:11.421Z"
   },
   {
    "duration": 13,
    "start_time": "2023-07-27T09:09:13.074Z"
   },
   {
    "duration": 9,
    "start_time": "2023-07-27T09:09:28.038Z"
   },
   {
    "duration": 9,
    "start_time": "2023-07-27T09:09:31.865Z"
   },
   {
    "duration": 10,
    "start_time": "2023-07-27T09:09:32.407Z"
   },
   {
    "duration": 10,
    "start_time": "2023-07-27T09:09:40.583Z"
   },
   {
    "duration": 3,
    "start_time": "2023-07-27T09:09:46.317Z"
   },
   {
    "duration": 70,
    "start_time": "2023-07-27T09:09:46.322Z"
   },
   {
    "duration": 15,
    "start_time": "2023-07-27T09:09:46.394Z"
   },
   {
    "duration": 16,
    "start_time": "2023-07-27T09:09:46.411Z"
   },
   {
    "duration": 3,
    "start_time": "2023-07-27T09:09:46.429Z"
   },
   {
    "duration": 14,
    "start_time": "2023-07-27T09:09:46.434Z"
   },
   {
    "duration": 19,
    "start_time": "2023-07-27T09:10:21.919Z"
   },
   {
    "duration": 3,
    "start_time": "2023-07-27T09:10:39.642Z"
   },
   {
    "duration": 70,
    "start_time": "2023-07-27T09:10:39.647Z"
   },
   {
    "duration": 12,
    "start_time": "2023-07-27T09:10:39.719Z"
   },
   {
    "duration": 19,
    "start_time": "2023-07-27T09:10:39.733Z"
   },
   {
    "duration": 6,
    "start_time": "2023-07-27T09:10:39.754Z"
   },
   {
    "duration": 24,
    "start_time": "2023-07-27T09:10:39.762Z"
   },
   {
    "duration": 14,
    "start_time": "2023-07-27T09:18:05.797Z"
   },
   {
    "duration": 3,
    "start_time": "2023-07-27T09:18:15.495Z"
   },
   {
    "duration": 92,
    "start_time": "2023-07-27T09:18:15.500Z"
   },
   {
    "duration": 20,
    "start_time": "2023-07-27T09:18:15.595Z"
   },
   {
    "duration": 19,
    "start_time": "2023-07-27T09:18:15.617Z"
   },
   {
    "duration": 15,
    "start_time": "2023-07-27T09:18:15.638Z"
   },
   {
    "duration": 39,
    "start_time": "2023-07-27T09:18:15.655Z"
   },
   {
    "duration": 31,
    "start_time": "2023-07-27T09:18:42.570Z"
   },
   {
    "duration": 15,
    "start_time": "2023-07-27T09:18:50.010Z"
   },
   {
    "duration": 3,
    "start_time": "2023-07-27T09:19:01.352Z"
   },
   {
    "duration": 103,
    "start_time": "2023-07-27T09:19:01.358Z"
   },
   {
    "duration": 22,
    "start_time": "2023-07-27T09:19:01.462Z"
   },
   {
    "duration": 46,
    "start_time": "2023-07-27T09:19:01.486Z"
   },
   {
    "duration": 55,
    "start_time": "2023-07-27T09:19:01.534Z"
   },
   {
    "duration": 60,
    "start_time": "2023-07-27T09:19:01.591Z"
   },
   {
    "duration": 2833,
    "start_time": "2023-07-27T09:19:41.802Z"
   },
   {
    "duration": 5,
    "start_time": "2023-07-27T09:20:24.623Z"
   },
   {
    "duration": 17,
    "start_time": "2023-07-27T09:20:38.062Z"
   },
   {
    "duration": 97,
    "start_time": "2023-07-27T09:27:01.357Z"
   },
   {
    "duration": 2403,
    "start_time": "2023-07-27T09:27:12.163Z"
   },
   {
    "duration": 12,
    "start_time": "2023-07-27T09:27:40.036Z"
   },
   {
    "duration": 278,
    "start_time": "2023-07-27T09:28:23.113Z"
   },
   {
    "duration": 12,
    "start_time": "2023-07-27T09:28:36.113Z"
   },
   {
    "duration": 1897,
    "start_time": "2023-07-27T09:29:27.938Z"
   },
   {
    "duration": 75,
    "start_time": "2023-07-27T09:29:42.694Z"
   },
   {
    "duration": 1971,
    "start_time": "2023-07-27T09:30:09.430Z"
   },
   {
    "duration": 10,
    "start_time": "2023-07-27T09:33:13.407Z"
   },
   {
    "duration": 4,
    "start_time": "2023-07-27T09:33:43.279Z"
   },
   {
    "duration": 0,
    "start_time": "2023-07-27T10:51:34.003Z"
   },
   {
    "duration": 2867,
    "start_time": "2023-07-27T10:51:40.595Z"
   },
   {
    "duration": 3,
    "start_time": "2023-07-27T10:51:49.510Z"
   },
   {
    "duration": 121,
    "start_time": "2023-07-27T10:51:49.516Z"
   },
   {
    "duration": 14,
    "start_time": "2023-07-27T10:51:49.639Z"
   },
   {
    "duration": 22,
    "start_time": "2023-07-27T10:51:49.655Z"
   },
   {
    "duration": 15,
    "start_time": "2023-07-27T10:51:49.679Z"
   },
   {
    "duration": 36,
    "start_time": "2023-07-27T10:51:49.696Z"
   },
   {
    "duration": 7,
    "start_time": "2023-07-27T10:51:49.734Z"
   },
   {
    "duration": 3116,
    "start_time": "2023-07-27T10:51:49.743Z"
   },
   {
    "duration": 8,
    "start_time": "2023-07-27T10:52:04.202Z"
   },
   {
    "duration": 22,
    "start_time": "2023-07-27T10:53:14.713Z"
   },
   {
    "duration": 14,
    "start_time": "2023-07-27T10:53:34.322Z"
   },
   {
    "duration": 6,
    "start_time": "2023-07-27T10:56:12.453Z"
   },
   {
    "duration": 5,
    "start_time": "2023-07-27T10:56:28.596Z"
   },
   {
    "duration": 5,
    "start_time": "2023-07-27T10:56:41.648Z"
   },
   {
    "duration": 7,
    "start_time": "2023-07-27T10:56:50.654Z"
   },
   {
    "duration": 7,
    "start_time": "2023-07-27T10:57:03.997Z"
   },
   {
    "duration": 12,
    "start_time": "2023-07-27T10:57:12.497Z"
   },
   {
    "duration": 10,
    "start_time": "2023-07-27T10:57:16.461Z"
   },
   {
    "duration": 12,
    "start_time": "2023-07-27T10:58:12.753Z"
   },
   {
    "duration": 9,
    "start_time": "2023-07-27T10:58:18.599Z"
   },
   {
    "duration": 9,
    "start_time": "2023-07-27T10:59:18.348Z"
   },
   {
    "duration": 9,
    "start_time": "2023-07-27T11:02:24.547Z"
   },
   {
    "duration": 1728,
    "start_time": "2023-07-27T11:02:34.852Z"
   },
   {
    "duration": 1012,
    "start_time": "2023-07-27T11:03:17.495Z"
   },
   {
    "duration": 6,
    "start_time": "2023-07-27T11:03:27.656Z"
   },
   {
    "duration": 1025,
    "start_time": "2023-07-27T11:03:36.469Z"
   },
   {
    "duration": 1818,
    "start_time": "2023-07-27T11:05:52.978Z"
   },
   {
    "duration": 121,
    "start_time": "2023-07-27T11:06:05.653Z"
   },
   {
    "duration": 1738,
    "start_time": "2023-07-27T11:06:19.948Z"
   },
   {
    "duration": 370,
    "start_time": "2023-07-27T11:06:38.305Z"
   },
   {
    "duration": 375,
    "start_time": "2023-07-27T11:06:42.817Z"
   },
   {
    "duration": 146,
    "start_time": "2023-07-27T11:06:54.650Z"
   },
   {
    "duration": 12,
    "start_time": "2023-07-27T11:10:57.961Z"
   },
   {
    "duration": 3,
    "start_time": "2023-07-27T11:13:26.204Z"
   },
   {
    "duration": 4,
    "start_time": "2023-07-27T11:13:40.398Z"
   },
   {
    "duration": 8911,
    "start_time": "2023-07-27T11:13:43.203Z"
   },
   {
    "duration": 3,
    "start_time": "2023-07-27T11:16:32.846Z"
   },
   {
    "duration": 10,
    "start_time": "2023-07-27T11:16:37.658Z"
   },
   {
    "duration": 5,
    "start_time": "2023-07-27T11:16:49.446Z"
   },
   {
    "duration": 17,
    "start_time": "2023-07-27T11:16:51.974Z"
   },
   {
    "duration": 22,
    "start_time": "2023-07-27T11:16:52.094Z"
   },
   {
    "duration": 3,
    "start_time": "2023-07-27T11:16:57.805Z"
   },
   {
    "duration": 17,
    "start_time": "2023-07-27T11:17:00.592Z"
   },
   {
    "duration": 10,
    "start_time": "2023-07-27T11:18:09.158Z"
   },
   {
    "duration": 50,
    "start_time": "2023-07-27T16:39:52.768Z"
   },
   {
    "duration": 425,
    "start_time": "2023-07-27T16:40:00.271Z"
   },
   {
    "duration": 450,
    "start_time": "2023-07-27T16:40:00.698Z"
   },
   {
    "duration": 28,
    "start_time": "2023-07-27T16:40:01.150Z"
   },
   {
    "duration": 41,
    "start_time": "2023-07-27T16:40:01.181Z"
   },
   {
    "duration": 31,
    "start_time": "2023-07-27T16:40:01.224Z"
   },
   {
    "duration": 5,
    "start_time": "2023-07-27T16:40:03.666Z"
   },
   {
    "duration": 17,
    "start_time": "2023-07-27T16:40:50.828Z"
   },
   {
    "duration": 24,
    "start_time": "2023-07-27T16:41:25.508Z"
   },
   {
    "duration": 66,
    "start_time": "2023-07-27T16:41:50.004Z"
   },
   {
    "duration": 13,
    "start_time": "2023-07-27T16:41:56.912Z"
   },
   {
    "duration": 20,
    "start_time": "2023-07-27T16:42:10.674Z"
   },
   {
    "duration": 11,
    "start_time": "2023-07-27T16:42:30.600Z"
   },
   {
    "duration": 2,
    "start_time": "2023-07-27T16:42:37.498Z"
   },
   {
    "duration": 77,
    "start_time": "2023-07-27T16:42:37.502Z"
   },
   {
    "duration": 15,
    "start_time": "2023-07-27T16:42:37.581Z"
   },
   {
    "duration": 14,
    "start_time": "2023-07-27T16:42:37.598Z"
   },
   {
    "duration": 3,
    "start_time": "2023-07-27T16:42:37.614Z"
   },
   {
    "duration": 15,
    "start_time": "2023-07-27T16:42:40.750Z"
   },
   {
    "duration": 10,
    "start_time": "2023-07-27T16:42:48.477Z"
   },
   {
    "duration": 404,
    "start_time": "2023-07-27T16:43:04.896Z"
   },
   {
    "duration": 69,
    "start_time": "2023-07-27T16:43:05.302Z"
   },
   {
    "duration": 25,
    "start_time": "2023-07-27T16:43:05.374Z"
   },
   {
    "duration": 17,
    "start_time": "2023-07-27T16:43:05.401Z"
   },
   {
    "duration": 5,
    "start_time": "2023-07-27T16:43:05.420Z"
   },
   {
    "duration": 16,
    "start_time": "2023-07-27T16:43:09.182Z"
   },
   {
    "duration": 16,
    "start_time": "2023-07-27T16:43:27.505Z"
   },
   {
    "duration": 16,
    "start_time": "2023-07-27T16:44:15.705Z"
   },
   {
    "duration": 22,
    "start_time": "2023-07-27T16:44:24.852Z"
   },
   {
    "duration": 4,
    "start_time": "2023-07-27T16:44:51.460Z"
   },
   {
    "duration": 92,
    "start_time": "2023-07-27T16:44:51.467Z"
   },
   {
    "duration": 25,
    "start_time": "2023-07-27T16:44:51.561Z"
   },
   {
    "duration": 17,
    "start_time": "2023-07-27T16:44:51.592Z"
   },
   {
    "duration": 7,
    "start_time": "2023-07-27T16:44:51.611Z"
   },
   {
    "duration": 23,
    "start_time": "2023-07-27T16:44:54.183Z"
   },
   {
    "duration": 616,
    "start_time": "2023-07-27T16:45:22.881Z"
   },
   {
    "duration": 141,
    "start_time": "2023-07-27T16:45:33.720Z"
   },
   {
    "duration": 1224,
    "start_time": "2023-07-27T16:45:55.681Z"
   },
   {
    "duration": 1216,
    "start_time": "2023-07-27T16:46:02.250Z"
   },
   {
    "duration": 13,
    "start_time": "2023-07-27T16:46:20.854Z"
   },
   {
    "duration": 17,
    "start_time": "2023-07-27T16:46:31.926Z"
   },
   {
    "duration": 11,
    "start_time": "2023-07-27T16:47:44.171Z"
   },
   {
    "duration": 81,
    "start_time": "2023-07-27T16:48:10.825Z"
   },
   {
    "duration": 12,
    "start_time": "2023-07-27T16:48:20.462Z"
   },
   {
    "duration": 3,
    "start_time": "2023-07-27T16:48:42.627Z"
   },
   {
    "duration": 81,
    "start_time": "2023-07-27T16:48:42.655Z"
   },
   {
    "duration": 33,
    "start_time": "2023-07-27T16:48:42.738Z"
   },
   {
    "duration": 18,
    "start_time": "2023-07-27T16:48:42.780Z"
   },
   {
    "duration": 6,
    "start_time": "2023-07-27T16:48:42.800Z"
   },
   {
    "duration": 18,
    "start_time": "2023-07-27T16:48:46.073Z"
   },
   {
    "duration": 25,
    "start_time": "2023-07-27T16:56:19.907Z"
   },
   {
    "duration": 6,
    "start_time": "2023-07-27T16:57:33.044Z"
   },
   {
    "duration": 20,
    "start_time": "2023-07-27T17:02:28.006Z"
   },
   {
    "duration": 10,
    "start_time": "2023-07-27T17:03:02.477Z"
   },
   {
    "duration": 87,
    "start_time": "2023-07-27T17:03:02.490Z"
   },
   {
    "duration": 21,
    "start_time": "2023-07-27T17:03:02.581Z"
   },
   {
    "duration": 26,
    "start_time": "2023-07-27T17:03:02.605Z"
   },
   {
    "duration": 19,
    "start_time": "2023-07-27T17:03:02.633Z"
   },
   {
    "duration": 55,
    "start_time": "2023-07-27T17:03:02.653Z"
   },
   {
    "duration": 149,
    "start_time": "2023-07-27T17:03:02.710Z"
   },
   {
    "duration": 10,
    "start_time": "2023-07-27T17:03:42.806Z"
   },
   {
    "duration": 10,
    "start_time": "2023-07-27T17:04:01.348Z"
   },
   {
    "duration": 10,
    "start_time": "2023-07-27T17:04:05.712Z"
   },
   {
    "duration": 9,
    "start_time": "2023-07-27T17:06:35.022Z"
   },
   {
    "duration": 25,
    "start_time": "2023-07-27T17:07:00.063Z"
   },
   {
    "duration": 36,
    "start_time": "2023-07-27T17:07:09.551Z"
   },
   {
    "duration": 14,
    "start_time": "2023-07-27T17:07:21.294Z"
   },
   {
    "duration": 16,
    "start_time": "2023-07-27T17:07:26.909Z"
   },
   {
    "duration": 9,
    "start_time": "2023-07-27T17:08:22.206Z"
   },
   {
    "duration": 894,
    "start_time": "2023-07-27T17:09:50.201Z"
   },
   {
    "duration": 15,
    "start_time": "2023-07-27T17:10:09.529Z"
   },
   {
    "duration": 18,
    "start_time": "2023-07-27T17:10:21.276Z"
   },
   {
    "duration": 7,
    "start_time": "2023-07-27T17:10:28.614Z"
   },
   {
    "duration": 3,
    "start_time": "2023-07-27T17:10:33.401Z"
   },
   {
    "duration": 98,
    "start_time": "2023-07-27T17:10:33.407Z"
   },
   {
    "duration": 16,
    "start_time": "2023-07-27T17:10:33.507Z"
   },
   {
    "duration": 32,
    "start_time": "2023-07-27T17:10:33.525Z"
   },
   {
    "duration": 30,
    "start_time": "2023-07-27T17:10:33.563Z"
   },
   {
    "duration": 50,
    "start_time": "2023-07-27T17:10:33.595Z"
   },
   {
    "duration": 7,
    "start_time": "2023-07-27T17:10:33.647Z"
   },
   {
    "duration": 13,
    "start_time": "2023-07-27T17:17:52.993Z"
   },
   {
    "duration": 16,
    "start_time": "2023-07-27T17:18:13.372Z"
   },
   {
    "duration": 7,
    "start_time": "2023-07-27T17:18:48.701Z"
   },
   {
    "duration": 7,
    "start_time": "2023-07-27T17:19:01.951Z"
   },
   {
    "duration": 13,
    "start_time": "2023-07-27T17:19:09.174Z"
   },
   {
    "duration": 8,
    "start_time": "2023-07-27T17:19:15.797Z"
   },
   {
    "duration": 9,
    "start_time": "2023-07-27T17:19:28.250Z"
   },
   {
    "duration": 12,
    "start_time": "2023-07-27T17:19:38.278Z"
   },
   {
    "duration": 3149,
    "start_time": "2023-07-27T17:20:19.675Z"
   },
   {
    "duration": 3165,
    "start_time": "2023-07-27T17:20:36.946Z"
   },
   {
    "duration": 3,
    "start_time": "2023-07-27T17:20:41.098Z"
   },
   {
    "duration": 77,
    "start_time": "2023-07-27T17:20:41.104Z"
   },
   {
    "duration": 15,
    "start_time": "2023-07-27T17:20:41.183Z"
   },
   {
    "duration": 38,
    "start_time": "2023-07-27T17:20:41.199Z"
   },
   {
    "duration": 6,
    "start_time": "2023-07-27T17:20:41.240Z"
   },
   {
    "duration": 43,
    "start_time": "2023-07-27T17:20:41.248Z"
   },
   {
    "duration": 3001,
    "start_time": "2023-07-27T17:20:41.293Z"
   },
   {
    "duration": 3214,
    "start_time": "2023-07-27T17:20:51.197Z"
   },
   {
    "duration": 935,
    "start_time": "2023-07-27T17:21:23.274Z"
   },
   {
    "duration": 3114,
    "start_time": "2023-07-27T17:21:36.954Z"
   },
   {
    "duration": 2988,
    "start_time": "2023-07-27T17:28:07.514Z"
   },
   {
    "duration": 19,
    "start_time": "2023-07-27T17:28:22.381Z"
   },
   {
    "duration": 7,
    "start_time": "2023-07-27T17:28:32.797Z"
   },
   {
    "duration": 12,
    "start_time": "2023-07-27T17:28:49.475Z"
   },
   {
    "duration": 9,
    "start_time": "2023-07-27T17:29:04.810Z"
   },
   {
    "duration": 3,
    "start_time": "2023-07-27T17:29:12.682Z"
   },
   {
    "duration": 71,
    "start_time": "2023-07-27T17:29:12.698Z"
   },
   {
    "duration": 22,
    "start_time": "2023-07-27T17:29:12.779Z"
   },
   {
    "duration": 14,
    "start_time": "2023-07-27T17:29:12.803Z"
   },
   {
    "duration": 4,
    "start_time": "2023-07-27T17:29:12.819Z"
   },
   {
    "duration": 27,
    "start_time": "2023-07-27T17:29:12.825Z"
   },
   {
    "duration": 40,
    "start_time": "2023-07-27T17:29:12.854Z"
   },
   {
    "duration": 3,
    "start_time": "2023-07-27T18:35:57.714Z"
   },
   {
    "duration": 18,
    "start_time": "2023-07-27T18:36:18.805Z"
   },
   {
    "duration": 4,
    "start_time": "2023-07-27T18:36:29.057Z"
   },
   {
    "duration": 4,
    "start_time": "2023-07-27T18:36:34.297Z"
   },
   {
    "duration": 102,
    "start_time": "2023-07-27T18:36:34.304Z"
   },
   {
    "duration": 21,
    "start_time": "2023-07-27T18:36:34.408Z"
   },
   {
    "duration": 56,
    "start_time": "2023-07-27T18:36:34.431Z"
   },
   {
    "duration": 29,
    "start_time": "2023-07-27T18:36:34.489Z"
   },
   {
    "duration": 34,
    "start_time": "2023-07-27T18:36:34.521Z"
   },
   {
    "duration": 11,
    "start_time": "2023-07-27T18:36:34.559Z"
   },
   {
    "duration": 43,
    "start_time": "2023-07-27T18:36:34.577Z"
   },
   {
    "duration": 24,
    "start_time": "2023-07-27T18:37:03.949Z"
   },
   {
    "duration": 17,
    "start_time": "2023-07-27T18:38:05.469Z"
   },
   {
    "duration": 15,
    "start_time": "2023-07-27T18:40:07.072Z"
   },
   {
    "duration": 6,
    "start_time": "2023-07-27T18:40:22.401Z"
   },
   {
    "duration": 2,
    "start_time": "2023-07-27T18:40:29.654Z"
   },
   {
    "duration": 81,
    "start_time": "2023-07-27T18:40:29.659Z"
   },
   {
    "duration": 26,
    "start_time": "2023-07-27T18:40:29.742Z"
   },
   {
    "duration": 15,
    "start_time": "2023-07-27T18:40:29.770Z"
   },
   {
    "duration": 10,
    "start_time": "2023-07-27T18:40:29.788Z"
   },
   {
    "duration": 31,
    "start_time": "2023-07-27T18:40:29.800Z"
   },
   {
    "duration": 4,
    "start_time": "2023-07-27T18:40:29.833Z"
   },
   {
    "duration": 13,
    "start_time": "2023-07-27T18:40:47.756Z"
   },
   {
    "duration": 11,
    "start_time": "2023-07-27T18:42:48.649Z"
   },
   {
    "duration": 8,
    "start_time": "2023-07-27T18:43:03.104Z"
   },
   {
    "duration": 5,
    "start_time": "2023-07-27T18:43:16.308Z"
   },
   {
    "duration": 139,
    "start_time": "2023-07-27T18:45:31.205Z"
   },
   {
    "duration": 9,
    "start_time": "2023-07-27T18:45:49.865Z"
   },
   {
    "duration": 4,
    "start_time": "2023-07-27T18:46:22.153Z"
   },
   {
    "duration": 3,
    "start_time": "2023-07-27T18:46:32.345Z"
   },
   {
    "duration": 167,
    "start_time": "2023-07-27T18:47:48.557Z"
   },
   {
    "duration": 128,
    "start_time": "2023-07-27T18:48:07.501Z"
   },
   {
    "duration": 4,
    "start_time": "2023-07-27T18:50:40.044Z"
   },
   {
    "duration": 60,
    "start_time": "2023-07-27T18:50:41.249Z"
   },
   {
    "duration": 3,
    "start_time": "2023-07-27T18:54:42.987Z"
   },
   {
    "duration": 1041,
    "start_time": "2023-07-27T18:54:44.200Z"
   },
   {
    "duration": 4,
    "start_time": "2023-07-27T18:59:20.695Z"
   },
   {
    "duration": 69,
    "start_time": "2023-07-27T18:59:22.002Z"
   },
   {
    "duration": 2,
    "start_time": "2023-07-27T18:59:29.844Z"
   },
   {
    "duration": 62,
    "start_time": "2023-07-27T18:59:29.850Z"
   },
   {
    "duration": 13,
    "start_time": "2023-07-27T18:59:29.914Z"
   },
   {
    "duration": 28,
    "start_time": "2023-07-27T18:59:29.929Z"
   },
   {
    "duration": 7,
    "start_time": "2023-07-27T18:59:29.959Z"
   },
   {
    "duration": 23,
    "start_time": "2023-07-27T18:59:29.968Z"
   },
   {
    "duration": 4,
    "start_time": "2023-07-27T18:59:29.993Z"
   },
   {
    "duration": 145,
    "start_time": "2023-07-27T18:59:29.999Z"
   },
   {
    "duration": 3,
    "start_time": "2023-07-27T18:59:44.607Z"
   },
   {
    "duration": 70,
    "start_time": "2023-07-27T18:59:45.217Z"
   },
   {
    "duration": 50,
    "start_time": "2023-07-27T19:01:14.880Z"
   },
   {
    "duration": 94,
    "start_time": "2023-07-28T07:52:02.569Z"
   },
   {
    "duration": 3,
    "start_time": "2023-07-28T07:53:21.924Z"
   },
   {
    "duration": 54,
    "start_time": "2023-07-28T07:53:24.977Z"
   },
   {
    "duration": 412,
    "start_time": "2023-07-28T07:53:33.884Z"
   },
   {
    "duration": 201,
    "start_time": "2023-07-28T07:53:34.298Z"
   },
   {
    "duration": 25,
    "start_time": "2023-07-28T07:53:34.500Z"
   },
   {
    "duration": 14,
    "start_time": "2023-07-28T07:53:34.527Z"
   },
   {
    "duration": 9,
    "start_time": "2023-07-28T07:53:34.543Z"
   },
   {
    "duration": 24,
    "start_time": "2023-07-28T07:53:34.557Z"
   },
   {
    "duration": 3,
    "start_time": "2023-07-28T07:53:34.583Z"
   },
   {
    "duration": 9,
    "start_time": "2023-07-28T07:53:34.588Z"
   },
   {
    "duration": 9,
    "start_time": "2023-07-28T07:53:54.179Z"
   },
   {
    "duration": 439,
    "start_time": "2023-07-28T07:59:17.213Z"
   },
   {
    "duration": 3,
    "start_time": "2023-07-28T07:59:24.391Z"
   },
   {
    "duration": 65,
    "start_time": "2023-07-28T07:59:24.399Z"
   },
   {
    "duration": 18,
    "start_time": "2023-07-28T07:59:24.466Z"
   },
   {
    "duration": 15,
    "start_time": "2023-07-28T07:59:24.486Z"
   },
   {
    "duration": 5,
    "start_time": "2023-07-28T07:59:24.502Z"
   },
   {
    "duration": 23,
    "start_time": "2023-07-28T07:59:24.510Z"
   },
   {
    "duration": 4,
    "start_time": "2023-07-28T07:59:24.557Z"
   },
   {
    "duration": 348,
    "start_time": "2023-07-28T07:59:24.563Z"
   },
   {
    "duration": 6,
    "start_time": "2023-07-28T07:59:42.106Z"
   },
   {
    "duration": 6,
    "start_time": "2023-07-28T07:59:55.237Z"
   },
   {
    "duration": 5,
    "start_time": "2023-07-28T08:03:33.033Z"
   },
   {
    "duration": 8,
    "start_time": "2023-07-28T08:03:53.922Z"
   },
   {
    "duration": 16,
    "start_time": "2023-07-28T08:04:00.134Z"
   },
   {
    "duration": 155,
    "start_time": "2023-07-28T08:09:58.159Z"
   },
   {
    "duration": 906,
    "start_time": "2023-07-28T08:10:01.741Z"
   },
   {
    "duration": 24,
    "start_time": "2023-07-28T08:12:34.103Z"
   },
   {
    "duration": 17,
    "start_time": "2023-07-28T08:13:08.441Z"
   },
   {
    "duration": 15,
    "start_time": "2023-07-28T08:13:40.011Z"
   },
   {
    "duration": 25,
    "start_time": "2023-07-28T08:13:58.668Z"
   },
   {
    "duration": 17,
    "start_time": "2023-07-28T08:14:14.975Z"
   },
   {
    "duration": 115,
    "start_time": "2023-07-28T08:15:00.986Z"
   },
   {
    "duration": 396,
    "start_time": "2023-07-28T08:15:05.126Z"
   },
   {
    "duration": 409,
    "start_time": "2023-07-28T08:15:43.593Z"
   },
   {
    "duration": 23,
    "start_time": "2023-07-28T08:16:06.837Z"
   },
   {
    "duration": 19,
    "start_time": "2023-07-28T08:16:23.299Z"
   },
   {
    "duration": 10,
    "start_time": "2023-07-28T08:17:25.906Z"
   },
   {
    "duration": 12,
    "start_time": "2023-07-28T08:17:36.473Z"
   },
   {
    "duration": 19,
    "start_time": "2023-07-28T08:17:58.250Z"
   },
   {
    "duration": 12,
    "start_time": "2023-07-28T08:18:15.106Z"
   },
   {
    "duration": 13,
    "start_time": "2023-07-28T08:18:39.086Z"
   },
   {
    "duration": 21,
    "start_time": "2023-07-28T08:18:56.931Z"
   },
   {
    "duration": 21,
    "start_time": "2023-07-28T08:21:01.047Z"
   },
   {
    "duration": 3,
    "start_time": "2023-07-28T08:21:09.445Z"
   },
   {
    "duration": 64,
    "start_time": "2023-07-28T08:21:09.449Z"
   },
   {
    "duration": 13,
    "start_time": "2023-07-28T08:21:09.515Z"
   },
   {
    "duration": 20,
    "start_time": "2023-07-28T08:21:09.529Z"
   },
   {
    "duration": 17,
    "start_time": "2023-07-28T08:21:09.551Z"
   },
   {
    "duration": 19,
    "start_time": "2023-07-28T08:21:09.569Z"
   },
   {
    "duration": 17,
    "start_time": "2023-07-28T08:21:09.590Z"
   },
   {
    "duration": 21,
    "start_time": "2023-07-28T08:21:29.686Z"
   },
   {
    "duration": 20,
    "start_time": "2023-07-28T08:21:42.177Z"
   },
   {
    "duration": 13,
    "start_time": "2023-07-28T08:22:42.398Z"
   },
   {
    "duration": 16,
    "start_time": "2023-07-28T08:28:31.437Z"
   },
   {
    "duration": 13,
    "start_time": "2023-07-28T08:29:31.623Z"
   },
   {
    "duration": 8,
    "start_time": "2023-07-28T08:30:03.687Z"
   },
   {
    "duration": 10,
    "start_time": "2023-07-28T08:30:46.970Z"
   },
   {
    "duration": 3,
    "start_time": "2023-07-28T08:30:53.311Z"
   },
   {
    "duration": 86,
    "start_time": "2023-07-28T08:30:53.316Z"
   },
   {
    "duration": 15,
    "start_time": "2023-07-28T08:30:53.403Z"
   },
   {
    "duration": 66,
    "start_time": "2023-07-28T08:30:53.420Z"
   },
   {
    "duration": 13,
    "start_time": "2023-07-28T08:30:53.489Z"
   },
   {
    "duration": 39,
    "start_time": "2023-07-28T08:30:53.503Z"
   },
   {
    "duration": 6,
    "start_time": "2023-07-28T08:30:53.544Z"
   },
   {
    "duration": 35,
    "start_time": "2023-07-28T08:30:53.552Z"
   },
   {
    "duration": 7,
    "start_time": "2023-07-28T08:31:16.718Z"
   },
   {
    "duration": 6,
    "start_time": "2023-07-28T08:48:54.274Z"
   },
   {
    "duration": 3,
    "start_time": "2023-07-28T08:51:21.113Z"
   },
   {
    "duration": 2075,
    "start_time": "2023-07-28T08:51:39.832Z"
   },
   {
    "duration": 5,
    "start_time": "2023-07-28T08:51:58.597Z"
   },
   {
    "duration": 15,
    "start_time": "2023-07-28T08:53:01.472Z"
   },
   {
    "duration": 4,
    "start_time": "2023-07-28T08:53:08.032Z"
   },
   {
    "duration": 20,
    "start_time": "2023-07-28T08:53:29.515Z"
   },
   {
    "duration": 19,
    "start_time": "2023-07-28T08:53:44.415Z"
   },
   {
    "duration": 16,
    "start_time": "2023-07-28T08:54:16.813Z"
   },
   {
    "duration": 14,
    "start_time": "2023-07-28T08:54:20.802Z"
   },
   {
    "duration": 7,
    "start_time": "2023-07-28T08:55:03.223Z"
   },
   {
    "duration": 6,
    "start_time": "2023-07-28T08:55:35.314Z"
   },
   {
    "duration": 6,
    "start_time": "2023-07-28T08:56:26.937Z"
   },
   {
    "duration": 12,
    "start_time": "2023-07-28T08:56:56.276Z"
   },
   {
    "duration": 3,
    "start_time": "2023-07-28T08:57:04.585Z"
   },
   {
    "duration": 66,
    "start_time": "2023-07-28T08:57:04.591Z"
   },
   {
    "duration": 21,
    "start_time": "2023-07-28T08:57:04.673Z"
   },
   {
    "duration": 14,
    "start_time": "2023-07-28T08:57:04.696Z"
   },
   {
    "duration": 5,
    "start_time": "2023-07-28T08:57:04.712Z"
   },
   {
    "duration": 22,
    "start_time": "2023-07-28T08:57:04.719Z"
   },
   {
    "duration": 40,
    "start_time": "2023-07-28T08:57:04.743Z"
   },
   {
    "duration": 15,
    "start_time": "2023-07-28T08:57:04.784Z"
   },
   {
    "duration": 5,
    "start_time": "2023-07-28T08:57:47.721Z"
   },
   {
    "duration": 22,
    "start_time": "2023-07-28T08:57:56.252Z"
   },
   {
    "duration": 35,
    "start_time": "2023-07-28T09:14:40.857Z"
   },
   {
    "duration": 29,
    "start_time": "2023-07-28T09:14:41.146Z"
   },
   {
    "duration": 17,
    "start_time": "2023-07-28T09:14:45.387Z"
   },
   {
    "duration": 7,
    "start_time": "2023-07-28T09:17:20.679Z"
   },
   {
    "duration": 126,
    "start_time": "2023-07-28T09:18:22.070Z"
   },
   {
    "duration": 4,
    "start_time": "2023-07-28T09:18:41.634Z"
   },
   {
    "duration": 11,
    "start_time": "2023-07-28T09:18:59.474Z"
   },
   {
    "duration": 9,
    "start_time": "2023-07-28T09:19:03.112Z"
   },
   {
    "duration": 128,
    "start_time": "2023-07-28T09:20:27.795Z"
   },
   {
    "duration": 17,
    "start_time": "2023-07-28T09:20:36.655Z"
   },
   {
    "duration": 137,
    "start_time": "2023-07-28T09:23:29.583Z"
   },
   {
    "duration": 23,
    "start_time": "2023-07-28T09:23:43.474Z"
   },
   {
    "duration": 7,
    "start_time": "2023-07-28T09:24:24.647Z"
   },
   {
    "duration": 11,
    "start_time": "2023-07-28T09:24:55.413Z"
   },
   {
    "duration": 19,
    "start_time": "2023-07-28T09:25:47.265Z"
   },
   {
    "duration": 10,
    "start_time": "2023-07-28T09:27:35.718Z"
   },
   {
    "duration": 6,
    "start_time": "2023-07-28T09:28:00.641Z"
   },
   {
    "duration": 8,
    "start_time": "2023-07-28T09:33:48.693Z"
   },
   {
    "duration": 6,
    "start_time": "2023-07-28T09:34:11.911Z"
   },
   {
    "duration": 4,
    "start_time": "2023-07-28T09:39:56.162Z"
   },
   {
    "duration": 7,
    "start_time": "2023-07-28T09:41:29.922Z"
   },
   {
    "duration": 4,
    "start_time": "2023-07-28T09:41:47.097Z"
   },
   {
    "duration": 5,
    "start_time": "2023-07-28T09:41:48.772Z"
   },
   {
    "duration": 4,
    "start_time": "2023-07-28T09:42:02.440Z"
   },
   {
    "duration": 115,
    "start_time": "2023-07-28T09:42:02.446Z"
   },
   {
    "duration": 19,
    "start_time": "2023-07-28T09:42:02.563Z"
   },
   {
    "duration": 44,
    "start_time": "2023-07-28T09:42:02.584Z"
   },
   {
    "duration": 29,
    "start_time": "2023-07-28T09:42:02.631Z"
   },
   {
    "duration": 41,
    "start_time": "2023-07-28T09:42:02.663Z"
   },
   {
    "duration": 58,
    "start_time": "2023-07-28T09:42:02.705Z"
   },
   {
    "duration": 12,
    "start_time": "2023-07-28T09:42:02.765Z"
   },
   {
    "duration": 0,
    "start_time": "2023-07-28T09:42:02.778Z"
   },
   {
    "duration": 4,
    "start_time": "2023-07-28T09:43:07.799Z"
   },
   {
    "duration": 5,
    "start_time": "2023-07-28T09:43:10.279Z"
   },
   {
    "duration": 4,
    "start_time": "2023-07-28T09:43:30.991Z"
   },
   {
    "duration": 6,
    "start_time": "2023-07-28T09:43:33.172Z"
   },
   {
    "duration": 5,
    "start_time": "2023-07-28T09:43:39.831Z"
   },
   {
    "duration": 6,
    "start_time": "2023-07-28T09:43:42.372Z"
   },
   {
    "duration": 4,
    "start_time": "2023-07-28T09:45:01.349Z"
   },
   {
    "duration": 4,
    "start_time": "2023-07-28T09:45:05.021Z"
   },
   {
    "duration": 5,
    "start_time": "2023-07-28T09:45:06.353Z"
   },
   {
    "duration": 12,
    "start_time": "2023-07-28T09:45:09.138Z"
   },
   {
    "duration": 6,
    "start_time": "2023-07-28T09:46:42.733Z"
   },
   {
    "duration": 15,
    "start_time": "2023-07-28T09:47:56.233Z"
   },
   {
    "duration": 16,
    "start_time": "2023-07-28T09:49:19.413Z"
   },
   {
    "duration": 7,
    "start_time": "2023-07-28T09:52:46.776Z"
   },
   {
    "duration": 4,
    "start_time": "2023-07-28T09:52:51.073Z"
   },
   {
    "duration": 8,
    "start_time": "2023-07-28T12:26:24.364Z"
   },
   {
    "duration": 375,
    "start_time": "2023-07-28T12:26:31.103Z"
   },
   {
    "duration": 121,
    "start_time": "2023-07-28T12:26:31.481Z"
   },
   {
    "duration": 34,
    "start_time": "2023-07-28T12:26:31.604Z"
   },
   {
    "duration": 30,
    "start_time": "2023-07-28T12:26:31.640Z"
   },
   {
    "duration": 18,
    "start_time": "2023-07-28T12:26:31.672Z"
   },
   {
    "duration": 48,
    "start_time": "2023-07-28T12:26:31.691Z"
   },
   {
    "duration": 30,
    "start_time": "2023-07-28T12:26:31.741Z"
   },
   {
    "duration": 18,
    "start_time": "2023-07-28T12:26:31.773Z"
   },
   {
    "duration": 46,
    "start_time": "2023-07-28T12:26:31.792Z"
   },
   {
    "duration": 30,
    "start_time": "2023-07-28T12:26:31.840Z"
   },
   {
    "duration": 73,
    "start_time": "2023-07-28T12:27:06.566Z"
   },
   {
    "duration": 3,
    "start_time": "2023-07-28T12:27:37.039Z"
   },
   {
    "duration": 3,
    "start_time": "2023-07-28T12:27:53.036Z"
   },
   {
    "duration": 32,
    "start_time": "2023-07-28T12:27:55.114Z"
   },
   {
    "duration": 3,
    "start_time": "2023-07-28T12:28:19.859Z"
   },
   {
    "duration": 14,
    "start_time": "2023-07-28T12:28:22.247Z"
   },
   {
    "duration": 3,
    "start_time": "2023-07-28T12:29:22.993Z"
   },
   {
    "duration": 2,
    "start_time": "2023-07-28T12:30:28.944Z"
   },
   {
    "duration": 10,
    "start_time": "2023-07-28T12:30:32.743Z"
   },
   {
    "duration": 2,
    "start_time": "2023-07-28T12:30:57.633Z"
   },
   {
    "duration": 69,
    "start_time": "2023-07-28T12:31:00.494Z"
   },
   {
    "duration": 4,
    "start_time": "2023-07-28T12:32:55.271Z"
   },
   {
    "duration": 3,
    "start_time": "2023-07-28T12:33:17.788Z"
   },
   {
    "duration": 12,
    "start_time": "2023-07-28T12:33:24.390Z"
   },
   {
    "duration": 3,
    "start_time": "2023-07-28T12:35:01.840Z"
   },
   {
    "duration": 15,
    "start_time": "2023-07-28T12:35:04.758Z"
   },
   {
    "duration": 3,
    "start_time": "2023-07-28T12:35:16.163Z"
   },
   {
    "duration": 12,
    "start_time": "2023-07-28T12:35:17.993Z"
   },
   {
    "duration": 3,
    "start_time": "2023-07-28T12:42:34.742Z"
   },
   {
    "duration": 11,
    "start_time": "2023-07-28T12:42:36.696Z"
   },
   {
    "duration": 3,
    "start_time": "2023-07-28T12:42:56.497Z"
   },
   {
    "duration": 9,
    "start_time": "2023-07-28T12:42:58.991Z"
   },
   {
    "duration": 20,
    "start_time": "2023-07-28T12:46:27.097Z"
   },
   {
    "duration": 10,
    "start_time": "2023-07-28T12:46:44.460Z"
   },
   {
    "duration": 16,
    "start_time": "2023-07-28T12:47:13.861Z"
   },
   {
    "duration": 25,
    "start_time": "2023-07-28T12:48:52.681Z"
   },
   {
    "duration": 7,
    "start_time": "2023-07-28T12:58:48.533Z"
   },
   {
    "duration": 22,
    "start_time": "2023-07-28T12:58:58.919Z"
   },
   {
    "duration": 19,
    "start_time": "2023-07-28T12:59:08.293Z"
   },
   {
    "duration": 132,
    "start_time": "2023-07-28T12:59:18.670Z"
   },
   {
    "duration": 27,
    "start_time": "2023-07-28T13:01:34.813Z"
   },
   {
    "duration": 35,
    "start_time": "2023-07-28T13:02:43.539Z"
   },
   {
    "duration": 35,
    "start_time": "2023-07-28T13:03:27.802Z"
   },
   {
    "duration": 40,
    "start_time": "2023-07-28T13:03:45.297Z"
   },
   {
    "duration": 13,
    "start_time": "2023-07-28T13:04:25.714Z"
   },
   {
    "duration": 25,
    "start_time": "2023-07-28T13:04:38.889Z"
   },
   {
    "duration": 14,
    "start_time": "2023-07-28T13:05:29.493Z"
   },
   {
    "duration": 34,
    "start_time": "2023-07-28T13:05:41.162Z"
   },
   {
    "duration": 32,
    "start_time": "2023-07-28T13:07:16.036Z"
   },
   {
    "duration": 44,
    "start_time": "2023-07-28T13:09:02.039Z"
   },
   {
    "duration": 28,
    "start_time": "2023-07-28T13:10:26.997Z"
   },
   {
    "duration": 48,
    "start_time": "2023-07-28T13:10:53.315Z"
   },
   {
    "duration": 63,
    "start_time": "2023-07-28T13:12:10.655Z"
   },
   {
    "duration": 23,
    "start_time": "2023-07-28T13:12:28.756Z"
   },
   {
    "duration": 50,
    "start_time": "2023-07-28T13:13:51.005Z"
   },
   {
    "duration": 16,
    "start_time": "2023-07-28T13:39:17.866Z"
   },
   {
    "duration": 48,
    "start_time": "2023-07-28T13:39:22.497Z"
   },
   {
    "duration": 8,
    "start_time": "2023-07-28T13:40:28.309Z"
   },
   {
    "duration": 9,
    "start_time": "2023-07-28T13:40:51.738Z"
   },
   {
    "duration": 13,
    "start_time": "2023-07-28T13:42:32.158Z"
   },
   {
    "duration": 17,
    "start_time": "2023-07-28T13:42:40.204Z"
   },
   {
    "duration": 10,
    "start_time": "2023-07-28T13:43:02.844Z"
   },
   {
    "duration": 9,
    "start_time": "2023-07-28T13:43:38.363Z"
   },
   {
    "duration": 10,
    "start_time": "2023-07-28T13:44:34.462Z"
   },
   {
    "duration": 10,
    "start_time": "2023-07-28T13:44:55.547Z"
   },
   {
    "duration": 3,
    "start_time": "2023-07-28T13:45:09.108Z"
   },
   {
    "duration": 101,
    "start_time": "2023-07-28T13:45:09.112Z"
   },
   {
    "duration": 13,
    "start_time": "2023-07-28T13:45:09.215Z"
   },
   {
    "duration": 26,
    "start_time": "2023-07-28T13:45:09.230Z"
   },
   {
    "duration": 9,
    "start_time": "2023-07-28T13:45:09.258Z"
   },
   {
    "duration": 26,
    "start_time": "2023-07-28T13:45:09.269Z"
   },
   {
    "duration": 23,
    "start_time": "2023-07-28T13:45:09.296Z"
   },
   {
    "duration": 12,
    "start_time": "2023-07-28T13:45:09.320Z"
   },
   {
    "duration": 31,
    "start_time": "2023-07-28T13:45:09.334Z"
   },
   {
    "duration": 10,
    "start_time": "2023-07-28T13:45:09.366Z"
   },
   {
    "duration": 39,
    "start_time": "2023-07-28T13:45:09.378Z"
   },
   {
    "duration": 12,
    "start_time": "2023-07-28T13:45:09.419Z"
   },
   {
    "duration": 20,
    "start_time": "2023-07-28T13:46:02.897Z"
   },
   {
    "duration": 19,
    "start_time": "2023-07-28T13:48:38.504Z"
   },
   {
    "duration": 6176,
    "start_time": "2023-07-28T13:50:02.956Z"
   },
   {
    "duration": 26,
    "start_time": "2023-07-28T13:50:14.805Z"
   },
   {
    "duration": 25,
    "start_time": "2023-07-28T13:55:17.404Z"
   },
   {
    "duration": 28,
    "start_time": "2023-07-28T13:55:42.341Z"
   },
   {
    "duration": 142,
    "start_time": "2023-07-28T14:02:43.324Z"
   },
   {
    "duration": 18,
    "start_time": "2023-07-28T14:02:50.365Z"
   },
   {
    "duration": 393,
    "start_time": "2023-07-28T14:03:39.828Z"
   },
   {
    "duration": 9,
    "start_time": "2023-07-28T14:03:45.708Z"
   },
   {
    "duration": 10,
    "start_time": "2023-07-28T14:05:11.517Z"
   },
   {
    "duration": 10,
    "start_time": "2023-07-28T14:05:25.881Z"
   },
   {
    "duration": 696,
    "start_time": "2023-07-28T14:05:36.510Z"
   },
   {
    "duration": 117,
    "start_time": "2023-07-28T14:06:07.860Z"
   },
   {
    "duration": 466,
    "start_time": "2023-07-28T14:06:33.060Z"
   },
   {
    "duration": 108,
    "start_time": "2023-07-28T14:06:44.747Z"
   },
   {
    "duration": 112,
    "start_time": "2023-07-28T14:06:48.991Z"
   },
   {
    "duration": 128,
    "start_time": "2023-07-28T14:07:15.884Z"
   },
   {
    "duration": 113,
    "start_time": "2023-07-28T14:07:44.781Z"
   },
   {
    "duration": 124,
    "start_time": "2023-07-28T14:07:49.468Z"
   },
   {
    "duration": 102,
    "start_time": "2023-07-28T14:07:56.667Z"
   },
   {
    "duration": 113,
    "start_time": "2023-07-28T14:08:07.392Z"
   },
   {
    "duration": 48,
    "start_time": "2023-07-29T07:46:34.374Z"
   },
   {
    "duration": 413,
    "start_time": "2023-07-29T07:46:38.902Z"
   },
   {
    "duration": 195,
    "start_time": "2023-07-29T07:46:39.318Z"
   },
   {
    "duration": 22,
    "start_time": "2023-07-29T07:46:39.514Z"
   },
   {
    "duration": 13,
    "start_time": "2023-07-29T07:46:39.537Z"
   },
   {
    "duration": 3,
    "start_time": "2023-07-29T07:46:39.553Z"
   },
   {
    "duration": 8,
    "start_time": "2023-07-29T07:46:39.558Z"
   },
   {
    "duration": 16,
    "start_time": "2023-07-29T07:46:39.567Z"
   },
   {
    "duration": 4,
    "start_time": "2023-07-29T07:46:39.585Z"
   },
   {
    "duration": 15,
    "start_time": "2023-07-29T07:46:39.591Z"
   },
   {
    "duration": 3,
    "start_time": "2023-07-29T07:46:39.608Z"
   },
   {
    "duration": 16,
    "start_time": "2023-07-29T07:46:39.613Z"
   },
   {
    "duration": 650,
    "start_time": "2023-07-29T07:46:39.630Z"
   },
   {
    "duration": 261,
    "start_time": "2023-07-29T07:46:40.282Z"
   },
   {
    "duration": 141,
    "start_time": "2023-07-29T07:46:53.068Z"
   },
   {
    "duration": 144,
    "start_time": "2023-07-29T07:47:05.528Z"
   },
   {
    "duration": 191,
    "start_time": "2023-07-29T07:47:35.814Z"
   },
   {
    "duration": 151,
    "start_time": "2023-07-29T07:47:46.862Z"
   },
   {
    "duration": 136,
    "start_time": "2023-07-29T07:48:16.771Z"
   },
   {
    "duration": 138,
    "start_time": "2023-07-29T07:48:20.785Z"
   },
   {
    "duration": 81,
    "start_time": "2023-07-29T07:54:11.540Z"
   },
   {
    "duration": 25,
    "start_time": "2023-07-29T07:54:25.602Z"
   },
   {
    "duration": 926,
    "start_time": "2023-07-29T07:54:46.233Z"
   },
   {
    "duration": 10,
    "start_time": "2023-07-29T07:55:29.709Z"
   },
   {
    "duration": 18,
    "start_time": "2023-07-29T07:55:39.680Z"
   },
   {
    "duration": 12,
    "start_time": "2023-07-29T07:55:54.480Z"
   },
   {
    "duration": 913,
    "start_time": "2023-07-29T07:56:24.738Z"
   },
   {
    "duration": 10,
    "start_time": "2023-07-29T07:56:58.977Z"
   },
   {
    "duration": 5,
    "start_time": "2023-07-29T07:57:02.598Z"
   },
   {
    "duration": 12,
    "start_time": "2023-07-29T07:57:04.290Z"
   },
   {
    "duration": 859,
    "start_time": "2023-07-29T07:57:07.217Z"
   },
   {
    "duration": 14,
    "start_time": "2023-07-29T07:59:38.537Z"
   },
   {
    "duration": 13,
    "start_time": "2023-07-29T08:02:17.894Z"
   },
   {
    "duration": 11,
    "start_time": "2023-07-29T08:05:02.926Z"
   },
   {
    "duration": 14,
    "start_time": "2023-07-29T08:08:46.816Z"
   },
   {
    "duration": 15,
    "start_time": "2023-07-29T08:09:06.645Z"
   },
   {
    "duration": 14,
    "start_time": "2023-07-29T08:09:13.966Z"
   },
   {
    "duration": 17,
    "start_time": "2023-07-29T08:09:50.965Z"
   },
   {
    "duration": 16,
    "start_time": "2023-07-29T08:10:54.575Z"
   },
   {
    "duration": 15,
    "start_time": "2023-07-29T08:17:33.965Z"
   },
   {
    "duration": 97,
    "start_time": "2023-07-29T12:37:38.729Z"
   },
   {
    "duration": 434,
    "start_time": "2023-07-29T12:37:43.688Z"
   },
   {
    "duration": 118,
    "start_time": "2023-07-29T12:37:44.124Z"
   },
   {
    "duration": 22,
    "start_time": "2023-07-29T12:37:44.244Z"
   },
   {
    "duration": 15,
    "start_time": "2023-07-29T12:37:44.268Z"
   },
   {
    "duration": 41,
    "start_time": "2023-07-29T12:37:44.286Z"
   },
   {
    "duration": 12,
    "start_time": "2023-07-29T12:37:44.329Z"
   },
   {
    "duration": 26,
    "start_time": "2023-07-29T12:37:44.343Z"
   },
   {
    "duration": 9,
    "start_time": "2023-07-29T12:37:44.372Z"
   },
   {
    "duration": 34,
    "start_time": "2023-07-29T12:37:44.383Z"
   },
   {
    "duration": 29,
    "start_time": "2023-07-29T12:37:44.418Z"
   },
   {
    "duration": 33,
    "start_time": "2023-07-29T12:37:44.449Z"
   },
   {
    "duration": 38,
    "start_time": "2023-07-29T12:37:44.484Z"
   },
   {
    "duration": 700,
    "start_time": "2023-07-29T12:37:44.524Z"
   },
   {
    "duration": 192,
    "start_time": "2023-07-29T12:37:45.227Z"
   },
   {
    "duration": 65,
    "start_time": "2023-07-29T12:37:45.420Z"
   },
   {
    "duration": 7,
    "start_time": "2023-07-29T12:38:19.729Z"
   },
   {
    "duration": 136,
    "start_time": "2023-07-29T12:38:34.049Z"
   },
   {
    "duration": 5,
    "start_time": "2023-07-29T12:38:44.912Z"
   },
   {
    "duration": 9,
    "start_time": "2023-07-29T12:39:13.923Z"
   },
   {
    "duration": 295,
    "start_time": "2023-07-29T12:39:20.190Z"
   },
   {
    "duration": 264,
    "start_time": "2023-07-29T12:39:29.299Z"
   },
   {
    "duration": 262,
    "start_time": "2023-07-29T12:39:33.183Z"
   },
   {
    "duration": 255,
    "start_time": "2023-07-29T12:40:17.854Z"
   },
   {
    "duration": 123,
    "start_time": "2023-07-29T12:49:31.106Z"
   },
   {
    "duration": 268,
    "start_time": "2023-07-29T14:05:33.536Z"
   },
   {
    "duration": 372,
    "start_time": "2023-07-29T14:06:00.283Z"
   },
   {
    "duration": 17,
    "start_time": "2023-07-29T14:23:38.696Z"
   },
   {
    "duration": 20,
    "start_time": "2023-07-29T14:23:49.031Z"
   },
   {
    "duration": 10,
    "start_time": "2023-07-29T14:27:24.942Z"
   },
   {
    "duration": 47,
    "start_time": "2023-07-29T14:27:32.196Z"
   },
   {
    "duration": 263,
    "start_time": "2023-07-29T14:27:58.765Z"
   },
   {
    "duration": 190,
    "start_time": "2023-07-29T14:29:03.030Z"
   },
   {
    "duration": 164,
    "start_time": "2023-07-29T14:31:12.626Z"
   },
   {
    "duration": 211,
    "start_time": "2023-07-29T14:32:09.574Z"
   },
   {
    "duration": 229,
    "start_time": "2023-07-29T14:32:17.042Z"
   },
   {
    "duration": 242,
    "start_time": "2023-07-29T14:32:41.850Z"
   },
   {
    "duration": 234,
    "start_time": "2023-07-29T14:33:59.142Z"
   },
   {
    "duration": 390,
    "start_time": "2023-07-29T16:55:55.343Z"
   },
   {
    "duration": 142,
    "start_time": "2023-07-29T16:55:55.735Z"
   },
   {
    "duration": 30,
    "start_time": "2023-07-29T16:55:55.879Z"
   },
   {
    "duration": 20,
    "start_time": "2023-07-29T16:55:55.912Z"
   },
   {
    "duration": 11,
    "start_time": "2023-07-29T16:55:55.935Z"
   },
   {
    "duration": 26,
    "start_time": "2023-07-29T16:55:55.948Z"
   },
   {
    "duration": 42,
    "start_time": "2023-07-29T16:55:55.976Z"
   },
   {
    "duration": 10,
    "start_time": "2023-07-29T16:55:56.019Z"
   },
   {
    "duration": 37,
    "start_time": "2023-07-29T16:55:56.031Z"
   },
   {
    "duration": 23,
    "start_time": "2023-07-29T16:55:56.070Z"
   },
   {
    "duration": 33,
    "start_time": "2023-07-29T16:55:56.095Z"
   },
   {
    "duration": 18,
    "start_time": "2023-07-29T16:55:56.130Z"
   },
   {
    "duration": 716,
    "start_time": "2023-07-29T16:55:56.150Z"
   },
   {
    "duration": 161,
    "start_time": "2023-07-29T16:55:56.871Z"
   },
   {
    "duration": 341,
    "start_time": "2023-07-29T16:55:57.034Z"
   },
   {
    "duration": 65,
    "start_time": "2023-07-29T16:55:57.376Z"
   },
   {
    "duration": 248,
    "start_time": "2023-07-29T16:56:03.264Z"
   },
   {
    "duration": 176,
    "start_time": "2023-07-29T16:56:21.186Z"
   },
   {
    "duration": 211,
    "start_time": "2023-07-29T16:56:39.051Z"
   },
   {
    "duration": 436,
    "start_time": "2023-07-29T17:03:14.593Z"
   },
   {
    "duration": 75,
    "start_time": "2023-07-29T17:03:15.031Z"
   },
   {
    "duration": 22,
    "start_time": "2023-07-29T17:03:15.108Z"
   },
   {
    "duration": 27,
    "start_time": "2023-07-29T17:03:15.132Z"
   },
   {
    "duration": 15,
    "start_time": "2023-07-29T17:03:15.177Z"
   },
   {
    "duration": 13,
    "start_time": "2023-07-29T17:03:15.194Z"
   },
   {
    "duration": 15,
    "start_time": "2023-07-29T17:03:15.209Z"
   },
   {
    "duration": 7,
    "start_time": "2023-07-29T17:03:15.225Z"
   },
   {
    "duration": 17,
    "start_time": "2023-07-29T17:03:15.234Z"
   },
   {
    "duration": 7,
    "start_time": "2023-07-29T17:03:15.272Z"
   },
   {
    "duration": 31,
    "start_time": "2023-07-29T17:03:15.281Z"
   },
   {
    "duration": 27,
    "start_time": "2023-07-29T17:03:15.315Z"
   },
   {
    "duration": 445,
    "start_time": "2023-07-29T17:03:15.344Z"
   },
   {
    "duration": 170,
    "start_time": "2023-07-29T17:03:15.792Z"
   },
   {
    "duration": 362,
    "start_time": "2023-07-29T17:03:15.964Z"
   },
   {
    "duration": 231,
    "start_time": "2023-07-29T17:03:16.330Z"
   },
   {
    "duration": 70,
    "start_time": "2023-07-29T17:10:12.543Z"
   },
   {
    "duration": 119,
    "start_time": "2023-07-29T17:10:26.872Z"
   },
   {
    "duration": 25,
    "start_time": "2023-07-29T17:10:44.800Z"
   },
   {
    "duration": 532,
    "start_time": "2023-07-29T17:11:15.855Z"
   },
   {
    "duration": 17,
    "start_time": "2023-07-29T17:11:24.905Z"
   },
   {
    "duration": 381,
    "start_time": "2023-07-29T17:11:59.399Z"
   },
   {
    "duration": 49,
    "start_time": "2023-07-29T17:12:54.490Z"
   },
   {
    "duration": 43,
    "start_time": "2023-07-29T17:13:50.965Z"
   },
   {
    "duration": 22,
    "start_time": "2023-07-29T17:15:48.370Z"
   },
   {
    "duration": 18,
    "start_time": "2023-07-29T17:16:06.357Z"
   },
   {
    "duration": 14,
    "start_time": "2023-07-29T17:16:18.941Z"
   },
   {
    "duration": 11,
    "start_time": "2023-07-29T17:16:28.698Z"
   },
   {
    "duration": 12,
    "start_time": "2023-07-29T17:16:33.991Z"
   },
   {
    "duration": 11,
    "start_time": "2023-07-29T17:17:48.740Z"
   },
   {
    "duration": 11,
    "start_time": "2023-07-29T17:17:53.046Z"
   },
   {
    "duration": 14,
    "start_time": "2023-07-29T17:18:09.534Z"
   },
   {
    "duration": 19,
    "start_time": "2023-07-29T17:18:20.972Z"
   },
   {
    "duration": 13,
    "start_time": "2023-07-29T17:18:41.903Z"
   },
   {
    "duration": 66,
    "start_time": "2023-07-29T17:20:50.800Z"
   },
   {
    "duration": 217,
    "start_time": "2023-07-29T17:21:01.794Z"
   },
   {
    "duration": 258,
    "start_time": "2023-07-29T17:21:15.817Z"
   },
   {
    "duration": 169,
    "start_time": "2023-07-29T17:22:03.095Z"
   },
   {
    "duration": 241,
    "start_time": "2023-07-29T17:27:11.363Z"
   },
   {
    "duration": 229,
    "start_time": "2023-07-29T17:27:34.112Z"
   },
   {
    "duration": 207,
    "start_time": "2023-07-29T17:30:12.702Z"
   },
   {
    "duration": 603,
    "start_time": "2023-07-29T17:30:29.854Z"
   },
   {
    "duration": 611,
    "start_time": "2023-07-29T17:30:51.024Z"
   },
   {
    "duration": 3,
    "start_time": "2023-07-29T17:32:18.650Z"
   },
   {
    "duration": 507,
    "start_time": "2023-07-29T17:32:27.714Z"
   },
   {
    "duration": 2225,
    "start_time": "2023-07-29T17:32:31.941Z"
   },
   {
    "duration": 2170,
    "start_time": "2023-07-29T17:33:53.500Z"
   },
   {
    "duration": 2164,
    "start_time": "2023-07-29T17:49:06.204Z"
   },
   {
    "duration": 2391,
    "start_time": "2023-07-29T17:49:19.802Z"
   },
   {
    "duration": 9,
    "start_time": "2023-07-29T18:25:05.196Z"
   },
   {
    "duration": 18,
    "start_time": "2023-07-29T18:25:21.617Z"
   },
   {
    "duration": 2160,
    "start_time": "2023-07-29T18:29:04.809Z"
   },
   {
    "duration": 1562,
    "start_time": "2023-07-29T18:29:59.367Z"
   },
   {
    "duration": 44,
    "start_time": "2023-07-30T05:00:36.141Z"
   },
   {
    "duration": 8,
    "start_time": "2023-07-30T05:07:47.024Z"
   },
   {
    "duration": 720,
    "start_time": "2023-07-30T05:08:02.451Z"
   },
   {
    "duration": 102,
    "start_time": "2023-07-30T05:08:03.173Z"
   },
   {
    "duration": 16,
    "start_time": "2023-07-30T05:08:03.276Z"
   },
   {
    "duration": 33,
    "start_time": "2023-07-30T05:08:03.294Z"
   },
   {
    "duration": 3,
    "start_time": "2023-07-30T05:08:03.329Z"
   },
   {
    "duration": 15,
    "start_time": "2023-07-30T05:08:03.333Z"
   },
   {
    "duration": 36,
    "start_time": "2023-07-30T05:08:03.349Z"
   },
   {
    "duration": 8,
    "start_time": "2023-07-30T05:08:03.387Z"
   },
   {
    "duration": 23,
    "start_time": "2023-07-30T05:08:03.396Z"
   },
   {
    "duration": 13,
    "start_time": "2023-07-30T05:08:03.421Z"
   },
   {
    "duration": 23,
    "start_time": "2023-07-30T05:08:03.435Z"
   },
   {
    "duration": 24,
    "start_time": "2023-07-30T05:08:03.460Z"
   },
   {
    "duration": 153,
    "start_time": "2023-07-30T05:08:03.486Z"
   },
   {
    "duration": 126,
    "start_time": "2023-07-30T05:08:03.640Z"
   },
   {
    "duration": 242,
    "start_time": "2023-07-30T05:08:03.767Z"
   },
   {
    "duration": 1437,
    "start_time": "2023-07-30T05:08:04.010Z"
   },
   {
    "duration": 14,
    "start_time": "2023-07-30T05:08:05.449Z"
   },
   {
    "duration": 2647,
    "start_time": "2023-07-30T05:08:05.464Z"
   },
   {
    "duration": 1643,
    "start_time": "2023-07-30T05:09:04.960Z"
   },
   {
    "duration": 2212,
    "start_time": "2023-07-30T05:09:28.270Z"
   },
   {
    "duration": 1120,
    "start_time": "2023-07-30T05:10:01.047Z"
   },
   {
    "duration": 1034,
    "start_time": "2023-07-30T05:10:24.524Z"
   },
   {
    "duration": 1903,
    "start_time": "2023-07-30T05:10:54.338Z"
   },
   {
    "duration": 1013,
    "start_time": "2023-07-30T05:12:17.256Z"
   },
   {
    "duration": 1105,
    "start_time": "2023-07-30T05:12:50.486Z"
   },
   {
    "duration": 1099,
    "start_time": "2023-07-30T05:13:39.306Z"
   },
   {
    "duration": 1081,
    "start_time": "2023-07-30T05:14:37.176Z"
   },
   {
    "duration": 1176,
    "start_time": "2023-07-30T05:14:46.382Z"
   },
   {
    "duration": 1067,
    "start_time": "2023-07-30T05:14:59.011Z"
   },
   {
    "duration": 1195,
    "start_time": "2023-07-30T05:15:24.970Z"
   },
   {
    "duration": 1136,
    "start_time": "2023-07-30T05:15:36.914Z"
   },
   {
    "duration": 49,
    "start_time": "2023-07-30T09:32:35.669Z"
   },
   {
    "duration": 864,
    "start_time": "2023-07-30T09:32:41.464Z"
   },
   {
    "duration": 214,
    "start_time": "2023-07-30T09:32:42.330Z"
   },
   {
    "duration": 27,
    "start_time": "2023-07-30T09:32:42.546Z"
   },
   {
    "duration": 20,
    "start_time": "2023-07-30T09:32:42.576Z"
   },
   {
    "duration": 4,
    "start_time": "2023-07-30T09:32:42.598Z"
   },
   {
    "duration": 4,
    "start_time": "2023-07-30T09:32:42.605Z"
   },
   {
    "duration": 12,
    "start_time": "2023-07-30T09:32:42.611Z"
   },
   {
    "duration": 5,
    "start_time": "2023-07-30T09:32:42.625Z"
   },
   {
    "duration": 17,
    "start_time": "2023-07-30T09:32:42.659Z"
   },
   {
    "duration": 3,
    "start_time": "2023-07-30T09:32:42.679Z"
   },
   {
    "duration": 14,
    "start_time": "2023-07-30T09:32:42.684Z"
   },
   {
    "duration": 15,
    "start_time": "2023-07-30T09:32:42.700Z"
   },
   {
    "duration": 208,
    "start_time": "2023-07-30T09:32:42.716Z"
   },
   {
    "duration": 173,
    "start_time": "2023-07-30T09:32:42.926Z"
   },
   {
    "duration": 312,
    "start_time": "2023-07-30T09:32:43.101Z"
   },
   {
    "duration": 1975,
    "start_time": "2023-07-30T09:32:43.416Z"
   },
   {
    "duration": 24,
    "start_time": "2023-07-30T09:32:45.393Z"
   },
   {
    "duration": 1633,
    "start_time": "2023-07-30T09:32:45.419Z"
   },
   {
    "duration": 55,
    "start_time": "2023-07-30T09:32:47.054Z"
   },
   {
    "duration": 4,
    "start_time": "2023-07-30T09:37:09.653Z"
   },
   {
    "duration": 17,
    "start_time": "2023-07-30T09:37:24.683Z"
   },
   {
    "duration": 110,
    "start_time": "2023-07-30T09:37:44.957Z"
   },
   {
    "duration": 131,
    "start_time": "2023-07-30T09:38:58.052Z"
   },
   {
    "duration": 208,
    "start_time": "2023-07-30T09:39:05.896Z"
   },
   {
    "duration": 12,
    "start_time": "2023-07-30T09:39:42.308Z"
   },
   {
    "duration": 120,
    "start_time": "2023-07-30T09:40:46.885Z"
   },
   {
    "duration": 126,
    "start_time": "2023-07-30T09:40:54.593Z"
   },
   {
    "duration": 1733,
    "start_time": "2023-07-30T09:41:21.596Z"
   },
   {
    "duration": 114,
    "start_time": "2023-07-30T09:41:37.018Z"
   },
   {
    "duration": 1717,
    "start_time": "2023-07-30T09:41:44.719Z"
   },
   {
    "duration": 121,
    "start_time": "2023-07-30T09:41:59.089Z"
   },
   {
    "duration": 138,
    "start_time": "2023-07-30T09:42:31.456Z"
   },
   {
    "duration": 134,
    "start_time": "2023-07-30T09:43:33.976Z"
   },
   {
    "duration": 222,
    "start_time": "2023-07-30T09:43:54.020Z"
   },
   {
    "duration": 189,
    "start_time": "2023-07-30T09:44:01.149Z"
   },
   {
    "duration": 191,
    "start_time": "2023-07-30T09:44:11.652Z"
   },
   {
    "duration": 110,
    "start_time": "2023-07-30T09:44:15.898Z"
   },
   {
    "duration": 121,
    "start_time": "2023-07-30T09:50:15.105Z"
   },
   {
    "duration": 116,
    "start_time": "2023-07-30T09:50:22.601Z"
   },
   {
    "duration": 156,
    "start_time": "2023-07-30T09:50:30.741Z"
   },
   {
    "duration": 111,
    "start_time": "2023-07-30T09:50:35.591Z"
   },
   {
    "duration": 11,
    "start_time": "2023-07-30T09:51:07.058Z"
   },
   {
    "duration": 20,
    "start_time": "2023-07-30T09:55:50.071Z"
   },
   {
    "duration": 170,
    "start_time": "2023-07-30T09:55:59.753Z"
   },
   {
    "duration": 122,
    "start_time": "2023-07-30T09:56:22.848Z"
   },
   {
    "duration": 167,
    "start_time": "2023-07-30T09:57:00.177Z"
   },
   {
    "duration": 156,
    "start_time": "2023-07-30T09:57:18.317Z"
   },
   {
    "duration": 115,
    "start_time": "2023-07-30T09:57:26.113Z"
   },
   {
    "duration": 117,
    "start_time": "2023-07-30T10:04:30.901Z"
   },
   {
    "duration": 208,
    "start_time": "2023-07-30T10:05:15.055Z"
   },
   {
    "duration": 149,
    "start_time": "2023-07-30T10:05:24.677Z"
   },
   {
    "duration": 121,
    "start_time": "2023-07-30T10:07:21.719Z"
   },
   {
    "duration": 131,
    "start_time": "2023-07-30T10:08:24.647Z"
   },
   {
    "duration": 121,
    "start_time": "2023-07-30T10:09:22.186Z"
   },
   {
    "duration": 129,
    "start_time": "2023-07-30T10:10:08.977Z"
   },
   {
    "duration": 137,
    "start_time": "2023-07-30T10:10:19.374Z"
   },
   {
    "duration": 130,
    "start_time": "2023-07-30T10:10:33.272Z"
   },
   {
    "duration": 133,
    "start_time": "2023-07-30T10:15:09.351Z"
   },
   {
    "duration": 125,
    "start_time": "2023-07-30T10:15:26.347Z"
   },
   {
    "duration": 105,
    "start_time": "2023-07-30T11:07:21.378Z"
   },
   {
    "duration": 17,
    "start_time": "2023-07-30T11:47:10.994Z"
   },
   {
    "duration": 3,
    "start_time": "2023-07-30T11:47:16.993Z"
   },
   {
    "duration": 62,
    "start_time": "2023-07-30T11:47:16.998Z"
   },
   {
    "duration": 15,
    "start_time": "2023-07-30T11:47:17.061Z"
   },
   {
    "duration": 16,
    "start_time": "2023-07-30T11:47:17.077Z"
   },
   {
    "duration": 88,
    "start_time": "2023-07-30T11:47:17.095Z"
   },
   {
    "duration": 9,
    "start_time": "2023-07-30T11:47:17.184Z"
   },
   {
    "duration": 12,
    "start_time": "2023-07-30T11:47:17.195Z"
   },
   {
    "duration": 3,
    "start_time": "2023-07-30T11:47:17.209Z"
   },
   {
    "duration": 13,
    "start_time": "2023-07-30T11:47:17.214Z"
   },
   {
    "duration": 3,
    "start_time": "2023-07-30T11:47:17.228Z"
   },
   {
    "duration": 32,
    "start_time": "2023-07-30T11:47:17.232Z"
   },
   {
    "duration": 13,
    "start_time": "2023-07-30T11:47:17.265Z"
   },
   {
    "duration": 163,
    "start_time": "2023-07-30T11:47:17.280Z"
   },
   {
    "duration": 143,
    "start_time": "2023-07-30T11:47:17.446Z"
   },
   {
    "duration": 297,
    "start_time": "2023-07-30T11:47:17.590Z"
   },
   {
    "duration": 1744,
    "start_time": "2023-07-30T11:47:17.889Z"
   },
   {
    "duration": 26,
    "start_time": "2023-07-30T11:47:19.635Z"
   },
   {
    "duration": 1340,
    "start_time": "2023-07-30T11:47:19.663Z"
   },
   {
    "duration": 121,
    "start_time": "2023-07-30T11:47:21.005Z"
   },
   {
    "duration": 107,
    "start_time": "2023-07-30T11:47:21.128Z"
   },
   {
    "duration": 16,
    "start_time": "2023-07-30T11:47:22.978Z"
   },
   {
    "duration": 26,
    "start_time": "2023-07-30T11:48:00.777Z"
   },
   {
    "duration": 28,
    "start_time": "2023-07-30T11:48:25.690Z"
   },
   {
    "duration": 18,
    "start_time": "2023-07-30T11:48:37.581Z"
   },
   {
    "duration": 18,
    "start_time": "2023-07-30T11:48:48.269Z"
   },
   {
    "duration": 301,
    "start_time": "2023-07-30T11:52:11.990Z"
   },
   {
    "duration": 15,
    "start_time": "2023-07-30T11:53:15.132Z"
   },
   {
    "duration": 325,
    "start_time": "2023-07-30T11:53:40.284Z"
   },
   {
    "duration": 18,
    "start_time": "2023-07-30T11:55:08.828Z"
   },
   {
    "duration": 17,
    "start_time": "2023-07-30T11:55:35.300Z"
   },
   {
    "duration": 18,
    "start_time": "2023-07-30T11:55:45.144Z"
   },
   {
    "duration": 17,
    "start_time": "2023-07-30T11:56:12.096Z"
   },
   {
    "duration": 21,
    "start_time": "2023-07-30T11:56:34.670Z"
   },
   {
    "duration": 19,
    "start_time": "2023-07-30T11:56:45.308Z"
   },
   {
    "duration": 323,
    "start_time": "2023-07-30T11:57:07.128Z"
   },
   {
    "duration": 269,
    "start_time": "2023-07-30T11:59:16.081Z"
   },
   {
    "duration": 294,
    "start_time": "2023-07-30T11:59:49.292Z"
   },
   {
    "duration": 9,
    "start_time": "2023-07-30T12:00:26.180Z"
   },
   {
    "duration": 10,
    "start_time": "2023-07-30T12:01:08.303Z"
   },
   {
    "duration": 10,
    "start_time": "2023-07-30T12:01:26.745Z"
   },
   {
    "duration": 1638,
    "start_time": "2023-07-30T12:01:55.896Z"
   },
   {
    "duration": 1984,
    "start_time": "2023-07-30T12:02:00.800Z"
   },
   {
    "duration": 19,
    "start_time": "2023-07-30T12:02:23.864Z"
   },
   {
    "duration": 9,
    "start_time": "2023-07-30T12:02:38.314Z"
   },
   {
    "duration": 13,
    "start_time": "2023-07-30T12:03:12.294Z"
   },
   {
    "duration": 9,
    "start_time": "2023-07-30T12:04:20.391Z"
   },
   {
    "duration": 32,
    "start_time": "2023-07-30T12:04:38.899Z"
   },
   {
    "duration": 326,
    "start_time": "2023-07-30T12:05:18.598Z"
   },
   {
    "duration": 349,
    "start_time": "2023-07-30T12:05:43.747Z"
   },
   {
    "duration": 21,
    "start_time": "2023-07-30T12:07:20.851Z"
   },
   {
    "duration": 12,
    "start_time": "2023-07-30T12:08:05.083Z"
   },
   {
    "duration": 13,
    "start_time": "2023-07-30T12:08:20.915Z"
   },
   {
    "duration": 12,
    "start_time": "2023-07-30T12:08:34.710Z"
   },
   {
    "duration": 17,
    "start_time": "2023-07-30T12:08:51.763Z"
   },
   {
    "duration": 13,
    "start_time": "2023-07-30T12:09:29.983Z"
   },
   {
    "duration": 3,
    "start_time": "2023-07-30T12:10:26.999Z"
   },
   {
    "duration": 14,
    "start_time": "2023-07-30T12:10:31.995Z"
   },
   {
    "duration": 16,
    "start_time": "2023-07-30T12:10:39.767Z"
   },
   {
    "duration": 13,
    "start_time": "2023-07-30T12:11:34.900Z"
   },
   {
    "duration": 11,
    "start_time": "2023-07-30T12:11:48.210Z"
   },
   {
    "duration": 12,
    "start_time": "2023-07-30T12:11:58.042Z"
   },
   {
    "duration": 351,
    "start_time": "2023-07-30T12:12:57.595Z"
   },
   {
    "duration": 20,
    "start_time": "2023-07-30T12:13:10.343Z"
   },
   {
    "duration": 11,
    "start_time": "2023-07-30T12:13:20.243Z"
   },
   {
    "duration": 12,
    "start_time": "2023-07-30T12:13:27.851Z"
   },
   {
    "duration": 13,
    "start_time": "2023-07-30T12:13:37.714Z"
   },
   {
    "duration": 12,
    "start_time": "2023-07-30T12:13:53.304Z"
   },
   {
    "duration": 14,
    "start_time": "2023-07-30T12:14:23.423Z"
   },
   {
    "duration": 14,
    "start_time": "2023-07-30T12:14:29.035Z"
   },
   {
    "duration": 12,
    "start_time": "2023-07-30T12:14:40.517Z"
   },
   {
    "duration": 19,
    "start_time": "2023-07-30T12:14:46.360Z"
   },
   {
    "duration": 18,
    "start_time": "2023-07-30T12:14:56.852Z"
   },
   {
    "duration": 19,
    "start_time": "2023-07-30T12:15:12.283Z"
   },
   {
    "duration": 148,
    "start_time": "2023-07-30T12:16:40.136Z"
   },
   {
    "duration": 160,
    "start_time": "2023-07-30T12:17:20.508Z"
   },
   {
    "duration": 146,
    "start_time": "2023-07-30T12:17:33.484Z"
   },
   {
    "duration": 154,
    "start_time": "2023-07-30T12:17:41.052Z"
   },
   {
    "duration": 171,
    "start_time": "2023-07-30T12:18:08.252Z"
   },
   {
    "duration": 145,
    "start_time": "2023-07-30T12:21:00.209Z"
   },
   {
    "duration": 154,
    "start_time": "2023-07-30T12:24:54.556Z"
   },
   {
    "duration": 157,
    "start_time": "2023-07-30T12:25:16.381Z"
   },
   {
    "duration": 162,
    "start_time": "2023-07-30T12:26:05.290Z"
   },
   {
    "duration": 278,
    "start_time": "2023-07-30T12:27:33.500Z"
   },
   {
    "duration": 171,
    "start_time": "2023-07-30T12:29:02.148Z"
   },
   {
    "duration": 156,
    "start_time": "2023-07-30T12:30:10.265Z"
   },
   {
    "duration": 168,
    "start_time": "2023-07-30T12:30:35.976Z"
   },
   {
    "duration": 157,
    "start_time": "2023-07-30T12:31:07.990Z"
   },
   {
    "duration": 145,
    "start_time": "2023-07-30T12:31:44.452Z"
   },
   {
    "duration": 144,
    "start_time": "2023-07-30T12:33:24.814Z"
   },
   {
    "duration": 158,
    "start_time": "2023-07-30T12:37:12.881Z"
   },
   {
    "duration": 335,
    "start_time": "2023-07-30T12:38:59.552Z"
   },
   {
    "duration": 319,
    "start_time": "2023-07-30T12:39:55.482Z"
   },
   {
    "duration": 48,
    "start_time": "2023-07-30T17:14:31.036Z"
   },
   {
    "duration": 711,
    "start_time": "2023-07-30T17:14:36.957Z"
   },
   {
    "duration": 104,
    "start_time": "2023-07-30T17:14:37.670Z"
   },
   {
    "duration": 16,
    "start_time": "2023-07-30T17:14:37.775Z"
   },
   {
    "duration": 11,
    "start_time": "2023-07-30T17:14:37.792Z"
   },
   {
    "duration": 9,
    "start_time": "2023-07-30T17:14:37.804Z"
   },
   {
    "duration": 5,
    "start_time": "2023-07-30T17:14:37.814Z"
   },
   {
    "duration": 25,
    "start_time": "2023-07-30T17:14:37.820Z"
   },
   {
    "duration": 12,
    "start_time": "2023-07-30T17:14:37.847Z"
   },
   {
    "duration": 21,
    "start_time": "2023-07-30T17:14:37.860Z"
   },
   {
    "duration": 18,
    "start_time": "2023-07-30T17:14:37.883Z"
   },
   {
    "duration": 36,
    "start_time": "2023-07-30T17:14:37.902Z"
   },
   {
    "duration": 22,
    "start_time": "2023-07-30T17:14:37.939Z"
   },
   {
    "duration": 139,
    "start_time": "2023-07-30T17:14:37.962Z"
   },
   {
    "duration": 125,
    "start_time": "2023-07-30T17:14:38.103Z"
   },
   {
    "duration": 238,
    "start_time": "2023-07-30T17:14:38.230Z"
   },
   {
    "duration": 1419,
    "start_time": "2023-07-30T17:14:38.470Z"
   },
   {
    "duration": 22,
    "start_time": "2023-07-30T17:14:39.890Z"
   },
   {
    "duration": 1125,
    "start_time": "2023-07-30T17:14:39.914Z"
   },
   {
    "duration": 96,
    "start_time": "2023-07-30T17:14:41.040Z"
   },
   {
    "duration": 89,
    "start_time": "2023-07-30T17:14:41.138Z"
   },
   {
    "duration": 296,
    "start_time": "2023-07-30T17:14:41.229Z"
   },
   {
    "duration": 208,
    "start_time": "2023-07-30T17:14:41.527Z"
   },
   {
    "duration": 123,
    "start_time": "2023-07-30T17:15:35.805Z"
   },
   {
    "duration": 119,
    "start_time": "2023-07-30T17:16:23.488Z"
   },
   {
    "duration": 1755,
    "start_time": "2023-07-30T17:16:45.793Z"
   },
   {
    "duration": 115,
    "start_time": "2023-07-30T17:16:52.160Z"
   },
   {
    "duration": 122,
    "start_time": "2023-07-30T17:19:11.054Z"
   },
   {
    "duration": 140,
    "start_time": "2023-07-30T17:20:12.550Z"
   },
   {
    "duration": 53,
    "start_time": "2023-07-30T17:20:59.346Z"
   },
   {
    "duration": 128,
    "start_time": "2023-07-30T17:21:07.735Z"
   },
   {
    "duration": 125,
    "start_time": "2023-07-30T17:21:59.482Z"
   },
   {
    "duration": 122,
    "start_time": "2023-07-30T17:22:02.619Z"
   },
   {
    "duration": 4,
    "start_time": "2023-07-30T17:23:41.404Z"
   },
   {
    "duration": 6,
    "start_time": "2023-07-30T17:23:43.863Z"
   },
   {
    "duration": 3,
    "start_time": "2023-07-30T17:23:53.515Z"
   },
   {
    "duration": 5,
    "start_time": "2023-07-30T17:23:56.502Z"
   },
   {
    "duration": 175,
    "start_time": "2023-07-30T17:26:00.137Z"
   },
   {
    "duration": 136,
    "start_time": "2023-07-30T17:26:27.464Z"
   },
   {
    "duration": 1509,
    "start_time": "2023-07-30T17:26:34.894Z"
   },
   {
    "duration": 126,
    "start_time": "2023-07-30T17:29:11.658Z"
   },
   {
    "duration": 708,
    "start_time": "2023-07-30T17:30:17.929Z"
   },
   {
    "duration": 306,
    "start_time": "2023-07-30T17:30:49.922Z"
   },
   {
    "duration": 14,
    "start_time": "2023-07-30T17:31:04.977Z"
   },
   {
    "duration": 14,
    "start_time": "2023-07-30T17:31:14.270Z"
   },
   {
    "duration": 12,
    "start_time": "2023-07-30T17:31:38.380Z"
   },
   {
    "duration": 166,
    "start_time": "2023-07-30T17:31:46.105Z"
   },
   {
    "duration": 456,
    "start_time": "2023-07-30T17:40:09.192Z"
   },
   {
    "duration": 548,
    "start_time": "2023-07-30T17:40:12.952Z"
   },
   {
    "duration": 16,
    "start_time": "2023-07-30T17:46:53.464Z"
   },
   {
    "duration": 1153,
    "start_time": "2023-07-30T17:47:19.630Z"
   },
   {
    "duration": 131,
    "start_time": "2023-07-30T17:47:51.059Z"
   },
   {
    "duration": 1589,
    "start_time": "2023-07-30T17:48:51.648Z"
   },
   {
    "duration": 1179,
    "start_time": "2023-07-30T17:49:41.181Z"
   },
   {
    "duration": 95,
    "start_time": "2023-07-30T17:51:12.483Z"
   },
   {
    "duration": 89,
    "start_time": "2023-07-30T17:51:42.756Z"
   },
   {
    "duration": 101,
    "start_time": "2023-07-30T17:51:50.407Z"
   },
   {
    "duration": 80,
    "start_time": "2023-07-30T17:52:12.018Z"
   },
   {
    "duration": 82,
    "start_time": "2023-07-30T17:52:26.488Z"
   },
   {
    "duration": 161,
    "start_time": "2023-07-30T17:52:37.558Z"
   },
   {
    "duration": 88,
    "start_time": "2023-07-30T17:52:53.204Z"
   },
   {
    "duration": 102,
    "start_time": "2023-07-30T17:53:08.819Z"
   },
   {
    "duration": 94,
    "start_time": "2023-07-30T17:53:14.440Z"
   },
   {
    "duration": 95,
    "start_time": "2023-07-30T17:53:19.342Z"
   },
   {
    "duration": 91,
    "start_time": "2023-07-30T17:53:24.797Z"
   },
   {
    "duration": 86,
    "start_time": "2023-07-30T17:53:37.633Z"
   },
   {
    "duration": 82,
    "start_time": "2023-07-30T17:53:48.836Z"
   },
   {
    "duration": 145,
    "start_time": "2023-07-30T17:54:45.356Z"
   },
   {
    "duration": 18,
    "start_time": "2023-07-30T17:55:33.323Z"
   },
   {
    "duration": 16,
    "start_time": "2023-07-30T17:56:13.306Z"
   },
   {
    "duration": 16,
    "start_time": "2023-07-30T17:56:34.133Z"
   },
   {
    "duration": 8,
    "start_time": "2023-07-30T17:57:02.590Z"
   },
   {
    "duration": 9,
    "start_time": "2023-07-30T17:57:08.761Z"
   },
   {
    "duration": 9,
    "start_time": "2023-07-30T17:57:27.945Z"
   },
   {
    "duration": 17,
    "start_time": "2023-07-30T17:57:33.175Z"
   },
   {
    "duration": 18,
    "start_time": "2023-07-30T17:58:49.690Z"
   },
   {
    "duration": 120,
    "start_time": "2023-07-30T18:02:00.823Z"
   },
   {
    "duration": 116,
    "start_time": "2023-07-30T18:02:24.034Z"
   },
   {
    "duration": 8,
    "start_time": "2023-07-30T18:03:33.256Z"
   },
   {
    "duration": 8,
    "start_time": "2023-07-30T18:03:39.665Z"
   },
   {
    "duration": 4,
    "start_time": "2023-07-30T18:45:39.008Z"
   },
   {
    "duration": 8,
    "start_time": "2023-07-30T18:45:46.762Z"
   },
   {
    "duration": 21,
    "start_time": "2023-07-30T18:46:41.865Z"
   },
   {
    "duration": 7,
    "start_time": "2023-07-30T18:47:32.071Z"
   },
   {
    "duration": 9,
    "start_time": "2023-07-30T18:47:46.849Z"
   },
   {
    "duration": 9,
    "start_time": "2023-07-30T18:47:51.849Z"
   },
   {
    "duration": 8,
    "start_time": "2023-07-30T18:48:06.353Z"
   },
   {
    "duration": 6,
    "start_time": "2023-07-30T18:48:59.054Z"
   },
   {
    "duration": 12,
    "start_time": "2023-07-30T18:50:50.549Z"
   },
   {
    "duration": 12,
    "start_time": "2023-07-30T18:50:58.507Z"
   },
   {
    "duration": 11,
    "start_time": "2023-07-30T18:51:38.358Z"
   },
   {
    "duration": 13,
    "start_time": "2023-07-30T18:51:48.944Z"
   },
   {
    "duration": 580,
    "start_time": "2023-07-30T18:52:58.093Z"
   },
   {
    "duration": 87,
    "start_time": "2023-07-30T18:53:13.011Z"
   },
   {
    "duration": 22,
    "start_time": "2023-07-30T18:53:28.250Z"
   },
   {
    "duration": 12,
    "start_time": "2023-07-30T18:53:50.543Z"
   },
   {
    "duration": 20,
    "start_time": "2023-07-30T18:53:56.841Z"
   },
   {
    "duration": 18,
    "start_time": "2023-07-30T18:54:50.343Z"
   },
   {
    "duration": 16,
    "start_time": "2023-07-30T18:55:02.818Z"
   },
   {
    "duration": 20,
    "start_time": "2023-07-30T18:55:08.780Z"
   },
   {
    "duration": 2,
    "start_time": "2023-07-30T18:55:29.920Z"
   },
   {
    "duration": 75,
    "start_time": "2023-07-30T18:55:29.926Z"
   },
   {
    "duration": 404,
    "start_time": "2023-07-30T18:55:30.003Z"
   },
   {
    "duration": 12,
    "start_time": "2023-07-30T18:55:30.409Z"
   },
   {
    "duration": 32,
    "start_time": "2023-07-30T18:55:30.423Z"
   },
   {
    "duration": 27,
    "start_time": "2023-07-30T18:55:30.456Z"
   },
   {
    "duration": 30,
    "start_time": "2023-07-30T18:55:30.485Z"
   },
   {
    "duration": 45,
    "start_time": "2023-07-30T18:55:30.517Z"
   },
   {
    "duration": 32,
    "start_time": "2023-07-30T18:55:30.564Z"
   },
   {
    "duration": 45,
    "start_time": "2023-07-30T18:55:30.598Z"
   },
   {
    "duration": 63,
    "start_time": "2023-07-30T18:55:30.645Z"
   },
   {
    "duration": 43,
    "start_time": "2023-07-30T18:55:30.710Z"
   },
   {
    "duration": 20,
    "start_time": "2023-07-30T18:55:32.784Z"
   },
   {
    "duration": 10,
    "start_time": "2023-07-30T18:56:53.351Z"
   },
   {
    "duration": 12,
    "start_time": "2023-07-30T18:57:09.645Z"
   },
   {
    "duration": 12,
    "start_time": "2023-07-30T18:57:23.946Z"
   },
   {
    "duration": 8,
    "start_time": "2023-07-30T18:57:42.254Z"
   },
   {
    "duration": 7,
    "start_time": "2023-07-30T18:57:57.189Z"
   },
   {
    "duration": 54,
    "start_time": "2023-07-31T05:06:18.391Z"
   },
   {
    "duration": 822,
    "start_time": "2023-07-31T05:06:23.112Z"
   },
   {
    "duration": 120,
    "start_time": "2023-07-31T05:06:23.936Z"
   },
   {
    "duration": 434,
    "start_time": "2023-07-31T05:06:24.057Z"
   },
   {
    "duration": 15,
    "start_time": "2023-07-31T05:06:24.493Z"
   },
   {
    "duration": 23,
    "start_time": "2023-07-31T05:06:24.525Z"
   },
   {
    "duration": 3,
    "start_time": "2023-07-31T05:06:24.550Z"
   },
   {
    "duration": 8,
    "start_time": "2023-07-31T05:06:24.555Z"
   },
   {
    "duration": 12,
    "start_time": "2023-07-31T05:06:24.564Z"
   },
   {
    "duration": 4,
    "start_time": "2023-07-31T05:06:24.578Z"
   },
   {
    "duration": 18,
    "start_time": "2023-07-31T05:06:24.584Z"
   },
   {
    "duration": 3,
    "start_time": "2023-07-31T05:06:24.603Z"
   },
   {
    "duration": 11,
    "start_time": "2023-07-31T05:06:24.620Z"
   },
   {
    "duration": 19,
    "start_time": "2023-07-31T05:06:24.634Z"
   },
   {
    "duration": 16,
    "start_time": "2023-07-31T05:06:24.654Z"
   },
   {
    "duration": 53,
    "start_time": "2023-07-31T05:06:29.599Z"
   },
   {
    "duration": 12,
    "start_time": "2023-07-31T05:06:45.740Z"
   },
   {
    "duration": 13,
    "start_time": "2023-07-31T05:06:58.061Z"
   },
   {
    "duration": 11,
    "start_time": "2023-07-31T05:07:06.181Z"
   },
   {
    "duration": 11,
    "start_time": "2023-07-31T05:07:37.714Z"
   },
   {
    "duration": 16,
    "start_time": "2023-07-31T05:07:53.005Z"
   },
   {
    "duration": 47,
    "start_time": "2023-07-31T05:08:22.655Z"
   },
   {
    "duration": 17,
    "start_time": "2023-07-31T05:08:33.531Z"
   },
   {
    "duration": 14,
    "start_time": "2023-07-31T05:08:56.917Z"
   },
   {
    "duration": 13,
    "start_time": "2023-07-31T05:09:31.445Z"
   },
   {
    "duration": 3,
    "start_time": "2023-07-31T05:11:29.099Z"
   },
   {
    "duration": 89,
    "start_time": "2023-07-31T05:11:29.105Z"
   },
   {
    "duration": 539,
    "start_time": "2023-07-31T05:11:29.196Z"
   },
   {
    "duration": 17,
    "start_time": "2023-07-31T05:11:29.737Z"
   },
   {
    "duration": 21,
    "start_time": "2023-07-31T05:11:29.756Z"
   },
   {
    "duration": 5,
    "start_time": "2023-07-31T05:11:29.779Z"
   },
   {
    "duration": 9,
    "start_time": "2023-07-31T05:11:29.785Z"
   },
   {
    "duration": 14,
    "start_time": "2023-07-31T05:11:29.796Z"
   },
   {
    "duration": 5,
    "start_time": "2023-07-31T05:11:29.820Z"
   },
   {
    "duration": 15,
    "start_time": "2023-07-31T05:13:56.938Z"
   },
   {
    "duration": 11,
    "start_time": "2023-07-31T05:14:01.391Z"
   },
   {
    "duration": 12,
    "start_time": "2023-07-31T05:15:15.539Z"
   },
   {
    "duration": 5,
    "start_time": "2023-07-31T05:15:39.888Z"
   },
   {
    "duration": 17,
    "start_time": "2023-07-31T05:20:51.452Z"
   },
   {
    "duration": 7,
    "start_time": "2023-07-31T05:20:56.981Z"
   },
   {
    "duration": 23,
    "start_time": "2023-07-31T05:21:34.210Z"
   },
   {
    "duration": 4,
    "start_time": "2023-07-31T05:21:42.393Z"
   },
   {
    "duration": 102,
    "start_time": "2023-07-31T05:21:42.399Z"
   },
   {
    "duration": 430,
    "start_time": "2023-07-31T05:21:42.503Z"
   },
   {
    "duration": 14,
    "start_time": "2023-07-31T05:21:42.935Z"
   },
   {
    "duration": 15,
    "start_time": "2023-07-31T05:21:42.951Z"
   },
   {
    "duration": 6,
    "start_time": "2023-07-31T05:21:42.968Z"
   },
   {
    "duration": 8,
    "start_time": "2023-07-31T05:21:42.976Z"
   },
   {
    "duration": 18,
    "start_time": "2023-07-31T05:21:42.985Z"
   },
   {
    "duration": 17,
    "start_time": "2023-07-31T05:21:43.005Z"
   },
   {
    "duration": 74,
    "start_time": "2023-07-31T05:21:43.030Z"
   },
   {
    "duration": 70,
    "start_time": "2023-07-31T05:21:43.107Z"
   },
   {
    "duration": 91,
    "start_time": "2023-07-31T05:21:43.180Z"
   },
   {
    "duration": 22,
    "start_time": "2023-07-31T05:21:43.273Z"
   },
   {
    "duration": 18,
    "start_time": "2023-07-31T05:21:43.297Z"
   },
   {
    "duration": 35,
    "start_time": "2023-07-31T05:21:43.317Z"
   },
   {
    "duration": 13,
    "start_time": "2023-07-31T05:21:43.354Z"
   },
   {
    "duration": 12,
    "start_time": "2023-07-31T05:21:51.882Z"
   },
   {
    "duration": 3,
    "start_time": "2023-07-31T05:22:32.689Z"
   },
   {
    "duration": 96,
    "start_time": "2023-07-31T05:22:32.694Z"
   },
   {
    "duration": 454,
    "start_time": "2023-07-31T05:22:32.791Z"
   },
   {
    "duration": 17,
    "start_time": "2023-07-31T05:22:33.252Z"
   },
   {
    "duration": 19,
    "start_time": "2023-07-31T05:22:33.270Z"
   },
   {
    "duration": 4,
    "start_time": "2023-07-31T05:22:33.291Z"
   },
   {
    "duration": 6,
    "start_time": "2023-07-31T05:22:33.296Z"
   },
   {
    "duration": 27,
    "start_time": "2023-07-31T05:22:33.304Z"
   },
   {
    "duration": 8,
    "start_time": "2023-07-31T05:22:33.336Z"
   },
   {
    "duration": 13,
    "start_time": "2023-07-31T05:22:33.345Z"
   },
   {
    "duration": 14,
    "start_time": "2023-07-31T05:22:33.360Z"
   },
   {
    "duration": 19,
    "start_time": "2023-07-31T05:22:33.375Z"
   },
   {
    "duration": 18,
    "start_time": "2023-07-31T05:22:33.396Z"
   },
   {
    "duration": 29,
    "start_time": "2023-07-31T05:22:33.416Z"
   },
   {
    "duration": 10,
    "start_time": "2023-07-31T05:22:33.447Z"
   },
   {
    "duration": 11,
    "start_time": "2023-07-31T05:22:33.459Z"
   },
   {
    "duration": 21,
    "start_time": "2023-07-31T05:23:45.747Z"
   },
   {
    "duration": 14,
    "start_time": "2023-07-31T05:24:05.885Z"
   },
   {
    "duration": 3,
    "start_time": "2023-07-31T05:24:40.900Z"
   },
   {
    "duration": 120,
    "start_time": "2023-07-31T05:24:40.905Z"
   },
   {
    "duration": 692,
    "start_time": "2023-07-31T05:24:41.043Z"
   },
   {
    "duration": 22,
    "start_time": "2023-07-31T05:24:41.737Z"
   },
   {
    "duration": 18,
    "start_time": "2023-07-31T05:24:41.763Z"
   },
   {
    "duration": 4,
    "start_time": "2023-07-31T05:24:41.783Z"
   },
   {
    "duration": 38,
    "start_time": "2023-07-31T05:24:41.789Z"
   },
   {
    "duration": 23,
    "start_time": "2023-07-31T05:24:41.828Z"
   },
   {
    "duration": 11,
    "start_time": "2023-07-31T05:24:41.852Z"
   },
   {
    "duration": 19,
    "start_time": "2023-07-31T05:24:41.866Z"
   },
   {
    "duration": 4,
    "start_time": "2023-07-31T05:24:41.888Z"
   },
   {
    "duration": 18,
    "start_time": "2023-07-31T05:24:41.894Z"
   },
   {
    "duration": 43,
    "start_time": "2023-07-31T05:24:41.937Z"
   },
   {
    "duration": 31,
    "start_time": "2023-07-31T05:24:41.985Z"
   },
   {
    "duration": 15,
    "start_time": "2023-07-31T05:25:07.736Z"
   },
   {
    "duration": 8,
    "start_time": "2023-07-31T05:25:15.167Z"
   },
   {
    "duration": 6,
    "start_time": "2023-07-31T05:25:18.548Z"
   },
   {
    "duration": 19,
    "start_time": "2023-07-31T05:25:26.169Z"
   },
   {
    "duration": 7,
    "start_time": "2023-07-31T05:25:28.853Z"
   },
   {
    "duration": 6,
    "start_time": "2023-07-31T05:25:54.810Z"
   },
   {
    "duration": 17,
    "start_time": "2023-07-31T05:26:03.872Z"
   },
   {
    "duration": 5,
    "start_time": "2023-07-31T05:26:06.213Z"
   },
   {
    "duration": 18,
    "start_time": "2023-07-31T05:26:39.062Z"
   },
   {
    "duration": 10,
    "start_time": "2023-07-31T05:26:53.259Z"
   },
   {
    "duration": 41,
    "start_time": "2023-07-31T05:27:32.703Z"
   },
   {
    "duration": 115,
    "start_time": "2023-07-31T05:27:57.711Z"
   },
   {
    "duration": 30,
    "start_time": "2023-07-31T05:28:23.750Z"
   },
   {
    "duration": 21,
    "start_time": "2023-07-31T05:29:00.980Z"
   },
   {
    "duration": 20,
    "start_time": "2023-07-31T05:29:18.748Z"
   },
   {
    "duration": 21,
    "start_time": "2023-07-31T05:30:24.544Z"
   },
   {
    "duration": 20,
    "start_time": "2023-07-31T05:30:41.249Z"
   },
   {
    "duration": 6,
    "start_time": "2023-07-31T05:30:52.258Z"
   },
   {
    "duration": 7,
    "start_time": "2023-07-31T05:33:14.768Z"
   },
   {
    "duration": 5,
    "start_time": "2023-07-31T05:33:49.607Z"
   },
   {
    "duration": 21,
    "start_time": "2023-07-31T05:34:43.739Z"
   },
   {
    "duration": 22,
    "start_time": "2023-07-31T05:35:24.221Z"
   },
   {
    "duration": 28,
    "start_time": "2023-07-31T05:35:38.847Z"
   },
   {
    "duration": 25,
    "start_time": "2023-07-31T05:35:43.091Z"
   },
   {
    "duration": 18,
    "start_time": "2023-07-31T05:36:11.554Z"
   },
   {
    "duration": 23,
    "start_time": "2023-07-31T05:36:26.657Z"
   },
   {
    "duration": 16,
    "start_time": "2023-07-31T05:36:37.842Z"
   },
   {
    "duration": 17,
    "start_time": "2023-07-31T05:38:35.964Z"
   },
   {
    "duration": 13,
    "start_time": "2023-07-31T05:39:11.648Z"
   },
   {
    "duration": 30,
    "start_time": "2023-07-31T05:39:54.397Z"
   },
   {
    "duration": 35,
    "start_time": "2023-07-31T05:40:16.563Z"
   },
   {
    "duration": 26,
    "start_time": "2023-07-31T05:40:58.464Z"
   },
   {
    "duration": 28,
    "start_time": "2023-07-31T05:41:08.364Z"
   },
   {
    "duration": 53,
    "start_time": "2023-07-31T16:11:16.194Z"
   },
   {
    "duration": 9,
    "start_time": "2023-07-31T16:11:22.166Z"
   },
   {
    "duration": 878,
    "start_time": "2023-07-31T16:11:26.833Z"
   },
   {
    "duration": 120,
    "start_time": "2023-07-31T16:11:27.713Z"
   },
   {
    "duration": 627,
    "start_time": "2023-07-31T16:11:27.835Z"
   },
   {
    "duration": 29,
    "start_time": "2023-07-31T16:11:28.463Z"
   },
   {
    "duration": 22,
    "start_time": "2023-07-31T16:11:28.495Z"
   },
   {
    "duration": 98,
    "start_time": "2023-07-31T16:11:28.519Z"
   },
   {
    "duration": 14,
    "start_time": "2023-07-31T16:11:28.619Z"
   },
   {
    "duration": 46,
    "start_time": "2023-07-31T16:11:28.635Z"
   },
   {
    "duration": 12,
    "start_time": "2023-07-31T16:11:28.683Z"
   },
   {
    "duration": 20,
    "start_time": "2023-07-31T16:11:28.697Z"
   },
   {
    "duration": 4,
    "start_time": "2023-07-31T16:11:28.719Z"
   },
   {
    "duration": 27,
    "start_time": "2023-07-31T16:11:28.724Z"
   },
   {
    "duration": 24,
    "start_time": "2023-07-31T16:11:28.756Z"
   },
   {
    "duration": 11,
    "start_time": "2023-07-31T16:11:31.695Z"
   },
   {
    "duration": 4,
    "start_time": "2023-07-31T16:12:19.642Z"
   },
   {
    "duration": 9,
    "start_time": "2023-07-31T16:12:39.533Z"
   },
   {
    "duration": 11,
    "start_time": "2023-07-31T16:13:15.593Z"
   },
   {
    "duration": 7,
    "start_time": "2023-07-31T16:13:53.735Z"
   },
   {
    "duration": 22,
    "start_time": "2023-07-31T16:14:04.444Z"
   },
   {
    "duration": 7,
    "start_time": "2023-07-31T16:16:40.714Z"
   },
   {
    "duration": 6,
    "start_time": "2023-07-31T16:17:51.178Z"
   },
   {
    "duration": 7,
    "start_time": "2023-07-31T16:17:55.587Z"
   },
   {
    "duration": 9,
    "start_time": "2023-07-31T16:18:04.993Z"
   },
   {
    "duration": 48,
    "start_time": "2023-07-31T16:18:32.413Z"
   },
   {
    "duration": 10,
    "start_time": "2023-07-31T16:18:43.818Z"
   },
   {
    "duration": 27,
    "start_time": "2023-07-31T16:20:20.897Z"
   },
   {
    "duration": 28,
    "start_time": "2023-07-31T16:20:39.268Z"
   },
   {
    "duration": 28,
    "start_time": "2023-07-31T16:21:05.971Z"
   },
   {
    "duration": 33,
    "start_time": "2023-07-31T16:21:35.833Z"
   },
   {
    "duration": 25,
    "start_time": "2023-07-31T16:22:33.370Z"
   },
   {
    "duration": 25,
    "start_time": "2023-07-31T16:22:57.961Z"
   },
   {
    "duration": 27,
    "start_time": "2023-07-31T16:23:50.967Z"
   },
   {
    "duration": 22,
    "start_time": "2023-07-31T16:24:04.981Z"
   },
   {
    "duration": 33,
    "start_time": "2023-07-31T16:26:51.339Z"
   },
   {
    "duration": 21,
    "start_time": "2023-07-31T16:26:56.014Z"
   },
   {
    "duration": 24,
    "start_time": "2023-07-31T16:27:11.493Z"
   },
   {
    "duration": 37,
    "start_time": "2023-07-31T16:30:06.040Z"
   },
   {
    "duration": 36,
    "start_time": "2023-07-31T16:30:13.836Z"
   },
   {
    "duration": 28,
    "start_time": "2023-07-31T16:31:04.206Z"
   },
   {
    "duration": 35,
    "start_time": "2023-07-31T16:31:19.939Z"
   },
   {
    "duration": 33,
    "start_time": "2023-07-31T16:31:31.756Z"
   },
   {
    "duration": 37,
    "start_time": "2023-07-31T16:34:10.058Z"
   },
   {
    "duration": 48,
    "start_time": "2023-07-31T16:34:33.334Z"
   },
   {
    "duration": 30,
    "start_time": "2023-07-31T16:36:13.908Z"
   },
   {
    "duration": 157,
    "start_time": "2023-07-31T16:38:38.323Z"
   },
   {
    "duration": 142,
    "start_time": "2023-07-31T16:38:57.811Z"
   },
   {
    "duration": 91,
    "start_time": "2023-07-31T16:39:19.560Z"
   },
   {
    "duration": 99,
    "start_time": "2023-07-31T16:40:03.807Z"
   },
   {
    "duration": 99,
    "start_time": "2023-07-31T16:42:02.184Z"
   },
   {
    "duration": 95,
    "start_time": "2023-07-31T16:44:46.678Z"
   },
   {
    "duration": 94,
    "start_time": "2023-07-31T16:45:11.787Z"
   },
   {
    "duration": 115,
    "start_time": "2023-07-31T16:47:31.646Z"
   },
   {
    "duration": 19,
    "start_time": "2023-07-31T16:47:44.350Z"
   },
   {
    "duration": 19,
    "start_time": "2023-07-31T16:47:48.545Z"
   },
   {
    "duration": 98,
    "start_time": "2023-07-31T16:48:03.145Z"
   },
   {
    "duration": 92,
    "start_time": "2023-07-31T16:48:59.141Z"
   },
   {
    "duration": 124,
    "start_time": "2023-07-31T16:50:11.696Z"
   },
   {
    "duration": 90,
    "start_time": "2023-07-31T16:50:31.782Z"
   },
   {
    "duration": 80,
    "start_time": "2023-07-31T16:51:05.768Z"
   },
   {
    "duration": 88,
    "start_time": "2023-07-31T16:51:19.846Z"
   },
   {
    "duration": 82,
    "start_time": "2023-07-31T16:51:31.167Z"
   },
   {
    "duration": 3,
    "start_time": "2023-07-31T16:51:51.485Z"
   },
   {
    "duration": 68,
    "start_time": "2023-07-31T16:51:51.503Z"
   },
   {
    "duration": 547,
    "start_time": "2023-07-31T16:51:51.573Z"
   },
   {
    "duration": 29,
    "start_time": "2023-07-31T16:51:52.122Z"
   },
   {
    "duration": 15,
    "start_time": "2023-07-31T16:51:52.168Z"
   },
   {
    "duration": 3,
    "start_time": "2023-07-31T16:51:52.185Z"
   },
   {
    "duration": 22,
    "start_time": "2023-07-31T16:51:52.190Z"
   },
   {
    "duration": 11,
    "start_time": "2023-07-31T16:51:52.214Z"
   },
   {
    "duration": 13,
    "start_time": "2023-07-31T16:51:52.227Z"
   },
   {
    "duration": 38,
    "start_time": "2023-07-31T16:51:52.241Z"
   },
   {
    "duration": 3,
    "start_time": "2023-07-31T16:51:52.282Z"
   },
   {
    "duration": 37,
    "start_time": "2023-07-31T16:51:52.287Z"
   },
   {
    "duration": 34,
    "start_time": "2023-07-31T16:51:52.326Z"
   },
   {
    "duration": 87,
    "start_time": "2023-07-31T16:51:55.188Z"
   },
   {
    "duration": 87,
    "start_time": "2023-07-31T16:52:19.780Z"
   },
   {
    "duration": 3,
    "start_time": "2023-07-31T16:52:58.920Z"
   },
   {
    "duration": 82,
    "start_time": "2023-07-31T16:52:58.925Z"
   },
   {
    "duration": 561,
    "start_time": "2023-07-31T16:52:59.009Z"
   },
   {
    "duration": 17,
    "start_time": "2023-07-31T16:52:59.572Z"
   },
   {
    "duration": 16,
    "start_time": "2023-07-31T16:52:59.591Z"
   },
   {
    "duration": 4,
    "start_time": "2023-07-31T16:52:59.609Z"
   },
   {
    "duration": 8,
    "start_time": "2023-07-31T16:52:59.615Z"
   },
   {
    "duration": 40,
    "start_time": "2023-07-31T16:52:59.625Z"
   },
   {
    "duration": 11,
    "start_time": "2023-07-31T16:52:59.667Z"
   },
   {
    "duration": 23,
    "start_time": "2023-07-31T16:52:59.680Z"
   },
   {
    "duration": 4,
    "start_time": "2023-07-31T16:52:59.705Z"
   },
   {
    "duration": 17,
    "start_time": "2023-07-31T16:52:59.711Z"
   },
   {
    "duration": 44,
    "start_time": "2023-07-31T16:52:59.729Z"
   },
   {
    "duration": 90,
    "start_time": "2023-07-31T16:53:02.119Z"
   },
   {
    "duration": 87,
    "start_time": "2023-07-31T16:53:16.710Z"
   },
   {
    "duration": 101,
    "start_time": "2023-07-31T16:54:05.035Z"
   },
   {
    "duration": 385,
    "start_time": "2023-07-31T16:54:14.204Z"
   },
   {
    "duration": 94,
    "start_time": "2023-07-31T16:54:34.003Z"
   },
   {
    "duration": 111,
    "start_time": "2023-07-31T16:54:47.750Z"
   },
   {
    "duration": 100,
    "start_time": "2023-07-31T16:55:21.465Z"
   },
   {
    "duration": 116,
    "start_time": "2023-07-31T16:55:48.098Z"
   },
   {
    "duration": 134,
    "start_time": "2023-07-31T16:56:08.539Z"
   },
   {
    "duration": 104,
    "start_time": "2023-07-31T16:56:17.967Z"
   },
   {
    "duration": 85,
    "start_time": "2023-07-31T16:56:27.479Z"
   },
   {
    "duration": 94,
    "start_time": "2023-07-31T16:57:35.679Z"
   },
   {
    "duration": 89,
    "start_time": "2023-07-31T16:58:29.452Z"
   },
   {
    "duration": 83,
    "start_time": "2023-07-31T16:58:46.497Z"
   },
   {
    "duration": 123,
    "start_time": "2023-07-31T16:59:48.397Z"
   },
   {
    "duration": 108,
    "start_time": "2023-07-31T17:00:22.006Z"
   },
   {
    "duration": 138,
    "start_time": "2023-07-31T17:01:25.405Z"
   },
   {
    "duration": 118,
    "start_time": "2023-07-31T17:02:06.045Z"
   },
   {
    "duration": 146,
    "start_time": "2023-07-31T17:02:18.444Z"
   },
   {
    "duration": 16,
    "start_time": "2023-08-01T08:18:54.999Z"
   },
   {
    "duration": 3,
    "start_time": "2023-08-01T08:20:34.118Z"
   },
   {
    "duration": 59,
    "start_time": "2023-08-01T08:20:52.873Z"
   },
   {
    "duration": 853,
    "start_time": "2023-08-01T08:20:58.892Z"
   },
   {
    "duration": 126,
    "start_time": "2023-08-01T08:20:59.747Z"
   },
   {
    "duration": 446,
    "start_time": "2023-08-01T08:20:59.875Z"
   },
   {
    "duration": 21,
    "start_time": "2023-08-01T08:21:00.323Z"
   },
   {
    "duration": 65,
    "start_time": "2023-08-01T08:21:00.346Z"
   },
   {
    "duration": 77,
    "start_time": "2023-08-01T08:21:00.413Z"
   },
   {
    "duration": 65,
    "start_time": "2023-08-01T08:21:00.491Z"
   },
   {
    "duration": 73,
    "start_time": "2023-08-01T08:21:00.557Z"
   },
   {
    "duration": 58,
    "start_time": "2023-08-01T08:21:00.631Z"
   },
   {
    "duration": 50,
    "start_time": "2023-08-01T08:21:00.692Z"
   },
   {
    "duration": 16,
    "start_time": "2023-08-01T08:21:00.744Z"
   },
   {
    "duration": 36,
    "start_time": "2023-08-01T08:21:00.761Z"
   },
   {
    "duration": 131,
    "start_time": "2023-08-01T08:21:00.799Z"
   },
   {
    "duration": 23,
    "start_time": "2023-08-01T08:21:09.051Z"
   },
   {
    "duration": 32,
    "start_time": "2023-08-01T08:22:28.682Z"
   },
   {
    "duration": 46,
    "start_time": "2023-08-01T08:23:18.996Z"
   },
   {
    "duration": 25,
    "start_time": "2023-08-01T08:23:31.053Z"
   },
   {
    "duration": 18,
    "start_time": "2023-08-01T08:25:08.539Z"
   },
   {
    "duration": 106,
    "start_time": "2023-08-01T08:25:26.460Z"
   },
   {
    "duration": 100,
    "start_time": "2023-08-01T08:26:35.980Z"
   },
   {
    "duration": 77,
    "start_time": "2023-08-01T08:28:00.324Z"
   },
   {
    "duration": 5,
    "start_time": "2023-08-01T08:28:21.389Z"
   },
   {
    "duration": 98,
    "start_time": "2023-08-01T08:28:58.894Z"
   },
   {
    "duration": 98,
    "start_time": "2023-08-01T08:29:14.534Z"
   },
   {
    "duration": 6,
    "start_time": "2023-08-01T08:40:56.238Z"
   },
   {
    "duration": 13,
    "start_time": "2023-08-01T08:41:11.163Z"
   },
   {
    "duration": 6,
    "start_time": "2023-08-01T08:41:28.392Z"
   },
   {
    "duration": 158,
    "start_time": "2023-08-01T08:41:30.784Z"
   },
   {
    "duration": 6,
    "start_time": "2023-08-01T08:41:52.860Z"
   },
   {
    "duration": 152,
    "start_time": "2023-08-01T08:41:55.113Z"
   },
   {
    "duration": 5,
    "start_time": "2023-08-01T08:44:41.751Z"
   },
   {
    "duration": 159,
    "start_time": "2023-08-01T08:44:44.457Z"
   },
   {
    "duration": 5,
    "start_time": "2023-08-01T08:46:53.189Z"
   },
   {
    "duration": 201,
    "start_time": "2023-08-01T08:46:56.055Z"
   },
   {
    "duration": 5,
    "start_time": "2023-08-01T08:47:49.959Z"
   },
   {
    "duration": 157,
    "start_time": "2023-08-01T08:48:03.430Z"
   },
   {
    "duration": 4,
    "start_time": "2023-08-01T08:48:52.778Z"
   },
   {
    "duration": 436,
    "start_time": "2023-08-01T08:50:17.450Z"
   },
   {
    "duration": 779,
    "start_time": "2023-08-01T08:50:26.809Z"
   },
   {
    "duration": 7,
    "start_time": "2023-08-01T08:50:41.296Z"
   },
   {
    "duration": 155,
    "start_time": "2023-08-01T08:50:47.730Z"
   },
   {
    "duration": 8,
    "start_time": "2023-08-01T08:51:08.350Z"
   },
   {
    "duration": 178,
    "start_time": "2023-08-01T08:51:10.884Z"
   },
   {
    "duration": 8,
    "start_time": "2023-08-01T08:52:00.228Z"
   },
   {
    "duration": 180,
    "start_time": "2023-08-01T08:52:07.552Z"
   },
   {
    "duration": 155,
    "start_time": "2023-08-01T08:52:51.534Z"
   },
   {
    "duration": 5,
    "start_time": "2023-08-01T08:53:50.744Z"
   },
   {
    "duration": 193,
    "start_time": "2023-08-01T08:53:53.179Z"
   },
   {
    "duration": 4,
    "start_time": "2023-08-01T08:54:40.876Z"
   },
   {
    "duration": 6,
    "start_time": "2023-08-01T08:54:46.529Z"
   },
   {
    "duration": 163,
    "start_time": "2023-08-01T08:54:49.786Z"
   },
   {
    "duration": 11,
    "start_time": "2023-08-01T08:55:09.694Z"
   },
   {
    "duration": 4,
    "start_time": "2023-08-01T08:56:12.989Z"
   },
   {
    "duration": 173,
    "start_time": "2023-08-01T08:56:15.594Z"
   },
   {
    "duration": 6,
    "start_time": "2023-08-01T08:56:21.418Z"
   },
   {
    "duration": 141,
    "start_time": "2023-08-01T08:56:23.025Z"
   },
   {
    "duration": 5,
    "start_time": "2023-08-01T08:56:46.326Z"
   },
   {
    "duration": 143,
    "start_time": "2023-08-01T08:56:47.946Z"
   },
   {
    "duration": 4,
    "start_time": "2023-08-01T09:28:03.964Z"
   },
   {
    "duration": 143,
    "start_time": "2023-08-01T09:28:06.198Z"
   },
   {
    "duration": 4,
    "start_time": "2023-08-01T09:35:18.570Z"
   },
   {
    "duration": 149,
    "start_time": "2023-08-01T09:35:20.798Z"
   },
   {
    "duration": 10,
    "start_time": "2023-08-01T09:35:46.595Z"
   },
   {
    "duration": 133,
    "start_time": "2023-08-01T09:35:50.137Z"
   },
   {
    "duration": 9,
    "start_time": "2023-08-01T09:42:24.362Z"
   },
   {
    "duration": 2,
    "start_time": "2023-08-01T09:42:30.194Z"
   },
   {
    "duration": 110,
    "start_time": "2023-08-01T09:42:30.198Z"
   },
   {
    "duration": 467,
    "start_time": "2023-08-01T09:42:30.317Z"
   },
   {
    "duration": 14,
    "start_time": "2023-08-01T09:42:30.786Z"
   },
   {
    "duration": 58,
    "start_time": "2023-08-01T09:42:30.802Z"
   },
   {
    "duration": 43,
    "start_time": "2023-08-01T09:42:30.862Z"
   },
   {
    "duration": 53,
    "start_time": "2023-08-01T09:42:30.907Z"
   },
   {
    "duration": 77,
    "start_time": "2023-08-01T09:42:30.961Z"
   },
   {
    "duration": 30,
    "start_time": "2023-08-01T09:42:31.039Z"
   },
   {
    "duration": 50,
    "start_time": "2023-08-01T09:42:31.071Z"
   },
   {
    "duration": 32,
    "start_time": "2023-08-01T09:42:31.123Z"
   },
   {
    "duration": 39,
    "start_time": "2023-08-01T09:42:31.157Z"
   },
   {
    "duration": 44,
    "start_time": "2023-08-01T09:42:31.197Z"
   },
   {
    "duration": 219,
    "start_time": "2023-08-01T09:42:31.242Z"
   },
   {
    "duration": 281,
    "start_time": "2023-08-01T09:42:31.463Z"
   },
   {
    "duration": 145,
    "start_time": "2023-08-01T09:42:31.745Z"
   },
   {
    "duration": 1630,
    "start_time": "2023-08-01T09:42:33.822Z"
   },
   {
    "duration": 33,
    "start_time": "2023-08-01T09:48:22.128Z"
   },
   {
    "duration": 14,
    "start_time": "2023-08-01T09:48:41.290Z"
   },
   {
    "duration": 15,
    "start_time": "2023-08-01T09:49:20.181Z"
   },
   {
    "duration": 11,
    "start_time": "2023-08-01T09:49:25.866Z"
   },
   {
    "duration": 16,
    "start_time": "2023-08-01T09:49:50.773Z"
   },
   {
    "duration": 14,
    "start_time": "2023-08-01T09:49:58.983Z"
   },
   {
    "duration": 10,
    "start_time": "2023-08-01T09:50:21.847Z"
   },
   {
    "duration": 9,
    "start_time": "2023-08-01T09:51:29.682Z"
   },
   {
    "duration": 18,
    "start_time": "2023-08-01T09:51:37.647Z"
   },
   {
    "duration": 3537,
    "start_time": "2023-08-01T09:54:42.390Z"
   },
   {
    "duration": 10,
    "start_time": "2023-08-01T09:54:54.617Z"
   },
   {
    "duration": 8,
    "start_time": "2023-08-01T10:13:42.220Z"
   },
   {
    "duration": 11,
    "start_time": "2023-08-01T10:14:54.268Z"
   },
   {
    "duration": 11,
    "start_time": "2023-08-01T10:15:02.617Z"
   },
   {
    "duration": 15,
    "start_time": "2023-08-01T10:16:06.447Z"
   },
   {
    "duration": 10,
    "start_time": "2023-08-01T10:17:41.759Z"
   },
   {
    "duration": 10,
    "start_time": "2023-08-01T10:17:55.667Z"
   },
   {
    "duration": 7,
    "start_time": "2023-08-01T10:18:08.849Z"
   },
   {
    "duration": 88,
    "start_time": "2023-08-01T10:27:11.487Z"
   },
   {
    "duration": 104,
    "start_time": "2023-08-01T10:29:58.015Z"
   },
   {
    "duration": 241,
    "start_time": "2023-08-01T10:30:03.010Z"
   },
   {
    "duration": 21,
    "start_time": "2023-08-01T10:30:25.553Z"
   },
   {
    "duration": 853,
    "start_time": "2023-08-01T10:31:55.013Z"
   },
   {
    "duration": 879,
    "start_time": "2023-08-01T10:32:16.327Z"
   },
   {
    "duration": 263,
    "start_time": "2023-08-01T10:32:40.482Z"
   },
   {
    "duration": 261,
    "start_time": "2023-08-01T10:33:27.683Z"
   },
   {
    "duration": 281,
    "start_time": "2023-08-01T10:35:30.164Z"
   },
   {
    "duration": 366,
    "start_time": "2023-08-01T10:36:03.576Z"
   },
   {
    "duration": 27,
    "start_time": "2023-08-01T10:36:50.046Z"
   },
   {
    "duration": 355,
    "start_time": "2023-08-01T10:36:54.246Z"
   },
   {
    "duration": 1155,
    "start_time": "2023-08-01T10:37:45.720Z"
   },
   {
    "duration": 8,
    "start_time": "2023-08-01T10:40:39.115Z"
   },
   {
    "duration": 2,
    "start_time": "2023-08-01T10:40:44.148Z"
   },
   {
    "duration": 78,
    "start_time": "2023-08-01T10:40:44.152Z"
   },
   {
    "duration": 438,
    "start_time": "2023-08-01T10:40:44.232Z"
   },
   {
    "duration": 13,
    "start_time": "2023-08-01T10:40:44.672Z"
   },
   {
    "duration": 35,
    "start_time": "2023-08-01T10:40:44.688Z"
   },
   {
    "duration": 17,
    "start_time": "2023-08-01T10:40:44.726Z"
   },
   {
    "duration": 9,
    "start_time": "2023-08-01T10:40:44.744Z"
   },
   {
    "duration": 6,
    "start_time": "2023-08-01T10:40:44.754Z"
   },
   {
    "duration": 3,
    "start_time": "2023-08-01T10:40:44.762Z"
   },
   {
    "duration": 12,
    "start_time": "2023-08-01T10:40:44.767Z"
   },
   {
    "duration": 5,
    "start_time": "2023-08-01T10:40:44.781Z"
   },
   {
    "duration": 24,
    "start_time": "2023-08-01T10:40:44.787Z"
   },
   {
    "duration": 10,
    "start_time": "2023-08-01T10:40:44.813Z"
   },
   {
    "duration": 208,
    "start_time": "2023-08-01T10:40:44.825Z"
   },
   {
    "duration": 1126,
    "start_time": "2023-08-01T10:40:45.034Z"
   },
   {
    "duration": 317,
    "start_time": "2023-08-01T10:40:46.162Z"
   },
   {
    "duration": 167,
    "start_time": "2023-08-01T10:40:46.480Z"
   },
   {
    "duration": 1922,
    "start_time": "2023-08-01T10:40:46.649Z"
   },
   {
    "duration": 17,
    "start_time": "2023-08-01T10:40:48.573Z"
   },
   {
    "duration": 1387,
    "start_time": "2023-08-01T10:40:48.600Z"
   },
   {
    "duration": 127,
    "start_time": "2023-08-01T10:40:49.989Z"
   },
   {
    "duration": 14,
    "start_time": "2023-08-01T10:40:50.118Z"
   },
   {
    "duration": 9,
    "start_time": "2023-08-01T10:41:24.365Z"
   },
   {
    "duration": 158,
    "start_time": "2023-08-01T10:41:39.451Z"
   },
   {
    "duration": 212,
    "start_time": "2023-08-01T10:42:02.955Z"
   },
   {
    "duration": 141,
    "start_time": "2023-08-01T10:42:12.388Z"
   },
   {
    "duration": 177,
    "start_time": "2023-08-01T10:42:45.999Z"
   },
   {
    "duration": 137,
    "start_time": "2023-08-01T10:43:21.994Z"
   },
   {
    "duration": 145,
    "start_time": "2023-08-01T10:43:33.452Z"
   },
   {
    "duration": 128,
    "start_time": "2023-08-01T10:44:23.127Z"
   },
   {
    "duration": 120,
    "start_time": "2023-08-01T10:45:44.627Z"
   },
   {
    "duration": 124,
    "start_time": "2023-08-01T10:45:54.554Z"
   },
   {
    "duration": 1247,
    "start_time": "2023-08-01T10:53:48.161Z"
   },
   {
    "duration": 1141,
    "start_time": "2023-08-01T10:53:59.172Z"
   },
   {
    "duration": 15,
    "start_time": "2023-08-01T10:57:07.258Z"
   },
   {
    "duration": 1449,
    "start_time": "2023-08-01T10:57:13.636Z"
   },
   {
    "duration": 87,
    "start_time": "2023-08-01T10:57:39.451Z"
   },
   {
    "duration": 130,
    "start_time": "2023-08-01T10:58:05.748Z"
   },
   {
    "duration": 125,
    "start_time": "2023-08-01T10:58:12.346Z"
   },
   {
    "duration": 15,
    "start_time": "2023-08-01T10:59:44.385Z"
   },
   {
    "duration": 1154,
    "start_time": "2023-08-01T11:00:31.359Z"
   },
   {
    "duration": 94,
    "start_time": "2023-08-01T11:01:40.591Z"
   },
   {
    "duration": 149,
    "start_time": "2023-08-01T11:01:51.810Z"
   },
   {
    "duration": 200,
    "start_time": "2023-08-01T11:02:12.964Z"
   },
   {
    "duration": 14,
    "start_time": "2023-08-01T11:02:52.704Z"
   },
   {
    "duration": 10,
    "start_time": "2023-08-01T11:03:01.744Z"
   },
   {
    "duration": 13,
    "start_time": "2023-08-01T11:03:16.163Z"
   },
   {
    "duration": 13,
    "start_time": "2023-08-01T11:03:32.031Z"
   },
   {
    "duration": 13,
    "start_time": "2023-08-01T11:03:40.711Z"
   },
   {
    "duration": 17,
    "start_time": "2023-08-01T11:03:52.106Z"
   },
   {
    "duration": 23,
    "start_time": "2023-08-01T11:06:12.798Z"
   },
   {
    "duration": 1644,
    "start_time": "2023-08-01T11:18:20.731Z"
   },
   {
    "duration": 15,
    "start_time": "2023-08-01T11:22:41.948Z"
   },
   {
    "duration": 21,
    "start_time": "2023-08-01T11:23:10.217Z"
   },
   {
    "duration": 1471,
    "start_time": "2023-08-01T11:23:23.695Z"
   },
   {
    "duration": 1492,
    "start_time": "2023-08-01T11:23:59.115Z"
   },
   {
    "duration": 1549,
    "start_time": "2023-08-01T11:24:37.311Z"
   },
   {
    "duration": 1524,
    "start_time": "2023-08-01T11:24:57.461Z"
   },
   {
    "duration": 1479,
    "start_time": "2023-08-01T11:25:22.099Z"
   },
   {
    "duration": 1505,
    "start_time": "2023-08-01T11:25:28.498Z"
   },
   {
    "duration": 1517,
    "start_time": "2023-08-01T11:27:01.137Z"
   },
   {
    "duration": 139,
    "start_time": "2023-08-01T11:27:53.328Z"
   },
   {
    "duration": 136,
    "start_time": "2023-08-01T11:29:04.887Z"
   },
   {
    "duration": 1508,
    "start_time": "2023-08-01T11:29:38.616Z"
   },
   {
    "duration": 1548,
    "start_time": "2023-08-01T11:38:29.567Z"
   },
   {
    "duration": 4,
    "start_time": "2023-08-01T11:39:31.924Z"
   },
   {
    "duration": 3,
    "start_time": "2023-08-01T11:39:55.729Z"
   },
   {
    "duration": 1671,
    "start_time": "2023-08-01T11:41:40.742Z"
   },
   {
    "duration": 1633,
    "start_time": "2023-08-01T11:43:03.104Z"
   },
   {
    "duration": 1860,
    "start_time": "2023-08-01T11:43:49.931Z"
   },
   {
    "duration": 1509,
    "start_time": "2023-08-01T11:45:40.831Z"
   },
   {
    "duration": 1679,
    "start_time": "2023-08-01T11:46:50.711Z"
   },
   {
    "duration": 1704,
    "start_time": "2023-08-01T11:47:06.650Z"
   },
   {
    "duration": 1766,
    "start_time": "2023-08-01T11:47:20.719Z"
   },
   {
    "duration": 1707,
    "start_time": "2023-08-01T11:48:16.356Z"
   },
   {
    "duration": 1599,
    "start_time": "2023-08-01T11:48:26.376Z"
   },
   {
    "duration": 1667,
    "start_time": "2023-08-01T11:49:24.737Z"
   },
   {
    "duration": 8,
    "start_time": "2023-08-01T11:50:02.510Z"
   },
   {
    "duration": 7,
    "start_time": "2023-08-01T11:50:44.528Z"
   },
   {
    "duration": 8,
    "start_time": "2023-08-01T11:50:46.866Z"
   },
   {
    "duration": 14,
    "start_time": "2023-08-01T11:51:44.560Z"
   },
   {
    "duration": 3,
    "start_time": "2023-08-01T11:52:09.187Z"
   },
   {
    "duration": 1564,
    "start_time": "2023-08-01T11:53:08.177Z"
   },
   {
    "duration": 3,
    "start_time": "2023-08-01T11:53:25.637Z"
   },
   {
    "duration": 3,
    "start_time": "2023-08-01T11:53:40.176Z"
   },
   {
    "duration": 3,
    "start_time": "2023-08-01T11:53:52.311Z"
   },
   {
    "duration": 3,
    "start_time": "2023-08-01T11:55:25.677Z"
   },
   {
    "duration": 14,
    "start_time": "2023-08-01T11:58:52.576Z"
   },
   {
    "duration": 1344,
    "start_time": "2023-08-01T11:58:57.999Z"
   },
   {
    "duration": 1424,
    "start_time": "2023-08-01T12:00:05.125Z"
   },
   {
    "duration": 1473,
    "start_time": "2023-08-01T12:00:11.611Z"
   },
   {
    "duration": 87,
    "start_time": "2023-08-01T12:00:51.650Z"
   },
   {
    "duration": 147,
    "start_time": "2023-08-01T12:01:04.355Z"
   },
   {
    "duration": 129,
    "start_time": "2023-08-01T12:01:18.015Z"
   },
   {
    "duration": 133,
    "start_time": "2023-08-01T12:01:29.016Z"
   },
   {
    "duration": 143,
    "start_time": "2023-08-01T12:01:41.085Z"
   },
   {
    "duration": 86,
    "start_time": "2023-08-01T12:02:52.532Z"
   },
   {
    "duration": 101,
    "start_time": "2023-08-01T12:03:07.658Z"
   },
   {
    "duration": 87,
    "start_time": "2023-08-01T12:03:40.495Z"
   },
   {
    "duration": 84,
    "start_time": "2023-08-01T12:04:03.082Z"
   },
   {
    "duration": 147,
    "start_time": "2023-08-01T12:04:09.657Z"
   },
   {
    "duration": 94,
    "start_time": "2023-08-01T12:04:37.249Z"
   },
   {
    "duration": 94,
    "start_time": "2023-08-01T12:04:47.848Z"
   },
   {
    "duration": 85,
    "start_time": "2023-08-01T12:05:03.911Z"
   },
   {
    "duration": 89,
    "start_time": "2023-08-01T12:05:23.010Z"
   },
   {
    "duration": 81,
    "start_time": "2023-08-01T12:05:47.531Z"
   },
   {
    "duration": 101,
    "start_time": "2023-08-01T12:05:52.077Z"
   },
   {
    "duration": 117,
    "start_time": "2023-08-01T12:06:02.238Z"
   },
   {
    "duration": 94,
    "start_time": "2023-08-01T12:06:20.600Z"
   },
   {
    "duration": 1542,
    "start_time": "2023-08-01T12:17:53.301Z"
   },
   {
    "duration": 272,
    "start_time": "2023-08-01T12:18:41.574Z"
   },
   {
    "duration": 1411,
    "start_time": "2023-08-01T12:18:51.535Z"
   },
   {
    "duration": 1437,
    "start_time": "2023-08-01T12:20:40.888Z"
   },
   {
    "duration": 1427,
    "start_time": "2023-08-01T12:22:17.383Z"
   },
   {
    "duration": 1437,
    "start_time": "2023-08-01T12:23:43.700Z"
   },
   {
    "duration": 1478,
    "start_time": "2023-08-01T12:24:54.662Z"
   },
   {
    "duration": 1465,
    "start_time": "2023-08-01T12:27:12.913Z"
   },
   {
    "duration": 1460,
    "start_time": "2023-08-01T12:38:10.991Z"
   },
   {
    "duration": 1411,
    "start_time": "2023-08-01T12:41:50.039Z"
   },
   {
    "duration": 1512,
    "start_time": "2023-08-01T12:43:48.330Z"
   },
   {
    "duration": 53,
    "start_time": "2023-08-01T14:05:45.561Z"
   },
   {
    "duration": 872,
    "start_time": "2023-08-01T14:05:51.672Z"
   },
   {
    "duration": 459,
    "start_time": "2023-08-01T14:05:52.547Z"
   },
   {
    "duration": 507,
    "start_time": "2023-08-01T14:05:53.007Z"
   },
   {
    "duration": 17,
    "start_time": "2023-08-01T14:05:53.516Z"
   },
   {
    "duration": 14,
    "start_time": "2023-08-01T14:05:53.535Z"
   },
   {
    "duration": 79,
    "start_time": "2023-08-01T14:05:53.550Z"
   },
   {
    "duration": 14,
    "start_time": "2023-08-01T14:05:53.631Z"
   },
   {
    "duration": 8,
    "start_time": "2023-08-01T14:05:53.647Z"
   },
   {
    "duration": 11,
    "start_time": "2023-08-01T14:05:53.656Z"
   },
   {
    "duration": 12,
    "start_time": "2023-08-01T14:05:53.669Z"
   },
   {
    "duration": 3,
    "start_time": "2023-08-01T14:05:53.683Z"
   },
   {
    "duration": 69,
    "start_time": "2023-08-01T14:05:53.688Z"
   },
   {
    "duration": 10,
    "start_time": "2023-08-01T14:05:53.759Z"
   },
   {
    "duration": 178,
    "start_time": "2023-08-01T14:05:53.771Z"
   },
   {
    "duration": 44,
    "start_time": "2023-08-01T14:05:57.079Z"
   },
   {
    "duration": 10,
    "start_time": "2023-08-01T14:06:10.447Z"
   },
   {
    "duration": 22,
    "start_time": "2023-08-01T14:06:19.552Z"
   },
   {
    "duration": 14,
    "start_time": "2023-08-01T14:06:40.059Z"
   },
   {
    "duration": 16,
    "start_time": "2023-08-01T14:08:45.652Z"
   },
   {
    "duration": 12,
    "start_time": "2023-08-01T14:09:50.408Z"
   },
   {
    "duration": 139,
    "start_time": "2023-08-01T14:12:58.748Z"
   },
   {
    "duration": 192,
    "start_time": "2023-08-01T14:13:12.260Z"
   },
   {
    "duration": 79,
    "start_time": "2023-08-01T14:13:41.347Z"
   },
   {
    "duration": 166,
    "start_time": "2023-08-01T14:13:47.281Z"
   },
   {
    "duration": 389,
    "start_time": "2023-08-01T14:14:06.657Z"
   },
   {
    "duration": 91,
    "start_time": "2023-08-01T14:14:16.480Z"
   },
   {
    "duration": 96,
    "start_time": "2023-08-01T14:14:49.956Z"
   },
   {
    "duration": 10,
    "start_time": "2023-08-01T14:15:06.554Z"
   },
   {
    "duration": 71,
    "start_time": "2023-08-01T14:15:26.668Z"
   },
   {
    "duration": 155,
    "start_time": "2023-08-01T14:16:13.821Z"
   },
   {
    "duration": 3,
    "start_time": "2023-08-01T14:16:45.562Z"
   },
   {
    "duration": 75,
    "start_time": "2023-08-01T14:16:45.570Z"
   },
   {
    "duration": 506,
    "start_time": "2023-08-01T14:16:45.646Z"
   },
   {
    "duration": 19,
    "start_time": "2023-08-01T14:16:46.153Z"
   },
   {
    "duration": 22,
    "start_time": "2023-08-01T14:16:46.175Z"
   },
   {
    "duration": 4,
    "start_time": "2023-08-01T14:16:46.199Z"
   },
   {
    "duration": 5,
    "start_time": "2023-08-01T14:16:46.205Z"
   },
   {
    "duration": 8,
    "start_time": "2023-08-01T14:16:46.212Z"
   },
   {
    "duration": 15,
    "start_time": "2023-08-01T14:16:46.222Z"
   },
   {
    "duration": 41,
    "start_time": "2023-08-01T14:16:46.239Z"
   },
   {
    "duration": 6,
    "start_time": "2023-08-01T14:16:46.282Z"
   },
   {
    "duration": 27,
    "start_time": "2023-08-01T14:16:46.290Z"
   },
   {
    "duration": 10,
    "start_time": "2023-08-01T14:16:46.318Z"
   },
   {
    "duration": 181,
    "start_time": "2023-08-01T14:16:46.330Z"
   },
   {
    "duration": 159,
    "start_time": "2023-08-01T14:16:46.513Z"
   },
   {
    "duration": 1195,
    "start_time": "2023-08-01T14:16:46.674Z"
   },
   {
    "duration": 343,
    "start_time": "2023-08-01T14:16:47.871Z"
   },
   {
    "duration": 174,
    "start_time": "2023-08-01T14:16:48.216Z"
   },
   {
    "duration": 1963,
    "start_time": "2023-08-01T14:16:48.392Z"
   },
   {
    "duration": 3,
    "start_time": "2023-08-01T14:16:50.357Z"
   },
   {
    "duration": 29,
    "start_time": "2023-08-01T14:16:50.367Z"
   },
   {
    "duration": 1930,
    "start_time": "2023-08-01T14:16:50.398Z"
   },
   {
    "duration": 124,
    "start_time": "2023-08-01T14:16:52.330Z"
   },
   {
    "duration": 173,
    "start_time": "2023-08-01T14:16:52.456Z"
   },
   {
    "duration": 170,
    "start_time": "2023-08-01T14:16:52.631Z"
   },
   {
    "duration": 184,
    "start_time": "2023-08-01T14:16:52.803Z"
   },
   {
    "duration": 193,
    "start_time": "2023-08-01T14:16:52.989Z"
   },
   {
    "duration": 93,
    "start_time": "2023-08-01T14:16:53.184Z"
   },
   {
    "duration": 40,
    "start_time": "2023-08-01T14:17:16.641Z"
   },
   {
    "duration": 43,
    "start_time": "2023-08-01T14:18:03.088Z"
   },
   {
    "duration": 65,
    "start_time": "2023-08-01T14:18:24.546Z"
   },
   {
    "duration": 161,
    "start_time": "2023-08-01T14:18:56.186Z"
   },
   {
    "duration": 124,
    "start_time": "2023-08-01T14:20:32.837Z"
   },
   {
    "duration": 119,
    "start_time": "2023-08-01T14:21:02.549Z"
   },
   {
    "duration": 47,
    "start_time": "2023-08-01T14:22:01.120Z"
   },
   {
    "duration": 46,
    "start_time": "2023-08-01T14:22:03.045Z"
   },
   {
    "duration": 56,
    "start_time": "2023-08-01T14:22:20.446Z"
   },
   {
    "duration": 85,
    "start_time": "2023-08-01T14:22:46.050Z"
   },
   {
    "duration": 75,
    "start_time": "2023-08-01T14:23:13.441Z"
   },
   {
    "duration": 13,
    "start_time": "2023-08-01T14:23:19.813Z"
   },
   {
    "duration": 111,
    "start_time": "2023-08-01T14:23:48.246Z"
   },
   {
    "duration": 66,
    "start_time": "2023-08-01T14:24:33.382Z"
   },
   {
    "duration": 84,
    "start_time": "2023-08-01T14:24:58.987Z"
   },
   {
    "duration": 93,
    "start_time": "2023-08-01T14:25:16.617Z"
   },
   {
    "duration": 31,
    "start_time": "2023-08-01T14:25:53.076Z"
   },
   {
    "duration": 3,
    "start_time": "2023-08-01T14:26:09.581Z"
   },
   {
    "duration": 89,
    "start_time": "2023-08-01T14:26:09.586Z"
   },
   {
    "duration": 596,
    "start_time": "2023-08-01T14:26:09.677Z"
   },
   {
    "duration": 17,
    "start_time": "2023-08-01T14:26:10.276Z"
   },
   {
    "duration": 18,
    "start_time": "2023-08-01T14:26:10.296Z"
   },
   {
    "duration": 4,
    "start_time": "2023-08-01T14:26:10.316Z"
   },
   {
    "duration": 10,
    "start_time": "2023-08-01T14:26:10.322Z"
   },
   {
    "duration": 34,
    "start_time": "2023-08-01T14:26:10.333Z"
   },
   {
    "duration": 4,
    "start_time": "2023-08-01T14:26:10.369Z"
   },
   {
    "duration": 25,
    "start_time": "2023-08-01T14:26:10.375Z"
   },
   {
    "duration": 5,
    "start_time": "2023-08-01T14:26:10.403Z"
   },
   {
    "duration": 13,
    "start_time": "2023-08-01T14:26:10.410Z"
   },
   {
    "duration": 5,
    "start_time": "2023-08-01T14:26:10.425Z"
   },
   {
    "duration": 179,
    "start_time": "2023-08-01T14:26:10.431Z"
   },
   {
    "duration": 174,
    "start_time": "2023-08-01T14:26:10.612Z"
   },
   {
    "duration": 109,
    "start_time": "2023-08-01T14:26:18.494Z"
   },
   {
    "duration": 852,
    "start_time": "2023-08-02T12:40:28.539Z"
   },
   {
    "duration": 206,
    "start_time": "2023-08-02T12:40:29.394Z"
   },
   {
    "duration": 518,
    "start_time": "2023-08-02T12:40:29.602Z"
   },
   {
    "duration": 19,
    "start_time": "2023-08-02T12:40:30.123Z"
   },
   {
    "duration": 31,
    "start_time": "2023-08-02T12:40:30.144Z"
   },
   {
    "duration": 4,
    "start_time": "2023-08-02T12:40:30.177Z"
   },
   {
    "duration": 50,
    "start_time": "2023-08-02T12:40:30.183Z"
   },
   {
    "duration": 54,
    "start_time": "2023-08-02T12:40:30.235Z"
   },
   {
    "duration": 40,
    "start_time": "2023-08-02T12:40:30.292Z"
   },
   {
    "duration": 41,
    "start_time": "2023-08-02T12:40:30.334Z"
   },
   {
    "duration": 29,
    "start_time": "2023-08-02T12:40:30.377Z"
   },
   {
    "duration": 68,
    "start_time": "2023-08-02T12:40:30.408Z"
   },
   {
    "duration": 26,
    "start_time": "2023-08-02T12:40:30.477Z"
   },
   {
    "duration": 226,
    "start_time": "2023-08-02T12:40:30.505Z"
   },
   {
    "duration": 89,
    "start_time": "2023-08-02T12:50:58.825Z"
   },
   {
    "duration": 7,
    "start_time": "2023-08-02T12:51:09.849Z"
   },
   {
    "duration": 19,
    "start_time": "2023-08-02T12:51:51.355Z"
   },
   {
    "duration": 12,
    "start_time": "2023-08-02T12:53:24.698Z"
   },
   {
    "duration": 15,
    "start_time": "2023-08-02T12:53:39.678Z"
   },
   {
    "duration": 16,
    "start_time": "2023-08-02T12:53:59.258Z"
   },
   {
    "duration": 13,
    "start_time": "2023-08-02T12:54:15.579Z"
   },
   {
    "duration": 1401,
    "start_time": "2023-08-02T12:55:55.569Z"
   },
   {
    "duration": 35,
    "start_time": "2023-08-02T12:56:02.630Z"
   },
   {
    "duration": 16,
    "start_time": "2023-08-02T12:56:18.716Z"
   },
   {
    "duration": 14,
    "start_time": "2023-08-02T12:56:24.674Z"
   },
   {
    "duration": 13,
    "start_time": "2023-08-02T12:57:01.857Z"
   },
   {
    "duration": 110,
    "start_time": "2023-08-02T13:04:17.440Z"
   },
   {
    "duration": 21,
    "start_time": "2023-08-02T13:04:26.227Z"
   },
   {
    "duration": 340,
    "start_time": "2023-08-02T13:05:16.749Z"
   },
   {
    "duration": 3,
    "start_time": "2023-08-02T13:05:56.601Z"
   },
   {
    "duration": 16,
    "start_time": "2023-08-02T13:07:22.092Z"
   },
   {
    "duration": 12,
    "start_time": "2023-08-02T13:07:38.621Z"
   },
   {
    "duration": 15,
    "start_time": "2023-08-02T13:08:12.331Z"
   },
   {
    "duration": 4,
    "start_time": "2023-08-02T13:08:23.060Z"
   },
   {
    "duration": 87,
    "start_time": "2023-08-02T13:08:23.067Z"
   },
   {
    "duration": 664,
    "start_time": "2023-08-02T13:08:23.157Z"
   },
   {
    "duration": 18,
    "start_time": "2023-08-02T13:08:23.823Z"
   },
   {
    "duration": 49,
    "start_time": "2023-08-02T13:08:23.843Z"
   },
   {
    "duration": 40,
    "start_time": "2023-08-02T13:08:23.902Z"
   },
   {
    "duration": 41,
    "start_time": "2023-08-02T13:08:23.944Z"
   },
   {
    "duration": 62,
    "start_time": "2023-08-02T13:08:23.988Z"
   },
   {
    "duration": 28,
    "start_time": "2023-08-02T13:08:24.053Z"
   },
   {
    "duration": 28,
    "start_time": "2023-08-02T13:08:26.329Z"
   },
   {
    "duration": 17,
    "start_time": "2023-08-02T13:08:30.882Z"
   },
   {
    "duration": 17,
    "start_time": "2023-08-02T13:08:53.783Z"
   },
   {
    "duration": 17,
    "start_time": "2023-08-02T13:09:13.007Z"
   },
   {
    "duration": 3,
    "start_time": "2023-08-02T13:09:16.152Z"
   },
   {
    "duration": 304,
    "start_time": "2023-08-02T13:10:07.902Z"
   },
   {
    "duration": 3,
    "start_time": "2023-08-02T13:10:27.233Z"
   },
   {
    "duration": 90,
    "start_time": "2023-08-02T13:10:27.238Z"
   },
   {
    "duration": 536,
    "start_time": "2023-08-02T13:10:27.330Z"
   },
   {
    "duration": 18,
    "start_time": "2023-08-02T13:10:27.869Z"
   },
   {
    "duration": 19,
    "start_time": "2023-08-02T13:10:27.889Z"
   },
   {
    "duration": 36,
    "start_time": "2023-08-02T13:10:27.909Z"
   },
   {
    "duration": 15,
    "start_time": "2023-08-02T13:10:27.947Z"
   },
   {
    "duration": 34,
    "start_time": "2023-08-02T13:10:27.964Z"
   },
   {
    "duration": 21,
    "start_time": "2023-08-02T13:10:28.000Z"
   },
   {
    "duration": 4,
    "start_time": "2023-08-02T13:14:07.602Z"
   },
   {
    "duration": 168,
    "start_time": "2023-08-02T13:14:20.494Z"
   },
   {
    "duration": 30,
    "start_time": "2023-08-02T13:16:18.234Z"
   },
   {
    "duration": 26,
    "start_time": "2023-08-02T13:16:57.185Z"
   },
   {
    "duration": 9,
    "start_time": "2023-08-02T13:17:13.279Z"
   },
   {
    "duration": 11,
    "start_time": "2023-08-02T13:17:25.252Z"
   },
   {
    "duration": 23,
    "start_time": "2023-08-02T13:17:43.530Z"
   },
   {
    "duration": 34,
    "start_time": "2023-08-02T13:18:10.013Z"
   },
   {
    "duration": 9,
    "start_time": "2023-08-02T13:18:27.295Z"
   },
   {
    "duration": 12,
    "start_time": "2023-08-02T13:18:32.242Z"
   },
   {
    "duration": 13,
    "start_time": "2023-08-02T13:19:42.492Z"
   },
   {
    "duration": 14,
    "start_time": "2023-08-02T13:19:54.733Z"
   },
   {
    "duration": 12,
    "start_time": "2023-08-02T13:20:00.943Z"
   },
   {
    "duration": 24,
    "start_time": "2023-08-02T13:20:12.836Z"
   },
   {
    "duration": 36,
    "start_time": "2023-08-02T13:20:32.522Z"
   },
   {
    "duration": 35,
    "start_time": "2023-08-02T13:20:56.216Z"
   },
   {
    "duration": 25,
    "start_time": "2023-08-02T13:21:06.068Z"
   },
   {
    "duration": 32,
    "start_time": "2023-08-02T13:21:45.103Z"
   },
   {
    "duration": 26,
    "start_time": "2023-08-02T13:22:36.293Z"
   },
   {
    "duration": 23,
    "start_time": "2023-08-02T13:22:45.873Z"
   },
   {
    "duration": 11,
    "start_time": "2023-08-02T13:22:52.001Z"
   },
   {
    "duration": 4,
    "start_time": "2023-08-02T13:23:00.441Z"
   },
   {
    "duration": 105,
    "start_time": "2023-08-02T13:23:00.448Z"
   },
   {
    "duration": 600,
    "start_time": "2023-08-02T13:23:00.555Z"
   },
   {
    "duration": 18,
    "start_time": "2023-08-02T13:23:01.166Z"
   },
   {
    "duration": 68,
    "start_time": "2023-08-02T13:23:01.187Z"
   },
   {
    "duration": 61,
    "start_time": "2023-08-02T13:23:01.257Z"
   },
   {
    "duration": 61,
    "start_time": "2023-08-02T13:23:01.320Z"
   },
   {
    "duration": 83,
    "start_time": "2023-08-02T13:23:01.384Z"
   },
   {
    "duration": 80,
    "start_time": "2023-08-02T13:23:01.469Z"
   },
   {
    "duration": 106,
    "start_time": "2023-08-02T13:23:01.551Z"
   },
   {
    "duration": 70,
    "start_time": "2023-08-02T13:23:01.660Z"
   },
   {
    "duration": 77,
    "start_time": "2023-08-02T13:23:01.733Z"
   },
   {
    "duration": 55,
    "start_time": "2023-08-02T13:23:01.812Z"
   },
   {
    "duration": 271,
    "start_time": "2023-08-02T13:23:01.870Z"
   },
   {
    "duration": 26,
    "start_time": "2023-08-02T13:23:05.048Z"
   },
   {
    "duration": 25,
    "start_time": "2023-08-02T13:24:55.726Z"
   },
   {
    "duration": 22,
    "start_time": "2023-08-02T13:26:01.326Z"
   },
   {
    "duration": 24,
    "start_time": "2023-08-02T13:26:11.969Z"
   },
   {
    "duration": 18,
    "start_time": "2023-08-02T13:26:39.280Z"
   },
   {
    "duration": 19,
    "start_time": "2023-08-02T13:27:33.106Z"
   },
   {
    "duration": 19,
    "start_time": "2023-08-02T13:27:45.008Z"
   },
   {
    "duration": 14,
    "start_time": "2023-08-02T13:29:06.548Z"
   },
   {
    "duration": 14,
    "start_time": "2023-08-02T13:29:16.962Z"
   },
   {
    "duration": 35,
    "start_time": "2023-08-02T13:29:25.002Z"
   },
   {
    "duration": 15,
    "start_time": "2023-08-02T13:31:51.029Z"
   },
   {
    "duration": 25,
    "start_time": "2023-08-02T13:33:11.108Z"
   },
   {
    "duration": 3,
    "start_time": "2023-08-02T14:28:10.714Z"
   },
   {
    "duration": 118,
    "start_time": "2023-08-02T14:28:10.720Z"
   },
   {
    "duration": 596,
    "start_time": "2023-08-02T14:28:10.840Z"
   },
   {
    "duration": 16,
    "start_time": "2023-08-02T14:28:11.438Z"
   },
   {
    "duration": 32,
    "start_time": "2023-08-02T14:28:11.456Z"
   },
   {
    "duration": 14,
    "start_time": "2023-08-02T14:28:11.490Z"
   },
   {
    "duration": 13,
    "start_time": "2023-08-02T14:28:11.505Z"
   },
   {
    "duration": 15,
    "start_time": "2023-08-02T14:28:11.520Z"
   },
   {
    "duration": 10,
    "start_time": "2023-08-02T14:28:11.537Z"
   },
   {
    "duration": 17,
    "start_time": "2023-08-02T14:28:11.549Z"
   },
   {
    "duration": 3,
    "start_time": "2023-08-02T14:28:11.568Z"
   },
   {
    "duration": 20,
    "start_time": "2023-08-02T14:28:11.572Z"
   },
   {
    "duration": 5,
    "start_time": "2023-08-02T14:28:11.594Z"
   },
   {
    "duration": 181,
    "start_time": "2023-08-02T14:28:11.601Z"
   },
   {
    "duration": 20,
    "start_time": "2023-08-02T14:28:11.784Z"
   },
   {
    "duration": 178,
    "start_time": "2023-08-02T14:28:11.805Z"
   },
   {
    "duration": 113,
    "start_time": "2023-08-02T14:28:11.985Z"
   },
   {
    "duration": 98,
    "start_time": "2023-08-02T14:28:12.100Z"
   },
   {
    "duration": 0,
    "start_time": "2023-08-02T14:28:12.200Z"
   },
   {
    "duration": 0,
    "start_time": "2023-08-02T14:28:12.202Z"
   },
   {
    "duration": 0,
    "start_time": "2023-08-02T14:28:12.204Z"
   },
   {
    "duration": 0,
    "start_time": "2023-08-02T14:28:12.205Z"
   },
   {
    "duration": 0,
    "start_time": "2023-08-02T14:28:12.207Z"
   },
   {
    "duration": 0,
    "start_time": "2023-08-02T14:28:12.209Z"
   },
   {
    "duration": 0,
    "start_time": "2023-08-02T14:28:12.210Z"
   },
   {
    "duration": 0,
    "start_time": "2023-08-02T14:28:12.212Z"
   },
   {
    "duration": 0,
    "start_time": "2023-08-02T14:28:12.213Z"
   },
   {
    "duration": 0,
    "start_time": "2023-08-02T14:28:12.215Z"
   },
   {
    "duration": 0,
    "start_time": "2023-08-02T14:28:12.216Z"
   },
   {
    "duration": 0,
    "start_time": "2023-08-02T14:28:12.218Z"
   },
   {
    "duration": 86,
    "start_time": "2023-08-02T14:29:10.704Z"
   },
   {
    "duration": 101,
    "start_time": "2023-08-02T14:29:29.101Z"
   },
   {
    "duration": 1127,
    "start_time": "2023-08-02T14:29:48.887Z"
   },
   {
    "duration": 916,
    "start_time": "2023-08-02T14:30:00.343Z"
   },
   {
    "duration": 937,
    "start_time": "2023-08-02T14:30:37.392Z"
   },
   {
    "duration": 4,
    "start_time": "2023-08-02T14:31:21.143Z"
   },
   {
    "duration": 82,
    "start_time": "2023-08-02T14:31:21.149Z"
   },
   {
    "duration": 498,
    "start_time": "2023-08-02T14:31:21.233Z"
   },
   {
    "duration": 17,
    "start_time": "2023-08-02T14:31:21.733Z"
   },
   {
    "duration": 29,
    "start_time": "2023-08-02T14:31:21.751Z"
   },
   {
    "duration": 4,
    "start_time": "2023-08-02T14:31:21.782Z"
   },
   {
    "duration": 25,
    "start_time": "2023-08-02T14:31:21.787Z"
   },
   {
    "duration": 15,
    "start_time": "2023-08-02T14:31:21.813Z"
   },
   {
    "duration": 10,
    "start_time": "2023-08-02T14:31:21.830Z"
   },
   {
    "duration": 17,
    "start_time": "2023-08-02T14:31:21.842Z"
   },
   {
    "duration": 8,
    "start_time": "2023-08-02T14:31:21.861Z"
   },
   {
    "duration": 20,
    "start_time": "2023-08-02T14:31:21.871Z"
   },
   {
    "duration": 6,
    "start_time": "2023-08-02T14:31:21.893Z"
   },
   {
    "duration": 183,
    "start_time": "2023-08-02T14:31:21.901Z"
   },
   {
    "duration": 23,
    "start_time": "2023-08-02T14:31:22.086Z"
   },
   {
    "duration": 2319,
    "start_time": "2023-08-02T14:31:25.263Z"
   },
   {
    "duration": 974,
    "start_time": "2023-08-02T14:31:36.959Z"
   },
   {
    "duration": 13,
    "start_time": "2023-08-02T14:32:01.164Z"
   },
   {
    "duration": 1329,
    "start_time": "2023-08-02T14:32:48.620Z"
   },
   {
    "duration": 1309,
    "start_time": "2023-08-02T14:32:59.192Z"
   },
   {
    "duration": 6,
    "start_time": "2023-08-02T14:33:00.894Z"
   },
   {
    "duration": 5,
    "start_time": "2023-08-02T14:33:20.382Z"
   },
   {
    "duration": 1026,
    "start_time": "2023-08-02T14:33:29.975Z"
   },
   {
    "duration": 4,
    "start_time": "2023-08-02T14:35:32.854Z"
   },
   {
    "duration": 71,
    "start_time": "2023-08-02T14:35:32.862Z"
   },
   {
    "duration": 531,
    "start_time": "2023-08-02T14:35:32.936Z"
   },
   {
    "duration": 16,
    "start_time": "2023-08-02T14:35:33.469Z"
   },
   {
    "duration": 21,
    "start_time": "2023-08-02T14:35:33.487Z"
   },
   {
    "duration": 5,
    "start_time": "2023-08-02T14:35:33.510Z"
   },
   {
    "duration": 11,
    "start_time": "2023-08-02T14:35:33.516Z"
   },
   {
    "duration": 18,
    "start_time": "2023-08-02T14:35:33.528Z"
   },
   {
    "duration": 19,
    "start_time": "2023-08-02T14:35:33.548Z"
   },
   {
    "duration": 14,
    "start_time": "2023-08-02T14:35:33.569Z"
   },
   {
    "duration": 15,
    "start_time": "2023-08-02T14:35:33.586Z"
   },
   {
    "duration": 27,
    "start_time": "2023-08-02T14:35:33.603Z"
   },
   {
    "duration": 6,
    "start_time": "2023-08-02T14:35:33.632Z"
   },
   {
    "duration": 180,
    "start_time": "2023-08-02T14:35:33.639Z"
   },
   {
    "duration": 21,
    "start_time": "2023-08-02T14:35:33.821Z"
   },
   {
    "duration": 836,
    "start_time": "2023-08-02T14:35:33.844Z"
   },
   {
    "duration": 346,
    "start_time": "2023-08-02T14:35:34.683Z"
   },
   {
    "duration": 179,
    "start_time": "2023-08-02T14:35:35.031Z"
   },
   {
    "duration": 1965,
    "start_time": "2023-08-02T14:35:35.212Z"
   },
   {
    "duration": 4,
    "start_time": "2023-08-02T14:35:37.178Z"
   },
   {
    "duration": 25,
    "start_time": "2023-08-02T14:35:37.184Z"
   },
   {
    "duration": 1950,
    "start_time": "2023-08-02T14:35:37.211Z"
   },
   {
    "duration": 118,
    "start_time": "2023-08-02T14:35:39.167Z"
   },
   {
    "duration": 169,
    "start_time": "2023-08-02T14:35:39.286Z"
   },
   {
    "duration": 254,
    "start_time": "2023-08-02T14:35:39.466Z"
   },
   {
    "duration": 170,
    "start_time": "2023-08-02T14:35:39.722Z"
   },
   {
    "duration": 189,
    "start_time": "2023-08-02T14:35:39.894Z"
   },
   {
    "duration": 97,
    "start_time": "2023-08-02T14:35:40.085Z"
   },
   {
    "duration": 158,
    "start_time": "2023-08-02T14:36:51.714Z"
   },
   {
    "duration": 161,
    "start_time": "2023-08-02T14:37:07.903Z"
   },
   {
    "duration": 214,
    "start_time": "2023-08-02T14:37:56.196Z"
   },
   {
    "duration": 5,
    "start_time": "2023-08-02T14:40:20.981Z"
   },
   {
    "duration": 11,
    "start_time": "2023-08-02T14:41:31.605Z"
   },
   {
    "duration": 12,
    "start_time": "2023-08-02T14:41:47.374Z"
   },
   {
    "duration": 5,
    "start_time": "2023-08-02T14:41:57.239Z"
   },
   {
    "duration": 9,
    "start_time": "2023-08-02T14:43:18.429Z"
   },
   {
    "duration": 8,
    "start_time": "2023-08-02T14:43:47.027Z"
   },
   {
    "duration": 11,
    "start_time": "2023-08-02T14:44:04.275Z"
   },
   {
    "duration": 10,
    "start_time": "2023-08-02T14:44:10.998Z"
   },
   {
    "duration": 9,
    "start_time": "2023-08-02T14:44:41.632Z"
   },
   {
    "duration": 9,
    "start_time": "2023-08-02T14:45:40.052Z"
   },
   {
    "duration": 8,
    "start_time": "2023-08-02T14:45:53.220Z"
   },
   {
    "duration": 8,
    "start_time": "2023-08-02T14:46:00.125Z"
   },
   {
    "duration": 11,
    "start_time": "2023-08-02T14:46:10.757Z"
   },
   {
    "duration": 12,
    "start_time": "2023-08-02T14:46:35.289Z"
   },
   {
    "duration": 142,
    "start_time": "2023-08-02T14:47:19.373Z"
   },
   {
    "duration": 142,
    "start_time": "2023-08-02T14:48:38.825Z"
   },
   {
    "duration": 139,
    "start_time": "2023-08-02T14:49:04.691Z"
   },
   {
    "duration": 179,
    "start_time": "2023-08-02T14:49:14.015Z"
   },
   {
    "duration": 153,
    "start_time": "2023-08-02T14:49:19.672Z"
   },
   {
    "duration": 156,
    "start_time": "2023-08-02T14:49:30.025Z"
   },
   {
    "duration": 211,
    "start_time": "2023-08-02T14:49:42.042Z"
   },
   {
    "duration": 13,
    "start_time": "2023-08-02T15:19:26.647Z"
   },
   {
    "duration": 12,
    "start_time": "2023-08-02T15:19:49.417Z"
   },
   {
    "duration": 18,
    "start_time": "2023-08-02T15:20:09.086Z"
   },
   {
    "duration": 9,
    "start_time": "2023-08-02T15:20:18.936Z"
   },
   {
    "duration": 10,
    "start_time": "2023-08-02T15:21:45.350Z"
   },
   {
    "duration": 6,
    "start_time": "2023-08-02T15:22:23.276Z"
   },
   {
    "duration": 9,
    "start_time": "2023-08-02T15:23:25.072Z"
   },
   {
    "duration": 10,
    "start_time": "2023-08-02T15:23:34.327Z"
   },
   {
    "duration": 11,
    "start_time": "2023-08-02T15:24:32.922Z"
   },
   {
    "duration": 13,
    "start_time": "2023-08-02T15:24:46.087Z"
   },
   {
    "duration": 15,
    "start_time": "2023-08-02T15:28:09.961Z"
   },
   {
    "duration": 13,
    "start_time": "2023-08-02T15:29:22.207Z"
   },
   {
    "duration": 15,
    "start_time": "2023-08-02T15:29:44.464Z"
   },
   {
    "duration": 199,
    "start_time": "2023-08-02T15:35:14.509Z"
   },
   {
    "duration": 220,
    "start_time": "2023-08-02T15:35:25.356Z"
   },
   {
    "duration": 304,
    "start_time": "2023-08-02T15:35:49.985Z"
   },
   {
    "duration": 300,
    "start_time": "2023-08-02T15:36:22.486Z"
   },
   {
    "duration": 374,
    "start_time": "2023-08-02T15:37:17.124Z"
   },
   {
    "duration": 270,
    "start_time": "2023-08-02T15:38:42.679Z"
   },
   {
    "duration": 9,
    "start_time": "2023-08-02T15:47:09.195Z"
   },
   {
    "duration": 19,
    "start_time": "2023-08-02T15:50:47.962Z"
   },
   {
    "duration": 4,
    "start_time": "2023-08-02T15:51:01.836Z"
   },
   {
    "duration": 16,
    "start_time": "2023-08-02T15:52:07.116Z"
   },
   {
    "duration": 464,
    "start_time": "2023-08-02T15:52:20.920Z"
   },
   {
    "duration": 4,
    "start_time": "2023-08-02T15:52:22.325Z"
   },
   {
    "duration": 14,
    "start_time": "2023-08-02T15:52:30.388Z"
   },
   {
    "duration": 11,
    "start_time": "2023-08-02T15:55:22.547Z"
   },
   {
    "duration": 12,
    "start_time": "2023-08-02T15:55:27.970Z"
   },
   {
    "duration": 15,
    "start_time": "2023-08-02T15:55:38.209Z"
   },
   {
    "duration": 15,
    "start_time": "2023-08-02T15:56:17.460Z"
   },
   {
    "duration": 42,
    "start_time": "2023-08-02T15:56:31.693Z"
   },
   {
    "duration": 13,
    "start_time": "2023-08-02T15:57:04.572Z"
   },
   {
    "duration": 10,
    "start_time": "2023-08-02T15:57:08.361Z"
   },
   {
    "duration": 15,
    "start_time": "2023-08-02T15:57:19.332Z"
   },
   {
    "duration": 118,
    "start_time": "2023-08-02T15:57:55.394Z"
   },
   {
    "duration": 76,
    "start_time": "2023-08-02T15:58:02.893Z"
   },
   {
    "duration": 1410,
    "start_time": "2023-08-02T15:58:10.531Z"
   },
   {
    "duration": 1452,
    "start_time": "2023-08-02T15:58:21.524Z"
   },
   {
    "duration": 64,
    "start_time": "2023-08-02T15:58:55.601Z"
   },
   {
    "duration": 30,
    "start_time": "2023-08-02T15:59:05.516Z"
   },
   {
    "duration": 9,
    "start_time": "2023-08-02T15:59:10.414Z"
   },
   {
    "duration": 11,
    "start_time": "2023-08-02T15:59:19.116Z"
   },
   {
    "duration": 5,
    "start_time": "2023-08-02T15:59:35.332Z"
   },
   {
    "duration": 6,
    "start_time": "2023-08-02T15:59:41.284Z"
   },
   {
    "duration": 15,
    "start_time": "2023-08-02T16:01:17.279Z"
   },
   {
    "duration": 36,
    "start_time": "2023-08-02T16:01:42.691Z"
   },
   {
    "duration": 20,
    "start_time": "2023-08-02T16:02:12.103Z"
   },
   {
    "duration": 21,
    "start_time": "2023-08-02T16:02:33.721Z"
   },
   {
    "duration": 15,
    "start_time": "2023-08-02T16:03:03.582Z"
   },
   {
    "duration": 6,
    "start_time": "2023-08-02T16:03:47.294Z"
   },
   {
    "duration": 8,
    "start_time": "2023-08-02T16:04:16.832Z"
   },
   {
    "duration": 16,
    "start_time": "2023-08-02T16:04:50.084Z"
   },
   {
    "duration": 3,
    "start_time": "2023-08-02T16:05:23.644Z"
   },
   {
    "duration": 63,
    "start_time": "2023-08-02T16:05:23.710Z"
   },
   {
    "duration": 664,
    "start_time": "2023-08-02T16:05:23.775Z"
   },
   {
    "duration": 16,
    "start_time": "2023-08-02T16:05:24.441Z"
   },
   {
    "duration": 40,
    "start_time": "2023-08-02T16:05:24.458Z"
   },
   {
    "duration": 21,
    "start_time": "2023-08-02T16:05:24.500Z"
   },
   {
    "duration": 28,
    "start_time": "2023-08-02T16:05:24.523Z"
   },
   {
    "duration": 27,
    "start_time": "2023-08-02T16:05:24.553Z"
   },
   {
    "duration": 15,
    "start_time": "2023-08-02T16:05:24.582Z"
   },
   {
    "duration": 29,
    "start_time": "2023-08-02T16:05:24.599Z"
   },
   {
    "duration": 7,
    "start_time": "2023-08-02T16:05:24.630Z"
   },
   {
    "duration": 19,
    "start_time": "2023-08-02T16:05:24.639Z"
   },
   {
    "duration": 6,
    "start_time": "2023-08-02T16:05:24.660Z"
   },
   {
    "duration": 180,
    "start_time": "2023-08-02T16:05:24.668Z"
   },
   {
    "duration": 24,
    "start_time": "2023-08-02T16:05:24.867Z"
   },
   {
    "duration": 51,
    "start_time": "2023-08-02T16:05:24.893Z"
   },
   {
    "duration": 0,
    "start_time": "2023-08-02T16:05:24.946Z"
   },
   {
    "duration": 0,
    "start_time": "2023-08-02T16:05:24.948Z"
   },
   {
    "duration": 0,
    "start_time": "2023-08-02T16:05:24.949Z"
   },
   {
    "duration": 0,
    "start_time": "2023-08-02T16:05:24.950Z"
   },
   {
    "duration": 0,
    "start_time": "2023-08-02T16:05:24.951Z"
   },
   {
    "duration": 0,
    "start_time": "2023-08-02T16:05:24.952Z"
   },
   {
    "duration": 0,
    "start_time": "2023-08-02T16:05:24.953Z"
   },
   {
    "duration": 0,
    "start_time": "2023-08-02T16:05:24.954Z"
   },
   {
    "duration": 0,
    "start_time": "2023-08-02T16:05:24.955Z"
   },
   {
    "duration": 0,
    "start_time": "2023-08-02T16:05:24.956Z"
   },
   {
    "duration": 0,
    "start_time": "2023-08-02T16:05:24.966Z"
   },
   {
    "duration": 0,
    "start_time": "2023-08-02T16:05:24.967Z"
   },
   {
    "duration": 0,
    "start_time": "2023-08-02T16:05:24.969Z"
   },
   {
    "duration": 0,
    "start_time": "2023-08-02T16:05:24.970Z"
   },
   {
    "duration": 0,
    "start_time": "2023-08-02T16:05:24.971Z"
   },
   {
    "duration": 0,
    "start_time": "2023-08-02T16:05:24.972Z"
   },
   {
    "duration": 0,
    "start_time": "2023-08-02T16:05:24.974Z"
   },
   {
    "duration": 51,
    "start_time": "2023-08-02T16:05:28.836Z"
   },
   {
    "duration": 11,
    "start_time": "2023-08-02T16:05:44.708Z"
   },
   {
    "duration": 14,
    "start_time": "2023-08-02T16:12:39.710Z"
   },
   {
    "duration": 1413,
    "start_time": "2023-08-02T18:42:12.341Z"
   },
   {
    "duration": 225,
    "start_time": "2023-08-02T18:42:13.758Z"
   },
   {
    "duration": 654,
    "start_time": "2023-08-02T18:42:13.987Z"
   },
   {
    "duration": 34,
    "start_time": "2023-08-02T18:42:14.643Z"
   },
   {
    "duration": 20,
    "start_time": "2023-08-02T18:42:14.678Z"
   },
   {
    "duration": 5,
    "start_time": "2023-08-02T18:42:14.701Z"
   },
   {
    "duration": 5,
    "start_time": "2023-08-02T18:42:14.708Z"
   },
   {
    "duration": 9,
    "start_time": "2023-08-02T18:42:14.715Z"
   },
   {
    "duration": 4,
    "start_time": "2023-08-02T18:42:14.725Z"
   },
   {
    "duration": 33,
    "start_time": "2023-08-02T18:42:14.763Z"
   },
   {
    "duration": 3,
    "start_time": "2023-08-02T18:42:14.798Z"
   },
   {
    "duration": 16,
    "start_time": "2023-08-02T18:42:14.802Z"
   },
   {
    "duration": 5,
    "start_time": "2023-08-02T18:42:14.819Z"
   },
   {
    "duration": 217,
    "start_time": "2023-08-02T18:42:14.826Z"
   },
   {
    "duration": 38,
    "start_time": "2023-08-02T18:42:15.045Z"
   },
   {
    "duration": 154,
    "start_time": "2023-08-02T18:42:15.085Z"
   },
   {
    "duration": 0,
    "start_time": "2023-08-02T18:42:15.242Z"
   },
   {
    "duration": 0,
    "start_time": "2023-08-02T18:42:15.244Z"
   },
   {
    "duration": 0,
    "start_time": "2023-08-02T18:42:15.245Z"
   },
   {
    "duration": 0,
    "start_time": "2023-08-02T18:42:15.246Z"
   },
   {
    "duration": 0,
    "start_time": "2023-08-02T18:42:15.259Z"
   },
   {
    "duration": 0,
    "start_time": "2023-08-02T18:42:15.261Z"
   },
   {
    "duration": 0,
    "start_time": "2023-08-02T18:42:15.262Z"
   },
   {
    "duration": 0,
    "start_time": "2023-08-02T18:42:15.266Z"
   },
   {
    "duration": 0,
    "start_time": "2023-08-02T18:42:15.268Z"
   },
   {
    "duration": 0,
    "start_time": "2023-08-02T18:42:15.270Z"
   },
   {
    "duration": 0,
    "start_time": "2023-08-02T18:42:15.272Z"
   },
   {
    "duration": 0,
    "start_time": "2023-08-02T18:42:15.273Z"
   },
   {
    "duration": 0,
    "start_time": "2023-08-02T18:42:15.275Z"
   },
   {
    "duration": 0,
    "start_time": "2023-08-02T18:42:15.276Z"
   },
   {
    "duration": 0,
    "start_time": "2023-08-02T18:42:15.278Z"
   },
   {
    "duration": 0,
    "start_time": "2023-08-02T18:42:15.281Z"
   },
   {
    "duration": 0,
    "start_time": "2023-08-02T18:42:15.282Z"
   },
   {
    "duration": 43,
    "start_time": "2023-08-02T18:44:01.547Z"
   },
   {
    "duration": 826,
    "start_time": "2023-08-02T18:48:45.718Z"
   },
   {
    "duration": 4,
    "start_time": "2023-08-02T18:49:00.061Z"
   },
   {
    "duration": 104,
    "start_time": "2023-08-02T18:49:00.068Z"
   },
   {
    "duration": 556,
    "start_time": "2023-08-02T18:49:00.175Z"
   },
   {
    "duration": 26,
    "start_time": "2023-08-02T18:49:00.733Z"
   },
   {
    "duration": 33,
    "start_time": "2023-08-02T18:49:00.762Z"
   },
   {
    "duration": 37,
    "start_time": "2023-08-02T18:49:00.797Z"
   },
   {
    "duration": 42,
    "start_time": "2023-08-02T18:49:00.836Z"
   },
   {
    "duration": 27,
    "start_time": "2023-08-02T18:49:00.881Z"
   },
   {
    "duration": 25,
    "start_time": "2023-08-02T18:49:00.911Z"
   },
   {
    "duration": 45,
    "start_time": "2023-08-02T18:49:00.938Z"
   },
   {
    "duration": 23,
    "start_time": "2023-08-02T18:49:00.985Z"
   },
   {
    "duration": 32,
    "start_time": "2023-08-02T18:49:01.010Z"
   },
   {
    "duration": 57,
    "start_time": "2023-08-02T18:49:01.044Z"
   },
   {
    "duration": 239,
    "start_time": "2023-08-02T18:49:01.102Z"
   },
   {
    "duration": 40,
    "start_time": "2023-08-02T18:49:01.342Z"
   },
   {
    "duration": 858,
    "start_time": "2023-08-02T18:49:01.385Z"
   },
   {
    "duration": 373,
    "start_time": "2023-08-02T18:49:02.245Z"
   },
   {
    "duration": 202,
    "start_time": "2023-08-02T18:49:02.619Z"
   },
   {
    "duration": 2074,
    "start_time": "2023-08-02T18:49:02.823Z"
   },
   {
    "duration": 3,
    "start_time": "2023-08-02T18:49:04.899Z"
   },
   {
    "duration": 21,
    "start_time": "2023-08-02T18:49:04.904Z"
   },
   {
    "duration": 1972,
    "start_time": "2023-08-02T18:49:04.927Z"
   },
   {
    "duration": 116,
    "start_time": "2023-08-02T18:49:06.900Z"
   },
   {
    "duration": 280,
    "start_time": "2023-08-02T18:49:07.020Z"
   },
   {
    "duration": 168,
    "start_time": "2023-08-02T18:49:07.302Z"
   },
   {
    "duration": 175,
    "start_time": "2023-08-02T18:49:07.473Z"
   },
   {
    "duration": 185,
    "start_time": "2023-08-02T18:49:07.650Z"
   },
   {
    "duration": 0,
    "start_time": "2023-08-02T18:49:07.837Z"
   },
   {
    "duration": 0,
    "start_time": "2023-08-02T18:49:07.838Z"
   },
   {
    "duration": 0,
    "start_time": "2023-08-02T18:49:07.840Z"
   },
   {
    "duration": 0,
    "start_time": "2023-08-02T18:49:07.841Z"
   },
   {
    "duration": 0,
    "start_time": "2023-08-02T18:49:07.842Z"
   },
   {
    "duration": 0,
    "start_time": "2023-08-02T18:49:07.843Z"
   },
   {
    "duration": 181,
    "start_time": "2023-08-02T18:50:31.633Z"
   },
   {
    "duration": 533,
    "start_time": "2023-08-02T18:50:50.606Z"
   },
   {
    "duration": 19,
    "start_time": "2023-08-02T18:52:07.137Z"
   },
   {
    "duration": 46,
    "start_time": "2023-08-02T18:52:53.002Z"
   },
   {
    "duration": 23,
    "start_time": "2023-08-02T18:53:08.118Z"
   },
   {
    "duration": 1110,
    "start_time": "2023-08-02T18:53:17.437Z"
   },
   {
    "duration": 1221,
    "start_time": "2023-08-02T18:53:36.906Z"
   },
   {
    "duration": 1227,
    "start_time": "2023-08-02T18:53:59.807Z"
   },
   {
    "duration": 1135,
    "start_time": "2023-08-02T18:54:49.488Z"
   },
   {
    "duration": 1037,
    "start_time": "2023-08-02T18:56:40.794Z"
   },
   {
    "duration": 44,
    "start_time": "2023-08-02T18:56:51.343Z"
   },
   {
    "duration": 51,
    "start_time": "2023-08-02T18:56:56.467Z"
   },
   {
    "duration": 34,
    "start_time": "2023-08-02T18:57:15.526Z"
   },
   {
    "duration": 1057,
    "start_time": "2023-08-02T18:57:27.150Z"
   },
   {
    "duration": 50,
    "start_time": "2023-08-02T18:59:22.242Z"
   },
   {
    "duration": 45,
    "start_time": "2023-08-02T19:01:38.948Z"
   },
   {
    "duration": 1124,
    "start_time": "2023-08-02T19:02:30.042Z"
   },
   {
    "duration": 956,
    "start_time": "2023-08-02T19:04:33.697Z"
   },
   {
    "duration": 873,
    "start_time": "2023-08-02T19:04:42.804Z"
   },
   {
    "duration": 3,
    "start_time": "2023-08-02T19:04:51.970Z"
   },
   {
    "duration": 79,
    "start_time": "2023-08-02T19:04:51.983Z"
   },
   {
    "duration": 477,
    "start_time": "2023-08-02T19:04:52.064Z"
   },
   {
    "duration": 18,
    "start_time": "2023-08-02T19:04:52.543Z"
   },
   {
    "duration": 15,
    "start_time": "2023-08-02T19:04:52.563Z"
   },
   {
    "duration": 3,
    "start_time": "2023-08-02T19:04:52.581Z"
   },
   {
    "duration": 9,
    "start_time": "2023-08-02T19:04:52.586Z"
   },
   {
    "duration": 14,
    "start_time": "2023-08-02T19:04:52.597Z"
   },
   {
    "duration": 8,
    "start_time": "2023-08-02T19:04:52.613Z"
   },
   {
    "duration": 15,
    "start_time": "2023-08-02T19:04:52.623Z"
   },
   {
    "duration": 4,
    "start_time": "2023-08-02T19:04:52.659Z"
   },
   {
    "duration": 18,
    "start_time": "2023-08-02T19:04:52.665Z"
   },
   {
    "duration": 6,
    "start_time": "2023-08-02T19:04:52.685Z"
   },
   {
    "duration": 184,
    "start_time": "2023-08-02T19:04:52.693Z"
   },
   {
    "duration": 20,
    "start_time": "2023-08-02T19:04:52.879Z"
   },
   {
    "duration": 339,
    "start_time": "2023-08-02T19:04:56.737Z"
   },
   {
    "duration": 91,
    "start_time": "2023-08-02T19:05:30.974Z"
   },
   {
    "duration": 383,
    "start_time": "2023-08-02T19:05:34.838Z"
   },
   {
    "duration": 3,
    "start_time": "2023-08-02T19:05:48.589Z"
   },
   {
    "duration": 70,
    "start_time": "2023-08-02T19:05:48.594Z"
   },
   {
    "duration": 574,
    "start_time": "2023-08-02T19:05:48.666Z"
   },
   {
    "duration": 20,
    "start_time": "2023-08-02T19:05:49.242Z"
   },
   {
    "duration": 17,
    "start_time": "2023-08-02T19:05:49.265Z"
   },
   {
    "duration": 3,
    "start_time": "2023-08-02T19:05:49.284Z"
   },
   {
    "duration": 6,
    "start_time": "2023-08-02T19:05:49.289Z"
   },
   {
    "duration": 11,
    "start_time": "2023-08-02T19:05:49.296Z"
   },
   {
    "duration": 4,
    "start_time": "2023-08-02T19:05:49.309Z"
   },
   {
    "duration": 17,
    "start_time": "2023-08-02T19:05:49.314Z"
   },
   {
    "duration": 4,
    "start_time": "2023-08-02T19:05:49.361Z"
   },
   {
    "duration": 18,
    "start_time": "2023-08-02T19:05:49.367Z"
   },
   {
    "duration": 5,
    "start_time": "2023-08-02T19:05:49.387Z"
   },
   {
    "duration": 190,
    "start_time": "2023-08-02T19:05:49.394Z"
   },
   {
    "duration": 20,
    "start_time": "2023-08-02T19:05:49.586Z"
   },
   {
    "duration": 815,
    "start_time": "2023-08-02T19:05:52.334Z"
   },
   {
    "duration": 44,
    "start_time": "2023-08-02T19:06:08.620Z"
   },
   {
    "duration": 950,
    "start_time": "2023-08-02T19:06:12.549Z"
   },
   {
    "duration": 2,
    "start_time": "2023-08-02T19:06:17.781Z"
   },
   {
    "duration": 63,
    "start_time": "2023-08-02T19:06:17.786Z"
   },
   {
    "duration": 500,
    "start_time": "2023-08-02T19:06:17.851Z"
   },
   {
    "duration": 24,
    "start_time": "2023-08-02T19:06:18.353Z"
   },
   {
    "duration": 15,
    "start_time": "2023-08-02T19:06:18.380Z"
   },
   {
    "duration": 3,
    "start_time": "2023-08-02T19:06:18.397Z"
   },
   {
    "duration": 7,
    "start_time": "2023-08-02T19:06:18.401Z"
   },
   {
    "duration": 8,
    "start_time": "2023-08-02T19:06:18.410Z"
   },
   {
    "duration": 4,
    "start_time": "2023-08-02T19:06:18.419Z"
   },
   {
    "duration": 49,
    "start_time": "2023-08-02T19:06:18.424Z"
   },
   {
    "duration": 3,
    "start_time": "2023-08-02T19:06:18.477Z"
   },
   {
    "duration": 13,
    "start_time": "2023-08-02T19:06:18.482Z"
   },
   {
    "duration": 15,
    "start_time": "2023-08-02T19:06:18.497Z"
   },
   {
    "duration": 198,
    "start_time": "2023-08-02T19:06:18.514Z"
   },
   {
    "duration": 20,
    "start_time": "2023-08-02T19:06:18.714Z"
   },
   {
    "duration": 785,
    "start_time": "2023-08-02T19:06:21.741Z"
   },
   {
    "duration": 28,
    "start_time": "2023-08-02T19:06:41.835Z"
   },
   {
    "duration": 21,
    "start_time": "2023-08-02T19:06:51.059Z"
   },
   {
    "duration": 876,
    "start_time": "2023-08-02T19:06:55.620Z"
   },
   {
    "duration": 9,
    "start_time": "2023-08-02T19:07:04.042Z"
   },
   {
    "duration": 95,
    "start_time": "2023-08-02T19:07:04.055Z"
   },
   {
    "duration": 590,
    "start_time": "2023-08-02T19:07:04.152Z"
   },
   {
    "duration": 21,
    "start_time": "2023-08-02T19:07:04.743Z"
   },
   {
    "duration": 29,
    "start_time": "2023-08-02T19:07:04.766Z"
   },
   {
    "duration": 5,
    "start_time": "2023-08-02T19:07:04.798Z"
   },
   {
    "duration": 10,
    "start_time": "2023-08-02T19:07:04.805Z"
   },
   {
    "duration": 21,
    "start_time": "2023-08-02T19:07:04.817Z"
   },
   {
    "duration": 23,
    "start_time": "2023-08-02T19:07:04.840Z"
   },
   {
    "duration": 21,
    "start_time": "2023-08-02T19:07:04.865Z"
   },
   {
    "duration": 11,
    "start_time": "2023-08-02T19:07:04.887Z"
   },
   {
    "duration": 32,
    "start_time": "2023-08-02T19:07:04.900Z"
   },
   {
    "duration": 6,
    "start_time": "2023-08-02T19:07:04.934Z"
   },
   {
    "duration": 177,
    "start_time": "2023-08-02T19:07:04.942Z"
   },
   {
    "duration": 39,
    "start_time": "2023-08-02T19:07:05.121Z"
   },
   {
    "duration": 717,
    "start_time": "2023-08-02T19:07:09.300Z"
   },
   {
    "duration": 33,
    "start_time": "2023-08-02T19:08:17.648Z"
   },
   {
    "duration": 971,
    "start_time": "2023-08-02T19:08:20.066Z"
   },
   {
    "duration": 25,
    "start_time": "2023-08-02T19:08:36.005Z"
   },
   {
    "duration": 891,
    "start_time": "2023-08-02T19:08:39.113Z"
   },
   {
    "duration": 22,
    "start_time": "2023-08-02T19:08:52.906Z"
   },
   {
    "duration": 1020,
    "start_time": "2023-08-02T19:09:00.501Z"
   },
   {
    "duration": 1023,
    "start_time": "2023-08-02T19:09:22.358Z"
   },
   {
    "duration": 988,
    "start_time": "2023-08-02T19:09:31.934Z"
   },
   {
    "duration": 24,
    "start_time": "2023-08-02T19:10:01.035Z"
   },
   {
    "duration": 984,
    "start_time": "2023-08-02T19:10:04.016Z"
   },
   {
    "duration": 30,
    "start_time": "2023-08-02T19:10:27.266Z"
   },
   {
    "duration": 3,
    "start_time": "2023-08-02T19:10:36.217Z"
   },
   {
    "duration": 97,
    "start_time": "2023-08-02T19:10:36.224Z"
   },
   {
    "duration": 489,
    "start_time": "2023-08-02T19:10:36.323Z"
   },
   {
    "duration": 15,
    "start_time": "2023-08-02T19:10:36.813Z"
   },
   {
    "duration": 14,
    "start_time": "2023-08-02T19:10:36.830Z"
   },
   {
    "duration": 5,
    "start_time": "2023-08-02T19:10:36.862Z"
   },
   {
    "duration": 8,
    "start_time": "2023-08-02T19:10:36.870Z"
   },
   {
    "duration": 12,
    "start_time": "2023-08-02T19:10:36.879Z"
   },
   {
    "duration": 6,
    "start_time": "2023-08-02T19:10:36.892Z"
   },
   {
    "duration": 19,
    "start_time": "2023-08-02T19:10:36.900Z"
   },
   {
    "duration": 7,
    "start_time": "2023-08-02T19:10:36.921Z"
   },
   {
    "duration": 34,
    "start_time": "2023-08-02T19:10:36.930Z"
   },
   {
    "duration": 24,
    "start_time": "2023-08-02T19:10:36.967Z"
   },
   {
    "duration": 173,
    "start_time": "2023-08-02T19:10:36.993Z"
   },
   {
    "duration": 23,
    "start_time": "2023-08-02T19:10:37.168Z"
   },
   {
    "duration": 651,
    "start_time": "2023-08-02T19:10:37.193Z"
   },
   {
    "duration": 22,
    "start_time": "2023-08-02T19:11:00.896Z"
   },
   {
    "duration": 925,
    "start_time": "2023-08-02T19:11:03.893Z"
   },
   {
    "duration": 918,
    "start_time": "2023-08-02T19:11:23.650Z"
   },
   {
    "duration": 97,
    "start_time": "2023-08-02T19:11:35.441Z"
   },
   {
    "duration": 859,
    "start_time": "2023-08-02T19:11:45.547Z"
   },
   {
    "duration": 13,
    "start_time": "2023-08-02T19:11:56.613Z"
   },
   {
    "duration": 3,
    "start_time": "2023-08-02T19:12:03.804Z"
   },
   {
    "duration": 70,
    "start_time": "2023-08-02T19:12:03.810Z"
   },
   {
    "duration": 658,
    "start_time": "2023-08-02T19:12:03.883Z"
   },
   {
    "duration": 18,
    "start_time": "2023-08-02T19:12:04.543Z"
   },
   {
    "duration": 31,
    "start_time": "2023-08-02T19:12:04.563Z"
   },
   {
    "duration": 3,
    "start_time": "2023-08-02T19:12:04.596Z"
   },
   {
    "duration": 5,
    "start_time": "2023-08-02T19:12:04.601Z"
   },
   {
    "duration": 19,
    "start_time": "2023-08-02T19:12:04.608Z"
   },
   {
    "duration": 4,
    "start_time": "2023-08-02T19:12:04.629Z"
   },
   {
    "duration": 18,
    "start_time": "2023-08-02T19:12:04.634Z"
   },
   {
    "duration": 3,
    "start_time": "2023-08-02T19:12:04.659Z"
   },
   {
    "duration": 15,
    "start_time": "2023-08-02T19:12:04.664Z"
   },
   {
    "duration": 5,
    "start_time": "2023-08-02T19:12:04.681Z"
   },
   {
    "duration": 183,
    "start_time": "2023-08-02T19:12:04.687Z"
   },
   {
    "duration": 13,
    "start_time": "2023-08-02T19:12:07.502Z"
   },
   {
    "duration": 634,
    "start_time": "2023-08-02T19:12:11.147Z"
   },
   {
    "duration": 23,
    "start_time": "2023-08-02T19:12:27.424Z"
   },
   {
    "duration": 940,
    "start_time": "2023-08-02T19:12:30.429Z"
   },
   {
    "duration": 101,
    "start_time": "2023-08-02T19:12:38.274Z"
   },
   {
    "duration": 3,
    "start_time": "2023-08-02T19:12:49.321Z"
   },
   {
    "duration": 64,
    "start_time": "2023-08-02T19:12:49.325Z"
   },
   {
    "duration": 464,
    "start_time": "2023-08-02T19:12:49.391Z"
   },
   {
    "duration": 15,
    "start_time": "2023-08-02T19:12:49.857Z"
   },
   {
    "duration": 41,
    "start_time": "2023-08-02T19:12:49.874Z"
   },
   {
    "duration": 4,
    "start_time": "2023-08-02T19:12:49.917Z"
   },
   {
    "duration": 11,
    "start_time": "2023-08-02T19:12:49.922Z"
   },
   {
    "duration": 14,
    "start_time": "2023-08-02T19:12:49.934Z"
   },
   {
    "duration": 5,
    "start_time": "2023-08-02T19:12:49.949Z"
   },
   {
    "duration": 36,
    "start_time": "2023-08-02T19:12:49.955Z"
   },
   {
    "duration": 4,
    "start_time": "2023-08-02T19:12:49.994Z"
   },
   {
    "duration": 45,
    "start_time": "2023-08-02T19:12:50.000Z"
   },
   {
    "duration": 6,
    "start_time": "2023-08-02T19:12:50.047Z"
   },
   {
    "duration": 166,
    "start_time": "2023-08-02T19:12:50.054Z"
   },
   {
    "duration": 22,
    "start_time": "2023-08-02T19:12:50.222Z"
   },
   {
    "duration": 108,
    "start_time": "2023-08-02T19:12:50.258Z"
   },
   {
    "duration": 935,
    "start_time": "2023-08-02T19:13:19.503Z"
   },
   {
    "duration": 966,
    "start_time": "2023-08-02T19:15:23.819Z"
   },
   {
    "duration": 3,
    "start_time": "2023-08-02T19:15:33.902Z"
   },
   {
    "duration": 71,
    "start_time": "2023-08-02T19:15:33.908Z"
   },
   {
    "duration": 535,
    "start_time": "2023-08-02T19:15:33.981Z"
   },
   {
    "duration": 15,
    "start_time": "2023-08-02T19:15:34.517Z"
   },
   {
    "duration": 28,
    "start_time": "2023-08-02T19:15:34.533Z"
   },
   {
    "duration": 17,
    "start_time": "2023-08-02T19:15:34.562Z"
   },
   {
    "duration": 25,
    "start_time": "2023-08-02T19:15:34.580Z"
   },
   {
    "duration": 16,
    "start_time": "2023-08-02T19:15:34.607Z"
   },
   {
    "duration": 21,
    "start_time": "2023-08-02T19:15:34.625Z"
   },
   {
    "duration": 29,
    "start_time": "2023-08-02T19:15:34.648Z"
   },
   {
    "duration": 11,
    "start_time": "2023-08-02T19:15:34.680Z"
   },
   {
    "duration": 40,
    "start_time": "2023-08-02T19:15:34.693Z"
   },
   {
    "duration": 8,
    "start_time": "2023-08-02T19:15:34.735Z"
   },
   {
    "duration": 170,
    "start_time": "2023-08-02T19:15:34.744Z"
   },
   {
    "duration": 20,
    "start_time": "2023-08-02T19:15:34.916Z"
   },
   {
    "duration": 370,
    "start_time": "2023-08-02T19:15:34.938Z"
   },
   {
    "duration": 22,
    "start_time": "2023-08-02T19:16:07.119Z"
   },
   {
    "duration": 3,
    "start_time": "2023-08-02T19:16:14.799Z"
   },
   {
    "duration": 64,
    "start_time": "2023-08-02T19:16:14.804Z"
   },
   {
    "duration": 467,
    "start_time": "2023-08-02T19:16:14.870Z"
   },
   {
    "duration": 21,
    "start_time": "2023-08-02T19:16:15.339Z"
   },
   {
    "duration": 17,
    "start_time": "2023-08-02T19:16:15.362Z"
   },
   {
    "duration": 4,
    "start_time": "2023-08-02T19:16:15.380Z"
   },
   {
    "duration": 8,
    "start_time": "2023-08-02T19:16:15.385Z"
   },
   {
    "duration": 10,
    "start_time": "2023-08-02T19:16:15.394Z"
   },
   {
    "duration": 6,
    "start_time": "2023-08-02T19:16:15.405Z"
   },
   {
    "duration": 13,
    "start_time": "2023-08-02T19:16:15.412Z"
   },
   {
    "duration": 3,
    "start_time": "2023-08-02T19:16:15.459Z"
   },
   {
    "duration": 13,
    "start_time": "2023-08-02T19:16:15.464Z"
   },
   {
    "duration": 134,
    "start_time": "2023-08-02T19:16:15.479Z"
   },
   {
    "duration": 158,
    "start_time": "2023-08-02T19:16:15.615Z"
   },
   {
    "duration": 22,
    "start_time": "2023-08-02T19:16:15.775Z"
   },
   {
    "duration": 295,
    "start_time": "2023-08-02T19:16:15.799Z"
   },
   {
    "duration": 286,
    "start_time": "2023-08-02T19:16:31.175Z"
   },
   {
    "duration": 312,
    "start_time": "2023-08-02T19:16:56.154Z"
   },
   {
    "duration": 3,
    "start_time": "2023-08-02T19:17:25.815Z"
   },
   {
    "duration": 94,
    "start_time": "2023-08-02T19:17:25.819Z"
   },
   {
    "duration": 531,
    "start_time": "2023-08-02T19:17:25.915Z"
   },
   {
    "duration": 34,
    "start_time": "2023-08-02T19:17:26.447Z"
   },
   {
    "duration": 16,
    "start_time": "2023-08-02T19:17:26.485Z"
   },
   {
    "duration": 25,
    "start_time": "2023-08-02T19:17:26.502Z"
   },
   {
    "duration": 6,
    "start_time": "2023-08-02T19:17:26.528Z"
   },
   {
    "duration": 34,
    "start_time": "2023-08-02T19:17:26.536Z"
   },
   {
    "duration": 18,
    "start_time": "2023-08-02T19:17:26.573Z"
   },
   {
    "duration": 18,
    "start_time": "2023-08-02T19:17:26.593Z"
   },
   {
    "duration": 19,
    "start_time": "2023-08-02T19:17:26.614Z"
   },
   {
    "duration": 19,
    "start_time": "2023-08-02T19:17:26.634Z"
   },
   {
    "duration": 31,
    "start_time": "2023-08-02T19:17:26.655Z"
   },
   {
    "duration": 223,
    "start_time": "2023-08-02T19:17:26.688Z"
   },
   {
    "duration": 23,
    "start_time": "2023-08-02T19:17:26.913Z"
   },
   {
    "duration": 328,
    "start_time": "2023-08-02T19:17:26.938Z"
   },
   {
    "duration": 340,
    "start_time": "2023-08-02T19:17:27.268Z"
   },
   {
    "duration": 184,
    "start_time": "2023-08-02T19:17:27.610Z"
   },
   {
    "duration": 1900,
    "start_time": "2023-08-02T19:17:27.796Z"
   },
   {
    "duration": 3,
    "start_time": "2023-08-02T19:17:29.698Z"
   },
   {
    "duration": 42,
    "start_time": "2023-08-02T19:17:29.702Z"
   },
   {
    "duration": 2039,
    "start_time": "2023-08-02T19:17:29.745Z"
   },
   {
    "duration": 124,
    "start_time": "2023-08-02T19:17:31.786Z"
   },
   {
    "duration": 192,
    "start_time": "2023-08-02T19:17:31.912Z"
   },
   {
    "duration": 184,
    "start_time": "2023-08-02T19:17:32.106Z"
   },
   {
    "duration": 191,
    "start_time": "2023-08-02T19:17:32.292Z"
   },
   {
    "duration": 452,
    "start_time": "2023-08-02T19:17:32.485Z"
   },
   {
    "duration": 0,
    "start_time": "2023-08-02T19:17:32.938Z"
   },
   {
    "duration": 0,
    "start_time": "2023-08-02T19:17:32.940Z"
   },
   {
    "duration": 0,
    "start_time": "2023-08-02T19:17:32.941Z"
   },
   {
    "duration": 0,
    "start_time": "2023-08-02T19:17:32.943Z"
   },
   {
    "duration": 0,
    "start_time": "2023-08-02T19:17:32.944Z"
   },
   {
    "duration": 0,
    "start_time": "2023-08-02T19:17:32.946Z"
   },
   {
    "duration": 154,
    "start_time": "2023-08-02T19:17:51.498Z"
   },
   {
    "duration": 425,
    "start_time": "2023-08-02T19:18:21.197Z"
   },
   {
    "duration": 411,
    "start_time": "2023-08-02T19:19:04.285Z"
   },
   {
    "duration": 318,
    "start_time": "2023-08-02T19:19:55.657Z"
   },
   {
    "duration": 24,
    "start_time": "2023-08-02T19:23:01.216Z"
   },
   {
    "duration": 3,
    "start_time": "2023-08-02T19:23:11.100Z"
   },
   {
    "duration": 61,
    "start_time": "2023-08-02T19:23:11.104Z"
   },
   {
    "duration": 458,
    "start_time": "2023-08-02T19:23:11.167Z"
   },
   {
    "duration": 15,
    "start_time": "2023-08-02T19:23:11.629Z"
   },
   {
    "duration": 30,
    "start_time": "2023-08-02T19:23:11.646Z"
   },
   {
    "duration": 24,
    "start_time": "2023-08-02T19:23:11.678Z"
   },
   {
    "duration": 21,
    "start_time": "2023-08-02T19:23:11.704Z"
   },
   {
    "duration": 32,
    "start_time": "2023-08-02T19:23:11.728Z"
   },
   {
    "duration": 14,
    "start_time": "2023-08-02T19:23:11.763Z"
   },
   {
    "duration": 19,
    "start_time": "2023-08-02T19:23:11.780Z"
   },
   {
    "duration": 26,
    "start_time": "2023-08-02T19:23:11.801Z"
   },
   {
    "duration": 19,
    "start_time": "2023-08-02T19:23:11.829Z"
   },
   {
    "duration": 9,
    "start_time": "2023-08-02T19:23:11.850Z"
   },
   {
    "duration": 161,
    "start_time": "2023-08-02T19:23:11.861Z"
   },
   {
    "duration": 36,
    "start_time": "2023-08-02T19:23:12.024Z"
   },
   {
    "duration": 25,
    "start_time": "2023-08-02T19:23:39.272Z"
   },
   {
    "duration": 23,
    "start_time": "2023-08-02T19:24:03.127Z"
   },
   {
    "duration": 4,
    "start_time": "2023-08-02T19:24:55.557Z"
   },
   {
    "duration": 314,
    "start_time": "2023-08-02T19:25:03.188Z"
   },
   {
    "duration": 4,
    "start_time": "2023-08-02T19:25:50.701Z"
   },
   {
    "duration": 270,
    "start_time": "2023-08-02T19:25:56.963Z"
   },
   {
    "duration": 296,
    "start_time": "2023-08-02T19:26:39.951Z"
   },
   {
    "duration": 3,
    "start_time": "2023-08-02T19:26:47.014Z"
   },
   {
    "duration": 59,
    "start_time": "2023-08-02T19:26:47.021Z"
   },
   {
    "duration": 443,
    "start_time": "2023-08-02T19:26:47.082Z"
   },
   {
    "duration": 14,
    "start_time": "2023-08-02T19:26:47.527Z"
   },
   {
    "duration": 23,
    "start_time": "2023-08-02T19:26:47.543Z"
   },
   {
    "duration": 3,
    "start_time": "2023-08-02T19:26:47.568Z"
   },
   {
    "duration": 6,
    "start_time": "2023-08-02T19:26:47.572Z"
   },
   {
    "duration": 9,
    "start_time": "2023-08-02T19:26:47.580Z"
   },
   {
    "duration": 9,
    "start_time": "2023-08-02T19:26:47.591Z"
   },
   {
    "duration": 16,
    "start_time": "2023-08-02T19:26:47.601Z"
   },
   {
    "duration": 3,
    "start_time": "2023-08-02T19:26:47.619Z"
   },
   {
    "duration": 44,
    "start_time": "2023-08-02T19:26:47.623Z"
   },
   {
    "duration": 5,
    "start_time": "2023-08-02T19:26:47.668Z"
   },
   {
    "duration": 161,
    "start_time": "2023-08-02T19:26:47.675Z"
   },
   {
    "duration": 39,
    "start_time": "2023-08-02T19:26:47.838Z"
   },
   {
    "duration": 634,
    "start_time": "2023-08-02T19:26:47.878Z"
   },
   {
    "duration": 832,
    "start_time": "2023-08-02T19:26:59.475Z"
   },
   {
    "duration": 4,
    "start_time": "2023-08-02T19:27:04.041Z"
   },
   {
    "duration": 76,
    "start_time": "2023-08-02T19:27:04.047Z"
   },
   {
    "duration": 489,
    "start_time": "2023-08-02T19:27:04.125Z"
   },
   {
    "duration": 16,
    "start_time": "2023-08-02T19:27:04.616Z"
   },
   {
    "duration": 29,
    "start_time": "2023-08-02T19:27:04.634Z"
   },
   {
    "duration": 3,
    "start_time": "2023-08-02T19:27:04.666Z"
   },
   {
    "duration": 14,
    "start_time": "2023-08-02T19:27:04.671Z"
   },
   {
    "duration": 15,
    "start_time": "2023-08-02T19:27:04.687Z"
   },
   {
    "duration": 4,
    "start_time": "2023-08-02T19:27:04.704Z"
   },
   {
    "duration": 17,
    "start_time": "2023-08-02T19:27:04.709Z"
   },
   {
    "duration": 9,
    "start_time": "2023-08-02T19:27:04.728Z"
   },
   {
    "duration": 29,
    "start_time": "2023-08-02T19:27:04.738Z"
   },
   {
    "duration": 6,
    "start_time": "2023-08-02T19:27:04.769Z"
   },
   {
    "duration": 183,
    "start_time": "2023-08-02T19:27:04.776Z"
   },
   {
    "duration": 21,
    "start_time": "2023-08-02T19:27:04.961Z"
   },
   {
    "duration": 283,
    "start_time": "2023-08-02T19:27:04.984Z"
   },
   {
    "duration": 360,
    "start_time": "2023-08-02T19:27:55.461Z"
   },
   {
    "duration": 29,
    "start_time": "2023-08-02T19:29:20.277Z"
   },
   {
    "duration": 24,
    "start_time": "2023-08-02T19:29:36.425Z"
   },
   {
    "duration": 316,
    "start_time": "2023-08-02T19:29:55.649Z"
   },
   {
    "duration": 320,
    "start_time": "2023-08-02T19:30:07.912Z"
   },
   {
    "duration": 320,
    "start_time": "2023-08-02T19:30:28.992Z"
   },
   {
    "duration": 265,
    "start_time": "2023-08-02T19:30:48.950Z"
   },
   {
    "duration": 268,
    "start_time": "2023-08-02T19:31:02.777Z"
   },
   {
    "duration": 247,
    "start_time": "2023-08-02T19:33:02.685Z"
   },
   {
    "duration": 3,
    "start_time": "2023-08-02T19:33:13.786Z"
   },
   {
    "duration": 61,
    "start_time": "2023-08-02T19:33:13.791Z"
   },
   {
    "duration": 661,
    "start_time": "2023-08-02T19:33:13.854Z"
   },
   {
    "duration": 15,
    "start_time": "2023-08-02T19:33:14.516Z"
   },
   {
    "duration": 27,
    "start_time": "2023-08-02T19:33:14.532Z"
   },
   {
    "duration": 4,
    "start_time": "2023-08-02T19:33:14.560Z"
   },
   {
    "duration": 12,
    "start_time": "2023-08-02T19:33:14.566Z"
   },
   {
    "duration": 28,
    "start_time": "2023-08-02T19:33:14.580Z"
   },
   {
    "duration": 7,
    "start_time": "2023-08-02T19:33:14.611Z"
   },
   {
    "duration": 24,
    "start_time": "2023-08-02T19:33:14.620Z"
   },
   {
    "duration": 3,
    "start_time": "2023-08-02T19:33:14.646Z"
   },
   {
    "duration": 21,
    "start_time": "2023-08-02T19:33:14.650Z"
   },
   {
    "duration": 7,
    "start_time": "2023-08-02T19:33:14.673Z"
   },
   {
    "duration": 166,
    "start_time": "2023-08-02T19:33:14.681Z"
   },
   {
    "duration": 23,
    "start_time": "2023-08-02T19:33:14.859Z"
   },
   {
    "duration": 279,
    "start_time": "2023-08-02T19:33:14.884Z"
   },
   {
    "duration": 276,
    "start_time": "2023-08-02T19:33:43.685Z"
   },
   {
    "duration": 257,
    "start_time": "2023-08-02T19:33:47.740Z"
   },
   {
    "duration": 4,
    "start_time": "2023-08-02T19:33:53.359Z"
   },
   {
    "duration": 62,
    "start_time": "2023-08-02T19:33:53.364Z"
   },
   {
    "duration": 443,
    "start_time": "2023-08-02T19:33:53.429Z"
   },
   {
    "duration": 13,
    "start_time": "2023-08-02T19:33:53.874Z"
   },
   {
    "duration": 17,
    "start_time": "2023-08-02T19:33:53.889Z"
   },
   {
    "duration": 4,
    "start_time": "2023-08-02T19:33:53.908Z"
   },
   {
    "duration": 7,
    "start_time": "2023-08-02T19:33:53.913Z"
   },
   {
    "duration": 11,
    "start_time": "2023-08-02T19:33:53.921Z"
   },
   {
    "duration": 28,
    "start_time": "2023-08-02T19:33:53.934Z"
   },
   {
    "duration": 13,
    "start_time": "2023-08-02T19:33:53.963Z"
   },
   {
    "duration": 3,
    "start_time": "2023-08-02T19:33:53.979Z"
   },
   {
    "duration": 17,
    "start_time": "2023-08-02T19:33:53.983Z"
   },
   {
    "duration": 6,
    "start_time": "2023-08-02T19:33:54.002Z"
   },
   {
    "duration": 211,
    "start_time": "2023-08-02T19:33:54.010Z"
   },
   {
    "duration": 50,
    "start_time": "2023-08-02T19:33:54.224Z"
   },
   {
    "duration": 302,
    "start_time": "2023-08-02T19:33:54.276Z"
   },
   {
    "duration": 276,
    "start_time": "2023-08-02T19:34:29.521Z"
   },
   {
    "duration": 4,
    "start_time": "2023-08-02T19:34:38.057Z"
   },
   {
    "duration": 70,
    "start_time": "2023-08-02T19:34:38.063Z"
   },
   {
    "duration": 478,
    "start_time": "2023-08-02T19:34:38.135Z"
   },
   {
    "duration": 16,
    "start_time": "2023-08-02T19:34:38.615Z"
   },
   {
    "duration": 27,
    "start_time": "2023-08-02T19:34:38.633Z"
   },
   {
    "duration": 4,
    "start_time": "2023-08-02T19:34:38.661Z"
   },
   {
    "duration": 7,
    "start_time": "2023-08-02T19:34:38.667Z"
   },
   {
    "duration": 9,
    "start_time": "2023-08-02T19:34:38.675Z"
   },
   {
    "duration": 4,
    "start_time": "2023-08-02T19:34:38.686Z"
   },
   {
    "duration": 12,
    "start_time": "2023-08-02T19:34:38.692Z"
   },
   {
    "duration": 5,
    "start_time": "2023-08-02T19:34:38.706Z"
   },
   {
    "duration": 54,
    "start_time": "2023-08-02T19:34:38.713Z"
   },
   {
    "duration": 6,
    "start_time": "2023-08-02T19:34:38.769Z"
   },
   {
    "duration": 203,
    "start_time": "2023-08-02T19:34:38.777Z"
   },
   {
    "duration": 33,
    "start_time": "2023-08-02T19:34:38.982Z"
   },
   {
    "duration": 314,
    "start_time": "2023-08-02T19:34:39.017Z"
   },
   {
    "duration": 290,
    "start_time": "2023-08-02T19:34:45.127Z"
   },
   {
    "duration": 4,
    "start_time": "2023-08-02T19:34:56.080Z"
   },
   {
    "duration": 81,
    "start_time": "2023-08-02T19:34:56.085Z"
   },
   {
    "duration": 488,
    "start_time": "2023-08-02T19:34:56.168Z"
   },
   {
    "duration": 17,
    "start_time": "2023-08-02T19:34:56.658Z"
   },
   {
    "duration": 16,
    "start_time": "2023-08-02T19:34:56.677Z"
   },
   {
    "duration": 3,
    "start_time": "2023-08-02T19:34:56.695Z"
   },
   {
    "duration": 8,
    "start_time": "2023-08-02T19:34:56.700Z"
   },
   {
    "duration": 8,
    "start_time": "2023-08-02T19:34:56.709Z"
   },
   {
    "duration": 4,
    "start_time": "2023-08-02T19:34:56.720Z"
   },
   {
    "duration": 45,
    "start_time": "2023-08-02T19:34:56.725Z"
   },
   {
    "duration": 4,
    "start_time": "2023-08-02T19:34:56.772Z"
   },
   {
    "duration": 15,
    "start_time": "2023-08-02T19:34:56.777Z"
   },
   {
    "duration": 7,
    "start_time": "2023-08-02T19:34:56.794Z"
   },
   {
    "duration": 201,
    "start_time": "2023-08-02T19:34:56.803Z"
   },
   {
    "duration": 23,
    "start_time": "2023-08-02T19:34:57.006Z"
   },
   {
    "duration": 290,
    "start_time": "2023-08-02T19:34:57.031Z"
   },
   {
    "duration": 32,
    "start_time": "2023-08-02T19:36:04.551Z"
   },
   {
    "duration": 24,
    "start_time": "2023-08-02T19:36:20.163Z"
   },
   {
    "duration": 4,
    "start_time": "2023-08-02T19:36:24.198Z"
   },
   {
    "duration": 90,
    "start_time": "2023-08-02T19:36:24.204Z"
   },
   {
    "duration": 587,
    "start_time": "2023-08-02T19:36:24.296Z"
   },
   {
    "duration": 15,
    "start_time": "2023-08-02T19:36:24.885Z"
   },
   {
    "duration": 51,
    "start_time": "2023-08-02T19:36:24.901Z"
   },
   {
    "duration": 3,
    "start_time": "2023-08-02T19:36:24.954Z"
   },
   {
    "duration": 16,
    "start_time": "2023-08-02T19:36:24.959Z"
   },
   {
    "duration": 36,
    "start_time": "2023-08-02T19:36:24.976Z"
   },
   {
    "duration": 22,
    "start_time": "2023-08-02T19:36:25.015Z"
   },
   {
    "duration": 17,
    "start_time": "2023-08-02T19:36:25.039Z"
   },
   {
    "duration": 4,
    "start_time": "2023-08-02T19:36:25.058Z"
   },
   {
    "duration": 19,
    "start_time": "2023-08-02T19:36:25.065Z"
   },
   {
    "duration": 6,
    "start_time": "2023-08-02T19:36:25.086Z"
   },
   {
    "duration": 185,
    "start_time": "2023-08-02T19:36:25.093Z"
   },
   {
    "duration": 30,
    "start_time": "2023-08-02T19:36:28.241Z"
   },
   {
    "duration": 343,
    "start_time": "2023-08-02T19:36:31.996Z"
   },
   {
    "duration": 23,
    "start_time": "2023-08-02T19:39:01.697Z"
   },
   {
    "duration": 272,
    "start_time": "2023-08-02T19:39:05.394Z"
   },
   {
    "duration": 282,
    "start_time": "2023-08-02T19:39:49.696Z"
   },
   {
    "duration": 280,
    "start_time": "2023-08-02T19:41:07.018Z"
   },
   {
    "duration": 241,
    "start_time": "2023-08-02T19:41:31.753Z"
   },
   {
    "duration": 230,
    "start_time": "2023-08-02T19:41:51.458Z"
   },
   {
    "duration": 246,
    "start_time": "2023-08-02T19:42:00.589Z"
   },
   {
    "duration": 4,
    "start_time": "2023-08-02T19:42:04.302Z"
   },
   {
    "duration": 72,
    "start_time": "2023-08-02T19:42:04.308Z"
   },
   {
    "duration": 470,
    "start_time": "2023-08-02T19:42:04.382Z"
   },
   {
    "duration": 25,
    "start_time": "2023-08-02T19:42:04.859Z"
   },
   {
    "duration": 20,
    "start_time": "2023-08-02T19:42:04.887Z"
   },
   {
    "duration": 4,
    "start_time": "2023-08-02T19:42:04.909Z"
   },
   {
    "duration": 6,
    "start_time": "2023-08-02T19:42:04.915Z"
   },
   {
    "duration": 8,
    "start_time": "2023-08-02T19:42:04.923Z"
   },
   {
    "duration": 22,
    "start_time": "2023-08-02T19:42:04.959Z"
   },
   {
    "duration": 14,
    "start_time": "2023-08-02T19:42:04.983Z"
   },
   {
    "duration": 3,
    "start_time": "2023-08-02T19:42:04.999Z"
   },
   {
    "duration": 18,
    "start_time": "2023-08-02T19:42:05.005Z"
   },
   {
    "duration": 6,
    "start_time": "2023-08-02T19:42:05.026Z"
   },
   {
    "duration": 183,
    "start_time": "2023-08-02T19:42:05.034Z"
   },
   {
    "duration": 20,
    "start_time": "2023-08-02T19:42:05.219Z"
   },
   {
    "duration": 674,
    "start_time": "2023-08-02T19:42:05.260Z"
   },
   {
    "duration": 325,
    "start_time": "2023-08-02T19:42:05.936Z"
   },
   {
    "duration": 165,
    "start_time": "2023-08-02T19:42:06.262Z"
   },
   {
    "duration": 1938,
    "start_time": "2023-08-02T19:42:06.429Z"
   },
   {
    "duration": 4,
    "start_time": "2023-08-02T19:42:08.369Z"
   },
   {
    "duration": 24,
    "start_time": "2023-08-02T19:42:08.374Z"
   },
   {
    "duration": 1961,
    "start_time": "2023-08-02T19:42:08.400Z"
   },
   {
    "duration": 149,
    "start_time": "2023-08-02T19:42:10.364Z"
   },
   {
    "duration": 180,
    "start_time": "2023-08-02T19:42:10.515Z"
   },
   {
    "duration": 185,
    "start_time": "2023-08-02T19:42:10.697Z"
   },
   {
    "duration": 176,
    "start_time": "2023-08-02T19:42:10.884Z"
   },
   {
    "duration": 157,
    "start_time": "2023-08-02T19:42:11.062Z"
   },
   {
    "duration": 314,
    "start_time": "2023-08-02T19:42:11.221Z"
   },
   {
    "duration": 302,
    "start_time": "2023-08-02T19:42:11.537Z"
   },
   {
    "duration": 308,
    "start_time": "2023-08-02T19:42:11.841Z"
   },
   {
    "duration": 274,
    "start_time": "2023-08-02T19:42:12.159Z"
   },
   {
    "duration": 11,
    "start_time": "2023-08-02T19:42:12.435Z"
   },
   {
    "duration": 16,
    "start_time": "2023-08-02T19:42:12.465Z"
   },
   {
    "duration": 22,
    "start_time": "2023-08-02T19:43:25.825Z"
   },
   {
    "duration": 199,
    "start_time": "2023-08-02T19:43:28.805Z"
   },
   {
    "duration": 5,
    "start_time": "2023-08-02T19:43:34.165Z"
   },
   {
    "duration": 99,
    "start_time": "2023-08-02T19:43:34.172Z"
   },
   {
    "duration": 678,
    "start_time": "2023-08-02T19:43:34.273Z"
   },
   {
    "duration": 24,
    "start_time": "2023-08-02T19:43:34.958Z"
   },
   {
    "duration": 20,
    "start_time": "2023-08-02T19:43:34.985Z"
   },
   {
    "duration": 4,
    "start_time": "2023-08-02T19:43:35.007Z"
   },
   {
    "duration": 10,
    "start_time": "2023-08-02T19:43:35.013Z"
   },
   {
    "duration": 36,
    "start_time": "2023-08-02T19:43:35.024Z"
   },
   {
    "duration": 6,
    "start_time": "2023-08-02T19:43:35.062Z"
   },
   {
    "duration": 24,
    "start_time": "2023-08-02T19:43:35.069Z"
   },
   {
    "duration": 3,
    "start_time": "2023-08-02T19:43:35.095Z"
   },
   {
    "duration": 17,
    "start_time": "2023-08-02T19:43:35.100Z"
   },
   {
    "duration": 5,
    "start_time": "2023-08-02T19:43:35.120Z"
   },
   {
    "duration": 239,
    "start_time": "2023-08-02T19:43:35.127Z"
   },
   {
    "duration": 24,
    "start_time": "2023-08-02T19:43:35.369Z"
   },
   {
    "duration": 767,
    "start_time": "2023-08-02T19:43:35.395Z"
   },
   {
    "duration": 317,
    "start_time": "2023-08-02T19:43:36.164Z"
   },
   {
    "duration": 168,
    "start_time": "2023-08-02T19:43:36.483Z"
   },
   {
    "duration": 1855,
    "start_time": "2023-08-02T19:43:36.653Z"
   },
   {
    "duration": 3,
    "start_time": "2023-08-02T19:43:38.510Z"
   },
   {
    "duration": 24,
    "start_time": "2023-08-02T19:43:38.515Z"
   },
   {
    "duration": 1847,
    "start_time": "2023-08-02T19:43:38.540Z"
   },
   {
    "duration": 121,
    "start_time": "2023-08-02T19:43:40.389Z"
   },
   {
    "duration": 168,
    "start_time": "2023-08-02T19:43:40.512Z"
   },
   {
    "duration": 162,
    "start_time": "2023-08-02T19:43:40.682Z"
   },
   {
    "duration": 157,
    "start_time": "2023-08-02T19:43:40.846Z"
   },
   {
    "duration": 169,
    "start_time": "2023-08-02T19:43:41.005Z"
   },
   {
    "duration": 145,
    "start_time": "2023-08-02T19:43:41.176Z"
   },
   {
    "duration": 302,
    "start_time": "2023-08-02T19:43:41.322Z"
   },
   {
    "duration": 382,
    "start_time": "2023-08-02T19:43:41.626Z"
   },
   {
    "duration": 375,
    "start_time": "2023-08-02T19:43:42.010Z"
   },
   {
    "duration": 11,
    "start_time": "2023-08-02T19:43:42.387Z"
   },
   {
    "duration": 33,
    "start_time": "2023-08-02T19:43:42.399Z"
   },
   {
    "duration": 1848,
    "start_time": "2023-08-02T19:49:53.917Z"
   },
   {
    "duration": 2400,
    "start_time": "2023-08-02T19:51:54.426Z"
   },
   {
    "duration": 94,
    "start_time": "2023-08-02T19:54:13.116Z"
   },
   {
    "duration": 1898,
    "start_time": "2023-08-02T19:54:17.684Z"
   },
   {
    "duration": 1363,
    "start_time": "2023-08-02T19:54:36.948Z"
   },
   {
    "duration": 2034,
    "start_time": "2023-08-02T19:54:54.171Z"
   },
   {
    "duration": 1341,
    "start_time": "2023-08-02T19:57:52.991Z"
   },
   {
    "duration": 1416,
    "start_time": "2023-08-02T19:57:57.005Z"
   },
   {
    "duration": 1745,
    "start_time": "2023-08-02T19:58:17.889Z"
   },
   {
    "duration": 1728,
    "start_time": "2023-08-02T19:58:46.209Z"
   },
   {
    "duration": 50,
    "start_time": "2023-08-03T07:18:40.243Z"
   },
   {
    "duration": 1326,
    "start_time": "2023-08-03T07:18:44.821Z"
   },
   {
    "duration": 194,
    "start_time": "2023-08-03T07:18:46.149Z"
   },
   {
    "duration": 487,
    "start_time": "2023-08-03T07:18:46.346Z"
   },
   {
    "duration": 31,
    "start_time": "2023-08-03T07:18:46.835Z"
   },
   {
    "duration": 14,
    "start_time": "2023-08-03T07:18:46.867Z"
   },
   {
    "duration": 4,
    "start_time": "2023-08-03T07:18:46.884Z"
   },
   {
    "duration": 13,
    "start_time": "2023-08-03T07:18:46.889Z"
   },
   {
    "duration": 9,
    "start_time": "2023-08-03T07:18:46.904Z"
   },
   {
    "duration": 4,
    "start_time": "2023-08-03T07:18:46.915Z"
   },
   {
    "duration": 41,
    "start_time": "2023-08-03T07:18:46.923Z"
   },
   {
    "duration": 3,
    "start_time": "2023-08-03T07:18:46.966Z"
   },
   {
    "duration": 14,
    "start_time": "2023-08-03T07:18:46.971Z"
   },
   {
    "duration": 5,
    "start_time": "2023-08-03T07:18:46.986Z"
   },
   {
    "duration": 207,
    "start_time": "2023-08-03T07:18:46.993Z"
   },
   {
    "duration": 23,
    "start_time": "2023-08-03T07:18:47.201Z"
   },
   {
    "duration": 710,
    "start_time": "2023-08-03T07:18:47.226Z"
   },
   {
    "duration": 307,
    "start_time": "2023-08-03T07:18:47.938Z"
   },
   {
    "duration": 166,
    "start_time": "2023-08-03T07:18:48.247Z"
   },
   {
    "duration": 1933,
    "start_time": "2023-08-03T07:18:50.921Z"
   },
   {
    "duration": 1963,
    "start_time": "2023-08-03T07:19:33.341Z"
   },
   {
    "duration": 1998,
    "start_time": "2023-08-03T07:20:14.890Z"
   },
   {
    "duration": 1919,
    "start_time": "2023-08-03T07:21:11.650Z"
   },
   {
    "duration": 1987,
    "start_time": "2023-08-03T07:22:05.553Z"
   },
   {
    "duration": 2043,
    "start_time": "2023-08-03T07:22:30.016Z"
   },
   {
    "duration": 1982,
    "start_time": "2023-08-03T07:22:47.545Z"
   },
   {
    "duration": 1846,
    "start_time": "2023-08-03T07:24:01.218Z"
   },
   {
    "duration": 71,
    "start_time": "2023-08-03T07:25:01.604Z"
   },
   {
    "duration": 16,
    "start_time": "2023-08-03T07:25:13.301Z"
   },
   {
    "duration": 1910,
    "start_time": "2023-08-03T07:26:20.913Z"
   },
   {
    "duration": 1866,
    "start_time": "2023-08-03T07:26:54.708Z"
   },
   {
    "duration": 1871,
    "start_time": "2023-08-03T07:29:02.171Z"
   },
   {
    "duration": 2041,
    "start_time": "2023-08-03T07:29:29.294Z"
   },
   {
    "duration": 1850,
    "start_time": "2023-08-03T07:29:50.604Z"
   },
   {
    "duration": 1914,
    "start_time": "2023-08-03T07:30:53.314Z"
   },
   {
    "duration": 12,
    "start_time": "2023-08-03T07:37:23.590Z"
   },
   {
    "duration": 15,
    "start_time": "2023-08-03T07:37:53.010Z"
   },
   {
    "duration": 1769,
    "start_time": "2023-08-03T07:39:42.268Z"
   },
   {
    "duration": 4,
    "start_time": "2023-08-03T07:40:01.010Z"
   },
   {
    "duration": 4,
    "start_time": "2023-08-03T07:40:10.591Z"
   },
   {
    "duration": 1913,
    "start_time": "2023-08-03T07:41:31.757Z"
   },
   {
    "duration": 3,
    "start_time": "2023-08-03T07:41:36.156Z"
   },
   {
    "duration": 24,
    "start_time": "2023-08-03T07:46:21.371Z"
   },
   {
    "duration": 1915,
    "start_time": "2023-08-03T08:07:52.615Z"
   },
   {
    "duration": 2709,
    "start_time": "2023-08-03T08:08:15.397Z"
   },
   {
    "duration": 311,
    "start_time": "2023-08-03T08:10:13.668Z"
   },
   {
    "duration": 1794,
    "start_time": "2023-08-03T08:11:07.119Z"
   },
   {
    "duration": 4,
    "start_time": "2023-08-03T09:26:05.330Z"
   },
   {
    "duration": 71,
    "start_time": "2023-08-03T09:26:05.342Z"
   },
   {
    "duration": 480,
    "start_time": "2023-08-03T09:26:05.415Z"
   },
   {
    "duration": 17,
    "start_time": "2023-08-03T09:26:05.897Z"
   },
   {
    "duration": 43,
    "start_time": "2023-08-03T09:26:05.916Z"
   },
   {
    "duration": 5,
    "start_time": "2023-08-03T09:26:05.963Z"
   },
   {
    "duration": 40,
    "start_time": "2023-08-03T09:26:05.970Z"
   },
   {
    "duration": 24,
    "start_time": "2023-08-03T09:26:06.012Z"
   },
   {
    "duration": 34,
    "start_time": "2023-08-03T09:26:06.038Z"
   },
   {
    "duration": 23,
    "start_time": "2023-08-03T09:26:06.074Z"
   },
   {
    "duration": 10,
    "start_time": "2023-08-03T09:26:06.100Z"
   },
   {
    "duration": 49,
    "start_time": "2023-08-03T09:26:06.113Z"
   },
   {
    "duration": 10,
    "start_time": "2023-08-03T09:26:06.164Z"
   },
   {
    "duration": 168,
    "start_time": "2023-08-03T09:26:06.176Z"
   },
   {
    "duration": 32,
    "start_time": "2023-08-03T09:26:06.346Z"
   },
   {
    "duration": 735,
    "start_time": "2023-08-03T09:26:06.380Z"
   },
   {
    "duration": 295,
    "start_time": "2023-08-03T09:26:07.117Z"
   },
   {
    "duration": 250,
    "start_time": "2023-08-03T09:26:07.413Z"
   },
   {
    "duration": 1726,
    "start_time": "2023-08-03T09:26:07.665Z"
   },
   {
    "duration": 9,
    "start_time": "2023-08-03T09:26:09.393Z"
   },
   {
    "duration": 0,
    "start_time": "2023-08-03T09:26:09.404Z"
   },
   {
    "duration": 0,
    "start_time": "2023-08-03T09:26:09.405Z"
   },
   {
    "duration": 0,
    "start_time": "2023-08-03T09:26:09.407Z"
   },
   {
    "duration": 0,
    "start_time": "2023-08-03T09:26:09.408Z"
   },
   {
    "duration": 0,
    "start_time": "2023-08-03T09:26:09.409Z"
   },
   {
    "duration": 0,
    "start_time": "2023-08-03T09:26:09.410Z"
   },
   {
    "duration": 0,
    "start_time": "2023-08-03T09:26:09.411Z"
   },
   {
    "duration": 0,
    "start_time": "2023-08-03T09:26:09.412Z"
   },
   {
    "duration": 0,
    "start_time": "2023-08-03T09:26:09.413Z"
   },
   {
    "duration": 0,
    "start_time": "2023-08-03T09:26:09.414Z"
   },
   {
    "duration": 0,
    "start_time": "2023-08-03T09:26:09.415Z"
   },
   {
    "duration": 0,
    "start_time": "2023-08-03T09:26:09.417Z"
   },
   {
    "duration": 0,
    "start_time": "2023-08-03T09:26:09.418Z"
   },
   {
    "duration": 1880,
    "start_time": "2023-08-03T09:27:35.141Z"
   },
   {
    "duration": 1780,
    "start_time": "2023-08-03T09:27:50.093Z"
   },
   {
    "duration": 1778,
    "start_time": "2023-08-03T09:28:16.518Z"
   },
   {
    "duration": 1818,
    "start_time": "2023-08-03T09:29:20.912Z"
   },
   {
    "duration": 1908,
    "start_time": "2023-08-03T09:30:27.365Z"
   },
   {
    "duration": 4,
    "start_time": "2023-08-03T09:30:32.197Z"
   },
   {
    "duration": 4,
    "start_time": "2023-08-03T09:30:39.342Z"
   },
   {
    "duration": 64,
    "start_time": "2023-08-03T09:30:39.348Z"
   },
   {
    "duration": 463,
    "start_time": "2023-08-03T09:30:39.414Z"
   },
   {
    "duration": 14,
    "start_time": "2023-08-03T09:30:39.879Z"
   },
   {
    "duration": 27,
    "start_time": "2023-08-03T09:30:39.895Z"
   },
   {
    "duration": 5,
    "start_time": "2023-08-03T09:30:39.924Z"
   },
   {
    "duration": 11,
    "start_time": "2023-08-03T09:30:39.931Z"
   },
   {
    "duration": 19,
    "start_time": "2023-08-03T09:30:39.943Z"
   },
   {
    "duration": 24,
    "start_time": "2023-08-03T09:30:39.964Z"
   },
   {
    "duration": 16,
    "start_time": "2023-08-03T09:30:39.990Z"
   },
   {
    "duration": 21,
    "start_time": "2023-08-03T09:30:40.008Z"
   },
   {
    "duration": 45,
    "start_time": "2023-08-03T09:30:40.031Z"
   },
   {
    "duration": 19,
    "start_time": "2023-08-03T09:30:40.080Z"
   },
   {
    "duration": 191,
    "start_time": "2023-08-03T09:30:40.102Z"
   },
   {
    "duration": 22,
    "start_time": "2023-08-03T09:30:40.294Z"
   },
   {
    "duration": 741,
    "start_time": "2023-08-03T09:30:40.318Z"
   },
   {
    "duration": 301,
    "start_time": "2023-08-03T09:30:41.061Z"
   },
   {
    "duration": 263,
    "start_time": "2023-08-03T09:30:41.364Z"
   },
   {
    "duration": 1772,
    "start_time": "2023-08-03T09:30:41.630Z"
   },
   {
    "duration": 4,
    "start_time": "2023-08-03T09:30:43.404Z"
   },
   {
    "duration": 33,
    "start_time": "2023-08-03T09:30:43.409Z"
   },
   {
    "duration": 1957,
    "start_time": "2023-08-03T09:30:43.444Z"
   },
   {
    "duration": 226,
    "start_time": "2023-08-03T09:30:45.403Z"
   },
   {
    "duration": 174,
    "start_time": "2023-08-03T09:30:45.631Z"
   },
   {
    "duration": 172,
    "start_time": "2023-08-03T09:30:45.807Z"
   },
   {
    "duration": 178,
    "start_time": "2023-08-03T09:30:45.981Z"
   },
   {
    "duration": 168,
    "start_time": "2023-08-03T09:30:46.162Z"
   },
   {
    "duration": 147,
    "start_time": "2023-08-03T09:30:46.332Z"
   },
   {
    "duration": 291,
    "start_time": "2023-08-03T09:30:46.481Z"
   },
   {
    "duration": 275,
    "start_time": "2023-08-03T09:30:46.775Z"
   },
   {
    "duration": 367,
    "start_time": "2023-08-03T09:30:47.060Z"
   },
   {
    "duration": 11,
    "start_time": "2023-08-03T09:30:47.428Z"
   },
   {
    "duration": 22,
    "start_time": "2023-08-03T09:30:47.440Z"
   },
   {
    "duration": 3,
    "start_time": "2023-08-03T09:38:11.459Z"
   },
   {
    "duration": 64,
    "start_time": "2023-08-03T09:38:11.464Z"
   },
   {
    "duration": 468,
    "start_time": "2023-08-03T09:38:11.530Z"
   },
   {
    "duration": 15,
    "start_time": "2023-08-03T09:38:12.000Z"
   },
   {
    "duration": 24,
    "start_time": "2023-08-03T09:38:12.017Z"
   },
   {
    "duration": 4,
    "start_time": "2023-08-03T09:38:12.043Z"
   },
   {
    "duration": 11,
    "start_time": "2023-08-03T09:38:12.060Z"
   },
   {
    "duration": 18,
    "start_time": "2023-08-03T09:38:12.073Z"
   },
   {
    "duration": 5,
    "start_time": "2023-08-03T09:38:12.093Z"
   },
   {
    "duration": 20,
    "start_time": "2023-08-03T09:38:12.100Z"
   },
   {
    "duration": 3,
    "start_time": "2023-08-03T09:38:12.124Z"
   },
   {
    "duration": 21,
    "start_time": "2023-08-03T09:38:12.129Z"
   },
   {
    "duration": 5,
    "start_time": "2023-08-03T09:38:12.160Z"
   },
   {
    "duration": 176,
    "start_time": "2023-08-03T09:38:12.166Z"
   },
   {
    "duration": 22,
    "start_time": "2023-08-03T09:38:12.360Z"
   },
   {
    "duration": 725,
    "start_time": "2023-08-03T09:38:12.384Z"
   },
   {
    "duration": 302,
    "start_time": "2023-08-03T09:38:13.111Z"
   },
   {
    "duration": 172,
    "start_time": "2023-08-03T09:38:13.415Z"
   },
   {
    "duration": 1922,
    "start_time": "2023-08-03T09:38:13.588Z"
   },
   {
    "duration": 3,
    "start_time": "2023-08-03T09:38:15.512Z"
   },
   {
    "duration": 28,
    "start_time": "2023-08-03T09:38:15.516Z"
   },
   {
    "duration": 1725,
    "start_time": "2023-08-03T09:38:15.546Z"
   },
   {
    "duration": 104,
    "start_time": "2023-08-03T09:38:17.273Z"
   },
   {
    "duration": 160,
    "start_time": "2023-08-03T09:38:17.379Z"
   },
   {
    "duration": 154,
    "start_time": "2023-08-03T09:38:17.541Z"
   },
   {
    "duration": 154,
    "start_time": "2023-08-03T09:38:17.697Z"
   },
   {
    "duration": 161,
    "start_time": "2023-08-03T09:38:17.853Z"
   },
   {
    "duration": 245,
    "start_time": "2023-08-03T09:38:18.016Z"
   },
   {
    "duration": 278,
    "start_time": "2023-08-03T09:38:18.264Z"
   },
   {
    "duration": 274,
    "start_time": "2023-08-03T09:38:18.543Z"
   },
   {
    "duration": 262,
    "start_time": "2023-08-03T09:38:18.819Z"
   },
   {
    "duration": 10,
    "start_time": "2023-08-03T09:38:19.083Z"
   },
   {
    "duration": 10,
    "start_time": "2023-08-03T09:38:19.095Z"
   },
   {
    "duration": 1102,
    "start_time": "2023-08-03T09:51:25.938Z"
   },
   {
    "duration": 129,
    "start_time": "2023-08-03T09:51:27.043Z"
   },
   {
    "duration": 509,
    "start_time": "2023-08-03T09:51:27.174Z"
   },
   {
    "duration": 17,
    "start_time": "2023-08-03T09:51:27.685Z"
   },
   {
    "duration": 31,
    "start_time": "2023-08-03T09:51:27.703Z"
   },
   {
    "duration": 9,
    "start_time": "2023-08-03T09:51:27.735Z"
   },
   {
    "duration": 8,
    "start_time": "2023-08-03T09:51:27.746Z"
   },
   {
    "duration": 9,
    "start_time": "2023-08-03T09:51:27.755Z"
   },
   {
    "duration": 41,
    "start_time": "2023-08-03T09:51:27.766Z"
   },
   {
    "duration": 27,
    "start_time": "2023-08-03T09:51:27.809Z"
   },
   {
    "duration": 11,
    "start_time": "2023-08-03T09:51:27.838Z"
   },
   {
    "duration": 34,
    "start_time": "2023-08-03T09:51:27.851Z"
   },
   {
    "duration": 5,
    "start_time": "2023-08-03T09:51:27.887Z"
   },
   {
    "duration": 179,
    "start_time": "2023-08-03T09:51:27.895Z"
   },
   {
    "duration": 25,
    "start_time": "2023-08-03T09:51:28.075Z"
   },
   {
    "duration": 902,
    "start_time": "2023-08-03T09:51:28.102Z"
   },
   {
    "duration": 303,
    "start_time": "2023-08-03T09:51:29.006Z"
   },
   {
    "duration": 173,
    "start_time": "2023-08-03T09:51:29.311Z"
   },
   {
    "duration": 1773,
    "start_time": "2023-08-03T09:51:29.486Z"
   },
   {
    "duration": 3,
    "start_time": "2023-08-03T09:51:31.260Z"
   },
   {
    "duration": 131,
    "start_time": "2023-08-03T09:51:31.265Z"
   },
   {
    "duration": 1863,
    "start_time": "2023-08-03T09:51:31.398Z"
   },
   {
    "duration": 153,
    "start_time": "2023-08-03T09:51:33.263Z"
   },
   {
    "duration": 166,
    "start_time": "2023-08-03T09:51:33.418Z"
   },
   {
    "duration": 161,
    "start_time": "2023-08-03T09:51:33.586Z"
   },
   {
    "duration": 187,
    "start_time": "2023-08-03T09:51:33.749Z"
   },
   {
    "duration": 208,
    "start_time": "2023-08-03T09:51:33.946Z"
   },
   {
    "duration": 127,
    "start_time": "2023-08-03T09:51:34.156Z"
   },
   {
    "duration": 268,
    "start_time": "2023-08-03T09:51:34.285Z"
   },
   {
    "duration": 291,
    "start_time": "2023-08-03T09:51:34.555Z"
   },
   {
    "duration": 235,
    "start_time": "2023-08-03T09:51:34.848Z"
   },
   {
    "duration": 9,
    "start_time": "2023-08-03T09:51:35.084Z"
   },
   {
    "duration": 11,
    "start_time": "2023-08-03T09:51:35.094Z"
   },
   {
    "duration": 52,
    "start_time": "2023-08-03T12:00:36.763Z"
   },
   {
    "duration": 1440,
    "start_time": "2023-08-03T12:00:41.870Z"
   },
   {
    "duration": 145,
    "start_time": "2023-08-03T12:00:43.313Z"
   },
   {
    "duration": 547,
    "start_time": "2023-08-03T12:00:43.460Z"
   },
   {
    "duration": 18,
    "start_time": "2023-08-03T12:00:44.010Z"
   },
   {
    "duration": 14,
    "start_time": "2023-08-03T12:00:44.030Z"
   },
   {
    "duration": 8,
    "start_time": "2023-08-03T12:00:44.046Z"
   },
   {
    "duration": 7,
    "start_time": "2023-08-03T12:00:44.057Z"
   },
   {
    "duration": 29,
    "start_time": "2023-08-03T12:00:44.066Z"
   },
   {
    "duration": 6,
    "start_time": "2023-08-03T12:00:44.097Z"
   },
   {
    "duration": 21,
    "start_time": "2023-08-03T12:00:44.106Z"
   },
   {
    "duration": 4,
    "start_time": "2023-08-03T12:00:44.129Z"
   },
   {
    "duration": 28,
    "start_time": "2023-08-03T12:00:44.135Z"
   },
   {
    "duration": 25,
    "start_time": "2023-08-03T12:00:44.165Z"
   },
   {
    "duration": 213,
    "start_time": "2023-08-03T12:00:44.192Z"
   },
   {
    "duration": 9,
    "start_time": "2023-08-03T12:00:46.302Z"
   },
   {
    "duration": 9,
    "start_time": "2023-08-03T12:01:04.612Z"
   },
   {
    "duration": 51,
    "start_time": "2023-08-03T14:55:18.764Z"
   },
   {
    "duration": 1202,
    "start_time": "2023-08-03T14:55:23.561Z"
   },
   {
    "duration": 140,
    "start_time": "2023-08-03T14:55:24.764Z"
   },
   {
    "duration": 405,
    "start_time": "2023-08-03T14:55:24.905Z"
   },
   {
    "duration": 17,
    "start_time": "2023-08-03T14:55:25.313Z"
   },
   {
    "duration": 12,
    "start_time": "2023-08-03T14:55:25.332Z"
   },
   {
    "duration": 4,
    "start_time": "2023-08-03T14:55:25.346Z"
   },
   {
    "duration": 8,
    "start_time": "2023-08-03T14:55:25.351Z"
   },
   {
    "duration": 19,
    "start_time": "2023-08-03T14:55:25.361Z"
   },
   {
    "duration": 11,
    "start_time": "2023-08-03T14:55:25.381Z"
   },
   {
    "duration": 48,
    "start_time": "2023-08-03T14:55:25.395Z"
   },
   {
    "duration": 8,
    "start_time": "2023-08-03T14:55:25.444Z"
   },
   {
    "duration": 15,
    "start_time": "2023-08-03T14:55:25.454Z"
   },
   {
    "duration": 7,
    "start_time": "2023-08-03T14:55:25.470Z"
   },
   {
    "duration": 191,
    "start_time": "2023-08-03T14:55:25.478Z"
   },
   {
    "duration": 9,
    "start_time": "2023-08-03T14:55:25.671Z"
   },
   {
    "duration": 17,
    "start_time": "2023-08-03T14:55:29.522Z"
   },
   {
    "duration": 15,
    "start_time": "2023-08-03T15:29:27.374Z"
   },
   {
    "duration": 16,
    "start_time": "2023-08-03T15:34:26.291Z"
   },
   {
    "duration": 15,
    "start_time": "2023-08-03T15:34:30.750Z"
   },
   {
    "duration": 110,
    "start_time": "2023-08-03T15:34:30.767Z"
   },
   {
    "duration": 0,
    "start_time": "2023-08-03T15:34:30.879Z"
   },
   {
    "duration": 0,
    "start_time": "2023-08-03T15:34:30.880Z"
   },
   {
    "duration": 0,
    "start_time": "2023-08-03T15:34:30.881Z"
   },
   {
    "duration": 0,
    "start_time": "2023-08-03T15:34:30.882Z"
   },
   {
    "duration": 0,
    "start_time": "2023-08-03T15:34:30.883Z"
   },
   {
    "duration": 0,
    "start_time": "2023-08-03T15:34:30.884Z"
   },
   {
    "duration": 0,
    "start_time": "2023-08-03T15:34:30.885Z"
   },
   {
    "duration": 0,
    "start_time": "2023-08-03T15:34:30.886Z"
   },
   {
    "duration": 0,
    "start_time": "2023-08-03T15:34:30.887Z"
   },
   {
    "duration": 0,
    "start_time": "2023-08-03T15:34:30.888Z"
   },
   {
    "duration": 0,
    "start_time": "2023-08-03T15:34:30.889Z"
   },
   {
    "duration": 14,
    "start_time": "2023-08-03T15:35:31.181Z"
   },
   {
    "duration": 11,
    "start_time": "2023-08-03T15:35:42.193Z"
   },
   {
    "duration": 15,
    "start_time": "2023-08-03T15:36:02.414Z"
   },
   {
    "duration": 160,
    "start_time": "2023-08-03T15:37:21.141Z"
   },
   {
    "duration": 3,
    "start_time": "2023-08-03T15:37:26.068Z"
   },
   {
    "duration": 104,
    "start_time": "2023-08-03T15:37:26.073Z"
   },
   {
    "duration": 409,
    "start_time": "2023-08-03T15:37:26.179Z"
   },
   {
    "duration": 12,
    "start_time": "2023-08-03T15:37:26.590Z"
   },
   {
    "duration": 23,
    "start_time": "2023-08-03T15:37:26.604Z"
   },
   {
    "duration": 5,
    "start_time": "2023-08-03T15:37:26.628Z"
   },
   {
    "duration": 17,
    "start_time": "2023-08-03T15:37:26.635Z"
   },
   {
    "duration": 16,
    "start_time": "2023-08-03T15:37:26.653Z"
   },
   {
    "duration": 14,
    "start_time": "2023-08-03T15:37:26.670Z"
   },
   {
    "duration": 27,
    "start_time": "2023-08-03T15:37:26.685Z"
   },
   {
    "duration": 14,
    "start_time": "2023-08-03T15:37:26.715Z"
   },
   {
    "duration": 24,
    "start_time": "2023-08-03T15:37:26.731Z"
   },
   {
    "duration": 9,
    "start_time": "2023-08-03T15:37:26.757Z"
   },
   {
    "duration": 178,
    "start_time": "2023-08-03T15:37:26.767Z"
   },
   {
    "duration": 10,
    "start_time": "2023-08-03T15:37:26.948Z"
   },
   {
    "duration": 32,
    "start_time": "2023-08-03T15:37:26.960Z"
   },
   {
    "duration": 35,
    "start_time": "2023-08-03T15:37:26.993Z"
   },
   {
    "duration": 296,
    "start_time": "2023-08-03T15:37:27.030Z"
   },
   {
    "duration": 231,
    "start_time": "2023-08-03T15:37:27.329Z"
   },
   {
    "duration": 1751,
    "start_time": "2023-08-03T15:37:27.562Z"
   },
   {
    "duration": 7,
    "start_time": "2023-08-03T15:37:29.314Z"
   },
   {
    "duration": 25,
    "start_time": "2023-08-03T15:37:29.322Z"
   },
   {
    "duration": 1545,
    "start_time": "2023-08-03T15:37:29.349Z"
   },
   {
    "duration": 185,
    "start_time": "2023-08-03T15:37:30.896Z"
   },
   {
    "duration": 194,
    "start_time": "2023-08-03T15:37:31.083Z"
   },
   {
    "duration": 184,
    "start_time": "2023-08-03T15:37:31.279Z"
   },
   {
    "duration": 140,
    "start_time": "2023-08-03T15:37:31.465Z"
   },
   {
    "duration": 358,
    "start_time": "2023-08-03T15:37:31.607Z"
   },
   {
    "duration": 0,
    "start_time": "2023-08-03T15:37:31.968Z"
   },
   {
    "duration": 0,
    "start_time": "2023-08-03T15:37:31.969Z"
   },
   {
    "duration": 0,
    "start_time": "2023-08-03T15:37:31.971Z"
   },
   {
    "duration": 0,
    "start_time": "2023-08-03T15:37:31.972Z"
   },
   {
    "duration": 0,
    "start_time": "2023-08-03T15:37:31.974Z"
   },
   {
    "duration": 0,
    "start_time": "2023-08-03T15:37:31.975Z"
   },
   {
    "duration": 1181,
    "start_time": "2023-08-03T15:38:34.641Z"
   },
   {
    "duration": 1237,
    "start_time": "2023-08-03T15:38:44.059Z"
   },
   {
    "duration": 112,
    "start_time": "2023-08-03T15:38:58.814Z"
   },
   {
    "duration": 155,
    "start_time": "2023-08-03T15:39:55.901Z"
   },
   {
    "duration": 136,
    "start_time": "2023-08-03T15:41:22.335Z"
   },
   {
    "duration": 159,
    "start_time": "2023-08-03T15:41:34.687Z"
   },
   {
    "duration": 151,
    "start_time": "2023-08-03T15:41:34.849Z"
   },
   {
    "duration": 383,
    "start_time": "2023-08-03T15:41:35.002Z"
   },
   {
    "duration": 320,
    "start_time": "2023-08-03T15:41:35.388Z"
   },
   {
    "duration": 395,
    "start_time": "2023-08-03T15:41:35.720Z"
   },
   {
    "duration": 20,
    "start_time": "2023-08-03T15:41:36.120Z"
   },
   {
    "duration": 24,
    "start_time": "2023-08-03T15:41:36.147Z"
   },
   {
    "duration": 3,
    "start_time": "2023-08-03T15:43:04.885Z"
   },
   {
    "duration": 4,
    "start_time": "2023-08-03T15:46:12.504Z"
   },
   {
    "duration": 6,
    "start_time": "2023-08-03T15:46:39.736Z"
   },
   {
    "duration": 2,
    "start_time": "2023-08-03T15:47:49.745Z"
   },
   {
    "duration": 82,
    "start_time": "2023-08-03T15:47:49.751Z"
   },
   {
    "duration": 491,
    "start_time": "2023-08-03T15:47:49.834Z"
   },
   {
    "duration": 15,
    "start_time": "2023-08-03T15:47:50.327Z"
   },
   {
    "duration": 14,
    "start_time": "2023-08-03T15:47:50.344Z"
   },
   {
    "duration": 3,
    "start_time": "2023-08-03T15:47:50.360Z"
   },
   {
    "duration": 5,
    "start_time": "2023-08-03T15:47:50.364Z"
   },
   {
    "duration": 10,
    "start_time": "2023-08-03T15:47:50.370Z"
   },
   {
    "duration": 4,
    "start_time": "2023-08-03T15:47:50.382Z"
   },
   {
    "duration": 36,
    "start_time": "2023-08-03T15:47:50.387Z"
   },
   {
    "duration": 11,
    "start_time": "2023-08-03T15:47:50.428Z"
   },
   {
    "duration": 6,
    "start_time": "2023-08-03T15:47:50.440Z"
   },
   {
    "duration": 14,
    "start_time": "2023-08-03T15:47:50.447Z"
   },
   {
    "duration": 4,
    "start_time": "2023-08-03T15:47:50.462Z"
   },
   {
    "duration": 168,
    "start_time": "2023-08-03T15:47:50.468Z"
   },
   {
    "duration": 7,
    "start_time": "2023-08-03T15:47:50.639Z"
   },
   {
    "duration": 17,
    "start_time": "2023-08-03T15:47:50.647Z"
   },
   {
    "duration": 15,
    "start_time": "2023-08-03T15:47:50.666Z"
   },
   {
    "duration": 273,
    "start_time": "2023-08-03T15:47:50.683Z"
   },
   {
    "duration": 146,
    "start_time": "2023-08-03T15:47:50.958Z"
   },
   {
    "duration": 1640,
    "start_time": "2023-08-03T15:47:51.106Z"
   },
   {
    "duration": 3,
    "start_time": "2023-08-03T15:47:52.748Z"
   },
   {
    "duration": 34,
    "start_time": "2023-08-03T15:47:52.753Z"
   },
   {
    "duration": 1345,
    "start_time": "2023-08-03T15:47:52.788Z"
   },
   {
    "duration": 108,
    "start_time": "2023-08-03T15:47:54.135Z"
   },
   {
    "duration": 148,
    "start_time": "2023-08-03T15:47:54.244Z"
   },
   {
    "duration": 157,
    "start_time": "2023-08-03T15:47:54.393Z"
   },
   {
    "duration": 130,
    "start_time": "2023-08-03T15:47:54.551Z"
   },
   {
    "duration": 350,
    "start_time": "2023-08-03T15:47:54.684Z"
   },
   {
    "duration": 0,
    "start_time": "2023-08-03T15:47:55.036Z"
   },
   {
    "duration": 0,
    "start_time": "2023-08-03T15:47:55.037Z"
   },
   {
    "duration": 0,
    "start_time": "2023-08-03T15:47:55.039Z"
   },
   {
    "duration": 0,
    "start_time": "2023-08-03T15:47:55.040Z"
   },
   {
    "duration": 0,
    "start_time": "2023-08-03T15:47:55.041Z"
   },
   {
    "duration": 0,
    "start_time": "2023-08-03T15:47:55.042Z"
   },
   {
    "duration": 96,
    "start_time": "2023-08-03T15:49:49.450Z"
   },
   {
    "duration": 6,
    "start_time": "2023-08-03T15:50:10.713Z"
   },
   {
    "duration": 2163,
    "start_time": "2023-08-03T15:59:20.390Z"
   },
   {
    "duration": 136,
    "start_time": "2023-08-03T16:00:16.438Z"
   },
   {
    "duration": 1199,
    "start_time": "2023-08-03T16:00:39.288Z"
   },
   {
    "duration": 13,
    "start_time": "2023-08-03T16:04:35.361Z"
   },
   {
    "duration": 9,
    "start_time": "2023-08-03T16:04:35.562Z"
   },
   {
    "duration": 12,
    "start_time": "2023-08-03T16:04:53.342Z"
   },
   {
    "duration": 175,
    "start_time": "2023-08-03T16:05:30.689Z"
   },
   {
    "duration": 105,
    "start_time": "2023-08-03T16:05:36.994Z"
   },
   {
    "duration": 11,
    "start_time": "2023-08-03T16:05:55.263Z"
   },
   {
    "duration": 105,
    "start_time": "2023-08-03T16:06:17.792Z"
   },
   {
    "duration": 5,
    "start_time": "2023-08-03T16:23:52.499Z"
   },
   {
    "duration": 5,
    "start_time": "2023-08-03T16:24:05.665Z"
   },
   {
    "duration": 5,
    "start_time": "2023-08-03T16:24:36.308Z"
   },
   {
    "duration": 8,
    "start_time": "2023-08-03T16:24:43.369Z"
   },
   {
    "duration": 107,
    "start_time": "2023-08-03T16:25:40.136Z"
   },
   {
    "duration": 105,
    "start_time": "2023-08-03T16:26:59.188Z"
   },
   {
    "duration": 110,
    "start_time": "2023-08-03T16:27:36.835Z"
   },
   {
    "duration": 155,
    "start_time": "2023-08-03T16:28:37.699Z"
   },
   {
    "duration": 100,
    "start_time": "2023-08-03T16:29:18.440Z"
   },
   {
    "duration": 93,
    "start_time": "2023-08-03T16:29:23.607Z"
   },
   {
    "duration": 87,
    "start_time": "2023-08-03T16:30:27.765Z"
   },
   {
    "duration": 136,
    "start_time": "2023-08-03T16:30:37.177Z"
   },
   {
    "duration": 172,
    "start_time": "2023-08-03T16:30:41.100Z"
   },
   {
    "duration": 22,
    "start_time": "2023-08-03T16:31:49.803Z"
   },
   {
    "duration": 112,
    "start_time": "2023-08-03T16:31:56.966Z"
   },
   {
    "duration": 21,
    "start_time": "2023-08-03T16:34:14.719Z"
   },
   {
    "duration": 104,
    "start_time": "2023-08-03T16:36:07.563Z"
   },
   {
    "duration": 103,
    "start_time": "2023-08-03T16:36:42.840Z"
   },
   {
    "duration": 112,
    "start_time": "2023-08-03T16:36:54.817Z"
   },
   {
    "duration": 104,
    "start_time": "2023-08-03T16:37:09.073Z"
   },
   {
    "duration": 122,
    "start_time": "2023-08-03T16:37:20.530Z"
   },
   {
    "duration": 14,
    "start_time": "2023-08-03T16:40:15.203Z"
   },
   {
    "duration": 214,
    "start_time": "2023-08-03T16:40:21.470Z"
   },
   {
    "duration": 131,
    "start_time": "2023-08-03T16:42:03.747Z"
   },
   {
    "duration": 145,
    "start_time": "2023-08-03T16:42:34.270Z"
   },
   {
    "duration": 136,
    "start_time": "2023-08-03T16:43:48.805Z"
   },
   {
    "duration": 128,
    "start_time": "2023-08-03T16:44:03.414Z"
   },
   {
    "duration": 185,
    "start_time": "2023-08-03T16:44:16.494Z"
   },
   {
    "duration": 3,
    "start_time": "2023-08-03T16:44:23.196Z"
   },
   {
    "duration": 106,
    "start_time": "2023-08-03T16:44:23.203Z"
   },
   {
    "duration": 424,
    "start_time": "2023-08-03T16:44:23.310Z"
   },
   {
    "duration": 16,
    "start_time": "2023-08-03T16:44:23.736Z"
   },
   {
    "duration": 29,
    "start_time": "2023-08-03T16:44:23.754Z"
   },
   {
    "duration": 24,
    "start_time": "2023-08-03T16:44:23.785Z"
   },
   {
    "duration": 41,
    "start_time": "2023-08-03T16:44:23.811Z"
   },
   {
    "duration": 32,
    "start_time": "2023-08-03T16:44:23.854Z"
   },
   {
    "duration": 49,
    "start_time": "2023-08-03T16:44:23.889Z"
   },
   {
    "duration": 33,
    "start_time": "2023-08-03T16:44:23.940Z"
   },
   {
    "duration": 41,
    "start_time": "2023-08-03T16:44:23.974Z"
   },
   {
    "duration": 29,
    "start_time": "2023-08-03T16:44:24.017Z"
   },
   {
    "duration": 45,
    "start_time": "2023-08-03T16:44:24.048Z"
   },
   {
    "duration": 7,
    "start_time": "2023-08-03T16:44:24.095Z"
   },
   {
    "duration": 185,
    "start_time": "2023-08-03T16:44:24.105Z"
   },
   {
    "duration": 7,
    "start_time": "2023-08-03T16:44:24.291Z"
   },
   {
    "duration": 56,
    "start_time": "2023-08-03T16:44:24.299Z"
   },
   {
    "duration": 37,
    "start_time": "2023-08-03T16:44:24.357Z"
   },
   {
    "duration": 311,
    "start_time": "2023-08-03T16:44:24.396Z"
   },
   {
    "duration": 241,
    "start_time": "2023-08-03T16:44:24.710Z"
   },
   {
    "duration": 1700,
    "start_time": "2023-08-03T16:44:24.952Z"
   },
   {
    "duration": 4,
    "start_time": "2023-08-03T16:44:26.654Z"
   },
   {
    "duration": 49,
    "start_time": "2023-08-03T16:44:26.660Z"
   },
   {
    "duration": 1435,
    "start_time": "2023-08-03T16:44:26.713Z"
   },
   {
    "duration": 150,
    "start_time": "2023-08-03T16:44:28.151Z"
   },
   {
    "duration": 3,
    "start_time": "2023-08-03T16:44:58.771Z"
   },
   {
    "duration": 85,
    "start_time": "2023-08-03T16:44:58.776Z"
   },
   {
    "duration": 428,
    "start_time": "2023-08-03T16:44:58.863Z"
   },
   {
    "duration": 14,
    "start_time": "2023-08-03T16:44:59.292Z"
   },
   {
    "duration": 22,
    "start_time": "2023-08-03T16:44:59.326Z"
   },
   {
    "duration": 5,
    "start_time": "2023-08-03T16:44:59.350Z"
   },
   {
    "duration": 9,
    "start_time": "2023-08-03T16:44:59.357Z"
   },
   {
    "duration": 17,
    "start_time": "2023-08-03T16:44:59.368Z"
   },
   {
    "duration": 20,
    "start_time": "2023-08-03T16:44:59.386Z"
   },
   {
    "duration": 19,
    "start_time": "2023-08-03T16:44:59.408Z"
   },
   {
    "duration": 15,
    "start_time": "2023-08-03T16:44:59.430Z"
   },
   {
    "duration": 10,
    "start_time": "2023-08-03T16:44:59.447Z"
   },
   {
    "duration": 139,
    "start_time": "2023-08-03T16:44:59.460Z"
   },
   {
    "duration": 5,
    "start_time": "2023-08-03T16:44:59.601Z"
   },
   {
    "duration": 168,
    "start_time": "2023-08-03T16:44:59.607Z"
   },
   {
    "duration": 9,
    "start_time": "2023-08-03T16:44:59.777Z"
   },
   {
    "duration": 35,
    "start_time": "2023-08-03T16:44:59.788Z"
   },
   {
    "duration": 40,
    "start_time": "2023-08-03T16:44:59.824Z"
   },
   {
    "duration": 282,
    "start_time": "2023-08-03T16:44:59.866Z"
   },
   {
    "duration": 159,
    "start_time": "2023-08-03T16:45:00.152Z"
   },
   {
    "duration": 1587,
    "start_time": "2023-08-03T16:45:00.312Z"
   },
   {
    "duration": 4,
    "start_time": "2023-08-03T16:45:01.900Z"
   },
   {
    "duration": 157,
    "start_time": "2023-08-03T16:45:01.905Z"
   },
   {
    "duration": 1442,
    "start_time": "2023-08-03T16:45:02.064Z"
   },
   {
    "duration": 137,
    "start_time": "2023-08-03T16:45:03.507Z"
   },
   {
    "duration": 148,
    "start_time": "2023-08-03T16:45:03.645Z"
   },
   {
    "duration": 150,
    "start_time": "2023-08-03T16:45:03.795Z"
   },
   {
    "duration": 134,
    "start_time": "2023-08-03T16:45:03.946Z"
   },
   {
    "duration": 618,
    "start_time": "2023-08-03T16:45:04.083Z"
   },
   {
    "duration": 0,
    "start_time": "2023-08-03T16:45:04.702Z"
   },
   {
    "duration": 0,
    "start_time": "2023-08-03T16:45:04.703Z"
   },
   {
    "duration": 0,
    "start_time": "2023-08-03T16:45:04.705Z"
   },
   {
    "duration": 0,
    "start_time": "2023-08-03T16:45:04.705Z"
   },
   {
    "duration": 0,
    "start_time": "2023-08-03T16:45:04.706Z"
   },
   {
    "duration": 0,
    "start_time": "2023-08-03T16:45:04.707Z"
   },
   {
    "duration": 441,
    "start_time": "2023-08-03T16:46:03.909Z"
   },
   {
    "duration": 253,
    "start_time": "2023-08-03T16:46:45.042Z"
   },
   {
    "duration": 134,
    "start_time": "2023-08-03T16:46:58.092Z"
   },
   {
    "duration": 3,
    "start_time": "2023-08-03T16:47:03.639Z"
   },
   {
    "duration": 127,
    "start_time": "2023-08-03T16:47:03.645Z"
   },
   {
    "duration": 508,
    "start_time": "2023-08-03T16:47:03.774Z"
   },
   {
    "duration": 13,
    "start_time": "2023-08-03T16:47:04.284Z"
   },
   {
    "duration": 39,
    "start_time": "2023-08-03T16:47:04.300Z"
   },
   {
    "duration": 11,
    "start_time": "2023-08-03T16:47:04.340Z"
   },
   {
    "duration": 19,
    "start_time": "2023-08-03T16:47:04.353Z"
   },
   {
    "duration": 19,
    "start_time": "2023-08-03T16:47:04.373Z"
   },
   {
    "duration": 6,
    "start_time": "2023-08-03T16:47:04.394Z"
   },
   {
    "duration": 16,
    "start_time": "2023-08-03T16:47:04.401Z"
   },
   {
    "duration": 22,
    "start_time": "2023-08-03T16:47:04.419Z"
   },
   {
    "duration": 9,
    "start_time": "2023-08-03T16:47:04.443Z"
   },
   {
    "duration": 23,
    "start_time": "2023-08-03T16:47:04.454Z"
   },
   {
    "duration": 7,
    "start_time": "2023-08-03T16:47:04.481Z"
   },
   {
    "duration": 228,
    "start_time": "2023-08-03T16:47:04.490Z"
   },
   {
    "duration": 15,
    "start_time": "2023-08-03T16:47:04.720Z"
   },
   {
    "duration": 59,
    "start_time": "2023-08-03T16:47:04.736Z"
   },
   {
    "duration": 43,
    "start_time": "2023-08-03T16:47:04.797Z"
   },
   {
    "duration": 317,
    "start_time": "2023-08-03T16:47:04.841Z"
   },
   {
    "duration": 201,
    "start_time": "2023-08-03T16:47:05.160Z"
   },
   {
    "duration": 2066,
    "start_time": "2023-08-03T16:47:05.370Z"
   },
   {
    "duration": 13,
    "start_time": "2023-08-03T16:47:07.439Z"
   },
   {
    "duration": 38,
    "start_time": "2023-08-03T16:47:07.455Z"
   },
   {
    "duration": 1650,
    "start_time": "2023-08-03T16:47:07.495Z"
   },
   {
    "duration": 141,
    "start_time": "2023-08-03T16:47:09.147Z"
   },
   {
    "duration": 182,
    "start_time": "2023-08-03T16:47:09.290Z"
   },
   {
    "duration": 177,
    "start_time": "2023-08-03T16:47:09.475Z"
   },
   {
    "duration": 148,
    "start_time": "2023-08-03T16:47:09.653Z"
   },
   {
    "duration": 438,
    "start_time": "2023-08-03T16:47:09.803Z"
   },
   {
    "duration": 1,
    "start_time": "2023-08-03T16:47:10.242Z"
   },
   {
    "duration": 0,
    "start_time": "2023-08-03T16:47:10.244Z"
   },
   {
    "duration": 0,
    "start_time": "2023-08-03T16:47:10.245Z"
   },
   {
    "duration": 0,
    "start_time": "2023-08-03T16:47:10.246Z"
   },
   {
    "duration": 0,
    "start_time": "2023-08-03T16:47:10.247Z"
   },
   {
    "duration": 0,
    "start_time": "2023-08-03T16:47:10.248Z"
   },
   {
    "duration": 28,
    "start_time": "2023-08-03T16:47:52.817Z"
   },
   {
    "duration": 14,
    "start_time": "2023-08-03T16:47:54.376Z"
   },
   {
    "duration": 127,
    "start_time": "2023-08-03T16:48:22.454Z"
   },
   {
    "duration": 126,
    "start_time": "2023-08-03T16:49:23.260Z"
   },
   {
    "duration": 144,
    "start_time": "2023-08-03T16:49:48.696Z"
   },
   {
    "duration": 236,
    "start_time": "2023-08-03T16:50:40.136Z"
   },
   {
    "duration": 243,
    "start_time": "2023-08-03T16:51:16.798Z"
   },
   {
    "duration": 223,
    "start_time": "2023-08-03T16:51:28.340Z"
   },
   {
    "duration": 136,
    "start_time": "2023-08-03T17:02:01.905Z"
   },
   {
    "duration": 3,
    "start_time": "2023-08-03T17:03:12.497Z"
   },
   {
    "duration": 108,
    "start_time": "2023-08-03T17:03:12.501Z"
   },
   {
    "duration": 652,
    "start_time": "2023-08-03T17:03:12.611Z"
   },
   {
    "duration": 13,
    "start_time": "2023-08-03T17:03:13.265Z"
   },
   {
    "duration": 22,
    "start_time": "2023-08-03T17:03:13.280Z"
   },
   {
    "duration": 7,
    "start_time": "2023-08-03T17:03:13.303Z"
   },
   {
    "duration": 8,
    "start_time": "2023-08-03T17:03:13.319Z"
   },
   {
    "duration": 39,
    "start_time": "2023-08-03T17:03:13.329Z"
   },
   {
    "duration": 33,
    "start_time": "2023-08-03T17:03:13.371Z"
   },
   {
    "duration": 18,
    "start_time": "2023-08-03T17:03:13.406Z"
   },
   {
    "duration": 8,
    "start_time": "2023-08-03T17:03:13.426Z"
   },
   {
    "duration": 6,
    "start_time": "2023-08-03T17:03:13.436Z"
   },
   {
    "duration": 12,
    "start_time": "2023-08-03T17:03:13.444Z"
   },
   {
    "duration": 5,
    "start_time": "2023-08-03T17:03:13.458Z"
   },
   {
    "duration": 211,
    "start_time": "2023-08-03T17:03:13.466Z"
   },
   {
    "duration": 11,
    "start_time": "2023-08-03T17:03:13.679Z"
   },
   {
    "duration": 42,
    "start_time": "2023-08-03T17:03:13.692Z"
   },
   {
    "duration": 23,
    "start_time": "2023-08-03T17:03:13.736Z"
   },
   {
    "duration": 270,
    "start_time": "2023-08-03T17:03:13.761Z"
   },
   {
    "duration": 146,
    "start_time": "2023-08-03T17:03:14.033Z"
   },
   {
    "duration": 1638,
    "start_time": "2023-08-03T17:03:14.180Z"
   },
   {
    "duration": 3,
    "start_time": "2023-08-03T17:03:15.820Z"
   },
   {
    "duration": 27,
    "start_time": "2023-08-03T17:03:15.824Z"
   },
   {
    "duration": 1191,
    "start_time": "2023-08-03T17:03:15.853Z"
   },
   {
    "duration": 240,
    "start_time": "2023-08-03T17:03:17.045Z"
   },
   {
    "duration": 144,
    "start_time": "2023-08-03T17:03:17.287Z"
   },
   {
    "duration": 137,
    "start_time": "2023-08-03T17:03:17.432Z"
   },
   {
    "duration": 250,
    "start_time": "2023-08-03T17:03:17.570Z"
   },
   {
    "duration": 133,
    "start_time": "2023-08-03T17:03:17.821Z"
   },
   {
    "duration": 139,
    "start_time": "2023-08-03T17:03:17.957Z"
   },
   {
    "duration": 281,
    "start_time": "2023-08-03T17:03:18.098Z"
   },
   {
    "duration": 255,
    "start_time": "2023-08-03T17:03:18.380Z"
   },
   {
    "duration": 267,
    "start_time": "2023-08-03T17:03:18.636Z"
   },
   {
    "duration": 39,
    "start_time": "2023-08-03T17:03:18.905Z"
   },
   {
    "duration": 0,
    "start_time": "2023-08-03T17:03:18.946Z"
   },
   {
    "duration": 23,
    "start_time": "2023-08-03T17:08:05.598Z"
   },
   {
    "duration": 12,
    "start_time": "2023-08-03T17:08:39.201Z"
   },
   {
    "duration": 8,
    "start_time": "2023-08-03T17:08:57.041Z"
   },
   {
    "duration": 3,
    "start_time": "2023-08-03T17:09:36.863Z"
   },
   {
    "duration": 65,
    "start_time": "2023-08-03T17:09:36.868Z"
   },
   {
    "duration": 402,
    "start_time": "2023-08-03T17:09:36.934Z"
   },
   {
    "duration": 13,
    "start_time": "2023-08-03T17:09:37.338Z"
   },
   {
    "duration": 20,
    "start_time": "2023-08-03T17:09:37.352Z"
   },
   {
    "duration": 5,
    "start_time": "2023-08-03T17:09:37.373Z"
   },
   {
    "duration": 11,
    "start_time": "2023-08-03T17:09:37.380Z"
   },
   {
    "duration": 12,
    "start_time": "2023-08-03T17:09:37.392Z"
   },
   {
    "duration": 5,
    "start_time": "2023-08-03T17:09:37.406Z"
   },
   {
    "duration": 19,
    "start_time": "2023-08-03T17:09:37.420Z"
   },
   {
    "duration": 9,
    "start_time": "2023-08-03T17:09:37.440Z"
   },
   {
    "duration": 3,
    "start_time": "2023-08-03T17:09:37.450Z"
   },
   {
    "duration": 14,
    "start_time": "2023-08-03T17:09:37.454Z"
   },
   {
    "duration": 5,
    "start_time": "2023-08-03T17:09:37.469Z"
   },
   {
    "duration": 160,
    "start_time": "2023-08-03T17:09:37.475Z"
   },
   {
    "duration": 8,
    "start_time": "2023-08-03T17:09:37.636Z"
   },
   {
    "duration": 52,
    "start_time": "2023-08-03T17:09:37.645Z"
   },
   {
    "duration": 87,
    "start_time": "2023-08-03T17:09:37.699Z"
   },
   {
    "duration": 390,
    "start_time": "2023-08-03T17:09:37.788Z"
   },
   {
    "duration": 132,
    "start_time": "2023-08-03T17:09:38.180Z"
   },
   {
    "duration": 1392,
    "start_time": "2023-08-03T17:09:38.313Z"
   },
   {
    "duration": 3,
    "start_time": "2023-08-03T17:09:39.706Z"
   },
   {
    "duration": 13,
    "start_time": "2023-08-03T17:09:39.720Z"
   },
   {
    "duration": 1256,
    "start_time": "2023-08-03T17:09:39.736Z"
   },
   {
    "duration": 236,
    "start_time": "2023-08-03T17:09:40.994Z"
   },
   {
    "duration": 127,
    "start_time": "2023-08-03T17:09:41.232Z"
   },
   {
    "duration": 132,
    "start_time": "2023-08-03T17:09:41.361Z"
   },
   {
    "duration": 120,
    "start_time": "2023-08-03T17:09:41.494Z"
   },
   {
    "duration": 119,
    "start_time": "2023-08-03T17:09:41.615Z"
   },
   {
    "duration": 118,
    "start_time": "2023-08-03T17:09:41.735Z"
   },
   {
    "duration": 330,
    "start_time": "2023-08-03T17:09:41.854Z"
   },
   {
    "duration": 249,
    "start_time": "2023-08-03T17:09:42.185Z"
   },
   {
    "duration": 229,
    "start_time": "2023-08-03T17:09:42.435Z"
   },
   {
    "duration": 16,
    "start_time": "2023-08-03T17:09:42.665Z"
   },
   {
    "duration": 0,
    "start_time": "2023-08-03T17:09:42.683Z"
   },
   {
    "duration": 17,
    "start_time": "2023-08-03T17:10:04.488Z"
   },
   {
    "duration": 16,
    "start_time": "2023-08-03T17:10:51.267Z"
   },
   {
    "duration": 3,
    "start_time": "2023-08-03T17:10:57.301Z"
   },
   {
    "duration": 70,
    "start_time": "2023-08-03T17:10:57.306Z"
   },
   {
    "duration": 397,
    "start_time": "2023-08-03T17:10:57.377Z"
   },
   {
    "duration": 12,
    "start_time": "2023-08-03T17:10:57.776Z"
   },
   {
    "duration": 44,
    "start_time": "2023-08-03T17:10:57.790Z"
   },
   {
    "duration": 10,
    "start_time": "2023-08-03T17:10:57.835Z"
   },
   {
    "duration": 23,
    "start_time": "2023-08-03T17:10:57.846Z"
   },
   {
    "duration": 20,
    "start_time": "2023-08-03T17:10:57.870Z"
   },
   {
    "duration": 25,
    "start_time": "2023-08-03T17:10:57.892Z"
   },
   {
    "duration": 33,
    "start_time": "2023-08-03T17:10:57.918Z"
   },
   {
    "duration": 14,
    "start_time": "2023-08-03T17:10:57.952Z"
   },
   {
    "duration": 21,
    "start_time": "2023-08-03T17:10:57.967Z"
   },
   {
    "duration": 42,
    "start_time": "2023-08-03T17:10:57.989Z"
   },
   {
    "duration": 13,
    "start_time": "2023-08-03T17:10:58.032Z"
   },
   {
    "duration": 163,
    "start_time": "2023-08-03T17:10:58.047Z"
   },
   {
    "duration": 16,
    "start_time": "2023-08-03T17:11:01.507Z"
   },
   {
    "duration": 15,
    "start_time": "2023-08-03T17:11:13.842Z"
   },
   {
    "duration": 4,
    "start_time": "2023-08-03T17:11:43.704Z"
   },
   {
    "duration": 3,
    "start_time": "2023-08-03T17:11:49.061Z"
   },
   {
    "duration": 73,
    "start_time": "2023-08-03T17:11:49.067Z"
   },
   {
    "duration": 394,
    "start_time": "2023-08-03T17:11:49.142Z"
   },
   {
    "duration": 12,
    "start_time": "2023-08-03T17:11:49.537Z"
   },
   {
    "duration": 16,
    "start_time": "2023-08-03T17:11:49.551Z"
   },
   {
    "duration": 3,
    "start_time": "2023-08-03T17:11:49.568Z"
   },
   {
    "duration": 9,
    "start_time": "2023-08-03T17:11:49.573Z"
   },
   {
    "duration": 9,
    "start_time": "2023-08-03T17:11:49.583Z"
   },
   {
    "duration": 4,
    "start_time": "2023-08-03T17:11:49.593Z"
   },
   {
    "duration": 15,
    "start_time": "2023-08-03T17:11:49.598Z"
   },
   {
    "duration": 7,
    "start_time": "2023-08-03T17:11:49.629Z"
   },
   {
    "duration": 4,
    "start_time": "2023-08-03T17:11:49.637Z"
   },
   {
    "duration": 96,
    "start_time": "2023-08-03T17:11:49.642Z"
   },
   {
    "duration": 4,
    "start_time": "2023-08-03T17:11:49.739Z"
   },
   {
    "duration": 149,
    "start_time": "2023-08-03T17:11:49.744Z"
   },
   {
    "duration": 6,
    "start_time": "2023-08-03T17:11:49.894Z"
   },
   {
    "duration": 27,
    "start_time": "2023-08-03T17:11:49.901Z"
   },
   {
    "duration": 17,
    "start_time": "2023-08-03T17:11:49.933Z"
   },
   {
    "duration": 244,
    "start_time": "2023-08-03T17:11:49.951Z"
   },
   {
    "duration": 137,
    "start_time": "2023-08-03T17:11:50.196Z"
   },
   {
    "duration": 1405,
    "start_time": "2023-08-03T17:11:50.334Z"
   },
   {
    "duration": 3,
    "start_time": "2023-08-03T17:11:51.740Z"
   },
   {
    "duration": 35,
    "start_time": "2023-08-03T17:11:51.744Z"
   },
   {
    "duration": 1225,
    "start_time": "2023-08-03T17:11:51.780Z"
   },
   {
    "duration": 227,
    "start_time": "2023-08-03T17:11:53.007Z"
   },
   {
    "duration": 128,
    "start_time": "2023-08-03T17:11:53.236Z"
   },
   {
    "duration": 133,
    "start_time": "2023-08-03T17:11:53.365Z"
   },
   {
    "duration": 132,
    "start_time": "2023-08-03T17:11:53.500Z"
   },
   {
    "duration": 114,
    "start_time": "2023-08-03T17:11:53.635Z"
   },
   {
    "duration": 110,
    "start_time": "2023-08-03T17:11:53.751Z"
   },
   {
    "duration": 327,
    "start_time": "2023-08-03T17:11:53.863Z"
   },
   {
    "duration": 218,
    "start_time": "2023-08-03T17:11:54.192Z"
   },
   {
    "duration": 227,
    "start_time": "2023-08-03T17:11:54.412Z"
   },
   {
    "duration": 8,
    "start_time": "2023-08-03T17:11:54.640Z"
   },
   {
    "duration": 11,
    "start_time": "2023-08-03T17:11:54.650Z"
   },
   {
    "duration": 25,
    "start_time": "2023-08-03T17:12:33.196Z"
   },
   {
    "duration": 27,
    "start_time": "2023-08-03T17:13:03.507Z"
   },
   {
    "duration": 17,
    "start_time": "2023-08-03T17:13:23.400Z"
   },
   {
    "duration": 34,
    "start_time": "2023-08-03T17:15:26.217Z"
   },
   {
    "duration": 12,
    "start_time": "2023-08-03T17:15:31.831Z"
   },
   {
    "duration": 13,
    "start_time": "2023-08-03T17:16:01.464Z"
   },
   {
    "duration": 4,
    "start_time": "2023-08-03T17:16:27.046Z"
   },
   {
    "duration": 64,
    "start_time": "2023-08-03T17:16:34.731Z"
   },
   {
    "duration": 4,
    "start_time": "2023-08-03T17:16:50.456Z"
   },
   {
    "duration": 67,
    "start_time": "2023-08-03T17:19:33.936Z"
   },
   {
    "duration": 11,
    "start_time": "2023-08-03T17:20:08.336Z"
   },
   {
    "duration": 72,
    "start_time": "2023-08-03T17:20:10.470Z"
   },
   {
    "duration": 56,
    "start_time": "2023-08-03T17:21:05.306Z"
   },
   {
    "duration": 8,
    "start_time": "2023-08-03T17:21:29.724Z"
   },
   {
    "duration": 4,
    "start_time": "2023-08-03T17:21:41.007Z"
   },
   {
    "duration": 13,
    "start_time": "2023-08-03T17:22:46.832Z"
   },
   {
    "duration": 11,
    "start_time": "2023-08-03T17:23:27.484Z"
   },
   {
    "duration": 3,
    "start_time": "2023-08-03T17:23:31.957Z"
   },
   {
    "duration": 3,
    "start_time": "2023-08-03T17:25:25.541Z"
   },
   {
    "duration": 64,
    "start_time": "2023-08-03T17:25:25.547Z"
   },
   {
    "duration": 387,
    "start_time": "2023-08-03T17:25:25.613Z"
   },
   {
    "duration": 18,
    "start_time": "2023-08-03T17:25:26.002Z"
   },
   {
    "duration": 12,
    "start_time": "2023-08-03T17:25:26.022Z"
   },
   {
    "duration": 3,
    "start_time": "2023-08-03T17:25:26.036Z"
   },
   {
    "duration": 8,
    "start_time": "2023-08-03T17:25:26.040Z"
   },
   {
    "duration": 20,
    "start_time": "2023-08-03T17:25:26.049Z"
   },
   {
    "duration": 22,
    "start_time": "2023-08-03T17:25:26.070Z"
   },
   {
    "duration": 17,
    "start_time": "2023-08-03T17:25:26.093Z"
   },
   {
    "duration": 27,
    "start_time": "2023-08-03T17:25:26.111Z"
   },
   {
    "duration": 3,
    "start_time": "2023-08-03T17:25:26.139Z"
   },
   {
    "duration": 31,
    "start_time": "2023-08-03T17:25:26.143Z"
   },
   {
    "duration": 11,
    "start_time": "2023-08-03T17:25:26.175Z"
   },
   {
    "duration": 150,
    "start_time": "2023-08-03T17:25:26.188Z"
   },
   {
    "duration": 6,
    "start_time": "2023-08-03T17:25:26.339Z"
   },
   {
    "duration": 16,
    "start_time": "2023-08-03T17:25:26.347Z"
   },
   {
    "duration": 16,
    "start_time": "2023-08-03T17:25:26.365Z"
   },
   {
    "duration": 261,
    "start_time": "2023-08-03T17:25:26.383Z"
   },
   {
    "duration": 140,
    "start_time": "2023-08-03T17:25:26.646Z"
   },
   {
    "duration": 1521,
    "start_time": "2023-08-03T17:25:26.788Z"
   },
   {
    "duration": 2,
    "start_time": "2023-08-03T17:25:28.311Z"
   },
   {
    "duration": 23,
    "start_time": "2023-08-03T17:25:28.320Z"
   },
   {
    "duration": 1243,
    "start_time": "2023-08-03T17:25:28.344Z"
   },
   {
    "duration": 224,
    "start_time": "2023-08-03T17:25:29.589Z"
   },
   {
    "duration": 125,
    "start_time": "2023-08-03T17:25:29.820Z"
   },
   {
    "duration": 136,
    "start_time": "2023-08-03T17:25:29.947Z"
   },
   {
    "duration": 121,
    "start_time": "2023-08-03T17:25:30.084Z"
   },
   {
    "duration": 122,
    "start_time": "2023-08-03T17:25:30.206Z"
   },
   {
    "duration": 120,
    "start_time": "2023-08-03T17:25:30.329Z"
   },
   {
    "duration": 238,
    "start_time": "2023-08-03T17:25:30.450Z"
   },
   {
    "duration": 332,
    "start_time": "2023-08-03T17:25:30.690Z"
   },
   {
    "duration": 238,
    "start_time": "2023-08-03T17:25:31.023Z"
   },
   {
    "duration": 12,
    "start_time": "2023-08-03T17:25:31.263Z"
   },
   {
    "duration": 26,
    "start_time": "2023-08-03T17:25:31.276Z"
   },
   {
    "duration": 30,
    "start_time": "2023-08-03T17:25:31.304Z"
   },
   {
    "duration": 30,
    "start_time": "2023-08-03T17:25:31.335Z"
   },
   {
    "duration": 260,
    "start_time": "2023-08-03T17:56:57.113Z"
   },
   {
    "duration": 280,
    "start_time": "2023-08-03T17:57:13.043Z"
   },
   {
    "duration": 268,
    "start_time": "2023-08-03T17:57:26.755Z"
   },
   {
    "duration": 106,
    "start_time": "2023-08-03T18:10:38.997Z"
   },
   {
    "duration": 164,
    "start_time": "2023-08-03T18:11:15.418Z"
   },
   {
    "duration": 129,
    "start_time": "2023-08-03T18:11:26.101Z"
   },
   {
    "duration": 3,
    "start_time": "2023-08-03T18:26:03.416Z"
   },
   {
    "duration": 68,
    "start_time": "2023-08-03T18:26:03.421Z"
   },
   {
    "duration": 479,
    "start_time": "2023-08-03T18:26:03.490Z"
   },
   {
    "duration": 14,
    "start_time": "2023-08-03T18:26:03.971Z"
   },
   {
    "duration": 16,
    "start_time": "2023-08-03T18:26:03.987Z"
   },
   {
    "duration": 19,
    "start_time": "2023-08-03T18:26:04.004Z"
   },
   {
    "duration": 11,
    "start_time": "2023-08-03T18:26:04.025Z"
   },
   {
    "duration": 9,
    "start_time": "2023-08-03T18:26:04.037Z"
   },
   {
    "duration": 9,
    "start_time": "2023-08-03T18:26:04.047Z"
   },
   {
    "duration": 15,
    "start_time": "2023-08-03T18:26:04.057Z"
   },
   {
    "duration": 7,
    "start_time": "2023-08-03T18:26:04.073Z"
   },
   {
    "duration": 3,
    "start_time": "2023-08-03T18:26:04.081Z"
   },
   {
    "duration": 14,
    "start_time": "2023-08-03T18:26:04.086Z"
   },
   {
    "duration": 5,
    "start_time": "2023-08-03T18:26:04.101Z"
   },
   {
    "duration": 148,
    "start_time": "2023-08-03T18:26:04.107Z"
   },
   {
    "duration": 6,
    "start_time": "2023-08-03T18:26:04.256Z"
   },
   {
    "duration": 14,
    "start_time": "2023-08-03T18:26:04.264Z"
   },
   {
    "duration": 15,
    "start_time": "2023-08-03T18:26:04.279Z"
   },
   {
    "duration": 248,
    "start_time": "2023-08-03T18:26:04.296Z"
   },
   {
    "duration": 131,
    "start_time": "2023-08-03T18:26:04.545Z"
   },
   {
    "duration": 1516,
    "start_time": "2023-08-03T18:26:04.677Z"
   },
   {
    "duration": 2,
    "start_time": "2023-08-03T18:26:06.195Z"
   },
   {
    "duration": 47,
    "start_time": "2023-08-03T18:26:06.199Z"
   },
   {
    "duration": 1138,
    "start_time": "2023-08-03T18:26:06.248Z"
   },
   {
    "duration": 212,
    "start_time": "2023-08-03T18:26:07.387Z"
   },
   {
    "duration": 127,
    "start_time": "2023-08-03T18:26:07.601Z"
   },
   {
    "duration": 126,
    "start_time": "2023-08-03T18:26:07.729Z"
   },
   {
    "duration": 202,
    "start_time": "2023-08-03T18:26:07.857Z"
   },
   {
    "duration": 125,
    "start_time": "2023-08-03T18:26:08.060Z"
   },
   {
    "duration": 117,
    "start_time": "2023-08-03T18:26:08.186Z"
   },
   {
    "duration": 257,
    "start_time": "2023-08-03T18:26:08.304Z"
   },
   {
    "duration": 243,
    "start_time": "2023-08-03T18:26:08.563Z"
   },
   {
    "duration": 246,
    "start_time": "2023-08-03T18:26:08.808Z"
   },
   {
    "duration": 11,
    "start_time": "2023-08-03T18:26:09.055Z"
   },
   {
    "duration": 39,
    "start_time": "2023-08-03T18:26:09.067Z"
   },
   {
    "duration": 30,
    "start_time": "2023-08-03T18:26:09.108Z"
   },
   {
    "duration": 7,
    "start_time": "2023-08-03T18:26:09.141Z"
   },
   {
    "duration": 1184,
    "start_time": "2023-08-04T05:11:13.257Z"
   },
   {
    "duration": 123,
    "start_time": "2023-08-04T05:11:14.443Z"
   },
   {
    "duration": 409,
    "start_time": "2023-08-04T05:11:14.567Z"
   },
   {
    "duration": 14,
    "start_time": "2023-08-04T05:11:14.979Z"
   },
   {
    "duration": 12,
    "start_time": "2023-08-04T05:11:15.000Z"
   },
   {
    "duration": 30,
    "start_time": "2023-08-04T05:11:15.014Z"
   },
   {
    "duration": 17,
    "start_time": "2023-08-04T05:11:15.046Z"
   },
   {
    "duration": 24,
    "start_time": "2023-08-04T05:11:15.065Z"
   },
   {
    "duration": 25,
    "start_time": "2023-08-04T05:11:15.091Z"
   },
   {
    "duration": 24,
    "start_time": "2023-08-04T05:11:15.119Z"
   },
   {
    "duration": 8,
    "start_time": "2023-08-04T05:11:15.145Z"
   },
   {
    "duration": 11,
    "start_time": "2023-08-04T05:11:15.154Z"
   },
   {
    "duration": 15,
    "start_time": "2023-08-04T05:11:15.166Z"
   },
   {
    "duration": 5,
    "start_time": "2023-08-04T05:11:15.182Z"
   },
   {
    "duration": 154,
    "start_time": "2023-08-04T05:11:15.189Z"
   },
   {
    "duration": 10,
    "start_time": "2023-08-04T05:11:15.345Z"
   },
   {
    "duration": 43,
    "start_time": "2023-08-04T05:11:15.357Z"
   },
   {
    "duration": 33,
    "start_time": "2023-08-04T05:11:15.401Z"
   },
   {
    "duration": 275,
    "start_time": "2023-08-04T05:11:15.435Z"
   },
   {
    "duration": 154,
    "start_time": "2023-08-04T05:11:15.713Z"
   },
   {
    "duration": 1722,
    "start_time": "2023-08-04T05:11:15.869Z"
   },
   {
    "duration": 8,
    "start_time": "2023-08-04T05:11:17.593Z"
   },
   {
    "duration": 32,
    "start_time": "2023-08-04T05:11:17.603Z"
   },
   {
    "duration": 1397,
    "start_time": "2023-08-04T05:11:17.637Z"
   },
   {
    "duration": 254,
    "start_time": "2023-08-04T05:11:19.035Z"
   },
   {
    "duration": 138,
    "start_time": "2023-08-04T05:11:19.291Z"
   },
   {
    "duration": 148,
    "start_time": "2023-08-04T05:11:19.430Z"
   },
   {
    "duration": 208,
    "start_time": "2023-08-04T05:11:19.581Z"
   },
   {
    "duration": 120,
    "start_time": "2023-08-04T05:11:19.791Z"
   },
   {
    "duration": 138,
    "start_time": "2023-08-04T05:11:19.912Z"
   },
   {
    "duration": 290,
    "start_time": "2023-08-04T05:11:20.052Z"
   },
   {
    "duration": 274,
    "start_time": "2023-08-04T05:11:20.343Z"
   },
   {
    "duration": 270,
    "start_time": "2023-08-04T05:11:20.619Z"
   },
   {
    "duration": 21,
    "start_time": "2023-08-04T05:11:20.890Z"
   },
   {
    "duration": 19,
    "start_time": "2023-08-04T05:11:20.913Z"
   },
   {
    "duration": 22,
    "start_time": "2023-08-04T05:11:20.934Z"
   },
   {
    "duration": 28,
    "start_time": "2023-08-04T05:11:20.957Z"
   },
   {
    "duration": 56,
    "start_time": "2023-08-04T06:24:55.310Z"
   },
   {
    "duration": 1381,
    "start_time": "2023-08-04T06:25:00.699Z"
   },
   {
    "duration": 198,
    "start_time": "2023-08-04T06:25:02.082Z"
   },
   {
    "duration": 521,
    "start_time": "2023-08-04T06:25:02.282Z"
   },
   {
    "duration": 17,
    "start_time": "2023-08-04T06:25:02.805Z"
   },
   {
    "duration": 331,
    "start_time": "2023-08-04T06:25:02.824Z"
   },
   {
    "duration": 27,
    "start_time": "2023-08-04T06:25:03.156Z"
   },
   {
    "duration": 16,
    "start_time": "2023-08-04T06:25:03.185Z"
   },
   {
    "duration": 26,
    "start_time": "2023-08-04T06:25:03.202Z"
   },
   {
    "duration": 5,
    "start_time": "2023-08-04T06:25:03.230Z"
   },
   {
    "duration": 21,
    "start_time": "2023-08-04T06:25:03.237Z"
   },
   {
    "duration": 6,
    "start_time": "2023-08-04T06:25:03.260Z"
   },
   {
    "duration": 8,
    "start_time": "2023-08-04T06:25:03.268Z"
   },
   {
    "duration": 33,
    "start_time": "2023-08-04T06:25:03.277Z"
   },
   {
    "duration": 5,
    "start_time": "2023-08-04T06:25:03.312Z"
   },
   {
    "duration": 165,
    "start_time": "2023-08-04T06:25:03.319Z"
   },
   {
    "duration": 8,
    "start_time": "2023-08-04T06:25:03.486Z"
   },
   {
    "duration": 35,
    "start_time": "2023-08-04T06:25:03.496Z"
   },
   {
    "duration": 47,
    "start_time": "2023-08-04T06:25:03.532Z"
   },
   {
    "duration": 321,
    "start_time": "2023-08-04T06:25:03.581Z"
   },
   {
    "duration": 194,
    "start_time": "2023-08-04T06:25:03.904Z"
   },
   {
    "duration": 1855,
    "start_time": "2023-08-04T06:25:04.101Z"
   },
   {
    "duration": 3,
    "start_time": "2023-08-04T06:25:05.958Z"
   },
   {
    "duration": 37,
    "start_time": "2023-08-04T06:25:05.963Z"
   },
   {
    "duration": 1488,
    "start_time": "2023-08-04T06:25:06.002Z"
   },
   {
    "duration": 268,
    "start_time": "2023-08-04T06:25:07.492Z"
   },
   {
    "duration": 188,
    "start_time": "2023-08-04T06:25:07.763Z"
   },
   {
    "duration": 199,
    "start_time": "2023-08-04T06:25:07.960Z"
   },
   {
    "duration": 237,
    "start_time": "2023-08-04T06:25:08.162Z"
   },
   {
    "duration": 150,
    "start_time": "2023-08-04T06:25:08.401Z"
   },
   {
    "duration": 168,
    "start_time": "2023-08-04T06:25:09.753Z"
   },
   {
    "duration": 141,
    "start_time": "2023-08-04T06:25:28.258Z"
   },
   {
    "duration": 1144,
    "start_time": "2023-08-04T07:04:46.953Z"
   },
   {
    "duration": 81,
    "start_time": "2023-08-04T07:04:48.098Z"
   },
   {
    "duration": 432,
    "start_time": "2023-08-04T07:04:48.181Z"
   },
   {
    "duration": 20,
    "start_time": "2023-08-04T07:04:48.617Z"
   },
   {
    "duration": 18,
    "start_time": "2023-08-04T07:04:48.639Z"
   },
   {
    "duration": 4,
    "start_time": "2023-08-04T07:04:48.658Z"
   },
   {
    "duration": 37,
    "start_time": "2023-08-04T07:04:48.664Z"
   },
   {
    "duration": 38,
    "start_time": "2023-08-04T07:04:48.702Z"
   },
   {
    "duration": 5,
    "start_time": "2023-08-04T07:04:48.742Z"
   },
   {
    "duration": 24,
    "start_time": "2023-08-04T07:04:48.750Z"
   },
   {
    "duration": 20,
    "start_time": "2023-08-04T07:04:48.776Z"
   },
   {
    "duration": 37,
    "start_time": "2023-08-04T07:04:48.798Z"
   },
   {
    "duration": 21,
    "start_time": "2023-08-04T07:04:48.837Z"
   },
   {
    "duration": 7,
    "start_time": "2023-08-04T07:04:48.859Z"
   },
   {
    "duration": 186,
    "start_time": "2023-08-04T07:04:48.868Z"
   },
   {
    "duration": 7,
    "start_time": "2023-08-04T07:04:49.056Z"
   },
   {
    "duration": 55,
    "start_time": "2023-08-04T07:04:49.065Z"
   },
   {
    "duration": 29,
    "start_time": "2023-08-04T07:04:49.121Z"
   },
   {
    "duration": 292,
    "start_time": "2023-08-04T07:04:49.152Z"
   },
   {
    "duration": 149,
    "start_time": "2023-08-04T07:04:49.445Z"
   },
   {
    "duration": 1686,
    "start_time": "2023-08-04T07:04:49.595Z"
   },
   {
    "duration": 3,
    "start_time": "2023-08-04T07:04:51.283Z"
   },
   {
    "duration": 34,
    "start_time": "2023-08-04T07:04:51.288Z"
   },
   {
    "duration": 1426,
    "start_time": "2023-08-04T07:04:51.324Z"
   },
   {
    "duration": 139,
    "start_time": "2023-08-04T07:04:52.751Z"
   },
   {
    "duration": 160,
    "start_time": "2023-08-04T07:04:52.891Z"
   },
   {
    "duration": 203,
    "start_time": "2023-08-04T07:04:53.053Z"
   },
   {
    "duration": 153,
    "start_time": "2023-08-04T07:04:53.260Z"
   },
   {
    "duration": 219,
    "start_time": "2023-08-04T07:04:53.415Z"
   },
   {
    "duration": 180,
    "start_time": "2023-08-04T07:04:53.636Z"
   },
   {
    "duration": 316,
    "start_time": "2023-08-04T07:04:53.817Z"
   },
   {
    "duration": 296,
    "start_time": "2023-08-04T07:04:54.135Z"
   },
   {
    "duration": 291,
    "start_time": "2023-08-04T07:04:54.433Z"
   },
   {
    "duration": 16,
    "start_time": "2023-08-04T07:04:54.725Z"
   },
   {
    "duration": 32,
    "start_time": "2023-08-04T07:04:54.744Z"
   },
   {
    "duration": 56,
    "start_time": "2023-08-04T07:04:54.778Z"
   },
   {
    "duration": 12,
    "start_time": "2023-08-04T07:04:54.835Z"
   },
   {
    "duration": 61,
    "start_time": "2023-08-04T09:12:24.080Z"
   },
   {
    "duration": 1314,
    "start_time": "2023-08-04T09:12:31.009Z"
   },
   {
    "duration": 211,
    "start_time": "2023-08-04T09:12:32.325Z"
   },
   {
    "duration": 513,
    "start_time": "2023-08-04T09:12:32.538Z"
   },
   {
    "duration": 24,
    "start_time": "2023-08-04T09:12:33.053Z"
   },
   {
    "duration": 21,
    "start_time": "2023-08-04T09:12:33.080Z"
   },
   {
    "duration": 6,
    "start_time": "2023-08-04T09:12:33.103Z"
   },
   {
    "duration": 23,
    "start_time": "2023-08-04T09:12:33.111Z"
   },
   {
    "duration": 51,
    "start_time": "2023-08-04T09:12:33.135Z"
   },
   {
    "duration": 23,
    "start_time": "2023-08-04T09:12:33.188Z"
   },
   {
    "duration": 25,
    "start_time": "2023-08-04T09:12:33.213Z"
   },
   {
    "duration": 11,
    "start_time": "2023-08-04T09:12:33.240Z"
   },
   {
    "duration": 11,
    "start_time": "2023-08-04T09:12:33.253Z"
   },
   {
    "duration": 16,
    "start_time": "2023-08-04T09:12:33.266Z"
   },
   {
    "duration": 19,
    "start_time": "2023-08-04T09:12:33.285Z"
   },
   {
    "duration": 174,
    "start_time": "2023-08-04T09:12:33.306Z"
   },
   {
    "duration": 7,
    "start_time": "2023-08-04T09:12:33.482Z"
   },
   {
    "duration": 23,
    "start_time": "2023-08-04T09:12:33.491Z"
   },
   {
    "duration": 23,
    "start_time": "2023-08-04T09:12:33.515Z"
   },
   {
    "duration": 344,
    "start_time": "2023-08-04T09:12:33.540Z"
   },
   {
    "duration": 224,
    "start_time": "2023-08-04T09:12:33.886Z"
   },
   {
    "duration": 2048,
    "start_time": "2023-08-04T09:12:34.112Z"
   },
   {
    "duration": 6,
    "start_time": "2023-08-04T09:12:36.162Z"
   },
   {
    "duration": 22,
    "start_time": "2023-08-04T09:12:36.170Z"
   },
   {
    "duration": 1795,
    "start_time": "2023-08-04T09:12:38.994Z"
   },
   {
    "duration": 1825,
    "start_time": "2023-08-04T09:14:01.109Z"
   },
   {
    "duration": 1610,
    "start_time": "2023-08-04T09:14:21.927Z"
   },
   {
    "duration": 1550,
    "start_time": "2023-08-04T09:14:49.040Z"
   },
   {
    "duration": 2181,
    "start_time": "2023-08-04T09:15:04.020Z"
   },
   {
    "duration": 1527,
    "start_time": "2023-08-04T09:15:41.466Z"
   },
   {
    "duration": 5,
    "start_time": "2023-08-04T09:15:58.822Z"
   },
   {
    "duration": 1573,
    "start_time": "2023-08-04T09:17:04.603Z"
   },
   {
    "duration": 10,
    "start_time": "2023-08-04T09:18:18.501Z"
   },
   {
    "duration": 11,
    "start_time": "2023-08-04T09:18:46.081Z"
   },
   {
    "duration": 12,
    "start_time": "2023-08-04T09:21:15.121Z"
   },
   {
    "duration": 23,
    "start_time": "2023-08-04T09:21:33.100Z"
   },
   {
    "duration": 9,
    "start_time": "2023-08-04T09:22:04.966Z"
   },
   {
    "duration": 11,
    "start_time": "2023-08-04T09:22:36.290Z"
   },
   {
    "duration": 12,
    "start_time": "2023-08-04T09:22:44.962Z"
   },
   {
    "duration": 15,
    "start_time": "2023-08-04T09:22:51.511Z"
   },
   {
    "duration": 13,
    "start_time": "2023-08-04T09:23:00.472Z"
   },
   {
    "duration": 13,
    "start_time": "2023-08-04T09:23:19.031Z"
   },
   {
    "duration": 12,
    "start_time": "2023-08-04T09:23:23.720Z"
   },
   {
    "duration": 17,
    "start_time": "2023-08-04T09:24:02.981Z"
   },
   {
    "duration": 17,
    "start_time": "2023-08-04T09:24:19.032Z"
   },
   {
    "duration": 19,
    "start_time": "2023-08-04T09:24:35.843Z"
   },
   {
    "duration": 17,
    "start_time": "2023-08-04T09:24:59.971Z"
   },
   {
    "duration": 17,
    "start_time": "2023-08-04T09:25:34.570Z"
   },
   {
    "duration": 16,
    "start_time": "2023-08-04T09:26:05.512Z"
   },
   {
    "duration": 16,
    "start_time": "2023-08-04T09:26:21.380Z"
   },
   {
    "duration": 16,
    "start_time": "2023-08-04T09:26:34.246Z"
   },
   {
    "duration": 20,
    "start_time": "2023-08-04T09:27:00.835Z"
   },
   {
    "duration": 13,
    "start_time": "2023-08-04T09:27:52.347Z"
   },
   {
    "duration": 12,
    "start_time": "2023-08-04T09:28:06.316Z"
   },
   {
    "duration": 13,
    "start_time": "2023-08-04T09:28:32.502Z"
   },
   {
    "duration": 2,
    "start_time": "2023-08-04T09:29:05.015Z"
   },
   {
    "duration": 18,
    "start_time": "2023-08-04T09:29:52.376Z"
   },
   {
    "duration": 8,
    "start_time": "2023-08-04T09:30:04.705Z"
   },
   {
    "duration": 116,
    "start_time": "2023-08-04T09:33:19.499Z"
   },
   {
    "duration": 92,
    "start_time": "2023-08-04T09:33:27.590Z"
   },
   {
    "duration": 4,
    "start_time": "2023-08-04T09:33:32.560Z"
   },
   {
    "duration": 33,
    "start_time": "2023-08-04T09:35:17.360Z"
   },
   {
    "duration": 29,
    "start_time": "2023-08-04T09:36:41.789Z"
   },
   {
    "duration": 120,
    "start_time": "2023-08-04T09:36:46.981Z"
   },
   {
    "duration": 31,
    "start_time": "2023-08-04T09:39:52.168Z"
   },
   {
    "duration": 31,
    "start_time": "2023-08-04T09:43:19.779Z"
   },
   {
    "duration": 29,
    "start_time": "2023-08-04T09:43:34.532Z"
   },
   {
    "duration": 28,
    "start_time": "2023-08-04T09:43:48.915Z"
   },
   {
    "duration": 148,
    "start_time": "2023-08-04T09:44:19.567Z"
   },
   {
    "duration": 129,
    "start_time": "2023-08-04T09:45:05.755Z"
   },
   {
    "duration": 126,
    "start_time": "2023-08-04T09:45:36.715Z"
   },
   {
    "duration": 39,
    "start_time": "2023-08-04T09:48:39.379Z"
   },
   {
    "duration": 132,
    "start_time": "2023-08-04T09:49:09.787Z"
   },
   {
    "duration": 136,
    "start_time": "2023-08-04T09:49:22.204Z"
   },
   {
    "duration": 163,
    "start_time": "2023-08-04T09:49:58.465Z"
   },
   {
    "duration": 185,
    "start_time": "2023-08-04T09:50:36.740Z"
   },
   {
    "duration": 181,
    "start_time": "2023-08-04T09:53:33.649Z"
   },
   {
    "duration": 261,
    "start_time": "2023-08-04T09:55:35.133Z"
   },
   {
    "duration": 160,
    "start_time": "2023-08-04T09:57:24.317Z"
   },
   {
    "duration": 15,
    "start_time": "2023-08-04T09:58:06.125Z"
   },
   {
    "duration": 159,
    "start_time": "2023-08-04T09:58:12.915Z"
   },
   {
    "duration": 187,
    "start_time": "2023-08-04T09:58:20.894Z"
   },
   {
    "duration": 157,
    "start_time": "2023-08-04T09:58:37.895Z"
   },
   {
    "duration": 158,
    "start_time": "2023-08-04T09:59:05.797Z"
   },
   {
    "duration": 192,
    "start_time": "2023-08-04T10:00:00.509Z"
   },
   {
    "duration": 178,
    "start_time": "2023-08-04T10:00:05.309Z"
   },
   {
    "duration": 175,
    "start_time": "2023-08-04T10:00:57.678Z"
   },
   {
    "duration": 193,
    "start_time": "2023-08-04T10:05:36.062Z"
   },
   {
    "duration": 504,
    "start_time": "2023-08-04T10:06:39.450Z"
   },
   {
    "duration": 375,
    "start_time": "2023-08-04T10:07:01.336Z"
   },
   {
    "duration": 378,
    "start_time": "2023-08-04T10:07:17.441Z"
   },
   {
    "duration": 366,
    "start_time": "2023-08-04T10:07:28.462Z"
   },
   {
    "duration": 369,
    "start_time": "2023-08-04T10:09:36.898Z"
   },
   {
    "duration": 379,
    "start_time": "2023-08-04T10:17:25.292Z"
   },
   {
    "duration": 501,
    "start_time": "2023-08-04T10:17:35.618Z"
   },
   {
    "duration": 381,
    "start_time": "2023-08-04T10:17:42.772Z"
   },
   {
    "duration": 1134,
    "start_time": "2023-08-04T18:07:46.719Z"
   },
   {
    "duration": 123,
    "start_time": "2023-08-04T18:07:47.855Z"
   },
   {
    "duration": 409,
    "start_time": "2023-08-04T18:07:47.980Z"
   },
   {
    "duration": 28,
    "start_time": "2023-08-04T18:07:48.391Z"
   },
   {
    "duration": 21,
    "start_time": "2023-08-04T18:07:48.420Z"
   },
   {
    "duration": 7,
    "start_time": "2023-08-04T18:07:48.442Z"
   },
   {
    "duration": 15,
    "start_time": "2023-08-04T18:07:48.450Z"
   },
   {
    "duration": 19,
    "start_time": "2023-08-04T18:07:48.466Z"
   },
   {
    "duration": 12,
    "start_time": "2023-08-04T18:07:48.486Z"
   },
   {
    "duration": 30,
    "start_time": "2023-08-04T18:07:48.506Z"
   },
   {
    "duration": 12,
    "start_time": "2023-08-04T18:07:48.537Z"
   },
   {
    "duration": 9,
    "start_time": "2023-08-04T18:07:48.551Z"
   },
   {
    "duration": 11,
    "start_time": "2023-08-04T18:07:48.561Z"
   },
   {
    "duration": 4,
    "start_time": "2023-08-04T18:07:48.575Z"
   },
   {
    "duration": 150,
    "start_time": "2023-08-04T18:07:48.580Z"
   },
   {
    "duration": 7,
    "start_time": "2023-08-04T18:07:48.731Z"
   },
   {
    "duration": 15,
    "start_time": "2023-08-04T18:07:48.739Z"
   },
   {
    "duration": 15,
    "start_time": "2023-08-04T18:07:48.756Z"
   },
   {
    "duration": 291,
    "start_time": "2023-08-04T18:07:48.772Z"
   },
   {
    "duration": 162,
    "start_time": "2023-08-04T18:07:49.065Z"
   },
   {
    "duration": 1568,
    "start_time": "2023-08-04T18:07:49.229Z"
   },
   {
    "duration": 7,
    "start_time": "2023-08-04T18:07:50.798Z"
   },
   {
    "duration": 30,
    "start_time": "2023-08-04T18:07:50.818Z"
   },
   {
    "duration": 1286,
    "start_time": "2023-08-04T18:07:50.849Z"
   },
   {
    "duration": 354,
    "start_time": "2023-08-04T18:07:52.136Z"
   },
   {
    "duration": 161,
    "start_time": "2023-08-04T18:07:52.492Z"
   },
   {
    "duration": 167,
    "start_time": "2023-08-04T18:07:52.655Z"
   },
   {
    "duration": 200,
    "start_time": "2023-08-04T18:07:52.824Z"
   },
   {
    "duration": 151,
    "start_time": "2023-08-04T18:07:53.026Z"
   },
   {
    "duration": 175,
    "start_time": "2023-08-04T18:07:53.180Z"
   },
   {
    "duration": 319,
    "start_time": "2023-08-04T18:07:53.357Z"
   },
   {
    "duration": 318,
    "start_time": "2023-08-04T18:07:53.678Z"
   },
   {
    "duration": 296,
    "start_time": "2023-08-04T18:07:53.998Z"
   },
   {
    "duration": 30,
    "start_time": "2023-08-04T18:07:54.296Z"
   },
   {
    "duration": 11,
    "start_time": "2023-08-04T18:07:54.328Z"
   },
   {
    "duration": 14,
    "start_time": "2023-08-04T18:07:54.341Z"
   },
   {
    "duration": 17,
    "start_time": "2023-08-04T18:07:54.356Z"
   },
   {
    "duration": 1093,
    "start_time": "2023-08-05T06:23:43.328Z"
   },
   {
    "duration": 200,
    "start_time": "2023-08-05T06:23:44.423Z"
   },
   {
    "duration": 450,
    "start_time": "2023-08-05T06:23:44.624Z"
   },
   {
    "duration": 15,
    "start_time": "2023-08-05T06:23:45.076Z"
   },
   {
    "duration": 20,
    "start_time": "2023-08-05T06:23:45.093Z"
   },
   {
    "duration": 17,
    "start_time": "2023-08-05T06:23:45.115Z"
   },
   {
    "duration": 23,
    "start_time": "2023-08-05T06:23:45.133Z"
   },
   {
    "duration": 20,
    "start_time": "2023-08-05T06:23:45.157Z"
   },
   {
    "duration": 25,
    "start_time": "2023-08-05T06:23:45.179Z"
   },
   {
    "duration": 24,
    "start_time": "2023-08-05T06:23:45.206Z"
   },
   {
    "duration": 28,
    "start_time": "2023-08-05T06:23:45.231Z"
   },
   {
    "duration": 20,
    "start_time": "2023-08-05T06:23:45.260Z"
   },
   {
    "duration": 29,
    "start_time": "2023-08-05T06:23:45.281Z"
   },
   {
    "duration": 15,
    "start_time": "2023-08-05T06:23:45.314Z"
   },
   {
    "duration": 184,
    "start_time": "2023-08-05T06:23:45.330Z"
   },
   {
    "duration": 8,
    "start_time": "2023-08-05T06:23:45.515Z"
   },
   {
    "duration": 30,
    "start_time": "2023-08-05T06:23:45.524Z"
   },
   {
    "duration": 28,
    "start_time": "2023-08-05T06:23:45.556Z"
   },
   {
    "duration": 301,
    "start_time": "2023-08-05T06:23:45.585Z"
   },
   {
    "duration": 156,
    "start_time": "2023-08-05T06:23:45.888Z"
   },
   {
    "duration": 1646,
    "start_time": "2023-08-05T06:23:46.046Z"
   },
   {
    "duration": 3,
    "start_time": "2023-08-05T06:23:47.693Z"
   },
   {
    "duration": 54,
    "start_time": "2023-08-05T06:23:47.697Z"
   },
   {
    "duration": 1386,
    "start_time": "2023-08-05T06:23:47.753Z"
   },
   {
    "duration": 323,
    "start_time": "2023-08-05T06:23:49.141Z"
   },
   {
    "duration": 143,
    "start_time": "2023-08-05T06:23:49.465Z"
   },
   {
    "duration": 141,
    "start_time": "2023-08-05T06:23:49.609Z"
   },
   {
    "duration": 207,
    "start_time": "2023-08-05T06:23:49.751Z"
   },
   {
    "duration": 134,
    "start_time": "2023-08-05T06:23:49.959Z"
   },
   {
    "duration": 193,
    "start_time": "2023-08-05T06:23:50.096Z"
   },
   {
    "duration": 320,
    "start_time": "2023-08-05T06:23:50.291Z"
   },
   {
    "duration": 296,
    "start_time": "2023-08-05T06:23:50.612Z"
   },
   {
    "duration": 288,
    "start_time": "2023-08-05T06:23:50.910Z"
   },
   {
    "duration": 12,
    "start_time": "2023-08-05T06:23:51.200Z"
   },
   {
    "duration": 23,
    "start_time": "2023-08-05T06:23:51.214Z"
   },
   {
    "duration": 46,
    "start_time": "2023-08-05T06:23:51.239Z"
   },
   {
    "duration": 14,
    "start_time": "2023-08-05T06:23:51.287Z"
   },
   {
    "duration": 112,
    "start_time": "2023-08-05T06:26:23.489Z"
   },
   {
    "duration": 390,
    "start_time": "2023-08-05T06:26:41.097Z"
   },
   {
    "duration": 1168,
    "start_time": "2023-08-05T06:30:25.658Z"
   },
   {
    "duration": 70,
    "start_time": "2023-08-05T06:30:26.828Z"
   },
   {
    "duration": 465,
    "start_time": "2023-08-05T06:30:26.899Z"
   },
   {
    "duration": 21,
    "start_time": "2023-08-05T06:30:27.366Z"
   },
   {
    "duration": 14,
    "start_time": "2023-08-05T06:30:27.389Z"
   },
   {
    "duration": 3,
    "start_time": "2023-08-05T06:30:27.405Z"
   },
   {
    "duration": 9,
    "start_time": "2023-08-05T06:30:27.410Z"
   },
   {
    "duration": 19,
    "start_time": "2023-08-05T06:30:27.421Z"
   },
   {
    "duration": 4,
    "start_time": "2023-08-05T06:30:27.442Z"
   },
   {
    "duration": 27,
    "start_time": "2023-08-05T06:30:27.448Z"
   },
   {
    "duration": 7,
    "start_time": "2023-08-05T06:30:27.477Z"
   },
   {
    "duration": 25,
    "start_time": "2023-08-05T06:30:27.486Z"
   },
   {
    "duration": 50,
    "start_time": "2023-08-05T06:30:27.513Z"
   },
   {
    "duration": 14,
    "start_time": "2023-08-05T06:30:27.567Z"
   },
   {
    "duration": 155,
    "start_time": "2023-08-05T06:30:27.582Z"
   },
   {
    "duration": 9,
    "start_time": "2023-08-05T06:30:27.739Z"
   },
   {
    "duration": 33,
    "start_time": "2023-08-05T06:30:27.749Z"
   },
   {
    "duration": 20,
    "start_time": "2023-08-05T06:30:27.784Z"
   },
   {
    "duration": 317,
    "start_time": "2023-08-05T06:30:27.806Z"
   },
   {
    "duration": 161,
    "start_time": "2023-08-05T06:30:28.125Z"
   },
   {
    "duration": 1733,
    "start_time": "2023-08-05T06:30:28.287Z"
   },
   {
    "duration": 3,
    "start_time": "2023-08-05T06:30:30.021Z"
   },
   {
    "duration": 74,
    "start_time": "2023-08-05T06:30:30.026Z"
   },
   {
    "duration": 1599,
    "start_time": "2023-08-05T06:30:30.102Z"
   },
   {
    "duration": 351,
    "start_time": "2023-08-05T06:30:31.704Z"
   },
   {
    "duration": 17,
    "start_time": "2023-08-05T06:30:32.057Z"
   },
   {
    "duration": 350,
    "start_time": "2023-08-05T06:30:32.076Z"
   },
   {
    "duration": 154,
    "start_time": "2023-08-05T06:30:32.428Z"
   },
   {
    "duration": 153,
    "start_time": "2023-08-05T06:30:32.584Z"
   },
   {
    "duration": 136,
    "start_time": "2023-08-05T06:30:32.738Z"
   },
   {
    "duration": 128,
    "start_time": "2023-08-05T06:30:32.876Z"
   },
   {
    "duration": 164,
    "start_time": "2023-08-05T06:30:33.005Z"
   },
   {
    "duration": 287,
    "start_time": "2023-08-05T06:30:33.171Z"
   },
   {
    "duration": 299,
    "start_time": "2023-08-05T06:30:33.459Z"
   },
   {
    "duration": 418,
    "start_time": "2023-08-05T06:30:33.760Z"
   },
   {
    "duration": 12,
    "start_time": "2023-08-05T06:30:34.180Z"
   },
   {
    "duration": 7,
    "start_time": "2023-08-05T06:30:34.194Z"
   },
   {
    "duration": 28,
    "start_time": "2023-08-05T06:30:34.203Z"
   },
   {
    "duration": 31,
    "start_time": "2023-08-05T06:30:34.233Z"
   }
  ],
  "kernelspec": {
   "display_name": "Python 3 (ipykernel)",
   "language": "python",
   "name": "python3"
  },
  "language_info": {
   "codemirror_mode": {
    "name": "ipython",
    "version": 3
   },
   "file_extension": ".py",
   "mimetype": "text/x-python",
   "name": "python",
   "nbconvert_exporter": "python",
   "pygments_lexer": "ipython3",
   "version": "3.9.5"
  },
  "toc": {
   "base_numbering": 1,
   "nav_menu": {},
   "number_sections": true,
   "sideBar": true,
   "skip_h1_title": true,
   "title_cell": "Table of Contents",
   "title_sidebar": "Contents",
   "toc_cell": false,
   "toc_position": {},
   "toc_section_display": true,
   "toc_window_display": false
  }
 },
 "nbformat": 4,
 "nbformat_minor": 2
}
